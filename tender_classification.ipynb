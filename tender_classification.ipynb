{
  "nbformat": 4,
  "nbformat_minor": 0,
  "metadata": {
    "colab": {
      "provenance": [],
      "authorship_tag": "ABX9TyNenxWw8FyzltNrnq/XuhpV",
      "include_colab_link": true
    },
    "kernelspec": {
      "name": "python3",
      "display_name": "Python 3"
    },
    "language_info": {
      "name": "python"
    }
  },
  "cells": [
    {
      "cell_type": "markdown",
      "metadata": {
        "id": "view-in-github",
        "colab_type": "text"
      },
      "source": [
        "<a href=\"https://colab.research.google.com/github/1985shree/1985shree/blob/main/tender_classification.ipynb\" target=\"_parent\"><img src=\"https://colab.research.google.com/assets/colab-badge.svg\" alt=\"Open In Colab\"/></a>"
      ]
    },
    {
      "cell_type": "markdown",
      "source": [
        "This is data from company OfBusiness"
      ],
      "metadata": {
        "id": "qTYwYz20kjO4"
      }
    },
    {
      "cell_type": "code",
      "execution_count": null,
      "metadata": {
        "colab": {
          "base_uri": "https://localhost:8080/"
        },
        "id": "BWwo8Y6pkf_8",
        "outputId": "17a0d9e0-37da-4c76-9244-bdf5e732bc9b"
      },
      "outputs": [
        {
          "output_type": "stream",
          "name": "stderr",
          "text": [
            "[nltk_data] Downloading package stopwords to /root/nltk_data...\n",
            "[nltk_data]   Package stopwords is already up-to-date!\n"
          ]
        }
      ],
      "source": [
        "import pandas as pd\n",
        "import numpy as np\n",
        "import json\n",
        "import matplotlib.pyplot as plt\n",
        "import seaborn as sns\n",
        "\n",
        "import os\n",
        "import nltk\n",
        "nltk.download('stopwords')\n",
        "from nltk.corpus import stopwords\n",
        "from nltk.tokenize import word_tokenize\n",
        "from nltk.stem import WordNetLemmatizer\n",
        "import string\n",
        "from spacy.lang.en.stop_words import STOP_WORDS\n",
        "from spacy.tokenizer import Tokenizer\n",
        "import re\n",
        "import spacy\n",
        "# nlp = spacy.load('en_core_web_lg')\n",
        "# spacy_tokenizer = Tokenizer(nlp.vocab)\n",
        "\n",
        "from sklearn.feature_extraction.text import CountVectorizer\n",
        "from sklearn.feature_extraction.text import TfidfVectorizer"
      ]
    },
    {
      "cell_type": "code",
      "source": [
        "df = pd.read_csv('tender.csv')"
      ],
      "metadata": {
        "id": "t4YeLrsylmkd"
      },
      "execution_count": null,
      "outputs": []
    },
    {
      "cell_type": "markdown",
      "source": [
        "# understand the data"
      ],
      "metadata": {
        "id": "RT5fd1p-mwjp"
      }
    },
    {
      "cell_type": "code",
      "source": [
        "df.head()"
      ],
      "metadata": {
        "colab": {
          "base_uri": "https://localhost:8080/",
          "height": 565
        },
        "id": "QyG6RDFGlsq1",
        "outputId": "566b3272-7629-4493-a9e7-be094ef1180f"
      },
      "execution_count": null,
      "outputs": [
        {
          "output_type": "execute_result",
          "data": {
            "text/plain": [
              "   Unnamed: 0  Unnamed: 0.1                             tender_id  \\\n",
              "0           0             0  ad77c36d-ee5b-415a-917b-f65a81752625   \n",
              "1           1             1  d17ff512-0f4e-4e63-b9c0-4b4c13157f47   \n",
              "2           2             2  d5d6a926-6dec-473c-b6f4-c195e1c334f2   \n",
              "3           3             3  67bab7b5-b577-481f-a64f-f52a9e89a13f   \n",
              "4           4             4  a47aeaf3-7b4d-4551-8d7e-c0415f65f411   \n",
              "\n",
              "                                  tender_description  \\\n",
              "0  Construction Of Rcc Drain With Cover Slab From...   \n",
              "1  Day To Day Upkeeping Of Lawn And Garden At Koy...   \n",
              "2  P/l Wmb G-ii, 75 Mm Thick Wet Mix Macadam And ...   \n",
              "3  Improvement And Biannual Maintenance To Anjang...   \n",
              "4              Pre-monsoon Cleaning And Desilting Of   \n",
              "\n",
              "                                      tender_details tender_category  \\\n",
              "0  Construction Of Rcc Drain With Cover Slab From...           Works   \n",
              "1  Day To Day Upkeeping Of Lawn And Garden At Koy...           Works   \n",
              "2  P/l Wmb G-ii, 75 Mm Thick Wet Mix Macadam And ...           Works   \n",
              "3  Improvement And Biannual Maintenance To Anjang...           Works   \n",
              "4  Pre-monsoon Cleaning And Desilting Of Exisitin...           Works   \n",
              "\n",
              "                                           boq_items  \\\n",
              "0  [{'rowNumber': 12, 'itemDescription': 'Dismant...   \n",
              "1  [{'rowNumber': 21, 'itemDescription': 'Shiftin...   \n",
              "2  [{'rowNumber': 12, 'itemDescription': 'Providi...   \n",
              "3  [{'rowNumber': 12, 'itemDescription': 'IMPROVE...   \n",
              "4  [{'rowNumber': 18, 'itemDescription': 'GST 12%...   \n",
              "\n",
              "                                         boq_details  boq_len  \n",
              "0  ['Dismantling and removing cement concrete inc...       11  \n",
              "1  ['Shifting of Ghamlas from garden to 1 to 10 t...       29  \n",
              "2  ['Providing , laying, spreading and compacting...        4  \n",
              "3  ['IMPROVEMENT AND BIANNUAL MAINTENANCE TO ANJA...        1  \n",
              "4  ['GST 12%', 'PROVIDING AND OPERATING DUMPER OF...        6  "
            ],
            "text/html": [
              "\n",
              "  <div id=\"df-0f7ecb4a-64ac-4166-8fe9-1aa2e8a805a7\">\n",
              "    <div class=\"colab-df-container\">\n",
              "      <div>\n",
              "<style scoped>\n",
              "    .dataframe tbody tr th:only-of-type {\n",
              "        vertical-align: middle;\n",
              "    }\n",
              "\n",
              "    .dataframe tbody tr th {\n",
              "        vertical-align: top;\n",
              "    }\n",
              "\n",
              "    .dataframe thead th {\n",
              "        text-align: right;\n",
              "    }\n",
              "</style>\n",
              "<table border=\"1\" class=\"dataframe\">\n",
              "  <thead>\n",
              "    <tr style=\"text-align: right;\">\n",
              "      <th></th>\n",
              "      <th>Unnamed: 0</th>\n",
              "      <th>Unnamed: 0.1</th>\n",
              "      <th>tender_id</th>\n",
              "      <th>tender_description</th>\n",
              "      <th>tender_details</th>\n",
              "      <th>tender_category</th>\n",
              "      <th>boq_items</th>\n",
              "      <th>boq_details</th>\n",
              "      <th>boq_len</th>\n",
              "    </tr>\n",
              "  </thead>\n",
              "  <tbody>\n",
              "    <tr>\n",
              "      <th>0</th>\n",
              "      <td>0</td>\n",
              "      <td>0</td>\n",
              "      <td>ad77c36d-ee5b-415a-917b-f65a81752625</td>\n",
              "      <td>Construction Of Rcc Drain With Cover Slab From...</td>\n",
              "      <td>Construction Of Rcc Drain With Cover Slab From...</td>\n",
              "      <td>Works</td>\n",
              "      <td>[{'rowNumber': 12, 'itemDescription': 'Dismant...</td>\n",
              "      <td>['Dismantling and removing cement concrete inc...</td>\n",
              "      <td>11</td>\n",
              "    </tr>\n",
              "    <tr>\n",
              "      <th>1</th>\n",
              "      <td>1</td>\n",
              "      <td>1</td>\n",
              "      <td>d17ff512-0f4e-4e63-b9c0-4b4c13157f47</td>\n",
              "      <td>Day To Day Upkeeping Of Lawn And Garden At Koy...</td>\n",
              "      <td>Day To Day Upkeeping Of Lawn And Garden At Koy...</td>\n",
              "      <td>Works</td>\n",
              "      <td>[{'rowNumber': 21, 'itemDescription': 'Shiftin...</td>\n",
              "      <td>['Shifting of Ghamlas from garden to 1 to 10 t...</td>\n",
              "      <td>29</td>\n",
              "    </tr>\n",
              "    <tr>\n",
              "      <th>2</th>\n",
              "      <td>2</td>\n",
              "      <td>2</td>\n",
              "      <td>d5d6a926-6dec-473c-b6f4-c195e1c334f2</td>\n",
              "      <td>P/l Wmb G-ii, 75 Mm Thick Wet Mix Macadam And ...</td>\n",
              "      <td>P/l Wmb G-ii, 75 Mm Thick Wet Mix Macadam And ...</td>\n",
              "      <td>Works</td>\n",
              "      <td>[{'rowNumber': 12, 'itemDescription': 'Providi...</td>\n",
              "      <td>['Providing , laying, spreading and compacting...</td>\n",
              "      <td>4</td>\n",
              "    </tr>\n",
              "    <tr>\n",
              "      <th>3</th>\n",
              "      <td>3</td>\n",
              "      <td>3</td>\n",
              "      <td>67bab7b5-b577-481f-a64f-f52a9e89a13f</td>\n",
              "      <td>Improvement And Biannual Maintenance To Anjang...</td>\n",
              "      <td>Improvement And Biannual Maintenance To Anjang...</td>\n",
              "      <td>Works</td>\n",
              "      <td>[{'rowNumber': 12, 'itemDescription': 'IMPROVE...</td>\n",
              "      <td>['IMPROVEMENT AND BIANNUAL MAINTENANCE TO ANJA...</td>\n",
              "      <td>1</td>\n",
              "    </tr>\n",
              "    <tr>\n",
              "      <th>4</th>\n",
              "      <td>4</td>\n",
              "      <td>4</td>\n",
              "      <td>a47aeaf3-7b4d-4551-8d7e-c0415f65f411</td>\n",
              "      <td>Pre-monsoon Cleaning And Desilting Of</td>\n",
              "      <td>Pre-monsoon Cleaning And Desilting Of Exisitin...</td>\n",
              "      <td>Works</td>\n",
              "      <td>[{'rowNumber': 18, 'itemDescription': 'GST 12%...</td>\n",
              "      <td>['GST 12%', 'PROVIDING AND OPERATING DUMPER OF...</td>\n",
              "      <td>6</td>\n",
              "    </tr>\n",
              "  </tbody>\n",
              "</table>\n",
              "</div>\n",
              "      <button class=\"colab-df-convert\" onclick=\"convertToInteractive('df-0f7ecb4a-64ac-4166-8fe9-1aa2e8a805a7')\"\n",
              "              title=\"Convert this dataframe to an interactive table.\"\n",
              "              style=\"display:none;\">\n",
              "        \n",
              "  <svg xmlns=\"http://www.w3.org/2000/svg\" height=\"24px\"viewBox=\"0 0 24 24\"\n",
              "       width=\"24px\">\n",
              "    <path d=\"M0 0h24v24H0V0z\" fill=\"none\"/>\n",
              "    <path d=\"M18.56 5.44l.94 2.06.94-2.06 2.06-.94-2.06-.94-.94-2.06-.94 2.06-2.06.94zm-11 1L8.5 8.5l.94-2.06 2.06-.94-2.06-.94L8.5 2.5l-.94 2.06-2.06.94zm10 10l.94 2.06.94-2.06 2.06-.94-2.06-.94-.94-2.06-.94 2.06-2.06.94z\"/><path d=\"M17.41 7.96l-1.37-1.37c-.4-.4-.92-.59-1.43-.59-.52 0-1.04.2-1.43.59L10.3 9.45l-7.72 7.72c-.78.78-.78 2.05 0 2.83L4 21.41c.39.39.9.59 1.41.59.51 0 1.02-.2 1.41-.59l7.78-7.78 2.81-2.81c.8-.78.8-2.07 0-2.86zM5.41 20L4 18.59l7.72-7.72 1.47 1.35L5.41 20z\"/>\n",
              "  </svg>\n",
              "      </button>\n",
              "      \n",
              "  <style>\n",
              "    .colab-df-container {\n",
              "      display:flex;\n",
              "      flex-wrap:wrap;\n",
              "      gap: 12px;\n",
              "    }\n",
              "\n",
              "    .colab-df-convert {\n",
              "      background-color: #E8F0FE;\n",
              "      border: none;\n",
              "      border-radius: 50%;\n",
              "      cursor: pointer;\n",
              "      display: none;\n",
              "      fill: #1967D2;\n",
              "      height: 32px;\n",
              "      padding: 0 0 0 0;\n",
              "      width: 32px;\n",
              "    }\n",
              "\n",
              "    .colab-df-convert:hover {\n",
              "      background-color: #E2EBFA;\n",
              "      box-shadow: 0px 1px 2px rgba(60, 64, 67, 0.3), 0px 1px 3px 1px rgba(60, 64, 67, 0.15);\n",
              "      fill: #174EA6;\n",
              "    }\n",
              "\n",
              "    [theme=dark] .colab-df-convert {\n",
              "      background-color: #3B4455;\n",
              "      fill: #D2E3FC;\n",
              "    }\n",
              "\n",
              "    [theme=dark] .colab-df-convert:hover {\n",
              "      background-color: #434B5C;\n",
              "      box-shadow: 0px 1px 3px 1px rgba(0, 0, 0, 0.15);\n",
              "      filter: drop-shadow(0px 1px 2px rgba(0, 0, 0, 0.3));\n",
              "      fill: #FFFFFF;\n",
              "    }\n",
              "  </style>\n",
              "\n",
              "      <script>\n",
              "        const buttonEl =\n",
              "          document.querySelector('#df-0f7ecb4a-64ac-4166-8fe9-1aa2e8a805a7 button.colab-df-convert');\n",
              "        buttonEl.style.display =\n",
              "          google.colab.kernel.accessAllowed ? 'block' : 'none';\n",
              "\n",
              "        async function convertToInteractive(key) {\n",
              "          const element = document.querySelector('#df-0f7ecb4a-64ac-4166-8fe9-1aa2e8a805a7');\n",
              "          const dataTable =\n",
              "            await google.colab.kernel.invokeFunction('convertToInteractive',\n",
              "                                                     [key], {});\n",
              "          if (!dataTable) return;\n",
              "\n",
              "          const docLinkHtml = 'Like what you see? Visit the ' +\n",
              "            '<a target=\"_blank\" href=https://colab.research.google.com/notebooks/data_table.ipynb>data table notebook</a>'\n",
              "            + ' to learn more about interactive tables.';\n",
              "          element.innerHTML = '';\n",
              "          dataTable['output_type'] = 'display_data';\n",
              "          await google.colab.output.renderOutput(dataTable, element);\n",
              "          const docLink = document.createElement('div');\n",
              "          docLink.innerHTML = docLinkHtml;\n",
              "          element.appendChild(docLink);\n",
              "        }\n",
              "      </script>\n",
              "    </div>\n",
              "  </div>\n",
              "  "
            ]
          },
          "metadata": {},
          "execution_count": 151
        }
      ]
    },
    {
      "cell_type": "code",
      "source": [
        "df.info()"
      ],
      "metadata": {
        "colab": {
          "base_uri": "https://localhost:8080/"
        },
        "id": "ctBnXR_fltte",
        "outputId": "9ffd716e-9168-46c5-dc6d-d9731dac38dc"
      },
      "execution_count": null,
      "outputs": [
        {
          "output_type": "stream",
          "name": "stdout",
          "text": [
            "<class 'pandas.core.frame.DataFrame'>\n",
            "RangeIndex: 100 entries, 0 to 99\n",
            "Data columns (total 9 columns):\n",
            " #   Column              Non-Null Count  Dtype \n",
            "---  ------              --------------  ----- \n",
            " 0   Unnamed: 0          100 non-null    int64 \n",
            " 1   Unnamed: 0.1        100 non-null    int64 \n",
            " 2   tender_id           100 non-null    object\n",
            " 3   tender_description  100 non-null    object\n",
            " 4   tender_details      100 non-null    object\n",
            " 5   tender_category     91 non-null     object\n",
            " 6   boq_items           100 non-null    object\n",
            " 7   boq_details         100 non-null    object\n",
            " 8   boq_len             100 non-null    int64 \n",
            "dtypes: int64(3), object(6)\n",
            "memory usage: 7.2+ KB\n"
          ]
        }
      ]
    },
    {
      "cell_type": "code",
      "source": [
        "df.describe() # has unnecessary columns...need to drop"
      ],
      "metadata": {
        "colab": {
          "base_uri": "https://localhost:8080/",
          "height": 300
        },
        "id": "lEb0rXyEly8Y",
        "outputId": "cc843da6-cab6-4e3d-a353-9b83f9ddc724"
      },
      "execution_count": null,
      "outputs": [
        {
          "output_type": "execute_result",
          "data": {
            "text/plain": [
              "       Unnamed: 0  Unnamed: 0.1     boq_len\n",
              "count  100.000000    100.000000  100.000000\n",
              "mean    49.500000     49.500000    7.150000\n",
              "std     29.011492     29.011492   11.461287\n",
              "min      0.000000      0.000000    0.000000\n",
              "25%     24.750000     24.750000    0.000000\n",
              "50%     49.500000     49.500000    1.000000\n",
              "75%     74.250000     74.250000    9.000000\n",
              "max     99.000000     99.000000   58.000000"
            ],
            "text/html": [
              "\n",
              "  <div id=\"df-aef44be8-1050-4b75-8693-b708d9fb6601\">\n",
              "    <div class=\"colab-df-container\">\n",
              "      <div>\n",
              "<style scoped>\n",
              "    .dataframe tbody tr th:only-of-type {\n",
              "        vertical-align: middle;\n",
              "    }\n",
              "\n",
              "    .dataframe tbody tr th {\n",
              "        vertical-align: top;\n",
              "    }\n",
              "\n",
              "    .dataframe thead th {\n",
              "        text-align: right;\n",
              "    }\n",
              "</style>\n",
              "<table border=\"1\" class=\"dataframe\">\n",
              "  <thead>\n",
              "    <tr style=\"text-align: right;\">\n",
              "      <th></th>\n",
              "      <th>Unnamed: 0</th>\n",
              "      <th>Unnamed: 0.1</th>\n",
              "      <th>boq_len</th>\n",
              "    </tr>\n",
              "  </thead>\n",
              "  <tbody>\n",
              "    <tr>\n",
              "      <th>count</th>\n",
              "      <td>100.000000</td>\n",
              "      <td>100.000000</td>\n",
              "      <td>100.000000</td>\n",
              "    </tr>\n",
              "    <tr>\n",
              "      <th>mean</th>\n",
              "      <td>49.500000</td>\n",
              "      <td>49.500000</td>\n",
              "      <td>7.150000</td>\n",
              "    </tr>\n",
              "    <tr>\n",
              "      <th>std</th>\n",
              "      <td>29.011492</td>\n",
              "      <td>29.011492</td>\n",
              "      <td>11.461287</td>\n",
              "    </tr>\n",
              "    <tr>\n",
              "      <th>min</th>\n",
              "      <td>0.000000</td>\n",
              "      <td>0.000000</td>\n",
              "      <td>0.000000</td>\n",
              "    </tr>\n",
              "    <tr>\n",
              "      <th>25%</th>\n",
              "      <td>24.750000</td>\n",
              "      <td>24.750000</td>\n",
              "      <td>0.000000</td>\n",
              "    </tr>\n",
              "    <tr>\n",
              "      <th>50%</th>\n",
              "      <td>49.500000</td>\n",
              "      <td>49.500000</td>\n",
              "      <td>1.000000</td>\n",
              "    </tr>\n",
              "    <tr>\n",
              "      <th>75%</th>\n",
              "      <td>74.250000</td>\n",
              "      <td>74.250000</td>\n",
              "      <td>9.000000</td>\n",
              "    </tr>\n",
              "    <tr>\n",
              "      <th>max</th>\n",
              "      <td>99.000000</td>\n",
              "      <td>99.000000</td>\n",
              "      <td>58.000000</td>\n",
              "    </tr>\n",
              "  </tbody>\n",
              "</table>\n",
              "</div>\n",
              "      <button class=\"colab-df-convert\" onclick=\"convertToInteractive('df-aef44be8-1050-4b75-8693-b708d9fb6601')\"\n",
              "              title=\"Convert this dataframe to an interactive table.\"\n",
              "              style=\"display:none;\">\n",
              "        \n",
              "  <svg xmlns=\"http://www.w3.org/2000/svg\" height=\"24px\"viewBox=\"0 0 24 24\"\n",
              "       width=\"24px\">\n",
              "    <path d=\"M0 0h24v24H0V0z\" fill=\"none\"/>\n",
              "    <path d=\"M18.56 5.44l.94 2.06.94-2.06 2.06-.94-2.06-.94-.94-2.06-.94 2.06-2.06.94zm-11 1L8.5 8.5l.94-2.06 2.06-.94-2.06-.94L8.5 2.5l-.94 2.06-2.06.94zm10 10l.94 2.06.94-2.06 2.06-.94-2.06-.94-.94-2.06-.94 2.06-2.06.94z\"/><path d=\"M17.41 7.96l-1.37-1.37c-.4-.4-.92-.59-1.43-.59-.52 0-1.04.2-1.43.59L10.3 9.45l-7.72 7.72c-.78.78-.78 2.05 0 2.83L4 21.41c.39.39.9.59 1.41.59.51 0 1.02-.2 1.41-.59l7.78-7.78 2.81-2.81c.8-.78.8-2.07 0-2.86zM5.41 20L4 18.59l7.72-7.72 1.47 1.35L5.41 20z\"/>\n",
              "  </svg>\n",
              "      </button>\n",
              "      \n",
              "  <style>\n",
              "    .colab-df-container {\n",
              "      display:flex;\n",
              "      flex-wrap:wrap;\n",
              "      gap: 12px;\n",
              "    }\n",
              "\n",
              "    .colab-df-convert {\n",
              "      background-color: #E8F0FE;\n",
              "      border: none;\n",
              "      border-radius: 50%;\n",
              "      cursor: pointer;\n",
              "      display: none;\n",
              "      fill: #1967D2;\n",
              "      height: 32px;\n",
              "      padding: 0 0 0 0;\n",
              "      width: 32px;\n",
              "    }\n",
              "\n",
              "    .colab-df-convert:hover {\n",
              "      background-color: #E2EBFA;\n",
              "      box-shadow: 0px 1px 2px rgba(60, 64, 67, 0.3), 0px 1px 3px 1px rgba(60, 64, 67, 0.15);\n",
              "      fill: #174EA6;\n",
              "    }\n",
              "\n",
              "    [theme=dark] .colab-df-convert {\n",
              "      background-color: #3B4455;\n",
              "      fill: #D2E3FC;\n",
              "    }\n",
              "\n",
              "    [theme=dark] .colab-df-convert:hover {\n",
              "      background-color: #434B5C;\n",
              "      box-shadow: 0px 1px 3px 1px rgba(0, 0, 0, 0.15);\n",
              "      filter: drop-shadow(0px 1px 2px rgba(0, 0, 0, 0.3));\n",
              "      fill: #FFFFFF;\n",
              "    }\n",
              "  </style>\n",
              "\n",
              "      <script>\n",
              "        const buttonEl =\n",
              "          document.querySelector('#df-aef44be8-1050-4b75-8693-b708d9fb6601 button.colab-df-convert');\n",
              "        buttonEl.style.display =\n",
              "          google.colab.kernel.accessAllowed ? 'block' : 'none';\n",
              "\n",
              "        async function convertToInteractive(key) {\n",
              "          const element = document.querySelector('#df-aef44be8-1050-4b75-8693-b708d9fb6601');\n",
              "          const dataTable =\n",
              "            await google.colab.kernel.invokeFunction('convertToInteractive',\n",
              "                                                     [key], {});\n",
              "          if (!dataTable) return;\n",
              "\n",
              "          const docLinkHtml = 'Like what you see? Visit the ' +\n",
              "            '<a target=\"_blank\" href=https://colab.research.google.com/notebooks/data_table.ipynb>data table notebook</a>'\n",
              "            + ' to learn more about interactive tables.';\n",
              "          element.innerHTML = '';\n",
              "          dataTable['output_type'] = 'display_data';\n",
              "          await google.colab.output.renderOutput(dataTable, element);\n",
              "          const docLink = document.createElement('div');\n",
              "          docLink.innerHTML = docLinkHtml;\n",
              "          element.appendChild(docLink);\n",
              "        }\n",
              "      </script>\n",
              "    </div>\n",
              "  </div>\n",
              "  "
            ]
          },
          "metadata": {},
          "execution_count": 153
        }
      ]
    },
    {
      "cell_type": "markdown",
      "source": [
        "## Find null and replace with another category (seemed an appropriate way to deal with this data)"
      ],
      "metadata": {
        "id": "yu3yM2axL6AS"
      }
    },
    {
      "cell_type": "code",
      "source": [],
      "metadata": {
        "id": "TTk2-2jYL5VD"
      },
      "execution_count": null,
      "outputs": []
    },
    {
      "cell_type": "code",
      "source": [
        "sns.heatmap(df.isnull())"
      ],
      "metadata": {
        "colab": {
          "base_uri": "https://localhost:8080/",
          "height": 371
        },
        "id": "29RB5HCaKUcn",
        "outputId": "3a2afc95-13e9-415c-fb05-fda30ad7349a"
      },
      "execution_count": null,
      "outputs": [
        {
          "output_type": "execute_result",
          "data": {
            "text/plain": [
              "<AxesSubplot:>"
            ]
          },
          "metadata": {},
          "execution_count": 154
        },
        {
          "output_type": "display_data",
          "data": {
            "text/plain": [
              "<Figure size 432x288 with 2 Axes>"
            ],
            "image/png": "[encoded data removed]"
          },
          "metadata": {
            "needs_background": "light"
          }
        }
      ]
    },
    {
      "cell_type": "code",
      "source": [
        "df.tender_category.fillna('Missing', inplace = True)"
      ],
      "metadata": {
        "id": "FxuEHYO6Li3U"
      },
      "execution_count": null,
      "outputs": []
    },
    {
      "cell_type": "code",
      "source": [
        "df_null = df[df['tender_category'] == 'Missing']"
      ],
      "metadata": {
        "id": "AHfRuMSkKtgw"
      },
      "execution_count": null,
      "outputs": []
    },
    {
      "cell_type": "code",
      "source": [
        "df_null"
      ],
      "metadata": {
        "colab": {
          "base_uri": "https://localhost:8080/",
          "height": 882
        },
        "id": "G_vNVU99K23t",
        "outputId": "83da4a11-0c81-4e6c-f0f6-742509a1d837"
      },
      "execution_count": null,
      "outputs": [
        {
          "output_type": "execute_result",
          "data": {
            "text/plain": [
              "    Unnamed: 0  Unnamed: 0.1                             tender_id  \\\n",
              "17          17            17  d82cf3e9-5ce9-4f64-93f8-518a86c6e683   \n",
              "18          18            18  aff8bc20-0f92-4b89-96c6-1dce10096acb   \n",
              "19          19            19  e84fe8b8-e7da-4e54-a785-515e83931867   \n",
              "20          20            20  402f196a-9f17-46a5-aa26-308b385d45d3   \n",
              "21          21            21  218dfa74-b2dd-4b90-af00-a17fc3843cb9   \n",
              "22          22            22  4581e12b-b3b3-4e5f-a632-e22d42325b6f   \n",
              "23          23            23  cbe762db-d28f-4c12-ad0e-6ae809dfd71f   \n",
              "24          24            24  62dd9eea-73b0-4662-a12c-25e343be34e1   \n",
              "25          25            25  87acb60f-e597-4ad9-99e6-ec14935ce862   \n",
              "\n",
              "                                   tender_description  \\\n",
              "17  All That Piece And Parcel Of Vacant Land Situa...   \n",
              "18  The House Site Plot No.70 Extending To East We...   \n",
              "19  All That Piece And Parcel Of Land Residential ...   \n",
              "20  All That Piece And Parcel Of Land Measuring An...   \n",
              "21  In Madurai Tirumangalam Dist No.4, Rajaji 1st ...   \n",
              "22  Residential Land And Building At Kanyakumari D...   \n",
              "23  All That Piece And Parcel Of Land Residential ...   \n",
              "24  Virudhunagar Dist,thiruthangal Village Sivakas...   \n",
              "25  Thiruvanathapuram Dist Balaramapuram Village S...   \n",
              "\n",
              "                                       tender_details tender_category  \\\n",
              "17  All That Piece And Parcel Of Vacant Land Situa...         Missing   \n",
              "18  The House Site Plot No.70 Extending To East We...         Missing   \n",
              "19  All That Piece And Parcel Of Land Residential ...         Missing   \n",
              "20  All That Piece And Parcel Of Land Measuring An...         Missing   \n",
              "21  In Madurai Tirumangalam Dist No.4, Rajaji 1st ...         Missing   \n",
              "22  Residential Land And Building At Kanyakumari D...         Missing   \n",
              "23  All That Piece And Parcel Of Land Residential ...         Missing   \n",
              "24  Virudhunagar Dist,thiruthangal Village Sivakas...         Missing   \n",
              "25  Thiruvanathapuram Dist Balaramapuram Village S...         Missing   \n",
              "\n",
              "                                            boq_items  \\\n",
              "17  [{'rowNumber': 1, 'itemDescription': 'All that...   \n",
              "18  [{'rowNumber': 1, 'itemDescription': 'The Hous...   \n",
              "19  [{'rowNumber': 1, 'itemDescription': 'All that...   \n",
              "20  [{'rowNumber': 1, 'itemDescription': 'All that...   \n",
              "21  [{'rowNumber': 2, 'itemDescription': 'In Madur...   \n",
              "22  [{'rowNumber': 2, 'itemDescription': 'Resident...   \n",
              "23  [{'rowNumber': 1, 'itemDescription': 'All that...   \n",
              "24  [{'rowNumber': 1, 'itemDescription': 'Virudhun...   \n",
              "25  [{'rowNumber': 1, 'itemDescription': 'Thiruvan...   \n",
              "\n",
              "                                          boq_details  boq_len  \n",
              "17  ['All that piece and parcel of vacant land sit...        1  \n",
              "18  ['The House site plot No.70 extending to east ...        3  \n",
              "19  ['All that piece and parcel of land residentia...        1  \n",
              "20  ['All that piece and parcel of land measuring ...        1  \n",
              "21  ['In Madurai District, Madurai South Registrat...        2  \n",
              "22  ['Residential land and building situated at ka...        2  \n",
              "23  ['All that piece and parcel of land residentia...        1  \n",
              "24  ['Virudhunagar dist,Thiruthangal village sivak...        1  \n",
              "25  ['Thiruvanathapuram dist Balaramapuram Village...        1  "
            ],
            "text/html": [
              "\n",
              "  <div id=\"df-828c251c-6b0a-471f-9e04-256f5092d7d7\">\n",
              "    <div class=\"colab-df-container\">\n",
              "      <div>\n",
              "<style scoped>\n",
              "    .dataframe tbody tr th:only-of-type {\n",
              "        vertical-align: middle;\n",
              "    }\n",
              "\n",
              "    .dataframe tbody tr th {\n",
              "        vertical-align: top;\n",
              "    }\n",
              "\n",
              "    .dataframe thead th {\n",
              "        text-align: right;\n",
              "    }\n",
              "</style>\n",
              "<table border=\"1\" class=\"dataframe\">\n",
              "  <thead>\n",
              "    <tr style=\"text-align: right;\">\n",
              "      <th></th>\n",
              "      <th>Unnamed: 0</th>\n",
              "      <th>Unnamed: 0.1</th>\n",
              "      <th>tender_id</th>\n",
              "      <th>tender_description</th>\n",
              "      <th>tender_details</th>\n",
              "      <th>tender_category</th>\n",
              "      <th>boq_items</th>\n",
              "      <th>boq_details</th>\n",
              "      <th>boq_len</th>\n",
              "    </tr>\n",
              "  </thead>\n",
              "  <tbody>\n",
              "    <tr>\n",
              "      <th>17</th>\n",
              "      <td>17</td>\n",
              "      <td>17</td>\n",
              "      <td>d82cf3e9-5ce9-4f64-93f8-518a86c6e683</td>\n",
              "      <td>All That Piece And Parcel Of Vacant Land Situa...</td>\n",
              "      <td>All That Piece And Parcel Of Vacant Land Situa...</td>\n",
              "      <td>Missing</td>\n",
              "      <td>[{'rowNumber': 1, 'itemDescription': 'All that...</td>\n",
              "      <td>['All that piece and parcel of vacant land sit...</td>\n",
              "      <td>1</td>\n",
              "    </tr>\n",
              "    <tr>\n",
              "      <th>18</th>\n",
              "      <td>18</td>\n",
              "      <td>18</td>\n",
              "      <td>aff8bc20-0f92-4b89-96c6-1dce10096acb</td>\n",
              "      <td>The House Site Plot No.70 Extending To East We...</td>\n",
              "      <td>The House Site Plot No.70 Extending To East We...</td>\n",
              "      <td>Missing</td>\n",
              "      <td>[{'rowNumber': 1, 'itemDescription': 'The Hous...</td>\n",
              "      <td>['The House site plot No.70 extending to east ...</td>\n",
              "      <td>3</td>\n",
              "    </tr>\n",
              "    <tr>\n",
              "      <th>19</th>\n",
              "      <td>19</td>\n",
              "      <td>19</td>\n",
              "      <td>e84fe8b8-e7da-4e54-a785-515e83931867</td>\n",
              "      <td>All That Piece And Parcel Of Land Residential ...</td>\n",
              "      <td>All That Piece And Parcel Of Land Residential ...</td>\n",
              "      <td>Missing</td>\n",
              "      <td>[{'rowNumber': 1, 'itemDescription': 'All that...</td>\n",
              "      <td>['All that piece and parcel of land residentia...</td>\n",
              "      <td>1</td>\n",
              "    </tr>\n",
              "    <tr>\n",
              "      <th>20</th>\n",
              "      <td>20</td>\n",
              "      <td>20</td>\n",
              "      <td>402f196a-9f17-46a5-aa26-308b385d45d3</td>\n",
              "      <td>All That Piece And Parcel Of Land Measuring An...</td>\n",
              "      <td>All That Piece And Parcel Of Land Measuring An...</td>\n",
              "      <td>Missing</td>\n",
              "      <td>[{'rowNumber': 1, 'itemDescription': 'All that...</td>\n",
              "      <td>['All that piece and parcel of land measuring ...</td>\n",
              "      <td>1</td>\n",
              "    </tr>\n",
              "    <tr>\n",
              "      <th>21</th>\n",
              "      <td>21</td>\n",
              "      <td>21</td>\n",
              "      <td>218dfa74-b2dd-4b90-af00-a17fc3843cb9</td>\n",
              "      <td>In Madurai Tirumangalam Dist No.4, Rajaji 1st ...</td>\n",
              "      <td>In Madurai Tirumangalam Dist No.4, Rajaji 1st ...</td>\n",
              "      <td>Missing</td>\n",
              "      <td>[{'rowNumber': 2, 'itemDescription': 'In Madur...</td>\n",
              "      <td>['In Madurai District, Madurai South Registrat...</td>\n",
              "      <td>2</td>\n",
              "    </tr>\n",
              "    <tr>\n",
              "      <th>22</th>\n",
              "      <td>22</td>\n",
              "      <td>22</td>\n",
              "      <td>4581e12b-b3b3-4e5f-a632-e22d42325b6f</td>\n",
              "      <td>Residential Land And Building At Kanyakumari D...</td>\n",
              "      <td>Residential Land And Building At Kanyakumari D...</td>\n",
              "      <td>Missing</td>\n",
              "      <td>[{'rowNumber': 2, 'itemDescription': 'Resident...</td>\n",
              "      <td>['Residential land and building situated at ka...</td>\n",
              "      <td>2</td>\n",
              "    </tr>\n",
              "    <tr>\n",
              "      <th>23</th>\n",
              "      <td>23</td>\n",
              "      <td>23</td>\n",
              "      <td>cbe762db-d28f-4c12-ad0e-6ae809dfd71f</td>\n",
              "      <td>All That Piece And Parcel Of Land Residential ...</td>\n",
              "      <td>All That Piece And Parcel Of Land Residential ...</td>\n",
              "      <td>Missing</td>\n",
              "      <td>[{'rowNumber': 1, 'itemDescription': 'All that...</td>\n",
              "      <td>['All that piece and parcel of land residentia...</td>\n",
              "      <td>1</td>\n",
              "    </tr>\n",
              "    <tr>\n",
              "      <th>24</th>\n",
              "      <td>24</td>\n",
              "      <td>24</td>\n",
              "      <td>62dd9eea-73b0-4662-a12c-25e343be34e1</td>\n",
              "      <td>Virudhunagar Dist,thiruthangal Village Sivakas...</td>\n",
              "      <td>Virudhunagar Dist,thiruthangal Village Sivakas...</td>\n",
              "      <td>Missing</td>\n",
              "      <td>[{'rowNumber': 1, 'itemDescription': 'Virudhun...</td>\n",
              "      <td>['Virudhunagar dist,Thiruthangal village sivak...</td>\n",
              "      <td>1</td>\n",
              "    </tr>\n",
              "    <tr>\n",
              "      <th>25</th>\n",
              "      <td>25</td>\n",
              "      <td>25</td>\n",
              "      <td>87acb60f-e597-4ad9-99e6-ec14935ce862</td>\n",
              "      <td>Thiruvanathapuram Dist Balaramapuram Village S...</td>\n",
              "      <td>Thiruvanathapuram Dist Balaramapuram Village S...</td>\n",
              "      <td>Missing</td>\n",
              "      <td>[{'rowNumber': 1, 'itemDescription': 'Thiruvan...</td>\n",
              "      <td>['Thiruvanathapuram dist Balaramapuram Village...</td>\n",
              "      <td>1</td>\n",
              "    </tr>\n",
              "  </tbody>\n",
              "</table>\n",
              "</div>\n",
              "      <button class=\"colab-df-convert\" onclick=\"convertToInteractive('df-828c251c-6b0a-471f-9e04-256f5092d7d7')\"\n",
              "              title=\"Convert this dataframe to an interactive table.\"\n",
              "              style=\"display:none;\">\n",
              "        \n",
              "  <svg xmlns=\"http://www.w3.org/2000/svg\" height=\"24px\"viewBox=\"0 0 24 24\"\n",
              "       width=\"24px\">\n",
              "    <path d=\"M0 0h24v24H0V0z\" fill=\"none\"/>\n",
              "    <path d=\"M18.56 5.44l.94 2.06.94-2.06 2.06-.94-2.06-.94-.94-2.06-.94 2.06-2.06.94zm-11 1L8.5 8.5l.94-2.06 2.06-.94-2.06-.94L8.5 2.5l-.94 2.06-2.06.94zm10 10l.94 2.06.94-2.06 2.06-.94-2.06-.94-.94-2.06-.94 2.06-2.06.94z\"/><path d=\"M17.41 7.96l-1.37-1.37c-.4-.4-.92-.59-1.43-.59-.52 0-1.04.2-1.43.59L10.3 9.45l-7.72 7.72c-.78.78-.78 2.05 0 2.83L4 21.41c.39.39.9.59 1.41.59.51 0 1.02-.2 1.41-.59l7.78-7.78 2.81-2.81c.8-.78.8-2.07 0-2.86zM5.41 20L4 18.59l7.72-7.72 1.47 1.35L5.41 20z\"/>\n",
              "  </svg>\n",
              "      </button>\n",
              "      \n",
              "  <style>\n",
              "    .colab-df-container {\n",
              "      display:flex;\n",
              "      flex-wrap:wrap;\n",
              "      gap: 12px;\n",
              "    }\n",
              "\n",
              "    .colab-df-convert {\n",
              "      background-color: #E8F0FE;\n",
              "      border: none;\n",
              "      border-radius: 50%;\n",
              "      cursor: pointer;\n",
              "      display: none;\n",
              "      fill: #1967D2;\n",
              "      height: 32px;\n",
              "      padding: 0 0 0 0;\n",
              "      width: 32px;\n",
              "    }\n",
              "\n",
              "    .colab-df-convert:hover {\n",
              "      background-color: #E2EBFA;\n",
              "      box-shadow: 0px 1px 2px rgba(60, 64, 67, 0.3), 0px 1px 3px 1px rgba(60, 64, 67, 0.15);\n",
              "      fill: #174EA6;\n",
              "    }\n",
              "\n",
              "    [theme=dark] .colab-df-convert {\n",
              "      background-color: #3B4455;\n",
              "      fill: #D2E3FC;\n",
              "    }\n",
              "\n",
              "    [theme=dark] .colab-df-convert:hover {\n",
              "      background-color: #434B5C;\n",
              "      box-shadow: 0px 1px 3px 1px rgba(0, 0, 0, 0.15);\n",
              "      filter: drop-shadow(0px 1px 2px rgba(0, 0, 0, 0.3));\n",
              "      fill: #FFFFFF;\n",
              "    }\n",
              "  </style>\n",
              "\n",
              "      <script>\n",
              "        const buttonEl =\n",
              "          document.querySelector('#df-828c251c-6b0a-471f-9e04-256f5092d7d7 button.colab-df-convert');\n",
              "        buttonEl.style.display =\n",
              "          google.colab.kernel.accessAllowed ? 'block' : 'none';\n",
              "\n",
              "        async function convertToInteractive(key) {\n",
              "          const element = document.querySelector('#df-828c251c-6b0a-471f-9e04-256f5092d7d7');\n",
              "          const dataTable =\n",
              "            await google.colab.kernel.invokeFunction('convertToInteractive',\n",
              "                                                     [key], {});\n",
              "          if (!dataTable) return;\n",
              "\n",
              "          const docLinkHtml = 'Like what you see? Visit the ' +\n",
              "            '<a target=\"_blank\" href=https://colab.research.google.com/notebooks/data_table.ipynb>data table notebook</a>'\n",
              "            + ' to learn more about interactive tables.';\n",
              "          element.innerHTML = '';\n",
              "          dataTable['output_type'] = 'display_data';\n",
              "          await google.colab.output.renderOutput(dataTable, element);\n",
              "          const docLink = document.createElement('div');\n",
              "          docLink.innerHTML = docLinkHtml;\n",
              "          element.appendChild(docLink);\n",
              "        }\n",
              "      </script>\n",
              "    </div>\n",
              "  </div>\n",
              "  "
            ]
          },
          "metadata": {},
          "execution_count": 157
        }
      ]
    },
    {
      "cell_type": "markdown",
      "source": [
        "# understand the problem"
      ],
      "metadata": {
        "id": "r1OzZqwom0Mt"
      }
    },
    {
      "cell_type": "markdown",
      "source": [],
      "metadata": {
        "id": "oDGtYKoLm2nZ"
      }
    },
    {
      "cell_type": "code",
      "source": [
        "df.tender_category.value_counts()"
      ],
      "metadata": {
        "colab": {
          "base_uri": "https://localhost:8080/"
        },
        "id": "CxMGfsLTl9XE",
        "outputId": "33904c69-65fa-4652-88f1-d36714a9bcd1"
      },
      "execution_count": null,
      "outputs": [
        {
          "output_type": "execute_result",
          "data": {
            "text/plain": [
              "WORKS         29\n",
              "Works         25\n",
              "SERVICES      13\n",
              "PERCENTAGE    10\n",
              "Missing        9\n",
              "Services       6\n",
              "Goods          4\n",
              "ITEM RATE      2\n",
              "GOODS          2\n",
              "Name: tender_category, dtype: int64"
            ]
          },
          "metadata": {},
          "execution_count": 158
        }
      ]
    },
    {
      "cell_type": "code",
      "source": [
        "df.shape"
      ],
      "metadata": {
        "colab": {
          "base_uri": "https://localhost:8080/"
        },
        "id": "kdPmrSAxLLon",
        "outputId": "97b69005-56c4-4231-c625-a4e743b5f03d"
      },
      "execution_count": null,
      "outputs": [
        {
          "output_type": "execute_result",
          "data": {
            "text/plain": [
              "(100, 12)"
            ]
          },
          "metadata": {},
          "execution_count": 211
        }
      ]
    },
    {
      "cell_type": "markdown",
      "source": [
        "## requires multiclass classification. text data"
      ],
      "metadata": {
        "id": "YFB_f_nom6eT"
      }
    },
    {
      "cell_type": "code",
      "source": [],
      "metadata": {
        "colab": {
          "base_uri": "https://localhost:8080/",
          "height": 35
        },
        "id": "0uVdKihFqAeR",
        "outputId": "83d645c0-bb7c-43a2-bb09-eb34535e4608"
      },
      "execution_count": null,
      "outputs": [
        {
          "output_type": "execute_result",
          "data": {
            "text/plain": [
              "'['"
            ],
            "application/vnd.google.colaboratory.intrinsic+json": {
              "type": "string"
            }
          },
          "metadata": {},
          "execution_count": 51
        }
      ]
    },
    {
      "cell_type": "code",
      "source": [
        "\n"
      ],
      "metadata": {
        "id": "ecQYLQZAnB5B"
      },
      "execution_count": null,
      "outputs": []
    },
    {
      "cell_type": "code",
      "source": [
        "extracted_lst1[0]"
      ],
      "metadata": {
        "colab": {
          "base_uri": "https://localhost:8080/",
          "height": 35
        },
        "id": "YJID8MwQwWtB",
        "outputId": "42e09ab9-3107-4c99-b9fd-557af49cafa3"
      },
      "execution_count": null,
      "outputs": [
        {
          "output_type": "execute_result",
          "data": {
            "text/plain": [
              "\"[{'rowNumber':\""
            ],
            "application/vnd.google.colaboratory.intrinsic+json": {
              "type": "string"
            }
          },
          "metadata": {},
          "execution_count": 159
        }
      ]
    },
    {
      "cell_type": "code",
      "source": [],
      "metadata": {
        "id": "lZlm0lB5wH56"
      },
      "execution_count": null,
      "outputs": []
    },
    {
      "cell_type": "code",
      "source": [
        "\n"
      ],
      "metadata": {
        "id": "DXKOwLLesJVv"
      },
      "execution_count": null,
      "outputs": []
    },
    {
      "cell_type": "code",
      "source": [
        "\n",
        "# data0 = json.loads(df.boq_items[0])"
      ],
      "metadata": {
        "id": "TftykxI7z9P_"
      },
      "execution_count": null,
      "outputs": []
    },
    {
      "cell_type": "code",
      "source": [
        "data0[0].keys()"
      ],
      "metadata": {
        "colab": {
          "base_uri": "https://localhost:8080/"
        },
        "id": "vNvhy9M20Ls-",
        "outputId": "6bfa4ddc-232d-445c-9d4b-99258c07ef20"
      },
      "execution_count": null,
      "outputs": [
        {
          "output_type": "execute_result",
          "data": {
            "text/plain": [
              "dict_keys(['rowNumber', 'itemDescription', 'quantity', 'units', 'rate', 'amount', '_class'])"
            ]
          },
          "metadata": {},
          "execution_count": 161
        }
      ]
    },
    {
      "cell_type": "code",
      "source": [],
      "metadata": {
        "id": "yjrCJjglI1iM"
      },
      "execution_count": null,
      "outputs": []
    },
    {
      "cell_type": "code",
      "source": [
        "# class Extractors():\n",
        "\n",
        "\n",
        "#   def json_extractor(self, file, new_col_val):\n",
        "#     self.new_col_value = new_col_value\n",
        "#     self.file = file\n",
        "#     corrected = self.file.replace(\"'\", '\"')\n",
        "#     temp_data = json.loads(corrected)\n",
        "#     self.new_col_value = []\n",
        "#     for f in temp_data:\n",
        "#       val = self.new_col_value.append(temp_data[f'{self.new_col_value}'])\n",
        "    \n",
        "#     return val\n",
        "\n",
        "\n"
      ],
      "metadata": {
        "id": "XJQCu5sdIRZL"
      },
      "execution_count": null,
      "outputs": []
    },
    {
      "cell_type": "code",
      "source": [
        "df.boq_items[0]"
      ],
      "metadata": {
        "colab": {
          "base_uri": "https://localhost:8080/",
          "height": 178
        },
        "id": "TqHWqGurSfOf",
        "outputId": "d625650b-e953-4380-a37a-129405ef7e6d"
      },
      "execution_count": null,
      "outputs": [
        {
          "output_type": "execute_result",
          "data": {
            "text/plain": [
              "\"[{'rowNumber': 12, 'itemDescription': 'Dismantling and removing cement concrete including stacking the useful materials for re use and removing the debries within 50 mtr lead complete as per the direction of engineer in charge.', 'quantity': 9.0, 'units': 'Cum', 'rate': 5268.6, 'amount': 585.4, '_class': 'com.ofb.core.domain.mongo.BOQ'}, {'rowNumber': 13, 'itemDescription': 'Dismantling and removing RCC including stacking the useful materials for re use and removing the debries within 50 mtr lead complete as per the direction of engineer in charge.', 'quantity': 24.0, 'units': 'Cum', 'rate': 28015.2, 'amount': 1167.3, '_class': 'com.ofb.core.domain.mongo.BOQ'}, {'rowNumber': 14, 'itemDescription': 'Earthwork excavation of foundation in all kinds of soil with all leads ,lifts,delifts,including rough dressing and levelling the bed and depositing the excavated earth away from work site and breaking the clods to maximum 5cm to 7cm in size and laying in layers not exceeding 0.30m in depth etc complete as per direction of the Engineer-in-charge.', 'quantity': 370.0, 'units': 'Cum', 'rate': 75561.4, 'amount': 204.22, '_class': 'com.ofb.core.domain.mongo.BOQ'}, {'rowNumber': 15, 'itemDescription': 'Filling foundation and plinth with sand well watered and rammed with cost , conveyance , royalty ,taxes,labour , T & P , cess etc complete as per direction of the Engineer-in-charge.', 'quantity': 52.0, 'units': 'Cum', 'rate': 17352.4, 'amount': 333.7, '_class': 'com.ofb.core.domain.mongo.BOQ'}, {'rowNumber': 16, 'itemDescription': 'Cement Concrete  (1:3:6) with 40mm size  hard granite crusher broken metal including all cost ,conveyance,royalty& taxes etc complete of all materials to work site as per specifcation approved by the department & direction of Engineer-in-charge', 'quantity': 35.5, 'units': 'Cum', 'rate': 159671.9, 'amount': 4497.8, '_class': 'com.ofb.core.domain.mongo.BOQ'}, {'rowNumber': 17, 'itemDescription': 'R.C.C. work of M25 grade with Crusher granite coarse aggregate of size 20 mm down graded chips mixed with concrete mixer with all leads lifts and delifts including all cost, conveyance, royalty & taxes etc.compete of all materials  as per specification and direction of Engineer-in-charge.', 'quantity': 156.0, 'units': 'cum', 'rate': 790918.44, 'amount': 5069.99, '_class': 'com.ofb.core.domain.mongo.BOQ'}, {'rowNumber': 18, 'itemDescription': 'Supplying ,cutting,bending,binding,tying the grills and placing in position of uncoated HYSD  bar reinforcement for RCC work including cost,carriage,royalty and taxes of all materials,labour and cost of binding wire 18 to 20 gauges, cess complete as per the direction of engineer in charge.', 'quantity': 109.0, 'units': 'qntl', 'rate': 928512.14, 'amount': 8518.46, '_class': 'com.ofb.core.domain.mongo.BOQ'}, {'rowNumber': 19, 'itemDescription': 'Rigid smooth centering and shuttering for RCC works including  cost of materials and labour for the work etc complete as per the direction of engineer in charge(A)RCC WALL', 'quantity': 1071.0, 'units': 'sqm', 'rate': 108171.0, 'amount': 101.0, '_class': 'com.ofb.core.domain.mongo.BOQ'}, {'rowNumber': 20, 'itemDescription': 'Rigid smooth centering and shuttering for RCC works including  cost of materials and labour for the work etc complete as per the direction of engineer in charge(B)  RCC FLOOR , ROOF SLAB & LANDINGS', 'quantity': 187.0, 'units': 'sqm', 'rate': 79789.16, 'amount': 426.68, '_class': 'com.ofb.core.domain.mongo.BOQ'}, {'rowNumber': 21, 'itemDescription': 'Carriage of excavated earth and dismantled materials from site by mechanical means with 5km lead including cost of all labour and conveyance etc complete as per direction of the engineer in charge.', 'quantity': 329.0, 'units': 'cum', 'rate': 32242.0, 'amount': 98.0, '_class': 'com.ofb.core.domain.mongo.BOQ'}, {'rowNumber': 22, 'itemDescription': 'Cost of Transperency pillar.', 'quantity': 1.0, 'units': 'LS', 'rate': 3000.0, 'amount': 3000.0, '_class': 'com.ofb.core.domain.mongo.BOQ'}]\""
            ],
            "application/vnd.google.colaboratory.intrinsic+json": {
              "type": "string"
            }
          },
          "metadata": {},
          "execution_count": 165
        }
      ]
    },
    {
      "cell_type": "code",
      "source": [
        "df.boq_details[0]"
      ],
      "metadata": {
        "colab": {
          "base_uri": "https://localhost:8080/",
          "height": 178
        },
        "id": "3ua7S-13UxtZ",
        "outputId": "19b4fc2a-00bd-465d-d1e1-de45f821aeef"
      },
      "execution_count": null,
      "outputs": [
        {
          "output_type": "execute_result",
          "data": {
            "text/plain": [
              "\"['Dismantling and removing cement concrete including stacking the useful materials for re use and removing the debries within 50 mtr lead complete as per the direction of engineer in charge.', 'Dismantling and removing RCC including stacking the useful materials for re use and removing the debries within 50 mtr lead complete as per the direction of engineer in charge.', 'Earthwork excavation of foundation in all kinds of soil with all leads ,lifts,delifts,including rough dressing and levelling the bed and depositing the excavated earth away from work site and breaking the clods to maximum 5cm to 7cm in size and laying in layers not exceeding 0.30m in depth etc complete as per direction of the Engineer-in-charge.', 'Filling foundation and plinth with sand well watered and rammed with cost , conveyance , royalty ,taxes,labour , T & P , cess etc complete as per direction of the Engineer-in-charge.', 'Cement Concrete  (1:3:6) with 40mm size  hard granite crusher broken metal including all cost ,conveyance,royalty& taxes etc complete of all materials to work site as per specifcation approved by the department & direction of Engineer-in-charge', 'R.C.C. work of M25 grade with Crusher granite coarse aggregate of size 20 mm down graded chips mixed with concrete mixer with all leads lifts and delifts including all cost, conveyance, royalty & taxes etc.compete of all materials  as per specification and direction of Engineer-in-charge.', 'Supplying ,cutting,bending,binding,tying the grills and placing in position of uncoated HYSD  bar reinforcement for RCC work including cost,carriage,royalty and taxes of all materials,labour and cost of binding wire 18 to 20 gauges, cess complete as per the direction of engineer in charge.', 'Rigid smooth centering and shuttering for RCC works including  cost of materials and labour for the work etc complete as per the direction of engineer in charge(A)RCC WALL', 'Rigid smooth centering and shuttering for RCC works including  cost of materials and labour for the work etc complete as per the direction of engineer in charge(B)  RCC FLOOR , ROOF SLAB & LANDINGS', 'Carriage of excavated earth and dismantled materials from site by mechanical means with 5km lead including cost of all labour and conveyance etc complete as per direction of the engineer in charge.', 'Cost of Transperency pillar.']\""
            ],
            "application/vnd.google.colaboratory.intrinsic+json": {
              "type": "string"
            }
          },
          "metadata": {},
          "execution_count": 184
        }
      ]
    },
    {
      "cell_type": "code",
      "source": [
        "\n",
        "    "
      ],
      "metadata": {
        "id": "-puQ_M9JNWQp"
      },
      "execution_count": null,
      "outputs": []
    },
    {
      "cell_type": "code",
      "source": [],
      "metadata": {
        "id": "_k3O2GJvUoPZ"
      },
      "execution_count": null,
      "outputs": []
    },
    {
      "cell_type": "markdown",
      "source": [
        "## Possible useful functions for later"
      ],
      "metadata": {
        "id": "C6SJ-MRbVXF1"
      }
    },
    {
      "cell_type": "code",
      "source": [
        "def json_extractor_quant(file):\n",
        "\n",
        "    \n",
        "  corrected = file.replace(\"'\", '\"')\n",
        "  temp_data = json.loads(corrected)\n",
        "  temp_value = []\n",
        "  for fl in temp_data:\n",
        "    temp_value.append(fl['quantity'])\n",
        "  return temp_value"
      ],
      "metadata": {
        "id": "cF-CJQWWUBQZ"
      },
      "execution_count": null,
      "outputs": []
    },
    {
      "cell_type": "code",
      "source": [
        "def json_extractor_units(file):\n",
        "\n",
        "    \n",
        "  corrected = file.replace(\"'\", '\"')\n",
        "  temp_data = json.loads(corrected)\n",
        "  temp_value = []\n",
        "  for fl in temp_data:\n",
        "    temp_value.append(fl['units'])\n",
        "  return temp_value\n"
      ],
      "metadata": {
        "id": "-d6jOqueUIlG"
      },
      "execution_count": null,
      "outputs": []
    },
    {
      "cell_type": "code",
      "source": [
        "def json_extractor_rate(file):\n",
        "\n",
        "    \n",
        "  corrected = file.replace(\"'\", '\"')\n",
        "  temp_data = json.loads(corrected)\n",
        "  temp_value = []\n",
        "  for fl in temp_data:\n",
        "    temp_value.append(fl['rate'])\n",
        "  return temp_value\n"
      ],
      "metadata": {
        "id": "7SuPlczAUYdy"
      },
      "execution_count": null,
      "outputs": []
    },
    {
      "cell_type": "code",
      "source": [
        "def json_extractor_amount(file):\n",
        "\n",
        "    \n",
        "  corrected = file.replace(\"'\", '\"')\n",
        "  temp_data = json.loads(corrected)\n",
        "  temp_value = []\n",
        "  for fl in temp_data:\n",
        "    temp_value.append(fl['amount'])\n",
        "  return temp_value\n"
      ],
      "metadata": {
        "id": "5nf59Zn2Uec2"
      },
      "execution_count": null,
      "outputs": []
    },
    {
      "cell_type": "code",
      "source": [
        "def json_extractor_class(file):\n",
        "\n",
        "    \n",
        "  corrected = file.replace(\"'\", '\"')\n",
        "  temp_data = json.loads(corrected)\n",
        "  temp_value = []\n",
        "  for fl in temp_data:\n",
        "    temp_value.append(fl['_class'])\n",
        "  return temp_value\n"
      ],
      "metadata": {
        "id": "OxfFWcDuUi1m"
      },
      "execution_count": null,
      "outputs": []
    },
    {
      "cell_type": "code",
      "source": [
        "print(json_extractor(df.boq_items[0]))"
      ],
      "metadata": {
        "colab": {
          "base_uri": "https://localhost:8080/"
        },
        "id": "WvoDUw-RnB7n",
        "outputId": "86cf5d88-bfdf-4d4f-d575-13f5e7beee6f"
      },
      "execution_count": null,
      "outputs": [
        {
          "output_type": "stream",
          "name": "stdout",
          "text": [
            "['Dismantling and removing cement concrete including stacking the useful materials for re use and removing the debries within 50 mtr lead complete as per the direction of engineer in charge.', 'Dismantling and removing RCC including stacking the useful materials for re use and removing the debries within 50 mtr lead complete as per the direction of engineer in charge.', 'Earthwork excavation of foundation in all kinds of soil with all leads ,lifts,delifts,including rough dressing and levelling the bed and depositing the excavated earth away from work site and breaking the clods to maximum 5cm to 7cm in size and laying in layers not exceeding 0.30m in depth etc complete as per direction of the Engineer-in-charge.', 'Filling foundation and plinth with sand well watered and rammed with cost , conveyance , royalty ,taxes,labour , T & P , cess etc complete as per direction of the Engineer-in-charge.', 'Cement Concrete  (1:3:6) with 40mm size  hard granite crusher broken metal including all cost ,conveyance,royalty& taxes etc complete of all materials to work site as per specifcation approved by the department & direction of Engineer-in-charge', 'R.C.C. work of M25 grade with Crusher granite coarse aggregate of size 20 mm down graded chips mixed with concrete mixer with all leads lifts and delifts including all cost, conveyance, royalty & taxes etc.compete of all materials  as per specification and direction of Engineer-in-charge.', 'Supplying ,cutting,bending,binding,tying the grills and placing in position of uncoated HYSD  bar reinforcement for RCC work including cost,carriage,royalty and taxes of all materials,labour and cost of binding wire 18 to 20 gauges, cess complete as per the direction of engineer in charge.', 'Rigid smooth centering and shuttering for RCC works including  cost of materials and labour for the work etc complete as per the direction of engineer in charge(A)RCC WALL', 'Rigid smooth centering and shuttering for RCC works including  cost of materials and labour for the work etc complete as per the direction of engineer in charge(B)  RCC FLOOR , ROOF SLAB & LANDINGS', 'Carriage of excavated earth and dismantled materials from site by mechanical means with 5km lead including cost of all labour and conveyance etc complete as per direction of the engineer in charge.', 'Cost of Transperency pillar.']\n"
          ]
        }
      ]
    },
    {
      "cell_type": "markdown",
      "source": [
        "# Checking out text data from the df. We'll put all text data into one column, categorize target by hand and classify with multiclass classifiers"
      ],
      "metadata": {
        "id": "pzR3CsY_W1e6"
      }
    },
    {
      "cell_type": "code",
      "source": [
        "df.head()"
      ],
      "metadata": {
        "colab": {
          "base_uri": "https://localhost:8080/",
          "height": 565
        },
        "id": "xrp5FWjknB99",
        "outputId": "aa5fed2d-92de-448e-8b5b-0ee4098c4a18"
      },
      "execution_count": null,
      "outputs": [
        {
          "output_type": "execute_result",
          "data": {
            "text/plain": [
              "   Unnamed: 0  Unnamed: 0.1                             tender_id  \\\n",
              "0           0             0  ad77c36d-ee5b-415a-917b-f65a81752625   \n",
              "1           1             1  d17ff512-0f4e-4e63-b9c0-4b4c13157f47   \n",
              "2           2             2  d5d6a926-6dec-473c-b6f4-c195e1c334f2   \n",
              "3           3             3  67bab7b5-b577-481f-a64f-f52a9e89a13f   \n",
              "4           4             4  a47aeaf3-7b4d-4551-8d7e-c0415f65f411   \n",
              "\n",
              "                                  tender_description  \\\n",
              "0  Construction Of Rcc Drain With Cover Slab From...   \n",
              "1  Day To Day Upkeeping Of Lawn And Garden At Koy...   \n",
              "2  P/l Wmb G-ii, 75 Mm Thick Wet Mix Macadam And ...   \n",
              "3  Improvement And Biannual Maintenance To Anjang...   \n",
              "4              Pre-monsoon Cleaning And Desilting Of   \n",
              "\n",
              "                                      tender_details tender_category  \\\n",
              "0  Construction Of Rcc Drain With Cover Slab From...           Works   \n",
              "1  Day To Day Upkeeping Of Lawn And Garden At Koy...           Works   \n",
              "2  P/l Wmb G-ii, 75 Mm Thick Wet Mix Macadam And ...           Works   \n",
              "3  Improvement And Biannual Maintenance To Anjang...           Works   \n",
              "4  Pre-monsoon Cleaning And Desilting Of Exisitin...           Works   \n",
              "\n",
              "                                           boq_items  \\\n",
              "0  [{'rowNumber': 12, 'itemDescription': 'Dismant...   \n",
              "1  [{'rowNumber': 21, 'itemDescription': 'Shiftin...   \n",
              "2  [{'rowNumber': 12, 'itemDescription': 'Providi...   \n",
              "3  [{'rowNumber': 12, 'itemDescription': 'IMPROVE...   \n",
              "4  [{'rowNumber': 18, 'itemDescription': 'GST 12%...   \n",
              "\n",
              "                                         boq_details  boq_len  \n",
              "0  ['Dismantling and removing cement concrete inc...       11  \n",
              "1  ['Shifting of Ghamlas from garden to 1 to 10 t...       29  \n",
              "2  ['Providing , laying, spreading and compacting...        4  \n",
              "3  ['IMPROVEMENT AND BIANNUAL MAINTENANCE TO ANJA...        1  \n",
              "4  ['GST 12%', 'PROVIDING AND OPERATING DUMPER OF...        6  "
            ],
            "text/html": [
              "\n",
              "  <div id=\"df-9b2f68c4-c21b-4c4a-bc93-17a7025267c6\">\n",
              "    <div class=\"colab-df-container\">\n",
              "      <div>\n",
              "<style scoped>\n",
              "    .dataframe tbody tr th:only-of-type {\n",
              "        vertical-align: middle;\n",
              "    }\n",
              "\n",
              "    .dataframe tbody tr th {\n",
              "        vertical-align: top;\n",
              "    }\n",
              "\n",
              "    .dataframe thead th {\n",
              "        text-align: right;\n",
              "    }\n",
              "</style>\n",
              "<table border=\"1\" class=\"dataframe\">\n",
              "  <thead>\n",
              "    <tr style=\"text-align: right;\">\n",
              "      <th></th>\n",
              "      <th>Unnamed: 0</th>\n",
              "      <th>Unnamed: 0.1</th>\n",
              "      <th>tender_id</th>\n",
              "      <th>tender_description</th>\n",
              "      <th>tender_details</th>\n",
              "      <th>tender_category</th>\n",
              "      <th>boq_items</th>\n",
              "      <th>boq_details</th>\n",
              "      <th>boq_len</th>\n",
              "    </tr>\n",
              "  </thead>\n",
              "  <tbody>\n",
              "    <tr>\n",
              "      <th>0</th>\n",
              "      <td>0</td>\n",
              "      <td>0</td>\n",
              "      <td>ad77c36d-ee5b-415a-917b-f65a81752625</td>\n",
              "      <td>Construction Of Rcc Drain With Cover Slab From...</td>\n",
              "      <td>Construction Of Rcc Drain With Cover Slab From...</td>\n",
              "      <td>Works</td>\n",
              "      <td>[{'rowNumber': 12, 'itemDescription': 'Dismant...</td>\n",
              "      <td>['Dismantling and removing cement concrete inc...</td>\n",
              "      <td>11</td>\n",
              "    </tr>\n",
              "    <tr>\n",
              "      <th>1</th>\n",
              "      <td>1</td>\n",
              "      <td>1</td>\n",
              "      <td>d17ff512-0f4e-4e63-b9c0-4b4c13157f47</td>\n",
              "      <td>Day To Day Upkeeping Of Lawn And Garden At Koy...</td>\n",
              "      <td>Day To Day Upkeeping Of Lawn And Garden At Koy...</td>\n",
              "      <td>Works</td>\n",
              "      <td>[{'rowNumber': 21, 'itemDescription': 'Shiftin...</td>\n",
              "      <td>['Shifting of Ghamlas from garden to 1 to 10 t...</td>\n",
              "      <td>29</td>\n",
              "    </tr>\n",
              "    <tr>\n",
              "      <th>2</th>\n",
              "      <td>2</td>\n",
              "      <td>2</td>\n",
              "      <td>d5d6a926-6dec-473c-b6f4-c195e1c334f2</td>\n",
              "      <td>P/l Wmb G-ii, 75 Mm Thick Wet Mix Macadam And ...</td>\n",
              "      <td>P/l Wmb G-ii, 75 Mm Thick Wet Mix Macadam And ...</td>\n",
              "      <td>Works</td>\n",
              "      <td>[{'rowNumber': 12, 'itemDescription': 'Providi...</td>\n",
              "      <td>['Providing , laying, spreading and compacting...</td>\n",
              "      <td>4</td>\n",
              "    </tr>\n",
              "    <tr>\n",
              "      <th>3</th>\n",
              "      <td>3</td>\n",
              "      <td>3</td>\n",
              "      <td>67bab7b5-b577-481f-a64f-f52a9e89a13f</td>\n",
              "      <td>Improvement And Biannual Maintenance To Anjang...</td>\n",
              "      <td>Improvement And Biannual Maintenance To Anjang...</td>\n",
              "      <td>Works</td>\n",
              "      <td>[{'rowNumber': 12, 'itemDescription': 'IMPROVE...</td>\n",
              "      <td>['IMPROVEMENT AND BIANNUAL MAINTENANCE TO ANJA...</td>\n",
              "      <td>1</td>\n",
              "    </tr>\n",
              "    <tr>\n",
              "      <th>4</th>\n",
              "      <td>4</td>\n",
              "      <td>4</td>\n",
              "      <td>a47aeaf3-7b4d-4551-8d7e-c0415f65f411</td>\n",
              "      <td>Pre-monsoon Cleaning And Desilting Of</td>\n",
              "      <td>Pre-monsoon Cleaning And Desilting Of Exisitin...</td>\n",
              "      <td>Works</td>\n",
              "      <td>[{'rowNumber': 18, 'itemDescription': 'GST 12%...</td>\n",
              "      <td>['GST 12%', 'PROVIDING AND OPERATING DUMPER OF...</td>\n",
              "      <td>6</td>\n",
              "    </tr>\n",
              "  </tbody>\n",
              "</table>\n",
              "</div>\n",
              "      <button class=\"colab-df-convert\" onclick=\"convertToInteractive('df-9b2f68c4-c21b-4c4a-bc93-17a7025267c6')\"\n",
              "              title=\"Convert this dataframe to an interactive table.\"\n",
              "              style=\"display:none;\">\n",
              "        \n",
              "  <svg xmlns=\"http://www.w3.org/2000/svg\" height=\"24px\"viewBox=\"0 0 24 24\"\n",
              "       width=\"24px\">\n",
              "    <path d=\"M0 0h24v24H0V0z\" fill=\"none\"/>\n",
              "    <path d=\"M18.56 5.44l.94 2.06.94-2.06 2.06-.94-2.06-.94-.94-2.06-.94 2.06-2.06.94zm-11 1L8.5 8.5l.94-2.06 2.06-.94-2.06-.94L8.5 2.5l-.94 2.06-2.06.94zm10 10l.94 2.06.94-2.06 2.06-.94-2.06-.94-.94-2.06-.94 2.06-2.06.94z\"/><path d=\"M17.41 7.96l-1.37-1.37c-.4-.4-.92-.59-1.43-.59-.52 0-1.04.2-1.43.59L10.3 9.45l-7.72 7.72c-.78.78-.78 2.05 0 2.83L4 21.41c.39.39.9.59 1.41.59.51 0 1.02-.2 1.41-.59l7.78-7.78 2.81-2.81c.8-.78.8-2.07 0-2.86zM5.41 20L4 18.59l7.72-7.72 1.47 1.35L5.41 20z\"/>\n",
              "  </svg>\n",
              "      </button>\n",
              "      \n",
              "  <style>\n",
              "    .colab-df-container {\n",
              "      display:flex;\n",
              "      flex-wrap:wrap;\n",
              "      gap: 12px;\n",
              "    }\n",
              "\n",
              "    .colab-df-convert {\n",
              "      background-color: #E8F0FE;\n",
              "      border: none;\n",
              "      border-radius: 50%;\n",
              "      cursor: pointer;\n",
              "      display: none;\n",
              "      fill: #1967D2;\n",
              "      height: 32px;\n",
              "      padding: 0 0 0 0;\n",
              "      width: 32px;\n",
              "    }\n",
              "\n",
              "    .colab-df-convert:hover {\n",
              "      background-color: #E2EBFA;\n",
              "      box-shadow: 0px 1px 2px rgba(60, 64, 67, 0.3), 0px 1px 3px 1px rgba(60, 64, 67, 0.15);\n",
              "      fill: #174EA6;\n",
              "    }\n",
              "\n",
              "    [theme=dark] .colab-df-convert {\n",
              "      background-color: #3B4455;\n",
              "      fill: #D2E3FC;\n",
              "    }\n",
              "\n",
              "    [theme=dark] .colab-df-convert:hover {\n",
              "      background-color: #434B5C;\n",
              "      box-shadow: 0px 1px 3px 1px rgba(0, 0, 0, 0.15);\n",
              "      filter: drop-shadow(0px 1px 2px rgba(0, 0, 0, 0.3));\n",
              "      fill: #FFFFFF;\n",
              "    }\n",
              "  </style>\n",
              "\n",
              "      <script>\n",
              "        const buttonEl =\n",
              "          document.querySelector('#df-9b2f68c4-c21b-4c4a-bc93-17a7025267c6 button.colab-df-convert');\n",
              "        buttonEl.style.display =\n",
              "          google.colab.kernel.accessAllowed ? 'block' : 'none';\n",
              "\n",
              "        async function convertToInteractive(key) {\n",
              "          const element = document.querySelector('#df-9b2f68c4-c21b-4c4a-bc93-17a7025267c6');\n",
              "          const dataTable =\n",
              "            await google.colab.kernel.invokeFunction('convertToInteractive',\n",
              "                                                     [key], {});\n",
              "          if (!dataTable) return;\n",
              "\n",
              "          const docLinkHtml = 'Like what you see? Visit the ' +\n",
              "            '<a target=\"_blank\" href=https://colab.research.google.com/notebooks/data_table.ipynb>data table notebook</a>'\n",
              "            + ' to learn more about interactive tables.';\n",
              "          element.innerHTML = '';\n",
              "          dataTable['output_type'] = 'display_data';\n",
              "          await google.colab.output.renderOutput(dataTable, element);\n",
              "          const docLink = document.createElement('div');\n",
              "          docLink.innerHTML = docLinkHtml;\n",
              "          element.appendChild(docLink);\n",
              "        }\n",
              "      </script>\n",
              "    </div>\n",
              "  </div>\n",
              "  "
            ]
          },
          "metadata": {},
          "execution_count": 185
        }
      ]
    },
    {
      "cell_type": "code",
      "source": [
        "df.tender_description[0]"
      ],
      "metadata": {
        "colab": {
          "base_uri": "https://localhost:8080/",
          "height": 53
        },
        "id": "QjTvPvjOnCAz",
        "outputId": "560f2275-5cc0-4da3-99e4-9ee65a340daa"
      },
      "execution_count": null,
      "outputs": [
        {
          "output_type": "execute_result",
          "data": {
            "text/plain": [
              "'Construction Of Rcc Drain With Cover Slab From Plot No 87/a Manisha Enclave To Plot No 24/2224 At Saswath Vihar In Ward No 6'"
            ],
            "application/vnd.google.colaboratory.intrinsic+json": {
              "type": "string"
            }
          },
          "metadata": {},
          "execution_count": 186
        }
      ]
    },
    {
      "cell_type": "code",
      "source": [
        "df.tender_details[0]"
      ],
      "metadata": {
        "colab": {
          "base_uri": "https://localhost:8080/",
          "height": 53
        },
        "id": "G93LhgQ5nCC4",
        "outputId": "9c48556f-fbeb-47b6-e4ae-17d7a8a65555"
      },
      "execution_count": null,
      "outputs": [
        {
          "output_type": "execute_result",
          "data": {
            "text/plain": [
              "'Construction Of Rcc Drain With Cover Slab From Plot No 87/a Manisha Enclave To Plot No 24/2224 At Saswath Vihar In Ward No 6'"
            ],
            "application/vnd.google.colaboratory.intrinsic+json": {
              "type": "string"
            }
          },
          "metadata": {},
          "execution_count": 187
        }
      ]
    },
    {
      "cell_type": "code",
      "source": [
        "df['text'] = df.tender_details + df.boq_details"
      ],
      "metadata": {
        "id": "TBfHeffPnCE-"
      },
      "execution_count": null,
      "outputs": []
    },
    {
      "cell_type": "code",
      "source": [
        "df['text'][0]"
      ],
      "metadata": {
        "colab": {
          "base_uri": "https://localhost:8080/",
          "height": 178
        },
        "id": "Xp_Nt0iMXesH",
        "outputId": "571140ca-b20b-4bf0-d267-3b6f984ab947"
      },
      "execution_count": null,
      "outputs": [
        {
          "output_type": "execute_result",
          "data": {
            "text/plain": [
              "\"Construction Of Rcc Drain With Cover Slab From Plot No 87/a Manisha Enclave To Plot No 24/2224 At Saswath Vihar In Ward No 6['Dismantling and removing cement concrete including stacking the useful materials for re use and removing the debries within 50 mtr lead complete as per the direction of engineer in charge.', 'Dismantling and removing RCC including stacking the useful materials for re use and removing the debries within 50 mtr lead complete as per the direction of engineer in charge.', 'Earthwork excavation of foundation in all kinds of soil with all leads ,lifts,delifts,including rough dressing and levelling the bed and depositing the excavated earth away from work site and breaking the clods to maximum 5cm to 7cm in size and laying in layers not exceeding 0.30m in depth etc complete as per direction of the Engineer-in-charge.', 'Filling foundation and plinth with sand well watered and rammed with cost , conveyance , royalty ,taxes,labour , T & P , cess etc complete as per direction of the Engineer-in-charge.', 'Cement Concrete  (1:3:6) with 40mm size  hard granite crusher broken metal including all cost ,conveyance,royalty& taxes etc complete of all materials to work site as per specifcation approved by the department & direction of Engineer-in-charge', 'R.C.C. work of M25 grade with Crusher granite coarse aggregate of size 20 mm down graded chips mixed with concrete mixer with all leads lifts and delifts including all cost, conveyance, royalty & taxes etc.compete of all materials  as per specification and direction of Engineer-in-charge.', 'Supplying ,cutting,bending,binding,tying the grills and placing in position of uncoated HYSD  bar reinforcement for RCC work including cost,carriage,royalty and taxes of all materials,labour and cost of binding wire 18 to 20 gauges, cess complete as per the direction of engineer in charge.', 'Rigid smooth centering and shuttering for RCC works including  cost of materials and labour for the work etc complete as per the direction of engineer in charge(A)RCC WALL', 'Rigid smooth centering and shuttering for RCC works including  cost of materials and labour for the work etc complete as per the direction of engineer in charge(B)  RCC FLOOR , ROOF SLAB & LANDINGS', 'Carriage of excavated earth and dismantled materials from site by mechanical means with 5km lead including cost of all labour and conveyance etc complete as per direction of the engineer in charge.', 'Cost of Transperency pillar.']\""
            ],
            "application/vnd.google.colaboratory.intrinsic+json": {
              "type": "string"
            }
          },
          "metadata": {},
          "execution_count": 405
        }
      ]
    },
    {
      "cell_type": "markdown",
      "source": [
        "# Cleaning of text data"
      ],
      "metadata": {
        "id": "g48KzeThXi7M"
      }
    },
    {
      "cell_type": "code",
      "source": [
        "def clean_string(text,stem=\"None\"):\n",
        "\n",
        "    final_string = \"\"\n",
        "\n",
        "    # make lower\n",
        "    text = text.lower()\n",
        "    \n",
        "    # remove http\n",
        "    text = re.sub(r\"http.*\\.[a-z]{2,3}\",\"\",text)\n",
        "\n",
        "    # remove www\n",
        "    text = re.sub(r\"www.*\\.[a-z]{2,3}\",\"\",text)\n",
        "    \n",
        "    # remove line breaks\n",
        "    text = re.sub(r'\\n','',text)\n",
        "\n",
        "    # remove puncuation\n",
        "    translator = str.maketrans('','',string.punctuation)\n",
        "    text = text.translate(translator)\n",
        "\n",
        "    # remove stop words\n",
        "    text = text.split()\n",
        "    useless_words = nltk.corpus.stopwords.words(\"english\")\n",
        "    useless_words.remove(\"don't\")\n",
        "    useless_words.remove('not')\n",
        "\n",
        "    text_filtered = [word for word in text if not word in useless_words]\n",
        "\n",
        "    # remove numbers\n",
        "    text_filtered = [re.sub(r'\\w*\\d\\w*','',w) for w in text_filtered]\n",
        "\n",
        "    # stem or lemmatize\n",
        "    if stem == 'Stem':\n",
        "        stemmer = PorterStemmer() \n",
        "        text_stemmed = [stemmer.stem(y) for y in text_filtered]\n",
        "    elif stem == 'Lem':\n",
        "        lem = WordNetLemmatizer()\n",
        "        text_stemmed = [lem.lemmatize(y) for y in text_filtered]\n",
        "    elif stem == 'Spacy':\n",
        "        text_filtered = nlp(' '.join(text_filtered))\n",
        "        text_stemmed = [y.lemma_ for y in text_filtered]\n",
        "    else:\n",
        "        text_stemmed = text_filtered\n",
        "\n",
        "    final_string = ' '.join(text_stemmed)\n",
        "\n",
        "    return final_string\n",
        "        \n",
        "def apply_clean_string(df):\n",
        "   arr = df.apply(lambda x: clean_string(str(x)))\n",
        "   return pd.DataFrame(arr)  "
      ],
      "metadata": {
        "id": "GmaLVeqfXmtZ"
      },
      "execution_count": null,
      "outputs": []
    },
    {
      "cell_type": "code",
      "source": [
        "df['clean_text'] = df.text.apply(lambda x: clean_string(x,stem=\"None\"))"
      ],
      "metadata": {
        "id": "WYCL0YwCXmv9"
      },
      "execution_count": null,
      "outputs": []
    },
    {
      "cell_type": "code",
      "source": [],
      "metadata": {
        "id": "wEAVWNBhaQzD"
      },
      "execution_count": null,
      "outputs": []
    },
    {
      "cell_type": "code",
      "source": [
        "df['tender_category'] = df.tender_category.apply(lambda x: x.lower())"
      ],
      "metadata": {
        "id": "VjCn5F1XXmxx"
      },
      "execution_count": null,
      "outputs": []
    },
    {
      "cell_type": "code",
      "source": [
        "df.tender_category.value_counts()"
      ],
      "metadata": {
        "colab": {
          "base_uri": "https://localhost:8080/"
        },
        "id": "SMRBKM4fZYYZ",
        "outputId": "7edf0da2-5c2c-4020-95b1-6eeec3d5446a"
      },
      "execution_count": null,
      "outputs": [
        {
          "output_type": "execute_result",
          "data": {
            "text/plain": [
              "works         54\n",
              "services      19\n",
              "percentage    10\n",
              "missing        9\n",
              "goods          6\n",
              "item rate      2\n",
              "Name: tender_category, dtype: int64"
            ]
          },
          "metadata": {},
          "execution_count": 409
        }
      ]
    },
    {
      "cell_type": "code",
      "source": [
        "def target_encoder(target_cat):\n",
        "  if target_cat == 'works':\n",
        "    return 0\n",
        "  elif target_cat == 'services':\n",
        "    return 1\n",
        "  elif target_cat == 'percentage':\n",
        "    return 2\n",
        "  \n",
        "  elif target_cat == 'goods':\n",
        "    return 3\n",
        "  elif target_cat == 'item_rate':\n",
        "    return 4\n",
        "  else: \n",
        "    return 5\n"
      ],
      "metadata": {
        "id": "QjSkEmyJYxXL"
      },
      "execution_count": null,
      "outputs": []
    },
    {
      "cell_type": "code",
      "source": [
        "df['target'] = df.tender_category.apply(lambda x: target_encoder(x))\n"
      ],
      "metadata": {
        "id": "qfy0yHmEXm0H"
      },
      "execution_count": null,
      "outputs": []
    },
    {
      "cell_type": "code",
      "source": [
        "df.tender_category.isnull().sum()"
      ],
      "metadata": {
        "colab": {
          "base_uri": "https://localhost:8080/"
        },
        "id": "aRkd2gxVaPHh",
        "outputId": "e6919b7c-fb9c-41e7-f3ff-d2cce2bc9e55"
      },
      "execution_count": null,
      "outputs": [
        {
          "output_type": "execute_result",
          "data": {
            "text/plain": [
              "0"
            ]
          },
          "metadata": {},
          "execution_count": 412
        }
      ]
    },
    {
      "cell_type": "code",
      "source": [
        "df.target.isnull().sum()"
      ],
      "metadata": {
        "colab": {
          "base_uri": "https://localhost:8080/"
        },
        "id": "uTGGjIfjlJGO",
        "outputId": "e40eb944-86d8-4c64-d971-3dd633807849"
      },
      "execution_count": null,
      "outputs": [
        {
          "output_type": "execute_result",
          "data": {
            "text/plain": [
              "0"
            ]
          },
          "metadata": {},
          "execution_count": 413
        }
      ]
    },
    {
      "cell_type": "code",
      "source": [
        "X = df['clean_text']\n",
        "y = df['target']"
      ],
      "metadata": {
        "id": "0VHXCL7gXm2N"
      },
      "execution_count": null,
      "outputs": []
    },
    {
      "cell_type": "code",
      "source": [
        "y.isnull().sum()"
      ],
      "metadata": {
        "colab": {
          "base_uri": "https://localhost:8080/"
        },
        "id": "nOU-LMV5Xm4S",
        "outputId": "c9ca4348-ae40-4be3-cd2a-f527e2edfc29"
      },
      "execution_count": null,
      "outputs": [
        {
          "output_type": "execute_result",
          "data": {
            "text/plain": [
              "0"
            ]
          },
          "metadata": {},
          "execution_count": 415
        }
      ]
    },
    {
      "cell_type": "markdown",
      "source": [
        "## import clsiification tools"
      ],
      "metadata": {
        "id": "cM0pqJp3go1c"
      }
    },
    {
      "cell_type": "code",
      "source": [
        "from imblearn.pipeline import Pipeline, make_pipeline\n",
        "from sklearn.feature_extraction.text import CountVectorizer\n",
        "from sklearn.feature_extraction.text import TfidfTransformer\n",
        "from sklearn.naive_bayes import MultinomialNB\n",
        "from sklearn.svm import LinearSVC\n",
        "from xgboost import XGBClassifier\n",
        "from sklearn.metrics import accuracy_score\n",
        "from sklearn.metrics import make_scorer\n",
        "from sklearn.metrics import f1_score\n",
        "from sklearn.model_selection import GridSearchCV"
      ],
      "metadata": {
        "id": "DbghF-cNgtmY"
      },
      "execution_count": null,
      "outputs": []
    },
    {
      "cell_type": "code",
      "source": [
        "! pip install imbalanced-learn"
      ],
      "metadata": {
        "colab": {
          "base_uri": "https://localhost:8080/"
        },
        "id": "j5X538nugtos",
        "outputId": "f9824e3e-a9a8-4421-f330-d79f014fa90e"
      },
      "execution_count": null,
      "outputs": [
        {
          "output_type": "stream",
          "name": "stdout",
          "text": [
            "Looking in indexes: https://pypi.org/simple, https://us-python.pkg.dev/colab-wheels/public/simple/\n",
            "Requirement already satisfied: imbalanced-learn in /usr/local/lib/python3.8/dist-packages (0.8.1)\n",
            "Requirement already satisfied: scipy>=0.19.1 in /usr/local/lib/python3.8/dist-packages (from imbalanced-learn) (1.10.1)\n",
            "Requirement already satisfied: scikit-learn>=0.24 in /usr/local/lib/python3.8/dist-packages (from imbalanced-learn) (1.2.1)\n",
            "Requirement already satisfied: numpy>=1.13.3 in /usr/local/lib/python3.8/dist-packages (from imbalanced-learn) (1.22.4)\n",
            "Requirement already satisfied: joblib>=0.11 in /usr/local/lib/python3.8/dist-packages (from imbalanced-learn) (1.2.0)\n",
            "Requirement already satisfied: threadpoolctl>=2.0.0 in /usr/local/lib/python3.8/dist-packages (from scikit-learn>=0.24->imbalanced-learn) (3.1.0)\n"
          ]
        }
      ]
    },
    {
      "cell_type": "code",
      "source": [
        "from imblearn.over_sampling import SMOTE"
      ],
      "metadata": {
        "id": "PUIMKxF9gtrT"
      },
      "execution_count": null,
      "outputs": []
    },
    {
      "cell_type": "code",
      "source": [
        "from sklearn.model_selection import train_test_split\n",
        "\n",
        "X_train, X_test, y_train, y_test = train_test_split(df['clean_text'],\n",
        "                               df['target'], random_state=42\n",
        ")"
      ],
      "metadata": {
        "id": "YyYfNSFCgtt7"
      },
      "execution_count": null,
      "outputs": []
    },
    {
      "cell_type": "markdown",
      "source": [
        "# Create pipeline for multiclass classification model"
      ],
      "metadata": {
        "id": "EQMzHiowXl_C"
      }
    },
    {
      "cell_type": "markdown",
      "source": [
        "## 1. multinomial NB"
      ],
      "metadata": {
        "id": "ZM3Jd2de9G43"
      }
    },
    {
      "cell_type": "code",
      "source": [
        "mnb_pipe =Pipeline([\n",
        "  ('vect', CountVectorizer()),\n",
        "   ('tfidf', TfidfTransformer()),\n",
        "   ('smote', SMOTE(random_state=30, k_neighbors=3)),\n",
        "   ('mnb', MultinomialNB())\n",
        "])\n",
        "\n",
        "mnb_params = params = [\n",
        "          {'mnb__alpha'      : [1, 10, 15, 50, 100, 200], \n",
        "           },\n",
        "]"
      ],
      "metadata": {
        "id": "4H7J-UMIbL2L"
      },
      "execution_count": null,
      "outputs": []
    },
    {
      "cell_type": "code",
      "source": [
        "mnb_grid = GridSearchCV(mnb_pipe, param_grid = mnb_params, cv = 5, \\\n",
        "                        scoring = 'f1_macro', n_jobs = -2, verbose = 1)"
      ],
      "metadata": {
        "id": "2MG6ohvm478r"
      },
      "execution_count": null,
      "outputs": []
    },
    {
      "cell_type": "code",
      "source": [
        "mnb_grid.fit(X_train, y_train)"
      ],
      "metadata": {
        "colab": {
          "base_uri": "https://localhost:8080/",
          "height": 240
        },
        "id": "1v9CYmJr6x4k",
        "outputId": "82f7150f-0008-4b18-f249-41714c7e7fd3"
      },
      "execution_count": null,
      "outputs": [
        {
          "output_type": "stream",
          "name": "stdout",
          "text": [
            "Fitting 5 folds for each of 6 candidates, totalling 30 fits\n"
          ]
        },
        {
          "output_type": "execute_result",
          "data": {
            "text/plain": [
              "GridSearchCV(cv=5,\n",
              "             estimator=Pipeline(steps=[('vect', CountVectorizer()),\n",
              "                                       ('tfidf', TfidfTransformer()),\n",
              "                                       ('smote',\n",
              "                                        SMOTE(k_neighbors=3, random_state=30)),\n",
              "                                       ('mnb', MultinomialNB())]),\n",
              "             n_jobs=-2, param_grid=[{'mnb__alpha': [1, 10, 15, 50, 100, 200]}],\n",
              "             scoring='f1_macro', verbose=1)"
            ],
            "text/html": [
              "<style>#sk-container-id-24 {color: black;background-color: white;}#sk-container-id-24 pre{padding: 0;}#sk-container-id-24 div.sk-toggleable {background-color: white;}#sk-container-id-24 label.sk-toggleable__label {cursor: pointer;display: block;width: 100%;margin-bottom: 0;padding: 0.3em;box-sizing: border-box;text-align: center;}#sk-container-id-24 label.sk-toggleable__label-arrow:before {content: \"▸\";float: left;margin-right: 0.25em;color: #696969;}#sk-container-id-24 label.sk-toggleable__label-arrow:hover:before {color: black;}#sk-container-id-24 div.sk-estimator:hover label.sk-toggleable__label-arrow:before {color: black;}#sk-container-id-24 div.sk-toggleable__content {max-height: 0;max-width: 0;overflow: hidden;text-align: left;background-color: #f0f8ff;}#sk-container-id-24 div.sk-toggleable__content pre {margin: 0.2em;color: black;border-radius: 0.25em;background-color: #f0f8ff;}#sk-container-id-24 input.sk-toggleable__control:checked~div.sk-toggleable__content {max-height: 200px;max-width: 100%;overflow: auto;}#sk-container-id-24 input.sk-toggleable__control:checked~label.sk-toggleable__label-arrow:before {content: \"▾\";}#sk-container-id-24 div.sk-estimator input.sk-toggleable__control:checked~label.sk-toggleable__label {background-color: #d4ebff;}#sk-container-id-24 div.sk-label input.sk-toggleable__control:checked~label.sk-toggleable__label {background-color: #d4ebff;}#sk-container-id-24 input.sk-hidden--visually {border: 0;clip: rect(1px 1px 1px 1px);clip: rect(1px, 1px, 1px, 1px);height: 1px;margin: -1px;overflow: hidden;padding: 0;position: absolute;width: 1px;}#sk-container-id-24 div.sk-estimator {font-family: monospace;background-color: #f0f8ff;border: 1px dotted black;border-radius: 0.25em;box-sizing: border-box;margin-bottom: 0.5em;}#sk-container-id-24 div.sk-estimator:hover {background-color: #d4ebff;}#sk-container-id-24 div.sk-parallel-item::after {content: \"\";width: 100%;border-bottom: 1px solid gray;flex-grow: 1;}#sk-container-id-24 div.sk-label:hover label.sk-toggleable__label {background-color: #d4ebff;}#sk-container-id-24 div.sk-serial::before {content: \"\";position: absolute;border-left: 1px solid gray;box-sizing: border-box;top: 0;bottom: 0;left: 50%;z-index: 0;}#sk-container-id-24 div.sk-serial {display: flex;flex-direction: column;align-items: center;background-color: white;padding-right: 0.2em;padding-left: 0.2em;position: relative;}#sk-container-id-24 div.sk-item {position: relative;z-index: 1;}#sk-container-id-24 div.sk-parallel {display: flex;align-items: stretch;justify-content: center;background-color: white;position: relative;}#sk-container-id-24 div.sk-item::before, #sk-container-id-24 div.sk-parallel-item::before {content: \"\";position: absolute;border-left: 1px solid gray;box-sizing: border-box;top: 0;bottom: 0;left: 50%;z-index: -1;}#sk-container-id-24 div.sk-parallel-item {display: flex;flex-direction: column;z-index: 1;position: relative;background-color: white;}#sk-container-id-24 div.sk-parallel-item:first-child::after {align-self: flex-end;width: 50%;}#sk-container-id-24 div.sk-parallel-item:last-child::after {align-self: flex-start;width: 50%;}#sk-container-id-24 div.sk-parallel-item:only-child::after {width: 0;}#sk-container-id-24 div.sk-dashed-wrapped {border: 1px dashed gray;margin: 0 0.4em 0.5em 0.4em;box-sizing: border-box;padding-bottom: 0.4em;background-color: white;}#sk-container-id-24 div.sk-label label {font-family: monospace;font-weight: bold;display: inline-block;line-height: 1.2em;}#sk-container-id-24 div.sk-label-container {text-align: center;}#sk-container-id-24 div.sk-container {/* jupyter's `normalize.less` sets `[hidden] { display: none; }` but bootstrap.min.css set `[hidden] { display: none !important; }` so we also need the `!important` here to be able to override the default hidden behavior on the sphinx rendered scikit-learn.org. See: https://github.com/scikit-learn/scikit-learn/issues/21755 */display: inline-block !important;position: relative;}#sk-container-id-24 div.sk-text-repr-fallback {display: none;}</style><div id=\"sk-container-id-24\" class=\"sk-top-container\"><div class=\"sk-text-repr-fallback\"><pre>GridSearchCV(cv=5,\n",
              "             estimator=Pipeline(steps=[(&#x27;vect&#x27;, CountVectorizer()),\n",
              "                                       (&#x27;tfidf&#x27;, TfidfTransformer()),\n",
              "                                       (&#x27;smote&#x27;,\n",
              "                                        SMOTE(k_neighbors=3, random_state=30)),\n",
              "                                       (&#x27;mnb&#x27;, MultinomialNB())]),\n",
              "             n_jobs=-2, param_grid=[{&#x27;mnb__alpha&#x27;: [1, 10, 15, 50, 100, 200]}],\n",
              "             scoring=&#x27;f1_macro&#x27;, verbose=1)</pre><b>In a Jupyter environment, please rerun this cell to show the HTML representation or trust the notebook. <br />On GitHub, the HTML representation is unable to render, please try loading this page with nbviewer.org.</b></div><div class=\"sk-container\" hidden><div class=\"sk-item sk-dashed-wrapped\"><div class=\"sk-label-container\"><div class=\"sk-label sk-toggleable\"><input class=\"sk-toggleable__control sk-hidden--visually\" id=\"sk-estimator-id-131\" type=\"checkbox\" ><label for=\"sk-estimator-id-131\" class=\"sk-toggleable__label sk-toggleable__label-arrow\">GridSearchCV</label><div class=\"sk-toggleable__content\"><pre>GridSearchCV(cv=5,\n",
              "             estimator=Pipeline(steps=[(&#x27;vect&#x27;, CountVectorizer()),\n",
              "                                       (&#x27;tfidf&#x27;, TfidfTransformer()),\n",
              "                                       (&#x27;smote&#x27;,\n",
              "                                        SMOTE(k_neighbors=3, random_state=30)),\n",
              "                                       (&#x27;mnb&#x27;, MultinomialNB())]),\n",
              "             n_jobs=-2, param_grid=[{&#x27;mnb__alpha&#x27;: [1, 10, 15, 50, 100, 200]}],\n",
              "             scoring=&#x27;f1_macro&#x27;, verbose=1)</pre></div></div></div><div class=\"sk-parallel\"><div class=\"sk-parallel-item\"><div class=\"sk-item\"><div class=\"sk-label-container\"><div class=\"sk-label sk-toggleable\"><input class=\"sk-toggleable__control sk-hidden--visually\" id=\"sk-estimator-id-132\" type=\"checkbox\" ><label for=\"sk-estimator-id-132\" class=\"sk-toggleable__label sk-toggleable__label-arrow\">estimator: Pipeline</label><div class=\"sk-toggleable__content\"><pre>Pipeline(steps=[(&#x27;vect&#x27;, CountVectorizer()), (&#x27;tfidf&#x27;, TfidfTransformer()),\n",
              "                (&#x27;smote&#x27;, SMOTE(k_neighbors=3, random_state=30)),\n",
              "                (&#x27;mnb&#x27;, MultinomialNB())])</pre></div></div></div><div class=\"sk-serial\"><div class=\"sk-item\"><div class=\"sk-serial\"><div class=\"sk-item\"><div class=\"sk-estimator sk-toggleable\"><input class=\"sk-toggleable__control sk-hidden--visually\" id=\"sk-estimator-id-133\" type=\"checkbox\" ><label for=\"sk-estimator-id-133\" class=\"sk-toggleable__label sk-toggleable__label-arrow\">CountVectorizer</label><div class=\"sk-toggleable__content\"><pre>CountVectorizer()</pre></div></div></div><div class=\"sk-item\"><div class=\"sk-estimator sk-toggleable\"><input class=\"sk-toggleable__control sk-hidden--visually\" id=\"sk-estimator-id-134\" type=\"checkbox\" ><label for=\"sk-estimator-id-134\" class=\"sk-toggleable__label sk-toggleable__label-arrow\">TfidfTransformer</label><div class=\"sk-toggleable__content\"><pre>TfidfTransformer()</pre></div></div></div><div class=\"sk-item\"><div class=\"sk-estimator sk-toggleable\"><input class=\"sk-toggleable__control sk-hidden--visually\" id=\"sk-estimator-id-135\" type=\"checkbox\" ><label for=\"sk-estimator-id-135\" class=\"sk-toggleable__label sk-toggleable__label-arrow\">SMOTE</label><div class=\"sk-toggleable__content\"><pre>SMOTE(k_neighbors=3, random_state=30)</pre></div></div></div><div class=\"sk-item\"><div class=\"sk-estimator sk-toggleable\"><input class=\"sk-toggleable__control sk-hidden--visually\" id=\"sk-estimator-id-136\" type=\"checkbox\" ><label for=\"sk-estimator-id-136\" class=\"sk-toggleable__label sk-toggleable__label-arrow\">MultinomialNB</label><div class=\"sk-toggleable__content\"><pre>MultinomialNB()</pre></div></div></div></div></div></div></div></div></div></div></div></div>"
            ]
          },
          "metadata": {},
          "execution_count": 422
        }
      ]
    },
    {
      "cell_type": "code",
      "source": [
        "mnb_grid.best_score_"
      ],
      "metadata": {
        "colab": {
          "base_uri": "https://localhost:8080/"
        },
        "id": "sn6T6zRx7NjY",
        "outputId": "69dde362-6064-4c99-cbc5-4023e3d98505"
      },
      "execution_count": null,
      "outputs": [
        {
          "output_type": "execute_result",
          "data": {
            "text/plain": [
              "0.6314162895927601"
            ]
          },
          "metadata": {},
          "execution_count": 423
        }
      ]
    },
    {
      "cell_type": "code",
      "source": [
        "mnb_grid.best_params_"
      ],
      "metadata": {
        "colab": {
          "base_uri": "https://localhost:8080/"
        },
        "id": "QtRiF0mu7Umr",
        "outputId": "d79cdbf2-4a27-49b8-bc73-e2eda1bd8a65"
      },
      "execution_count": null,
      "outputs": [
        {
          "output_type": "execute_result",
          "data": {
            "text/plain": [
              "{'mnb__alpha': 10}"
            ]
          },
          "metadata": {},
          "execution_count": 424
        }
      ]
    },
    {
      "cell_type": "code",
      "source": [
        "textclassifier.get_params().keys()"
      ],
      "metadata": {
        "colab": {
          "base_uri": "https://localhost:8080/"
        },
        "id": "VnBhR8rU3tWS",
        "outputId": "d7094a6e-d420-4e70-e3c3-7716b6660bf5"
      },
      "execution_count": null,
      "outputs": [
        {
          "output_type": "execute_result",
          "data": {
            "text/plain": [
              "dict_keys(['memory', 'steps', 'verbose', 'vect', 'tfidf', 'smote', 'mnb', 'vect__analyzer', 'vect__binary', 'vect__decode_error', 'vect__dtype', 'vect__encoding', 'vect__input', 'vect__lowercase', 'vect__max_df', 'vect__max_features', 'vect__min_df', 'vect__ngram_range', 'vect__preprocessor', 'vect__stop_words', 'vect__strip_accents', 'vect__token_pattern', 'vect__tokenizer', 'vect__vocabulary', 'tfidf__norm', 'tfidf__smooth_idf', 'tfidf__sublinear_tf', 'tfidf__use_idf', 'smote__k_neighbors', 'smote__n_jobs', 'smote__random_state', 'smote__sampling_strategy', 'mnb__alpha', 'mnb__class_prior', 'mnb__fit_prior', 'mnb__force_alpha'])"
            ]
          },
          "metadata": {},
          "execution_count": 425
        }
      ]
    },
    {
      "cell_type": "code",
      "source": [
        "mnb_final = Pipeline([\n",
        "  ('vect', CountVectorizer()),\n",
        "   ('tfidf', TfidfTransformer()),\n",
        "   ('smote', SMOTE(random_state=30, k_neighbors=3)),\n",
        "   ('mnb', MultinomialNB(alpha = 10))\n",
        "])\n"
      ],
      "metadata": {
        "id": "jV9nF5tnkvZb"
      },
      "execution_count": null,
      "outputs": []
    },
    {
      "cell_type": "code",
      "source": [
        "mnb_final.fit(X_train, y_train)"
      ],
      "metadata": {
        "colab": {
          "base_uri": "https://localhost:8080/",
          "height": 196
        },
        "id": "v6begUpCmYoH",
        "outputId": "99e3f48a-e4de-4db1-94c1-79c77a5836cc"
      },
      "execution_count": null,
      "outputs": [
        {
          "output_type": "execute_result",
          "data": {
            "text/plain": [
              "Pipeline(steps=[('vect', CountVectorizer()), ('tfidf', TfidfTransformer()),\n",
              "                ('smote', SMOTE(k_neighbors=3, random_state=30)),\n",
              "                ('mnb', MultinomialNB(alpha=10))])"
            ],
            "text/html": [
              "<style>#sk-container-id-25 {color: black;background-color: white;}#sk-container-id-25 pre{padding: 0;}#sk-container-id-25 div.sk-toggleable {background-color: white;}#sk-container-id-25 label.sk-toggleable__label {cursor: pointer;display: block;width: 100%;margin-bottom: 0;padding: 0.3em;box-sizing: border-box;text-align: center;}#sk-container-id-25 label.sk-toggleable__label-arrow:before {content: \"▸\";float: left;margin-right: 0.25em;color: #696969;}#sk-container-id-25 label.sk-toggleable__label-arrow:hover:before {color: black;}#sk-container-id-25 div.sk-estimator:hover label.sk-toggleable__label-arrow:before {color: black;}#sk-container-id-25 div.sk-toggleable__content {max-height: 0;max-width: 0;overflow: hidden;text-align: left;background-color: #f0f8ff;}#sk-container-id-25 div.sk-toggleable__content pre {margin: 0.2em;color: black;border-radius: 0.25em;background-color: #f0f8ff;}#sk-container-id-25 input.sk-toggleable__control:checked~div.sk-toggleable__content {max-height: 200px;max-width: 100%;overflow: auto;}#sk-container-id-25 input.sk-toggleable__control:checked~label.sk-toggleable__label-arrow:before {content: \"▾\";}#sk-container-id-25 div.sk-estimator input.sk-toggleable__control:checked~label.sk-toggleable__label {background-color: #d4ebff;}#sk-container-id-25 div.sk-label input.sk-toggleable__control:checked~label.sk-toggleable__label {background-color: #d4ebff;}#sk-container-id-25 input.sk-hidden--visually {border: 0;clip: rect(1px 1px 1px 1px);clip: rect(1px, 1px, 1px, 1px);height: 1px;margin: -1px;overflow: hidden;padding: 0;position: absolute;width: 1px;}#sk-container-id-25 div.sk-estimator {font-family: monospace;background-color: #f0f8ff;border: 1px dotted black;border-radius: 0.25em;box-sizing: border-box;margin-bottom: 0.5em;}#sk-container-id-25 div.sk-estimator:hover {background-color: #d4ebff;}#sk-container-id-25 div.sk-parallel-item::after {content: \"\";width: 100%;border-bottom: 1px solid gray;flex-grow: 1;}#sk-container-id-25 div.sk-label:hover label.sk-toggleable__label {background-color: #d4ebff;}#sk-container-id-25 div.sk-serial::before {content: \"\";position: absolute;border-left: 1px solid gray;box-sizing: border-box;top: 0;bottom: 0;left: 50%;z-index: 0;}#sk-container-id-25 div.sk-serial {display: flex;flex-direction: column;align-items: center;background-color: white;padding-right: 0.2em;padding-left: 0.2em;position: relative;}#sk-container-id-25 div.sk-item {position: relative;z-index: 1;}#sk-container-id-25 div.sk-parallel {display: flex;align-items: stretch;justify-content: center;background-color: white;position: relative;}#sk-container-id-25 div.sk-item::before, #sk-container-id-25 div.sk-parallel-item::before {content: \"\";position: absolute;border-left: 1px solid gray;box-sizing: border-box;top: 0;bottom: 0;left: 50%;z-index: -1;}#sk-container-id-25 div.sk-parallel-item {display: flex;flex-direction: column;z-index: 1;position: relative;background-color: white;}#sk-container-id-25 div.sk-parallel-item:first-child::after {align-self: flex-end;width: 50%;}#sk-container-id-25 div.sk-parallel-item:last-child::after {align-self: flex-start;width: 50%;}#sk-container-id-25 div.sk-parallel-item:only-child::after {width: 0;}#sk-container-id-25 div.sk-dashed-wrapped {border: 1px dashed gray;margin: 0 0.4em 0.5em 0.4em;box-sizing: border-box;padding-bottom: 0.4em;background-color: white;}#sk-container-id-25 div.sk-label label {font-family: monospace;font-weight: bold;display: inline-block;line-height: 1.2em;}#sk-container-id-25 div.sk-label-container {text-align: center;}#sk-container-id-25 div.sk-container {/* jupyter's `normalize.less` sets `[hidden] { display: none; }` but bootstrap.min.css set `[hidden] { display: none !important; }` so we also need the `!important` here to be able to override the default hidden behavior on the sphinx rendered scikit-learn.org. See: https://github.com/scikit-learn/scikit-learn/issues/21755 */display: inline-block !important;position: relative;}#sk-container-id-25 div.sk-text-repr-fallback {display: none;}</style><div id=\"sk-container-id-25\" class=\"sk-top-container\"><div class=\"sk-text-repr-fallback\"><pre>Pipeline(steps=[(&#x27;vect&#x27;, CountVectorizer()), (&#x27;tfidf&#x27;, TfidfTransformer()),\n",
              "                (&#x27;smote&#x27;, SMOTE(k_neighbors=3, random_state=30)),\n",
              "                (&#x27;mnb&#x27;, MultinomialNB(alpha=10))])</pre><b>In a Jupyter environment, please rerun this cell to show the HTML representation or trust the notebook. <br />On GitHub, the HTML representation is unable to render, please try loading this page with nbviewer.org.</b></div><div class=\"sk-container\" hidden><div class=\"sk-item sk-dashed-wrapped\"><div class=\"sk-label-container\"><div class=\"sk-label sk-toggleable\"><input class=\"sk-toggleable__control sk-hidden--visually\" id=\"sk-estimator-id-137\" type=\"checkbox\" ><label for=\"sk-estimator-id-137\" class=\"sk-toggleable__label sk-toggleable__label-arrow\">Pipeline</label><div class=\"sk-toggleable__content\"><pre>Pipeline(steps=[(&#x27;vect&#x27;, CountVectorizer()), (&#x27;tfidf&#x27;, TfidfTransformer()),\n",
              "                (&#x27;smote&#x27;, SMOTE(k_neighbors=3, random_state=30)),\n",
              "                (&#x27;mnb&#x27;, MultinomialNB(alpha=10))])</pre></div></div></div><div class=\"sk-serial\"><div class=\"sk-item\"><div class=\"sk-estimator sk-toggleable\"><input class=\"sk-toggleable__control sk-hidden--visually\" id=\"sk-estimator-id-138\" type=\"checkbox\" ><label for=\"sk-estimator-id-138\" class=\"sk-toggleable__label sk-toggleable__label-arrow\">CountVectorizer</label><div class=\"sk-toggleable__content\"><pre>CountVectorizer()</pre></div></div></div><div class=\"sk-item\"><div class=\"sk-estimator sk-toggleable\"><input class=\"sk-toggleable__control sk-hidden--visually\" id=\"sk-estimator-id-139\" type=\"checkbox\" ><label for=\"sk-estimator-id-139\" class=\"sk-toggleable__label sk-toggleable__label-arrow\">TfidfTransformer</label><div class=\"sk-toggleable__content\"><pre>TfidfTransformer()</pre></div></div></div><div class=\"sk-item\"><div class=\"sk-estimator sk-toggleable\"><input class=\"sk-toggleable__control sk-hidden--visually\" id=\"sk-estimator-id-140\" type=\"checkbox\" ><label for=\"sk-estimator-id-140\" class=\"sk-toggleable__label sk-toggleable__label-arrow\">SMOTE</label><div class=\"sk-toggleable__content\"><pre>SMOTE(k_neighbors=3, random_state=30)</pre></div></div></div><div class=\"sk-item\"><div class=\"sk-estimator sk-toggleable\"><input class=\"sk-toggleable__control sk-hidden--visually\" id=\"sk-estimator-id-141\" type=\"checkbox\" ><label for=\"sk-estimator-id-141\" class=\"sk-toggleable__label sk-toggleable__label-arrow\">MultinomialNB</label><div class=\"sk-toggleable__content\"><pre>MultinomialNB(alpha=10)</pre></div></div></div></div></div></div></div>"
            ]
          },
          "metadata": {},
          "execution_count": 427
        }
      ]
    },
    {
      "cell_type": "code",
      "source": [
        "y_pred = mnb_final.predict(X_test)"
      ],
      "metadata": {
        "id": "NumXlPe9mPJD"
      },
      "execution_count": null,
      "outputs": []
    },
    {
      "cell_type": "code",
      "source": [
        "mnb_score = f1_score(y_pred, y_test, average = 'macro')"
      ],
      "metadata": {
        "id": "kLmuGVA5mvq0"
      },
      "execution_count": null,
      "outputs": []
    },
    {
      "cell_type": "code",
      "source": [
        "mnb_score"
      ],
      "metadata": {
        "colab": {
          "base_uri": "https://localhost:8080/"
        },
        "id": "UFQiO2LpnVrL",
        "outputId": "57963b29-0b79-433e-b775-8b44c631140c"
      },
      "execution_count": null,
      "outputs": [
        {
          "output_type": "execute_result",
          "data": {
            "text/plain": [
              "0.6529971988795518"
            ]
          },
          "metadata": {},
          "execution_count": 430
        }
      ]
    },
    {
      "cell_type": "code",
      "source": [
        "mnb_accu = accuracy_score(y_pred, y_test)\n",
        "mnb_accu"
      ],
      "metadata": {
        "colab": {
          "base_uri": "https://localhost:8080/"
        },
        "id": "Us2YBqFsLgcw",
        "outputId": "4b964b61-2312-4a9d-9bfe-19f0c8050e54"
      },
      "execution_count": null,
      "outputs": [
        {
          "output_type": "execute_result",
          "data": {
            "text/plain": [
              "0.88"
            ]
          },
          "metadata": {},
          "execution_count": 431
        }
      ]
    },
    {
      "cell_type": "markdown",
      "source": [
        "## 2. Linear SVC"
      ],
      "metadata": {
        "id": "sxI5jok69NR9"
      }
    },
    {
      "cell_type": "code",
      "source": [
        "svc_pipe =Pipeline([\n",
        "  ('vect', CountVectorizer()),\n",
        "   ('tfidf', TfidfTransformer()),\n",
        "   ('smote', SMOTE(random_state=30, k_neighbors=3)),\n",
        "   ('svc', LinearSVC(max_iter = 10000))\n",
        "])\n",
        "\n",
        "svc_params = params = [\n",
        "          {'smote__k_neighbors': [1, 2, 3],\n",
        "           'svc__C'      : [0.00005, 0.0001, 0.0005, 0.001, 0.01, 0.1], \n",
        "           'svc__multi_class': ['ovr', 'crammer_singer']\n",
        "           },\n",
        "]"
      ],
      "metadata": {
        "id": "eX3st5aR9SqO"
      },
      "execution_count": null,
      "outputs": []
    },
    {
      "cell_type": "code",
      "source": [
        "svc_pipe.get_params().keys()"
      ],
      "metadata": {
        "colab": {
          "base_uri": "https://localhost:8080/"
        },
        "id": "NDgymBZn9Ssz",
        "outputId": "44b883e9-c130-4693-8fa7-3ee1f2885790"
      },
      "execution_count": null,
      "outputs": [
        {
          "output_type": "execute_result",
          "data": {
            "text/plain": [
              "dict_keys(['memory', 'steps', 'verbose', 'vect', 'tfidf', 'smote', 'svc', 'vect__analyzer', 'vect__binary', 'vect__decode_error', 'vect__dtype', 'vect__encoding', 'vect__input', 'vect__lowercase', 'vect__max_df', 'vect__max_features', 'vect__min_df', 'vect__ngram_range', 'vect__preprocessor', 'vect__stop_words', 'vect__strip_accents', 'vect__token_pattern', 'vect__tokenizer', 'vect__vocabulary', 'tfidf__norm', 'tfidf__smooth_idf', 'tfidf__sublinear_tf', 'tfidf__use_idf', 'smote__k_neighbors', 'smote__n_jobs', 'smote__random_state', 'smote__sampling_strategy', 'svc__C', 'svc__class_weight', 'svc__dual', 'svc__fit_intercept', 'svc__intercept_scaling', 'svc__loss', 'svc__max_iter', 'svc__multi_class', 'svc__penalty', 'svc__random_state', 'svc__tol', 'svc__verbose'])"
            ]
          },
          "metadata": {},
          "execution_count": 433
        }
      ]
    },
    {
      "cell_type": "code",
      "source": [
        "svc_grid = GridSearchCV(svc_pipe, param_grid = svc_params, cv = 5, \\\n",
        "                        scoring = 'f1_macro', n_jobs = -2, verbose = 1)"
      ],
      "metadata": {
        "id": "XaumsYFE-0s-"
      },
      "execution_count": null,
      "outputs": []
    },
    {
      "cell_type": "code",
      "source": [
        "svc_grid.fit(X_train, y_train)"
      ],
      "metadata": {
        "colab": {
          "base_uri": "https://localhost:8080/",
          "height": 240
        },
        "id": "bIRyIxmg9Svl",
        "outputId": "b2771d59-517e-4805-847b-825d88456435"
      },
      "execution_count": null,
      "outputs": [
        {
          "output_type": "stream",
          "name": "stdout",
          "text": [
            "Fitting 5 folds for each of 36 candidates, totalling 180 fits\n"
          ]
        },
        {
          "output_type": "execute_result",
          "data": {
            "text/plain": [
              "GridSearchCV(cv=5,\n",
              "             estimator=Pipeline(steps=[('vect', CountVectorizer()),\n",
              "                                       ('tfidf', TfidfTransformer()),\n",
              "                                       ('smote',\n",
              "                                        SMOTE(k_neighbors=3, random_state=30)),\n",
              "                                       ('svc', LinearSVC(max_iter=10000))]),\n",
              "             n_jobs=-2,\n",
              "             param_grid=[{'smote__k_neighbors': [1, 2, 3],\n",
              "                          'svc__C': [5e-05, 0.0001, 0.0005, 0.001, 0.01, 0.1],\n",
              "                          'svc__multi_class': ['ovr', 'crammer_singer']}],\n",
              "             scoring='f1_macro', verbose=1)"
            ],
            "text/html": [
              "<style>#sk-container-id-26 {color: black;background-color: white;}#sk-container-id-26 pre{padding: 0;}#sk-container-id-26 div.sk-toggleable {background-color: white;}#sk-container-id-26 label.sk-toggleable__label {cursor: pointer;display: block;width: 100%;margin-bottom: 0;padding: 0.3em;box-sizing: border-box;text-align: center;}#sk-container-id-26 label.sk-toggleable__label-arrow:before {content: \"▸\";float: left;margin-right: 0.25em;color: #696969;}#sk-container-id-26 label.sk-toggleable__label-arrow:hover:before {color: black;}#sk-container-id-26 div.sk-estimator:hover label.sk-toggleable__label-arrow:before {color: black;}#sk-container-id-26 div.sk-toggleable__content {max-height: 0;max-width: 0;overflow: hidden;text-align: left;background-color: #f0f8ff;}#sk-container-id-26 div.sk-toggleable__content pre {margin: 0.2em;color: black;border-radius: 0.25em;background-color: #f0f8ff;}#sk-container-id-26 input.sk-toggleable__control:checked~div.sk-toggleable__content {max-height: 200px;max-width: 100%;overflow: auto;}#sk-container-id-26 input.sk-toggleable__control:checked~label.sk-toggleable__label-arrow:before {content: \"▾\";}#sk-container-id-26 div.sk-estimator input.sk-toggleable__control:checked~label.sk-toggleable__label {background-color: #d4ebff;}#sk-container-id-26 div.sk-label input.sk-toggleable__control:checked~label.sk-toggleable__label {background-color: #d4ebff;}#sk-container-id-26 input.sk-hidden--visually {border: 0;clip: rect(1px 1px 1px 1px);clip: rect(1px, 1px, 1px, 1px);height: 1px;margin: -1px;overflow: hidden;padding: 0;position: absolute;width: 1px;}#sk-container-id-26 div.sk-estimator {font-family: monospace;background-color: #f0f8ff;border: 1px dotted black;border-radius: 0.25em;box-sizing: border-box;margin-bottom: 0.5em;}#sk-container-id-26 div.sk-estimator:hover {background-color: #d4ebff;}#sk-container-id-26 div.sk-parallel-item::after {content: \"\";width: 100%;border-bottom: 1px solid gray;flex-grow: 1;}#sk-container-id-26 div.sk-label:hover label.sk-toggleable__label {background-color: #d4ebff;}#sk-container-id-26 div.sk-serial::before {content: \"\";position: absolute;border-left: 1px solid gray;box-sizing: border-box;top: 0;bottom: 0;left: 50%;z-index: 0;}#sk-container-id-26 div.sk-serial {display: flex;flex-direction: column;align-items: center;background-color: white;padding-right: 0.2em;padding-left: 0.2em;position: relative;}#sk-container-id-26 div.sk-item {position: relative;z-index: 1;}#sk-container-id-26 div.sk-parallel {display: flex;align-items: stretch;justify-content: center;background-color: white;position: relative;}#sk-container-id-26 div.sk-item::before, #sk-container-id-26 div.sk-parallel-item::before {content: \"\";position: absolute;border-left: 1px solid gray;box-sizing: border-box;top: 0;bottom: 0;left: 50%;z-index: -1;}#sk-container-id-26 div.sk-parallel-item {display: flex;flex-direction: column;z-index: 1;position: relative;background-color: white;}#sk-container-id-26 div.sk-parallel-item:first-child::after {align-self: flex-end;width: 50%;}#sk-container-id-26 div.sk-parallel-item:last-child::after {align-self: flex-start;width: 50%;}#sk-container-id-26 div.sk-parallel-item:only-child::after {width: 0;}#sk-container-id-26 div.sk-dashed-wrapped {border: 1px dashed gray;margin: 0 0.4em 0.5em 0.4em;box-sizing: border-box;padding-bottom: 0.4em;background-color: white;}#sk-container-id-26 div.sk-label label {font-family: monospace;font-weight: bold;display: inline-block;line-height: 1.2em;}#sk-container-id-26 div.sk-label-container {text-align: center;}#sk-container-id-26 div.sk-container {/* jupyter's `normalize.less` sets `[hidden] { display: none; }` but bootstrap.min.css set `[hidden] { display: none !important; }` so we also need the `!important` here to be able to override the default hidden behavior on the sphinx rendered scikit-learn.org. See: https://github.com/scikit-learn/scikit-learn/issues/21755 */display: inline-block !important;position: relative;}#sk-container-id-26 div.sk-text-repr-fallback {display: none;}</style><div id=\"sk-container-id-26\" class=\"sk-top-container\"><div class=\"sk-text-repr-fallback\"><pre>GridSearchCV(cv=5,\n",
              "             estimator=Pipeline(steps=[(&#x27;vect&#x27;, CountVectorizer()),\n",
              "                                       (&#x27;tfidf&#x27;, TfidfTransformer()),\n",
              "                                       (&#x27;smote&#x27;,\n",
              "                                        SMOTE(k_neighbors=3, random_state=30)),\n",
              "                                       (&#x27;svc&#x27;, LinearSVC(max_iter=10000))]),\n",
              "             n_jobs=-2,\n",
              "             param_grid=[{&#x27;smote__k_neighbors&#x27;: [1, 2, 3],\n",
              "                          &#x27;svc__C&#x27;: [5e-05, 0.0001, 0.0005, 0.001, 0.01, 0.1],\n",
              "                          &#x27;svc__multi_class&#x27;: [&#x27;ovr&#x27;, &#x27;crammer_singer&#x27;]}],\n",
              "             scoring=&#x27;f1_macro&#x27;, verbose=1)</pre><b>In a Jupyter environment, please rerun this cell to show the HTML representation or trust the notebook. <br />On GitHub, the HTML representation is unable to render, please try loading this page with nbviewer.org.</b></div><div class=\"sk-container\" hidden><div class=\"sk-item sk-dashed-wrapped\"><div class=\"sk-label-container\"><div class=\"sk-label sk-toggleable\"><input class=\"sk-toggleable__control sk-hidden--visually\" id=\"sk-estimator-id-142\" type=\"checkbox\" ><label for=\"sk-estimator-id-142\" class=\"sk-toggleable__label sk-toggleable__label-arrow\">GridSearchCV</label><div class=\"sk-toggleable__content\"><pre>GridSearchCV(cv=5,\n",
              "             estimator=Pipeline(steps=[(&#x27;vect&#x27;, CountVectorizer()),\n",
              "                                       (&#x27;tfidf&#x27;, TfidfTransformer()),\n",
              "                                       (&#x27;smote&#x27;,\n",
              "                                        SMOTE(k_neighbors=3, random_state=30)),\n",
              "                                       (&#x27;svc&#x27;, LinearSVC(max_iter=10000))]),\n",
              "             n_jobs=-2,\n",
              "             param_grid=[{&#x27;smote__k_neighbors&#x27;: [1, 2, 3],\n",
              "                          &#x27;svc__C&#x27;: [5e-05, 0.0001, 0.0005, 0.001, 0.01, 0.1],\n",
              "                          &#x27;svc__multi_class&#x27;: [&#x27;ovr&#x27;, &#x27;crammer_singer&#x27;]}],\n",
              "             scoring=&#x27;f1_macro&#x27;, verbose=1)</pre></div></div></div><div class=\"sk-parallel\"><div class=\"sk-parallel-item\"><div class=\"sk-item\"><div class=\"sk-label-container\"><div class=\"sk-label sk-toggleable\"><input class=\"sk-toggleable__control sk-hidden--visually\" id=\"sk-estimator-id-143\" type=\"checkbox\" ><label for=\"sk-estimator-id-143\" class=\"sk-toggleable__label sk-toggleable__label-arrow\">estimator: Pipeline</label><div class=\"sk-toggleable__content\"><pre>Pipeline(steps=[(&#x27;vect&#x27;, CountVectorizer()), (&#x27;tfidf&#x27;, TfidfTransformer()),\n",
              "                (&#x27;smote&#x27;, SMOTE(k_neighbors=3, random_state=30)),\n",
              "                (&#x27;svc&#x27;, LinearSVC(max_iter=10000))])</pre></div></div></div><div class=\"sk-serial\"><div class=\"sk-item\"><div class=\"sk-serial\"><div class=\"sk-item\"><div class=\"sk-estimator sk-toggleable\"><input class=\"sk-toggleable__control sk-hidden--visually\" id=\"sk-estimator-id-144\" type=\"checkbox\" ><label for=\"sk-estimator-id-144\" class=\"sk-toggleable__label sk-toggleable__label-arrow\">CountVectorizer</label><div class=\"sk-toggleable__content\"><pre>CountVectorizer()</pre></div></div></div><div class=\"sk-item\"><div class=\"sk-estimator sk-toggleable\"><input class=\"sk-toggleable__control sk-hidden--visually\" id=\"sk-estimator-id-145\" type=\"checkbox\" ><label for=\"sk-estimator-id-145\" class=\"sk-toggleable__label sk-toggleable__label-arrow\">TfidfTransformer</label><div class=\"sk-toggleable__content\"><pre>TfidfTransformer()</pre></div></div></div><div class=\"sk-item\"><div class=\"sk-estimator sk-toggleable\"><input class=\"sk-toggleable__control sk-hidden--visually\" id=\"sk-estimator-id-146\" type=\"checkbox\" ><label for=\"sk-estimator-id-146\" class=\"sk-toggleable__label sk-toggleable__label-arrow\">SMOTE</label><div class=\"sk-toggleable__content\"><pre>SMOTE(k_neighbors=3, random_state=30)</pre></div></div></div><div class=\"sk-item\"><div class=\"sk-estimator sk-toggleable\"><input class=\"sk-toggleable__control sk-hidden--visually\" id=\"sk-estimator-id-147\" type=\"checkbox\" ><label for=\"sk-estimator-id-147\" class=\"sk-toggleable__label sk-toggleable__label-arrow\">LinearSVC</label><div class=\"sk-toggleable__content\"><pre>LinearSVC(max_iter=10000)</pre></div></div></div></div></div></div></div></div></div></div></div></div>"
            ]
          },
          "metadata": {},
          "execution_count": 435
        }
      ]
    },
    {
      "cell_type": "code",
      "source": [
        "svc_grid.best_score_"
      ],
      "metadata": {
        "colab": {
          "base_uri": "https://localhost:8080/"
        },
        "id": "2J86zbo99SyA",
        "outputId": "90f8afe4-cf5a-410d-c3be-73473078c276"
      },
      "execution_count": null,
      "outputs": [
        {
          "output_type": "execute_result",
          "data": {
            "text/plain": [
              "0.6515470085470085"
            ]
          },
          "metadata": {},
          "execution_count": 437
        }
      ]
    },
    {
      "cell_type": "code",
      "source": [
        "svc_grid.best_params_"
      ],
      "metadata": {
        "colab": {
          "base_uri": "https://localhost:8080/"
        },
        "id": "BSMgScvd9S0G",
        "outputId": "f1b30f6d-db31-4d21-8656-644dbdb9a0ed"
      },
      "execution_count": null,
      "outputs": [
        {
          "output_type": "execute_result",
          "data": {
            "text/plain": [
              "{'smote__k_neighbors': 3,\n",
              " 'svc__C': 5e-05,\n",
              " 'svc__multi_class': 'crammer_singer'}"
            ]
          },
          "metadata": {},
          "execution_count": 436
        }
      ]
    },
    {
      "cell_type": "code",
      "source": [
        "svc_final = mnb_final = Pipeline([\n",
        "  ('vect', CountVectorizer()),\n",
        "   ('tfidf', TfidfTransformer()),\n",
        "   ('smote', SMOTE(random_state=30, k_neighbors=3)),\n",
        "   ('svc', LinearSVC(max_iter = 10000, C = 0.00005, multi_class = 'crammer_singer'))\n",
        "])"
      ],
      "metadata": {
        "id": "V-Np_8Cu9S5G"
      },
      "execution_count": null,
      "outputs": []
    },
    {
      "cell_type": "code",
      "source": [
        "svc_final.fit(X_train, y_train)"
      ],
      "metadata": {
        "colab": {
          "base_uri": "https://localhost:8080/",
          "height": 196
        },
        "id": "g5ZtG4xYBrjO",
        "outputId": "f8358564-48cb-49d7-b473-2a9a4d9daa9b"
      },
      "execution_count": null,
      "outputs": [
        {
          "output_type": "execute_result",
          "data": {
            "text/plain": [
              "Pipeline(steps=[('vect', CountVectorizer()), ('tfidf', TfidfTransformer()),\n",
              "                ('smote', SMOTE(k_neighbors=3, random_state=30)),\n",
              "                ('svc',\n",
              "                 LinearSVC(C=5e-05, max_iter=10000,\n",
              "                           multi_class='crammer_singer'))])"
            ],
            "text/html": [
              "<style>#sk-container-id-27 {color: black;background-color: white;}#sk-container-id-27 pre{padding: 0;}#sk-container-id-27 div.sk-toggleable {background-color: white;}#sk-container-id-27 label.sk-toggleable__label {cursor: pointer;display: block;width: 100%;margin-bottom: 0;padding: 0.3em;box-sizing: border-box;text-align: center;}#sk-container-id-27 label.sk-toggleable__label-arrow:before {content: \"▸\";float: left;margin-right: 0.25em;color: #696969;}#sk-container-id-27 label.sk-toggleable__label-arrow:hover:before {color: black;}#sk-container-id-27 div.sk-estimator:hover label.sk-toggleable__label-arrow:before {color: black;}#sk-container-id-27 div.sk-toggleable__content {max-height: 0;max-width: 0;overflow: hidden;text-align: left;background-color: #f0f8ff;}#sk-container-id-27 div.sk-toggleable__content pre {margin: 0.2em;color: black;border-radius: 0.25em;background-color: #f0f8ff;}#sk-container-id-27 input.sk-toggleable__control:checked~div.sk-toggleable__content {max-height: 200px;max-width: 100%;overflow: auto;}#sk-container-id-27 input.sk-toggleable__control:checked~label.sk-toggleable__label-arrow:before {content: \"▾\";}#sk-container-id-27 div.sk-estimator input.sk-toggleable__control:checked~label.sk-toggleable__label {background-color: #d4ebff;}#sk-container-id-27 div.sk-label input.sk-toggleable__control:checked~label.sk-toggleable__label {background-color: #d4ebff;}#sk-container-id-27 input.sk-hidden--visually {border: 0;clip: rect(1px 1px 1px 1px);clip: rect(1px, 1px, 1px, 1px);height: 1px;margin: -1px;overflow: hidden;padding: 0;position: absolute;width: 1px;}#sk-container-id-27 div.sk-estimator {font-family: monospace;background-color: #f0f8ff;border: 1px dotted black;border-radius: 0.25em;box-sizing: border-box;margin-bottom: 0.5em;}#sk-container-id-27 div.sk-estimator:hover {background-color: #d4ebff;}#sk-container-id-27 div.sk-parallel-item::after {content: \"\";width: 100%;border-bottom: 1px solid gray;flex-grow: 1;}#sk-container-id-27 div.sk-label:hover label.sk-toggleable__label {background-color: #d4ebff;}#sk-container-id-27 div.sk-serial::before {content: \"\";position: absolute;border-left: 1px solid gray;box-sizing: border-box;top: 0;bottom: 0;left: 50%;z-index: 0;}#sk-container-id-27 div.sk-serial {display: flex;flex-direction: column;align-items: center;background-color: white;padding-right: 0.2em;padding-left: 0.2em;position: relative;}#sk-container-id-27 div.sk-item {position: relative;z-index: 1;}#sk-container-id-27 div.sk-parallel {display: flex;align-items: stretch;justify-content: center;background-color: white;position: relative;}#sk-container-id-27 div.sk-item::before, #sk-container-id-27 div.sk-parallel-item::before {content: \"\";position: absolute;border-left: 1px solid gray;box-sizing: border-box;top: 0;bottom: 0;left: 50%;z-index: -1;}#sk-container-id-27 div.sk-parallel-item {display: flex;flex-direction: column;z-index: 1;position: relative;background-color: white;}#sk-container-id-27 div.sk-parallel-item:first-child::after {align-self: flex-end;width: 50%;}#sk-container-id-27 div.sk-parallel-item:last-child::after {align-self: flex-start;width: 50%;}#sk-container-id-27 div.sk-parallel-item:only-child::after {width: 0;}#sk-container-id-27 div.sk-dashed-wrapped {border: 1px dashed gray;margin: 0 0.4em 0.5em 0.4em;box-sizing: border-box;padding-bottom: 0.4em;background-color: white;}#sk-container-id-27 div.sk-label label {font-family: monospace;font-weight: bold;display: inline-block;line-height: 1.2em;}#sk-container-id-27 div.sk-label-container {text-align: center;}#sk-container-id-27 div.sk-container {/* jupyter's `normalize.less` sets `[hidden] { display: none; }` but bootstrap.min.css set `[hidden] { display: none !important; }` so we also need the `!important` here to be able to override the default hidden behavior on the sphinx rendered scikit-learn.org. See: https://github.com/scikit-learn/scikit-learn/issues/21755 */display: inline-block !important;position: relative;}#sk-container-id-27 div.sk-text-repr-fallback {display: none;}</style><div id=\"sk-container-id-27\" class=\"sk-top-container\"><div class=\"sk-text-repr-fallback\"><pre>Pipeline(steps=[(&#x27;vect&#x27;, CountVectorizer()), (&#x27;tfidf&#x27;, TfidfTransformer()),\n",
              "                (&#x27;smote&#x27;, SMOTE(k_neighbors=3, random_state=30)),\n",
              "                (&#x27;svc&#x27;,\n",
              "                 LinearSVC(C=5e-05, max_iter=10000,\n",
              "                           multi_class=&#x27;crammer_singer&#x27;))])</pre><b>In a Jupyter environment, please rerun this cell to show the HTML representation or trust the notebook. <br />On GitHub, the HTML representation is unable to render, please try loading this page with nbviewer.org.</b></div><div class=\"sk-container\" hidden><div class=\"sk-item sk-dashed-wrapped\"><div class=\"sk-label-container\"><div class=\"sk-label sk-toggleable\"><input class=\"sk-toggleable__control sk-hidden--visually\" id=\"sk-estimator-id-148\" type=\"checkbox\" ><label for=\"sk-estimator-id-148\" class=\"sk-toggleable__label sk-toggleable__label-arrow\">Pipeline</label><div class=\"sk-toggleable__content\"><pre>Pipeline(steps=[(&#x27;vect&#x27;, CountVectorizer()), (&#x27;tfidf&#x27;, TfidfTransformer()),\n",
              "                (&#x27;smote&#x27;, SMOTE(k_neighbors=3, random_state=30)),\n",
              "                (&#x27;svc&#x27;,\n",
              "                 LinearSVC(C=5e-05, max_iter=10000,\n",
              "                           multi_class=&#x27;crammer_singer&#x27;))])</pre></div></div></div><div class=\"sk-serial\"><div class=\"sk-item\"><div class=\"sk-estimator sk-toggleable\"><input class=\"sk-toggleable__control sk-hidden--visually\" id=\"sk-estimator-id-149\" type=\"checkbox\" ><label for=\"sk-estimator-id-149\" class=\"sk-toggleable__label sk-toggleable__label-arrow\">CountVectorizer</label><div class=\"sk-toggleable__content\"><pre>CountVectorizer()</pre></div></div></div><div class=\"sk-item\"><div class=\"sk-estimator sk-toggleable\"><input class=\"sk-toggleable__control sk-hidden--visually\" id=\"sk-estimator-id-150\" type=\"checkbox\" ><label for=\"sk-estimator-id-150\" class=\"sk-toggleable__label sk-toggleable__label-arrow\">TfidfTransformer</label><div class=\"sk-toggleable__content\"><pre>TfidfTransformer()</pre></div></div></div><div class=\"sk-item\"><div class=\"sk-estimator sk-toggleable\"><input class=\"sk-toggleable__control sk-hidden--visually\" id=\"sk-estimator-id-151\" type=\"checkbox\" ><label for=\"sk-estimator-id-151\" class=\"sk-toggleable__label sk-toggleable__label-arrow\">SMOTE</label><div class=\"sk-toggleable__content\"><pre>SMOTE(k_neighbors=3, random_state=30)</pre></div></div></div><div class=\"sk-item\"><div class=\"sk-estimator sk-toggleable\"><input class=\"sk-toggleable__control sk-hidden--visually\" id=\"sk-estimator-id-152\" type=\"checkbox\" ><label for=\"sk-estimator-id-152\" class=\"sk-toggleable__label sk-toggleable__label-arrow\">LinearSVC</label><div class=\"sk-toggleable__content\"><pre>LinearSVC(C=5e-05, max_iter=10000, multi_class=&#x27;crammer_singer&#x27;)</pre></div></div></div></div></div></div></div>"
            ]
          },
          "metadata": {},
          "execution_count": 439
        }
      ]
    },
    {
      "cell_type": "code",
      "source": [
        "y_pred = svc_final.predict(X_test)"
      ],
      "metadata": {
        "id": "h5UllwRSBrly"
      },
      "execution_count": null,
      "outputs": []
    },
    {
      "cell_type": "code",
      "source": [
        "svc_score = f1_score(y_pred, y_test, average = 'macro')"
      ],
      "metadata": {
        "id": "EM_wtFeXBroJ"
      },
      "execution_count": null,
      "outputs": []
    },
    {
      "cell_type": "code",
      "source": [
        "svc_score"
      ],
      "metadata": {
        "colab": {
          "base_uri": "https://localhost:8080/"
        },
        "id": "u6Kji92OBrqP",
        "outputId": "5770701f-bb16-4105-dc83-6d54304e372b"
      },
      "execution_count": null,
      "outputs": [
        {
          "output_type": "execute_result",
          "data": {
            "text/plain": [
              "0.6761904761904761"
            ]
          },
          "metadata": {},
          "execution_count": 448
        }
      ]
    },
    {
      "cell_type": "code",
      "source": [
        "svc_accu = accuracy_score(y_pred, y_test)\n",
        "svc_accu"
      ],
      "metadata": {
        "colab": {
          "base_uri": "https://localhost:8080/"
        },
        "id": "SEuq446uBrtH",
        "outputId": "3ed37995-cb31-418f-a22e-b95d92b34bec"
      },
      "execution_count": null,
      "outputs": [
        {
          "output_type": "execute_result",
          "data": {
            "text/plain": [
              "0.88"
            ]
          },
          "metadata": {},
          "execution_count": 449
        }
      ]
    }
  ]
}