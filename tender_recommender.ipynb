{
  "nbformat": 4,
  "nbformat_minor": 0,
  "metadata": {
    "colab": {
      "provenance": [],
      "authorship_tag": "ABX9TyMSywofEYoqiVCowoqxTiKb",
      "include_colab_link": true
    },
    "kernelspec": {
      "name": "python3",
      "display_name": "Python 3"
    },
    "language_info": {
      "name": "python"
    }
  },
  "cells": [
    {
      "cell_type": "markdown",
      "metadata": {
        "id": "view-in-github",
        "colab_type": "text"
      },
      "source": [
        "<a href=\"https://colab.research.google.com/github/1985shree/1985shree/blob/main/tender_recommender.ipynb\" target=\"_parent\"><img src=\"https://colab.research.google.com/assets/colab-badge.svg\" alt=\"Open In Colab\"/></a>"
      ]
    },
    {
      "cell_type": "markdown",
      "source": [
        "# Importing modules"
      ],
      "metadata": {
        "id": "sa0vrlyYZinO"
      }
    },
    {
      "cell_type": "code",
      "execution_count": 2,
      "metadata": {
        "colab": {
          "base_uri": "https://localhost:8080/"
        },
        "id": "pYId1Q27Wscw",
        "outputId": "cf20aa30-a4ca-4dfb-a22c-b65179f52506"
      },
      "outputs": [
        {
          "output_type": "stream",
          "name": "stderr",
          "text": [
            "[nltk_data] Downloading package stopwords to /root/nltk_data...\n",
            "[nltk_data]   Package stopwords is already up-to-date!\n"
          ]
        }
      ],
      "source": [
        "import pandas as pd\n",
        "import numpy as np\n",
        "import json\n",
        "import matplotlib.pyplot as plt\n",
        "import seaborn as sns\n",
        "\n",
        "import os\n",
        "import nltk\n",
        "nltk.download('stopwords')\n",
        "from nltk.corpus import stopwords\n",
        "from nltk.tokenize import word_tokenize\n",
        "from nltk.stem import WordNetLemmatizer\n",
        "import string\n",
        "from spacy.lang.en.stop_words import STOP_WORDS\n",
        "from spacy.tokenizer import Tokenizer\n",
        "import re\n",
        "import spacy\n",
        "# nlp = spacy.load('en_core_web_lg')\n",
        "# spacy_tokenizer = Tokenizer(nlp.vocab)\n",
        "\n",
        "from sklearn.feature_extraction.text import CountVectorizer\n",
        "from sklearn.feature_extraction.text import TfidfVectorizer\n",
        "from scipy.sparse import save_npz, load_npz\n",
        "\n",
        "import seaborn as sns\n",
        "import matplotlib.pyplot as plt\n",
        "\n"
      ]
    },
    {
      "cell_type": "markdown",
      "source": [
        "# Importing dataset"
      ],
      "metadata": {
        "id": "gD0-WqTTZmOM"
      }
    },
    {
      "cell_type": "code",
      "source": [
        "items = pd.read_csv('items.csv')\n",
        "userint = pd.read_csv('userInteractions.csv')\n",
        "users = pd.read_csv('users.csv')\n"
      ],
      "metadata": {
        "id": "wn1wJH-OZrgv"
      },
      "execution_count": 3,
      "outputs": []
    },
    {
      "cell_type": "code",
      "source": [
        "items.head()"
      ],
      "metadata": {
        "colab": {
          "base_uri": "https://localhost:8080/",
          "height": 511
        },
        "id": "OCKOuCb_Zrjn",
        "outputId": "936c76e2-5c7d-4519-97ad-a25758040eaa"
      },
      "execution_count": 4,
      "outputs": [
        {
          "output_type": "execute_result",
          "data": {
            "text/plain": [
              "                                     id  \\\n",
              "0  7e5e42eb-de7d-4b63-bd8c-9a842c445e66   \n",
              "1  828d3851-105f-4c24-ae68-c5b24597c7e7   \n",
              "2  673074b9-8592-4682-a4e4-ee388a1d86c5   \n",
              "3  836737ee-1d1d-4ae7-86f8-0c5abb8823c4   \n",
              "4  929d94a1-0921-4625-9630-2720ee762f50   \n",
              "\n",
              "                                          authority  publishingDate  \\\n",
              "0                  Directorate Of Rural Development    1.645277e+12   \n",
              "1  Jharkhand State Rural Road Development Authority    1.645247e+12   \n",
              "2  Jharkhand State Rural Road Development Authority    1.645247e+12   \n",
              "3  Jharkhand State Rural Road Development Authority    1.645247e+12   \n",
              "4                      Rural Development Department    1.645270e+12   \n",
              "\n",
              "    bidDeadline       value        emd     status  \\\n",
              "0  1.645787e+12    300000.0     6000.0  CANCELLED   \n",
              "1  1.646048e+12  16861000.0   339000.0  PUBLISHED   \n",
              "2  1.646048e+12  32778000.0   656000.0  PUBLISHED   \n",
              "3  1.646048e+12  52264000.0  1045000.0  PUBLISHED   \n",
              "4  1.645760e+12    375755.0        NaN   ARCHIVED   \n",
              "\n",
              "                                           locations  \\\n",
              "0   [{'state': 'Jammu & Kashmir', 'city': 'Kathua'}]   \n",
              "1         [{'state': 'Jharkhand', 'city': 'Ranchi'}]   \n",
              "2  [{'state': 'Jharkhand', 'city': 'West Singhbhu...   \n",
              "3         [{'state': 'Jharkhand', 'city': 'Garhwa'}]   \n",
              "4       [{'state': 'Maharashtra', 'city': 'Nanded'}]   \n",
              "\n",
              "                                             details  \n",
              "0  Construction Of Community Sanitary Complex Uni...  \n",
              "1              Repair And Maintenance Of Pmgsy Roads  \n",
              "2              Repair And Maintenance Of Pmgsy Roads  \n",
              "3              Repair And Maintenance Of Pmgsy Roads  \n",
              "4  Construction Of Closed C.c. Drain / Road At Da...  "
            ],
            "text/html": [
              "\n",
              "  <div id=\"df-f121cec2-b832-4540-a608-4f135a9b5825\">\n",
              "    <div class=\"colab-df-container\">\n",
              "      <div>\n",
              "<style scoped>\n",
              "    .dataframe tbody tr th:only-of-type {\n",
              "        vertical-align: middle;\n",
              "    }\n",
              "\n",
              "    .dataframe tbody tr th {\n",
              "        vertical-align: top;\n",
              "    }\n",
              "\n",
              "    .dataframe thead th {\n",
              "        text-align: right;\n",
              "    }\n",
              "</style>\n",
              "<table border=\"1\" class=\"dataframe\">\n",
              "  <thead>\n",
              "    <tr style=\"text-align: right;\">\n",
              "      <th></th>\n",
              "      <th>id</th>\n",
              "      <th>authority</th>\n",
              "      <th>publishingDate</th>\n",
              "      <th>bidDeadline</th>\n",
              "      <th>value</th>\n",
              "      <th>emd</th>\n",
              "      <th>status</th>\n",
              "      <th>locations</th>\n",
              "      <th>details</th>\n",
              "    </tr>\n",
              "  </thead>\n",
              "  <tbody>\n",
              "    <tr>\n",
              "      <th>0</th>\n",
              "      <td>7e5e42eb-de7d-4b63-bd8c-9a842c445e66</td>\n",
              "      <td>Directorate Of Rural Development</td>\n",
              "      <td>1.645277e+12</td>\n",
              "      <td>1.645787e+12</td>\n",
              "      <td>300000.0</td>\n",
              "      <td>6000.0</td>\n",
              "      <td>CANCELLED</td>\n",
              "      <td>[{'state': 'Jammu &amp; Kashmir', 'city': 'Kathua'}]</td>\n",
              "      <td>Construction Of Community Sanitary Complex Uni...</td>\n",
              "    </tr>\n",
              "    <tr>\n",
              "      <th>1</th>\n",
              "      <td>828d3851-105f-4c24-ae68-c5b24597c7e7</td>\n",
              "      <td>Jharkhand State Rural Road Development Authority</td>\n",
              "      <td>1.645247e+12</td>\n",
              "      <td>1.646048e+12</td>\n",
              "      <td>16861000.0</td>\n",
              "      <td>339000.0</td>\n",
              "      <td>PUBLISHED</td>\n",
              "      <td>[{'state': 'Jharkhand', 'city': 'Ranchi'}]</td>\n",
              "      <td>Repair And Maintenance Of Pmgsy Roads</td>\n",
              "    </tr>\n",
              "    <tr>\n",
              "      <th>2</th>\n",
              "      <td>673074b9-8592-4682-a4e4-ee388a1d86c5</td>\n",
              "      <td>Jharkhand State Rural Road Development Authority</td>\n",
              "      <td>1.645247e+12</td>\n",
              "      <td>1.646048e+12</td>\n",
              "      <td>32778000.0</td>\n",
              "      <td>656000.0</td>\n",
              "      <td>PUBLISHED</td>\n",
              "      <td>[{'state': 'Jharkhand', 'city': 'West Singhbhu...</td>\n",
              "      <td>Repair And Maintenance Of Pmgsy Roads</td>\n",
              "    </tr>\n",
              "    <tr>\n",
              "      <th>3</th>\n",
              "      <td>836737ee-1d1d-4ae7-86f8-0c5abb8823c4</td>\n",
              "      <td>Jharkhand State Rural Road Development Authority</td>\n",
              "      <td>1.645247e+12</td>\n",
              "      <td>1.646048e+12</td>\n",
              "      <td>52264000.0</td>\n",
              "      <td>1045000.0</td>\n",
              "      <td>PUBLISHED</td>\n",
              "      <td>[{'state': 'Jharkhand', 'city': 'Garhwa'}]</td>\n",
              "      <td>Repair And Maintenance Of Pmgsy Roads</td>\n",
              "    </tr>\n",
              "    <tr>\n",
              "      <th>4</th>\n",
              "      <td>929d94a1-0921-4625-9630-2720ee762f50</td>\n",
              "      <td>Rural Development Department</td>\n",
              "      <td>1.645270e+12</td>\n",
              "      <td>1.645760e+12</td>\n",
              "      <td>375755.0</td>\n",
              "      <td>NaN</td>\n",
              "      <td>ARCHIVED</td>\n",
              "      <td>[{'state': 'Maharashtra', 'city': 'Nanded'}]</td>\n",
              "      <td>Construction Of Closed C.c. Drain / Road At Da...</td>\n",
              "    </tr>\n",
              "  </tbody>\n",
              "</table>\n",
              "</div>\n",
              "      <button class=\"colab-df-convert\" onclick=\"convertToInteractive('df-f121cec2-b832-4540-a608-4f135a9b5825')\"\n",
              "              title=\"Convert this dataframe to an interactive table.\"\n",
              "              style=\"display:none;\">\n",
              "        \n",
              "  <svg xmlns=\"http://www.w3.org/2000/svg\" height=\"24px\"viewBox=\"0 0 24 24\"\n",
              "       width=\"24px\">\n",
              "    <path d=\"M0 0h24v24H0V0z\" fill=\"none\"/>\n",
              "    <path d=\"M18.56 5.44l.94 2.06.94-2.06 2.06-.94-2.06-.94-.94-2.06-.94 2.06-2.06.94zm-11 1L8.5 8.5l.94-2.06 2.06-.94-2.06-.94L8.5 2.5l-.94 2.06-2.06.94zm10 10l.94 2.06.94-2.06 2.06-.94-2.06-.94-.94-2.06-.94 2.06-2.06.94z\"/><path d=\"M17.41 7.96l-1.37-1.37c-.4-.4-.92-.59-1.43-.59-.52 0-1.04.2-1.43.59L10.3 9.45l-7.72 7.72c-.78.78-.78 2.05 0 2.83L4 21.41c.39.39.9.59 1.41.59.51 0 1.02-.2 1.41-.59l7.78-7.78 2.81-2.81c.8-.78.8-2.07 0-2.86zM5.41 20L4 18.59l7.72-7.72 1.47 1.35L5.41 20z\"/>\n",
              "  </svg>\n",
              "      </button>\n",
              "      \n",
              "  <style>\n",
              "    .colab-df-container {\n",
              "      display:flex;\n",
              "      flex-wrap:wrap;\n",
              "      gap: 12px;\n",
              "    }\n",
              "\n",
              "    .colab-df-convert {\n",
              "      background-color: #E8F0FE;\n",
              "      border: none;\n",
              "      border-radius: 50%;\n",
              "      cursor: pointer;\n",
              "      display: none;\n",
              "      fill: #1967D2;\n",
              "      height: 32px;\n",
              "      padding: 0 0 0 0;\n",
              "      width: 32px;\n",
              "    }\n",
              "\n",
              "    .colab-df-convert:hover {\n",
              "      background-color: #E2EBFA;\n",
              "      box-shadow: 0px 1px 2px rgba(60, 64, 67, 0.3), 0px 1px 3px 1px rgba(60, 64, 67, 0.15);\n",
              "      fill: #174EA6;\n",
              "    }\n",
              "\n",
              "    [theme=dark] .colab-df-convert {\n",
              "      background-color: #3B4455;\n",
              "      fill: #D2E3FC;\n",
              "    }\n",
              "\n",
              "    [theme=dark] .colab-df-convert:hover {\n",
              "      background-color: #434B5C;\n",
              "      box-shadow: 0px 1px 3px 1px rgba(0, 0, 0, 0.15);\n",
              "      filter: drop-shadow(0px 1px 2px rgba(0, 0, 0, 0.3));\n",
              "      fill: #FFFFFF;\n",
              "    }\n",
              "  </style>\n",
              "\n",
              "      <script>\n",
              "        const buttonEl =\n",
              "          document.querySelector('#df-f121cec2-b832-4540-a608-4f135a9b5825 button.colab-df-convert');\n",
              "        buttonEl.style.display =\n",
              "          google.colab.kernel.accessAllowed ? 'block' : 'none';\n",
              "\n",
              "        async function convertToInteractive(key) {\n",
              "          const element = document.querySelector('#df-f121cec2-b832-4540-a608-4f135a9b5825');\n",
              "          const dataTable =\n",
              "            await google.colab.kernel.invokeFunction('convertToInteractive',\n",
              "                                                     [key], {});\n",
              "          if (!dataTable) return;\n",
              "\n",
              "          const docLinkHtml = 'Like what you see? Visit the ' +\n",
              "            '<a target=\"_blank\" href=https://colab.research.google.com/notebooks/data_table.ipynb>data table notebook</a>'\n",
              "            + ' to learn more about interactive tables.';\n",
              "          element.innerHTML = '';\n",
              "          dataTable['output_type'] = 'display_data';\n",
              "          await google.colab.output.renderOutput(dataTable, element);\n",
              "          const docLink = document.createElement('div');\n",
              "          docLink.innerHTML = docLinkHtml;\n",
              "          element.appendChild(docLink);\n",
              "        }\n",
              "      </script>\n",
              "    </div>\n",
              "  </div>\n",
              "  "
            ]
          },
          "metadata": {},
          "execution_count": 4
        }
      ]
    },
    {
      "cell_type": "code",
      "source": [
        "items.shape"
      ],
      "metadata": {
        "colab": {
          "base_uri": "https://localhost:8080/"
        },
        "id": "z1LjmOjJvgoD",
        "outputId": "a66450cc-6d89-4be9-9e28-0650a54fb58d"
      },
      "execution_count": 5,
      "outputs": [
        {
          "output_type": "execute_result",
          "data": {
            "text/plain": [
              "(76223, 9)"
            ]
          },
          "metadata": {},
          "execution_count": 5
        }
      ]
    },
    {
      "cell_type": "code",
      "source": [
        "userint.head()"
      ],
      "metadata": {
        "colab": {
          "base_uri": "https://localhost:8080/",
          "height": 206
        },
        "id": "kGXs6J4dZrpD",
        "outputId": "d3a9445a-accc-4258-ada5-7b236617574e"
      },
      "execution_count": 6,
      "outputs": [
        {
          "output_type": "execute_result",
          "data": {
            "text/plain": [
              "     activity                              entityId           accountId\n",
              "0      VIEWED  6658c6db-7b22-4612-b14b-edcdfe3f61c4  794928084817024957\n",
              "1  DOWNLOADED  0c5b4a9d-21c8-428b-bce4-ee27556ba49d  794929730519308433\n",
              "2      VIEWED  0c5b4a9d-21c8-428b-bce4-ee27556ba49d  794929730519308433\n",
              "3  DOWNLOADED  817f9dbd-c37c-4e47-af18-01d3c2d25e41  794934903824193736\n",
              "4      VIEWED  817f9dbd-c37c-4e47-af18-01d3c2d25e41  794934903824193736"
            ],
            "text/html": [
              "\n",
              "  <div id=\"df-2f4d74f9-24c6-436e-b196-fcff8ba32e61\">\n",
              "    <div class=\"colab-df-container\">\n",
              "      <div>\n",
              "<style scoped>\n",
              "    .dataframe tbody tr th:only-of-type {\n",
              "        vertical-align: middle;\n",
              "    }\n",
              "\n",
              "    .dataframe tbody tr th {\n",
              "        vertical-align: top;\n",
              "    }\n",
              "\n",
              "    .dataframe thead th {\n",
              "        text-align: right;\n",
              "    }\n",
              "</style>\n",
              "<table border=\"1\" class=\"dataframe\">\n",
              "  <thead>\n",
              "    <tr style=\"text-align: right;\">\n",
              "      <th></th>\n",
              "      <th>activity</th>\n",
              "      <th>entityId</th>\n",
              "      <th>accountId</th>\n",
              "    </tr>\n",
              "  </thead>\n",
              "  <tbody>\n",
              "    <tr>\n",
              "      <th>0</th>\n",
              "      <td>VIEWED</td>\n",
              "      <td>6658c6db-7b22-4612-b14b-edcdfe3f61c4</td>\n",
              "      <td>794928084817024957</td>\n",
              "    </tr>\n",
              "    <tr>\n",
              "      <th>1</th>\n",
              "      <td>DOWNLOADED</td>\n",
              "      <td>0c5b4a9d-21c8-428b-bce4-ee27556ba49d</td>\n",
              "      <td>794929730519308433</td>\n",
              "    </tr>\n",
              "    <tr>\n",
              "      <th>2</th>\n",
              "      <td>VIEWED</td>\n",
              "      <td>0c5b4a9d-21c8-428b-bce4-ee27556ba49d</td>\n",
              "      <td>794929730519308433</td>\n",
              "    </tr>\n",
              "    <tr>\n",
              "      <th>3</th>\n",
              "      <td>DOWNLOADED</td>\n",
              "      <td>817f9dbd-c37c-4e47-af18-01d3c2d25e41</td>\n",
              "      <td>794934903824193736</td>\n",
              "    </tr>\n",
              "    <tr>\n",
              "      <th>4</th>\n",
              "      <td>VIEWED</td>\n",
              "      <td>817f9dbd-c37c-4e47-af18-01d3c2d25e41</td>\n",
              "      <td>794934903824193736</td>\n",
              "    </tr>\n",
              "  </tbody>\n",
              "</table>\n",
              "</div>\n",
              "      <button class=\"colab-df-convert\" onclick=\"convertToInteractive('df-2f4d74f9-24c6-436e-b196-fcff8ba32e61')\"\n",
              "              title=\"Convert this dataframe to an interactive table.\"\n",
              "              style=\"display:none;\">\n",
              "        \n",
              "  <svg xmlns=\"http://www.w3.org/2000/svg\" height=\"24px\"viewBox=\"0 0 24 24\"\n",
              "       width=\"24px\">\n",
              "    <path d=\"M0 0h24v24H0V0z\" fill=\"none\"/>\n",
              "    <path d=\"M18.56 5.44l.94 2.06.94-2.06 2.06-.94-2.06-.94-.94-2.06-.94 2.06-2.06.94zm-11 1L8.5 8.5l.94-2.06 2.06-.94-2.06-.94L8.5 2.5l-.94 2.06-2.06.94zm10 10l.94 2.06.94-2.06 2.06-.94-2.06-.94-.94-2.06-.94 2.06-2.06.94z\"/><path d=\"M17.41 7.96l-1.37-1.37c-.4-.4-.92-.59-1.43-.59-.52 0-1.04.2-1.43.59L10.3 9.45l-7.72 7.72c-.78.78-.78 2.05 0 2.83L4 21.41c.39.39.9.59 1.41.59.51 0 1.02-.2 1.41-.59l7.78-7.78 2.81-2.81c.8-.78.8-2.07 0-2.86zM5.41 20L4 18.59l7.72-7.72 1.47 1.35L5.41 20z\"/>\n",
              "  </svg>\n",
              "      </button>\n",
              "      \n",
              "  <style>\n",
              "    .colab-df-container {\n",
              "      display:flex;\n",
              "      flex-wrap:wrap;\n",
              "      gap: 12px;\n",
              "    }\n",
              "\n",
              "    .colab-df-convert {\n",
              "      background-color: #E8F0FE;\n",
              "      border: none;\n",
              "      border-radius: 50%;\n",
              "      cursor: pointer;\n",
              "      display: none;\n",
              "      fill: #1967D2;\n",
              "      height: 32px;\n",
              "      padding: 0 0 0 0;\n",
              "      width: 32px;\n",
              "    }\n",
              "\n",
              "    .colab-df-convert:hover {\n",
              "      background-color: #E2EBFA;\n",
              "      box-shadow: 0px 1px 2px rgba(60, 64, 67, 0.3), 0px 1px 3px 1px rgba(60, 64, 67, 0.15);\n",
              "      fill: #174EA6;\n",
              "    }\n",
              "\n",
              "    [theme=dark] .colab-df-convert {\n",
              "      background-color: #3B4455;\n",
              "      fill: #D2E3FC;\n",
              "    }\n",
              "\n",
              "    [theme=dark] .colab-df-convert:hover {\n",
              "      background-color: #434B5C;\n",
              "      box-shadow: 0px 1px 3px 1px rgba(0, 0, 0, 0.15);\n",
              "      filter: drop-shadow(0px 1px 2px rgba(0, 0, 0, 0.3));\n",
              "      fill: #FFFFFF;\n",
              "    }\n",
              "  </style>\n",
              "\n",
              "      <script>\n",
              "        const buttonEl =\n",
              "          document.querySelector('#df-2f4d74f9-24c6-436e-b196-fcff8ba32e61 button.colab-df-convert');\n",
              "        buttonEl.style.display =\n",
              "          google.colab.kernel.accessAllowed ? 'block' : 'none';\n",
              "\n",
              "        async function convertToInteractive(key) {\n",
              "          const element = document.querySelector('#df-2f4d74f9-24c6-436e-b196-fcff8ba32e61');\n",
              "          const dataTable =\n",
              "            await google.colab.kernel.invokeFunction('convertToInteractive',\n",
              "                                                     [key], {});\n",
              "          if (!dataTable) return;\n",
              "\n",
              "          const docLinkHtml = 'Like what you see? Visit the ' +\n",
              "            '<a target=\"_blank\" href=https://colab.research.google.com/notebooks/data_table.ipynb>data table notebook</a>'\n",
              "            + ' to learn more about interactive tables.';\n",
              "          element.innerHTML = '';\n",
              "          dataTable['output_type'] = 'display_data';\n",
              "          await google.colab.output.renderOutput(dataTable, element);\n",
              "          const docLink = document.createElement('div');\n",
              "          docLink.innerHTML = docLinkHtml;\n",
              "          element.appendChild(docLink);\n",
              "        }\n",
              "      </script>\n",
              "    </div>\n",
              "  </div>\n",
              "  "
            ]
          },
          "metadata": {},
          "execution_count": 6
        }
      ]
    },
    {
      "cell_type": "code",
      "source": [
        "userint.shape"
      ],
      "metadata": {
        "colab": {
          "base_uri": "https://localhost:8080/"
        },
        "id": "CX4P0V82vDp8",
        "outputId": "8d57d456-0a2e-4eff-9950-5ac533859597"
      },
      "execution_count": 7,
      "outputs": [
        {
          "output_type": "execute_result",
          "data": {
            "text/plain": [
              "(40466, 3)"
            ]
          },
          "metadata": {},
          "execution_count": 7
        }
      ]
    },
    {
      "cell_type": "code",
      "source": [
        "users.head()"
      ],
      "metadata": {
        "colab": {
          "base_uri": "https://localhost:8080/",
          "height": 206
        },
        "id": "pD8WEzPpZrrr",
        "outputId": "3f14c208-11cd-4cd2-ed20-dd3398822660"
      },
      "execution_count": 8,
      "outputs": [
        {
          "output_type": "execute_result",
          "data": {
            "text/plain": [
              "             accountId                                             filter\n",
              "0   794928084817024957            {'KEYWORD': ['Delhi', 'House Keeping']}\n",
              "1   794929730519308433                                                NaN\n",
              "2   794934903824193736  {'KEYWORD': ['Power'], 'PURCHASER_NAME': ['GUN...\n",
              "3   711046096666759540                                                 {}\n",
              "4  6599911511613774475  {'LOCATION_STRING': ['Kerala'], 'KEYWORD': ['a..."
            ],
            "text/html": [
              "\n",
              "  <div id=\"df-001005c7-ca2d-4c7f-ab39-875a7965f787\">\n",
              "    <div class=\"colab-df-container\">\n",
              "      <div>\n",
              "<style scoped>\n",
              "    .dataframe tbody tr th:only-of-type {\n",
              "        vertical-align: middle;\n",
              "    }\n",
              "\n",
              "    .dataframe tbody tr th {\n",
              "        vertical-align: top;\n",
              "    }\n",
              "\n",
              "    .dataframe thead th {\n",
              "        text-align: right;\n",
              "    }\n",
              "</style>\n",
              "<table border=\"1\" class=\"dataframe\">\n",
              "  <thead>\n",
              "    <tr style=\"text-align: right;\">\n",
              "      <th></th>\n",
              "      <th>accountId</th>\n",
              "      <th>filter</th>\n",
              "    </tr>\n",
              "  </thead>\n",
              "  <tbody>\n",
              "    <tr>\n",
              "      <th>0</th>\n",
              "      <td>794928084817024957</td>\n",
              "      <td>{'KEYWORD': ['Delhi', 'House Keeping']}</td>\n",
              "    </tr>\n",
              "    <tr>\n",
              "      <th>1</th>\n",
              "      <td>794929730519308433</td>\n",
              "      <td>NaN</td>\n",
              "    </tr>\n",
              "    <tr>\n",
              "      <th>2</th>\n",
              "      <td>794934903824193736</td>\n",
              "      <td>{'KEYWORD': ['Power'], 'PURCHASER_NAME': ['GUN...</td>\n",
              "    </tr>\n",
              "    <tr>\n",
              "      <th>3</th>\n",
              "      <td>711046096666759540</td>\n",
              "      <td>{}</td>\n",
              "    </tr>\n",
              "    <tr>\n",
              "      <th>4</th>\n",
              "      <td>6599911511613774475</td>\n",
              "      <td>{'LOCATION_STRING': ['Kerala'], 'KEYWORD': ['a...</td>\n",
              "    </tr>\n",
              "  </tbody>\n",
              "</table>\n",
              "</div>\n",
              "      <button class=\"colab-df-convert\" onclick=\"convertToInteractive('df-001005c7-ca2d-4c7f-ab39-875a7965f787')\"\n",
              "              title=\"Convert this dataframe to an interactive table.\"\n",
              "              style=\"display:none;\">\n",
              "        \n",
              "  <svg xmlns=\"http://www.w3.org/2000/svg\" height=\"24px\"viewBox=\"0 0 24 24\"\n",
              "       width=\"24px\">\n",
              "    <path d=\"M0 0h24v24H0V0z\" fill=\"none\"/>\n",
              "    <path d=\"M18.56 5.44l.94 2.06.94-2.06 2.06-.94-2.06-.94-.94-2.06-.94 2.06-2.06.94zm-11 1L8.5 8.5l.94-2.06 2.06-.94-2.06-.94L8.5 2.5l-.94 2.06-2.06.94zm10 10l.94 2.06.94-2.06 2.06-.94-2.06-.94-.94-2.06-.94 2.06-2.06.94z\"/><path d=\"M17.41 7.96l-1.37-1.37c-.4-.4-.92-.59-1.43-.59-.52 0-1.04.2-1.43.59L10.3 9.45l-7.72 7.72c-.78.78-.78 2.05 0 2.83L4 21.41c.39.39.9.59 1.41.59.51 0 1.02-.2 1.41-.59l7.78-7.78 2.81-2.81c.8-.78.8-2.07 0-2.86zM5.41 20L4 18.59l7.72-7.72 1.47 1.35L5.41 20z\"/>\n",
              "  </svg>\n",
              "      </button>\n",
              "      \n",
              "  <style>\n",
              "    .colab-df-container {\n",
              "      display:flex;\n",
              "      flex-wrap:wrap;\n",
              "      gap: 12px;\n",
              "    }\n",
              "\n",
              "    .colab-df-convert {\n",
              "      background-color: #E8F0FE;\n",
              "      border: none;\n",
              "      border-radius: 50%;\n",
              "      cursor: pointer;\n",
              "      display: none;\n",
              "      fill: #1967D2;\n",
              "      height: 32px;\n",
              "      padding: 0 0 0 0;\n",
              "      width: 32px;\n",
              "    }\n",
              "\n",
              "    .colab-df-convert:hover {\n",
              "      background-color: #E2EBFA;\n",
              "      box-shadow: 0px 1px 2px rgba(60, 64, 67, 0.3), 0px 1px 3px 1px rgba(60, 64, 67, 0.15);\n",
              "      fill: #174EA6;\n",
              "    }\n",
              "\n",
              "    [theme=dark] .colab-df-convert {\n",
              "      background-color: #3B4455;\n",
              "      fill: #D2E3FC;\n",
              "    }\n",
              "\n",
              "    [theme=dark] .colab-df-convert:hover {\n",
              "      background-color: #434B5C;\n",
              "      box-shadow: 0px 1px 3px 1px rgba(0, 0, 0, 0.15);\n",
              "      filter: drop-shadow(0px 1px 2px rgba(0, 0, 0, 0.3));\n",
              "      fill: #FFFFFF;\n",
              "    }\n",
              "  </style>\n",
              "\n",
              "      <script>\n",
              "        const buttonEl =\n",
              "          document.querySelector('#df-001005c7-ca2d-4c7f-ab39-875a7965f787 button.colab-df-convert');\n",
              "        buttonEl.style.display =\n",
              "          google.colab.kernel.accessAllowed ? 'block' : 'none';\n",
              "\n",
              "        async function convertToInteractive(key) {\n",
              "          const element = document.querySelector('#df-001005c7-ca2d-4c7f-ab39-875a7965f787');\n",
              "          const dataTable =\n",
              "            await google.colab.kernel.invokeFunction('convertToInteractive',\n",
              "                                                     [key], {});\n",
              "          if (!dataTable) return;\n",
              "\n",
              "          const docLinkHtml = 'Like what you see? Visit the ' +\n",
              "            '<a target=\"_blank\" href=https://colab.research.google.com/notebooks/data_table.ipynb>data table notebook</a>'\n",
              "            + ' to learn more about interactive tables.';\n",
              "          element.innerHTML = '';\n",
              "          dataTable['output_type'] = 'display_data';\n",
              "          await google.colab.output.renderOutput(dataTable, element);\n",
              "          const docLink = document.createElement('div');\n",
              "          docLink.innerHTML = docLinkHtml;\n",
              "          element.appendChild(docLink);\n",
              "        }\n",
              "      </script>\n",
              "    </div>\n",
              "  </div>\n",
              "  "
            ]
          },
          "metadata": {},
          "execution_count": 8
        }
      ]
    },
    {
      "cell_type": "code",
      "source": [
        "users.shape"
      ],
      "metadata": {
        "colab": {
          "base_uri": "https://localhost:8080/"
        },
        "id": "MHXm5yCTvGxb",
        "outputId": "f3d553fa-fdb1-4899-e02b-908dc447751d"
      },
      "execution_count": 9,
      "outputs": [
        {
          "output_type": "execute_result",
          "data": {
            "text/plain": [
              "(7566, 2)"
            ]
          },
          "metadata": {},
          "execution_count": 9
        }
      ]
    },
    {
      "cell_type": "code",
      "source": [
        "user_df = users.merge(userint, how = 'left', on = 'accountId')"
      ],
      "metadata": {
        "id": "88tWps93ZruT"
      },
      "execution_count": 10,
      "outputs": []
    },
    {
      "cell_type": "code",
      "source": [
        "user_df.shape"
      ],
      "metadata": {
        "colab": {
          "base_uri": "https://localhost:8080/"
        },
        "id": "4Vg9QOtM0HzF",
        "outputId": "6a327433-e6ca-4ab9-8d17-adcc5b352621"
      },
      "execution_count": 11,
      "outputs": [
        {
          "output_type": "execute_result",
          "data": {
            "text/plain": [
              "(40466, 4)"
            ]
          },
          "metadata": {},
          "execution_count": 11
        }
      ]
    },
    {
      "cell_type": "code",
      "source": [
        "user_df.head()"
      ],
      "metadata": {
        "colab": {
          "base_uri": "https://localhost:8080/",
          "height": 206
        },
        "id": "csroass6Zrw3",
        "outputId": "cd1d4c27-38b3-4424-f2de-39f8becba53d"
      },
      "execution_count": 12,
      "outputs": [
        {
          "output_type": "execute_result",
          "data": {
            "text/plain": [
              "            accountId                                             filter  \\\n",
              "0  794928084817024957            {'KEYWORD': ['Delhi', 'House Keeping']}   \n",
              "1  794929730519308433                                                NaN   \n",
              "2  794929730519308433                                                NaN   \n",
              "3  794934903824193736  {'KEYWORD': ['Power'], 'PURCHASER_NAME': ['GUN...   \n",
              "4  794934903824193736  {'KEYWORD': ['Power'], 'PURCHASER_NAME': ['GUN...   \n",
              "\n",
              "     activity                              entityId  \n",
              "0      VIEWED  6658c6db-7b22-4612-b14b-edcdfe3f61c4  \n",
              "1  DOWNLOADED  0c5b4a9d-21c8-428b-bce4-ee27556ba49d  \n",
              "2      VIEWED  0c5b4a9d-21c8-428b-bce4-ee27556ba49d  \n",
              "3  DOWNLOADED  817f9dbd-c37c-4e47-af18-01d3c2d25e41  \n",
              "4      VIEWED  817f9dbd-c37c-4e47-af18-01d3c2d25e41  "
            ],
            "text/html": [
              "\n",
              "  <div id=\"df-70f448d1-ad36-487f-bb59-a213a846b880\">\n",
              "    <div class=\"colab-df-container\">\n",
              "      <div>\n",
              "<style scoped>\n",
              "    .dataframe tbody tr th:only-of-type {\n",
              "        vertical-align: middle;\n",
              "    }\n",
              "\n",
              "    .dataframe tbody tr th {\n",
              "        vertical-align: top;\n",
              "    }\n",
              "\n",
              "    .dataframe thead th {\n",
              "        text-align: right;\n",
              "    }\n",
              "</style>\n",
              "<table border=\"1\" class=\"dataframe\">\n",
              "  <thead>\n",
              "    <tr style=\"text-align: right;\">\n",
              "      <th></th>\n",
              "      <th>accountId</th>\n",
              "      <th>filter</th>\n",
              "      <th>activity</th>\n",
              "      <th>entityId</th>\n",
              "    </tr>\n",
              "  </thead>\n",
              "  <tbody>\n",
              "    <tr>\n",
              "      <th>0</th>\n",
              "      <td>794928084817024957</td>\n",
              "      <td>{'KEYWORD': ['Delhi', 'House Keeping']}</td>\n",
              "      <td>VIEWED</td>\n",
              "      <td>6658c6db-7b22-4612-b14b-edcdfe3f61c4</td>\n",
              "    </tr>\n",
              "    <tr>\n",
              "      <th>1</th>\n",
              "      <td>794929730519308433</td>\n",
              "      <td>NaN</td>\n",
              "      <td>DOWNLOADED</td>\n",
              "      <td>0c5b4a9d-21c8-428b-bce4-ee27556ba49d</td>\n",
              "    </tr>\n",
              "    <tr>\n",
              "      <th>2</th>\n",
              "      <td>794929730519308433</td>\n",
              "      <td>NaN</td>\n",
              "      <td>VIEWED</td>\n",
              "      <td>0c5b4a9d-21c8-428b-bce4-ee27556ba49d</td>\n",
              "    </tr>\n",
              "    <tr>\n",
              "      <th>3</th>\n",
              "      <td>794934903824193736</td>\n",
              "      <td>{'KEYWORD': ['Power'], 'PURCHASER_NAME': ['GUN...</td>\n",
              "      <td>DOWNLOADED</td>\n",
              "      <td>817f9dbd-c37c-4e47-af18-01d3c2d25e41</td>\n",
              "    </tr>\n",
              "    <tr>\n",
              "      <th>4</th>\n",
              "      <td>794934903824193736</td>\n",
              "      <td>{'KEYWORD': ['Power'], 'PURCHASER_NAME': ['GUN...</td>\n",
              "      <td>VIEWED</td>\n",
              "      <td>817f9dbd-c37c-4e47-af18-01d3c2d25e41</td>\n",
              "    </tr>\n",
              "  </tbody>\n",
              "</table>\n",
              "</div>\n",
              "      <button class=\"colab-df-convert\" onclick=\"convertToInteractive('df-70f448d1-ad36-487f-bb59-a213a846b880')\"\n",
              "              title=\"Convert this dataframe to an interactive table.\"\n",
              "              style=\"display:none;\">\n",
              "        \n",
              "  <svg xmlns=\"http://www.w3.org/2000/svg\" height=\"24px\"viewBox=\"0 0 24 24\"\n",
              "       width=\"24px\">\n",
              "    <path d=\"M0 0h24v24H0V0z\" fill=\"none\"/>\n",
              "    <path d=\"M18.56 5.44l.94 2.06.94-2.06 2.06-.94-2.06-.94-.94-2.06-.94 2.06-2.06.94zm-11 1L8.5 8.5l.94-2.06 2.06-.94-2.06-.94L8.5 2.5l-.94 2.06-2.06.94zm10 10l.94 2.06.94-2.06 2.06-.94-2.06-.94-.94-2.06-.94 2.06-2.06.94z\"/><path d=\"M17.41 7.96l-1.37-1.37c-.4-.4-.92-.59-1.43-.59-.52 0-1.04.2-1.43.59L10.3 9.45l-7.72 7.72c-.78.78-.78 2.05 0 2.83L4 21.41c.39.39.9.59 1.41.59.51 0 1.02-.2 1.41-.59l7.78-7.78 2.81-2.81c.8-.78.8-2.07 0-2.86zM5.41 20L4 18.59l7.72-7.72 1.47 1.35L5.41 20z\"/>\n",
              "  </svg>\n",
              "      </button>\n",
              "      \n",
              "  <style>\n",
              "    .colab-df-container {\n",
              "      display:flex;\n",
              "      flex-wrap:wrap;\n",
              "      gap: 12px;\n",
              "    }\n",
              "\n",
              "    .colab-df-convert {\n",
              "      background-color: #E8F0FE;\n",
              "      border: none;\n",
              "      border-radius: 50%;\n",
              "      cursor: pointer;\n",
              "      display: none;\n",
              "      fill: #1967D2;\n",
              "      height: 32px;\n",
              "      padding: 0 0 0 0;\n",
              "      width: 32px;\n",
              "    }\n",
              "\n",
              "    .colab-df-convert:hover {\n",
              "      background-color: #E2EBFA;\n",
              "      box-shadow: 0px 1px 2px rgba(60, 64, 67, 0.3), 0px 1px 3px 1px rgba(60, 64, 67, 0.15);\n",
              "      fill: #174EA6;\n",
              "    }\n",
              "\n",
              "    [theme=dark] .colab-df-convert {\n",
              "      background-color: #3B4455;\n",
              "      fill: #D2E3FC;\n",
              "    }\n",
              "\n",
              "    [theme=dark] .colab-df-convert:hover {\n",
              "      background-color: #434B5C;\n",
              "      box-shadow: 0px 1px 3px 1px rgba(0, 0, 0, 0.15);\n",
              "      filter: drop-shadow(0px 1px 2px rgba(0, 0, 0, 0.3));\n",
              "      fill: #FFFFFF;\n",
              "    }\n",
              "  </style>\n",
              "\n",
              "      <script>\n",
              "        const buttonEl =\n",
              "          document.querySelector('#df-70f448d1-ad36-487f-bb59-a213a846b880 button.colab-df-convert');\n",
              "        buttonEl.style.display =\n",
              "          google.colab.kernel.accessAllowed ? 'block' : 'none';\n",
              "\n",
              "        async function convertToInteractive(key) {\n",
              "          const element = document.querySelector('#df-70f448d1-ad36-487f-bb59-a213a846b880');\n",
              "          const dataTable =\n",
              "            await google.colab.kernel.invokeFunction('convertToInteractive',\n",
              "                                                     [key], {});\n",
              "          if (!dataTable) return;\n",
              "\n",
              "          const docLinkHtml = 'Like what you see? Visit the ' +\n",
              "            '<a target=\"_blank\" href=https://colab.research.google.com/notebooks/data_table.ipynb>data table notebook</a>'\n",
              "            + ' to learn more about interactive tables.';\n",
              "          element.innerHTML = '';\n",
              "          dataTable['output_type'] = 'display_data';\n",
              "          await google.colab.output.renderOutput(dataTable, element);\n",
              "          const docLink = document.createElement('div');\n",
              "          docLink.innerHTML = docLinkHtml;\n",
              "          element.appendChild(docLink);\n",
              "        }\n",
              "      </script>\n",
              "    </div>\n",
              "  </div>\n",
              "  "
            ]
          },
          "metadata": {},
          "execution_count": 12
        }
      ]
    },
    {
      "cell_type": "code",
      "source": [
        "sns.heatmap(user_df.isnull())"
      ],
      "metadata": {
        "colab": {
          "base_uri": "https://localhost:8080/",
          "height": 288
        },
        "id": "LkpohydRvTWU",
        "outputId": "928f06d0-2ade-4a69-f8a5-8badd8f97ea7"
      },
      "execution_count": 13,
      "outputs": [
        {
          "output_type": "execute_result",
          "data": {
            "text/plain": [
              "<AxesSubplot:>"
            ]
          },
          "metadata": {},
          "execution_count": 13
        },
        {
          "output_type": "display_data",
          "data": {
            "text/plain": [
              "<Figure size 432x288 with 2 Axes>"
            ],
            "image/png": "[encoded data removed]"
          },
          "metadata": {
            "needs_background": "light"
          }
        }
      ]
    },
    {
      "cell_type": "code",
      "source": [
        "# user_df.fillna(0)"
      ],
      "metadata": {
        "id": "8hiY6G0Nzlc5"
      },
      "execution_count": 14,
      "outputs": []
    },
    {
      "cell_type": "code",
      "source": [
        "df = user_df[user_df['filter'].notna()] #got rid of data without any info"
      ],
      "metadata": {
        "id": "61feZbGkzDJo"
      },
      "execution_count": 15,
      "outputs": []
    },
    {
      "cell_type": "code",
      "source": [
        "df.duplicated().sum()"
      ],
      "metadata": {
        "colab": {
          "base_uri": "https://localhost:8080/"
        },
        "id": "2-_-qhoQn5mA",
        "outputId": "63ec5d79-1f3b-41d6-bf97-c1bc6508f1a3"
      },
      "execution_count": 16,
      "outputs": [
        {
          "output_type": "execute_result",
          "data": {
            "text/plain": [
              "0"
            ]
          },
          "metadata": {},
          "execution_count": 16
        }
      ]
    },
    {
      "cell_type": "code",
      "source": [
        "df.shape"
      ],
      "metadata": {
        "colab": {
          "base_uri": "https://localhost:8080/"
        },
        "id": "ejnFlUxqzeaI",
        "outputId": "95754a1b-95ff-472b-8d16-1da5137c1e91"
      },
      "execution_count": 17,
      "outputs": [
        {
          "output_type": "execute_result",
          "data": {
            "text/plain": [
              "(31742, 4)"
            ]
          },
          "metadata": {},
          "execution_count": 17
        }
      ]
    },
    {
      "cell_type": "code",
      "source": [
        "df.info()"
      ],
      "metadata": {
        "colab": {
          "base_uri": "https://localhost:8080/"
        },
        "id": "It2MNZ314apK",
        "outputId": "ce36bf51-cb24-46d5-8dab-77ae9592ff17"
      },
      "execution_count": 18,
      "outputs": [
        {
          "output_type": "stream",
          "name": "stdout",
          "text": [
            "<class 'pandas.core.frame.DataFrame'>\n",
            "Int64Index: 31742 entries, 0 to 40461\n",
            "Data columns (total 4 columns):\n",
            " #   Column     Non-Null Count  Dtype \n",
            "---  ------     --------------  ----- \n",
            " 0   accountId  31742 non-null  object\n",
            " 1   filter     31742 non-null  object\n",
            " 2   activity   31742 non-null  object\n",
            " 3   entityId   31742 non-null  object\n",
            "dtypes: object(4)\n",
            "memory usage: 1.2+ MB\n"
          ]
        }
      ]
    },
    {
      "cell_type": "code",
      "source": [
        "df.rename(columns = {'filter': 'use_details'}, inplace = True) # renamed because 'filter' is also a method and keeps interfering"
      ],
      "metadata": {
        "colab": {
          "base_uri": "https://localhost:8080/"
        },
        "id": "tyHhWPGU01vo",
        "outputId": "9ffc9285-d9d1-4546-b0af-87fbb6364694"
      },
      "execution_count": 19,
      "outputs": [
        {
          "output_type": "stream",
          "name": "stderr",
          "text": [
            "/usr/local/lib/python3.8/dist-packages/pandas/core/frame.py:5039: SettingWithCopyWarning: \n",
            "A value is trying to be set on a copy of a slice from a DataFrame\n",
            "\n",
            "See the caveats in the documentation: https://pandas.pydata.org/pandas-docs/stable/user_guide/indexing.html#returning-a-view-versus-a-copy\n",
            "  return super().rename(\n"
          ]
        }
      ]
    },
    {
      "cell_type": "code",
      "source": [
        "df = df.reset_index(drop = True)"
      ],
      "metadata": {
        "id": "zWKKlL-M8GId"
      },
      "execution_count": 20,
      "outputs": []
    },
    {
      "cell_type": "code",
      "source": [
        "df.columns"
      ],
      "metadata": {
        "colab": {
          "base_uri": "https://localhost:8080/"
        },
        "id": "JQXT8YSToEU8",
        "outputId": "f6bea033-19df-4f40-b1cd-100afe4157f0"
      },
      "execution_count": 21,
      "outputs": [
        {
          "output_type": "execute_result",
          "data": {
            "text/plain": [
              "Index(['accountId', 'use_details', 'activity', 'entityId'], dtype='object')"
            ]
          },
          "metadata": {},
          "execution_count": 21
        }
      ]
    },
    {
      "cell_type": "code",
      "source": [],
      "metadata": {
        "id": "Kk4mpGLApQK5"
      },
      "execution_count": 21,
      "outputs": []
    },
    {
      "cell_type": "markdown",
      "source": [
        "## Extract text from details column"
      ],
      "metadata": {
        "id": "nC4LVQxw14aV"
      }
    },
    {
      "cell_type": "code",
      "source": [],
      "metadata": {
        "id": "lBs0zDIMm9ou"
      },
      "execution_count": 21,
      "outputs": []
    },
    {
      "cell_type": "code",
      "source": [
        "df.use_details[10]"
      ],
      "metadata": {
        "colab": {
          "base_uri": "https://localhost:8080/",
          "height": 53
        },
        "id": "wq-9kk7M0IuH",
        "outputId": "652b3dfc-4bc3-4643-cd06-da6e7d689bd3"
      },
      "execution_count": 22,
      "outputs": [
        {
          "output_type": "execute_result",
          "data": {
            "text/plain": [
              "\"{'LOCATION_STRING': ['Kerala'], 'KEYWORD': ['acp', 'exterior', 'glass', 'interior', 'structural glazing', 'truss'], 'VALUE': ['1000', '10000000']}\""
            ],
            "application/vnd.google.colaboratory.intrinsic+json": {
              "type": "string"
            }
          },
          "metadata": {},
          "execution_count": 22
        }
      ]
    },
    {
      "cell_type": "code",
      "source": [
        "json_data = json.loads(df.use_details[10].replace(\"'\", '\"'))\n",
        "json_val = [val for k, val in json_data.items() if not k == 'VALUE']"
      ],
      "metadata": {
        "id": "uDKSaIS02xtu"
      },
      "execution_count": 23,
      "outputs": []
    },
    {
      "cell_type": "code",
      "source": [
        "json_val"
      ],
      "metadata": {
        "colab": {
          "base_uri": "https://localhost:8080/"
        },
        "id": "0ptZeywL3pJ4",
        "outputId": "c7e62204-30fd-4004-ee22-c7eb9236e9ae"
      },
      "execution_count": 24,
      "outputs": [
        {
          "output_type": "execute_result",
          "data": {
            "text/plain": [
              "[['Kerala'],\n",
              " ['acp', 'exterior', 'glass', 'interior', 'structural glazing', 'truss']]"
            ]
          },
          "metadata": {},
          "execution_count": 24
        }
      ]
    },
    {
      "cell_type": "code",
      "source": [
        "def json_extractor_text(file):\n",
        "\n",
        "  corrected = file.replace(\"'\", '\"')\n",
        "  temp_data = json.loads(corrected)\n",
        "  \n",
        "  \n",
        "    \n",
        "  temp_value = [val for k, val in temp_data.items() if not k == 'VALUE']\n",
        "  \n",
        "  \n",
        "  \n",
        "  return ' '.join([item for sublist in temp_value for item in sublist])\n",
        "\n",
        "def json_extractor_arg(file):\n",
        "  try:\n",
        "    return json_extractor_text(file)\n",
        "  except:\n",
        "    return ''\n",
        "    \n",
        "\n"
      ],
      "metadata": {
        "id": "M4HO1puC19_3"
      },
      "execution_count": 25,
      "outputs": []
    },
    {
      "cell_type": "code",
      "source": [
        "def json_extractor_value(file):\n",
        "\n",
        "  corrected = file.replace(\"'\", '\"')\n",
        "  temp_data = json.loads(corrected)\n",
        "  \n",
        "  \n",
        "    \n",
        "  temp_value = [val for k, val in temp_data.items() if k == 'VALUE']\n",
        "  \n",
        "  \n",
        "  \n",
        "  return [int(item) for sublist in temp_value for item in sublist]\n",
        "\n",
        "def json_extractor_val_arg(file):\n",
        "  try:\n",
        "    return json_extractor_value(file)\n",
        "  except:\n",
        "    return ''"
      ],
      "metadata": {
        "id": "M8IY-fXoKMhd"
      },
      "execution_count": 26,
      "outputs": []
    },
    {
      "cell_type": "code",
      "source": [
        "json_extractor_text(df.use_details[4])"
      ],
      "metadata": {
        "colab": {
          "base_uri": "https://localhost:8080/",
          "height": 35
        },
        "id": "_tYfS5CaAXGP",
        "outputId": "f36100fd-571d-456b-d359-63ec76224c72"
      },
      "execution_count": 27,
      "outputs": [
        {
          "output_type": "execute_result",
          "data": {
            "text/plain": [
              "'Kerala acp exterior glass interior structural glazing truss'"
            ],
            "application/vnd.google.colaboratory.intrinsic+json": {
              "type": "string"
            }
          },
          "metadata": {},
          "execution_count": 27
        }
      ]
    },
    {
      "cell_type": "code",
      "source": [
        "df['details_text'] = df.use_details.apply(lambda x: json_extractor_arg(x))"
      ],
      "metadata": {
        "id": "-xQE3RW91PyD"
      },
      "execution_count": 28,
      "outputs": []
    },
    {
      "cell_type": "code",
      "source": [
        "df['details_value'] = df.use_details.apply(lambda x: json_extractor_val_arg(x))"
      ],
      "metadata": {
        "id": "oiLrTO3fKTzG"
      },
      "execution_count": 29,
      "outputs": []
    },
    {
      "cell_type": "code",
      "source": [
        "df['details_text'][0]"
      ],
      "metadata": {
        "colab": {
          "base_uri": "https://localhost:8080/",
          "height": 35
        },
        "id": "EDBNM33PD29b",
        "outputId": "e0e4168a-ce6d-478d-8309-2a41b99f6979"
      },
      "execution_count": 30,
      "outputs": [
        {
          "output_type": "execute_result",
          "data": {
            "text/plain": [
              "'Delhi House Keeping'"
            ],
            "application/vnd.google.colaboratory.intrinsic+json": {
              "type": "string"
            }
          },
          "metadata": {},
          "execution_count": 30
        }
      ]
    },
    {
      "cell_type": "code",
      "source": [
        "df['details_value'][10]"
      ],
      "metadata": {
        "colab": {
          "base_uri": "https://localhost:8080/"
        },
        "id": "N_EME_2zKl6v",
        "outputId": "b6f7a692-9f11-4735-ad8d-990d7f2e08c8"
      },
      "execution_count": 31,
      "outputs": [
        {
          "output_type": "execute_result",
          "data": {
            "text/plain": [
              "[1000, 10000000]"
            ]
          },
          "metadata": {},
          "execution_count": 31
        }
      ]
    },
    {
      "cell_type": "code",
      "source": [],
      "metadata": {
        "id": "A3r6farOnAn3"
      },
      "execution_count": 31,
      "outputs": []
    },
    {
      "cell_type": "markdown",
      "source": [
        "# performing NER to extract region information from details_text column."
      ],
      "metadata": {
        "id": "VrMcSgNIIswg"
      }
    },
    {
      "cell_type": "code",
      "source": [
        "! python -m spacy download en_core_web_lg"
      ],
      "metadata": {
        "colab": {
          "base_uri": "https://localhost:8080/"
        },
        "id": "VS7ZPqVDI2F3",
        "outputId": "fa8706cb-cfa1-4558-9142-1aab717d959e"
      },
      "execution_count": 32,
      "outputs": [
        {
          "output_type": "stream",
          "name": "stdout",
          "text": [
            "/usr/local/lib/python3.8/dist-packages/torch/cuda/__init__.py:497: UserWarning: Can't initialize NVML\n",
            "  warnings.warn(\"Can't initialize NVML\")\n",
            "2023-03-08 05:23:56.876266: W tensorflow/compiler/xla/stream_executor/platform/default/dso_loader.cc:64] Could not load dynamic library 'libnvinfer.so.7'; dlerror: libnvinfer.so.7: cannot open shared object file: No such file or directory; LD_LIBRARY_PATH: /usr/local/nvidia/lib:/usr/local/nvidia/lib64\n",
            "2023-03-08 05:23:56.876371: W tensorflow/compiler/xla/stream_executor/platform/default/dso_loader.cc:64] Could not load dynamic library 'libnvinfer_plugin.so.7'; dlerror: libnvinfer_plugin.so.7: cannot open shared object file: No such file or directory; LD_LIBRARY_PATH: /usr/local/nvidia/lib:/usr/local/nvidia/lib64\n",
            "2023-03-08 05:23:56.876391: W tensorflow/compiler/tf2tensorrt/utils/py_utils.cc:38] TF-TRT Warning: Cannot dlopen some TensorRT libraries. If you would like to use Nvidia GPU with TensorRT, please make sure the missing libraries mentioned above are installed properly.\n",
            "2023-03-08 05:23:58.200415: E tensorflow/compiler/xla/stream_executor/cuda/cuda_driver.cc:267] failed call to cuInit: CUDA_ERROR_NO_DEVICE: no CUDA-capable device is detected\n",
            "Looking in indexes: https://pypi.org/simple, https://us-python.pkg.dev/colab-wheels/public/simple/\n",
            "Collecting en-core-web-lg==3.4.1\n",
            "  Downloading https://github.com/explosion/spacy-models/releases/download/en_core_web_lg-3.4.1/en_core_web_lg-3.4.1-py3-none-any.whl (587.7 MB)\n",
            "\u001b[2K     \u001b[90m━━━━━━━━━━━━━━━━━━━━━━━━━━━━━━━━━━━━━━━\u001b[0m \u001b[32m587.7/587.7 MB\u001b[0m \u001b[31m2.0 MB/s\u001b[0m eta \u001b[36m0:00:00\u001b[0m\n",
            "\u001b[?25hRequirement already satisfied: spacy<3.5.0,>=3.4.0 in /usr/local/lib/python3.8/dist-packages (from en-core-web-lg==3.4.1) (3.4.4)\n",
            "Requirement already satisfied: murmurhash<1.1.0,>=0.28.0 in /usr/local/lib/python3.8/dist-packages (from spacy<3.5.0,>=3.4.0->en-core-web-lg==3.4.1) (1.0.9)\n",
            "Requirement already satisfied: smart-open<7.0.0,>=5.2.1 in /usr/local/lib/python3.8/dist-packages (from spacy<3.5.0,>=3.4.0->en-core-web-lg==3.4.1) (6.3.0)\n",
            "Requirement already satisfied: typer<0.8.0,>=0.3.0 in /usr/local/lib/python3.8/dist-packages (from spacy<3.5.0,>=3.4.0->en-core-web-lg==3.4.1) (0.7.0)\n",
            "Requirement already satisfied: cymem<2.1.0,>=2.0.2 in /usr/local/lib/python3.8/dist-packages (from spacy<3.5.0,>=3.4.0->en-core-web-lg==3.4.1) (2.0.7)\n",
            "Requirement already satisfied: thinc<8.2.0,>=8.1.0 in /usr/local/lib/python3.8/dist-packages (from spacy<3.5.0,>=3.4.0->en-core-web-lg==3.4.1) (8.1.8)\n",
            "Requirement already satisfied: numpy>=1.15.0 in /usr/local/lib/python3.8/dist-packages (from spacy<3.5.0,>=3.4.0->en-core-web-lg==3.4.1) (1.22.4)\n",
            "Requirement already satisfied: jinja2 in /usr/local/lib/python3.8/dist-packages (from spacy<3.5.0,>=3.4.0->en-core-web-lg==3.4.1) (3.1.2)\n",
            "Requirement already satisfied: spacy-loggers<2.0.0,>=1.0.0 in /usr/local/lib/python3.8/dist-packages (from spacy<3.5.0,>=3.4.0->en-core-web-lg==3.4.1) (1.0.4)\n",
            "Requirement already satisfied: packaging>=20.0 in /usr/local/lib/python3.8/dist-packages (from spacy<3.5.0,>=3.4.0->en-core-web-lg==3.4.1) (23.0)\n",
            "Requirement already satisfied: wasabi<1.1.0,>=0.9.1 in /usr/local/lib/python3.8/dist-packages (from spacy<3.5.0,>=3.4.0->en-core-web-lg==3.4.1) (0.10.1)\n",
            "Requirement already satisfied: preshed<3.1.0,>=3.0.2 in /usr/local/lib/python3.8/dist-packages (from spacy<3.5.0,>=3.4.0->en-core-web-lg==3.4.1) (3.0.8)\n",
            "Requirement already satisfied: setuptools in /usr/local/lib/python3.8/dist-packages (from spacy<3.5.0,>=3.4.0->en-core-web-lg==3.4.1) (57.4.0)\n",
            "Requirement already satisfied: pydantic!=1.8,!=1.8.1,<1.11.0,>=1.7.4 in /usr/local/lib/python3.8/dist-packages (from spacy<3.5.0,>=3.4.0->en-core-web-lg==3.4.1) (1.10.5)\n",
            "Requirement already satisfied: pathy>=0.3.5 in /usr/local/lib/python3.8/dist-packages (from spacy<3.5.0,>=3.4.0->en-core-web-lg==3.4.1) (0.10.1)\n",
            "Requirement already satisfied: catalogue<2.1.0,>=2.0.6 in /usr/local/lib/python3.8/dist-packages (from spacy<3.5.0,>=3.4.0->en-core-web-lg==3.4.1) (2.0.8)\n",
            "Requirement already satisfied: tqdm<5.0.0,>=4.38.0 in /usr/local/lib/python3.8/dist-packages (from spacy<3.5.0,>=3.4.0->en-core-web-lg==3.4.1) (4.64.1)\n",
            "Requirement already satisfied: srsly<3.0.0,>=2.4.3 in /usr/local/lib/python3.8/dist-packages (from spacy<3.5.0,>=3.4.0->en-core-web-lg==3.4.1) (2.4.6)\n",
            "Requirement already satisfied: langcodes<4.0.0,>=3.2.0 in /usr/local/lib/python3.8/dist-packages (from spacy<3.5.0,>=3.4.0->en-core-web-lg==3.4.1) (3.3.0)\n",
            "Requirement already satisfied: spacy-legacy<3.1.0,>=3.0.10 in /usr/local/lib/python3.8/dist-packages (from spacy<3.5.0,>=3.4.0->en-core-web-lg==3.4.1) (3.0.12)\n",
            "Requirement already satisfied: requests<3.0.0,>=2.13.0 in /usr/local/lib/python3.8/dist-packages (from spacy<3.5.0,>=3.4.0->en-core-web-lg==3.4.1) (2.25.1)\n",
            "Requirement already satisfied: typing-extensions>=4.2.0 in /usr/local/lib/python3.8/dist-packages (from pydantic!=1.8,!=1.8.1,<1.11.0,>=1.7.4->spacy<3.5.0,>=3.4.0->en-core-web-lg==3.4.1) (4.5.0)\n",
            "Requirement already satisfied: certifi>=2017.4.17 in /usr/local/lib/python3.8/dist-packages (from requests<3.0.0,>=2.13.0->spacy<3.5.0,>=3.4.0->en-core-web-lg==3.4.1) (2022.12.7)\n",
            "Requirement already satisfied: chardet<5,>=3.0.2 in /usr/local/lib/python3.8/dist-packages (from requests<3.0.0,>=2.13.0->spacy<3.5.0,>=3.4.0->en-core-web-lg==3.4.1) (4.0.0)\n",
            "Requirement already satisfied: urllib3<1.27,>=1.21.1 in /usr/local/lib/python3.8/dist-packages (from requests<3.0.0,>=2.13.0->spacy<3.5.0,>=3.4.0->en-core-web-lg==3.4.1) (1.26.14)\n",
            "Requirement already satisfied: idna<3,>=2.5 in /usr/local/lib/python3.8/dist-packages (from requests<3.0.0,>=2.13.0->spacy<3.5.0,>=3.4.0->en-core-web-lg==3.4.1) (2.10)\n",
            "Requirement already satisfied: blis<0.8.0,>=0.7.8 in /usr/local/lib/python3.8/dist-packages (from thinc<8.2.0,>=8.1.0->spacy<3.5.0,>=3.4.0->en-core-web-lg==3.4.1) (0.7.9)\n",
            "Requirement already satisfied: confection<1.0.0,>=0.0.1 in /usr/local/lib/python3.8/dist-packages (from thinc<8.2.0,>=8.1.0->spacy<3.5.0,>=3.4.0->en-core-web-lg==3.4.1) (0.0.4)\n",
            "Requirement already satisfied: click<9.0.0,>=7.1.1 in /usr/local/lib/python3.8/dist-packages (from typer<0.8.0,>=0.3.0->spacy<3.5.0,>=3.4.0->en-core-web-lg==3.4.1) (8.1.3)\n",
            "Requirement already satisfied: MarkupSafe>=2.0 in /usr/local/lib/python3.8/dist-packages (from jinja2->spacy<3.5.0,>=3.4.0->en-core-web-lg==3.4.1) (2.1.2)\n",
            "Installing collected packages: en-core-web-lg\n",
            "Successfully installed en-core-web-lg-3.4.1\n",
            "\u001b[38;5;2m✔ Download and installation successful\u001b[0m\n",
            "You can now load the package via spacy.load('en_core_web_lg')\n"
          ]
        }
      ]
    },
    {
      "cell_type": "code",
      "source": [
        "nlp = spacy.load(\"en_core_web_lg\")\n",
        "nlp"
      ],
      "metadata": {
        "colab": {
          "base_uri": "https://localhost:8080/"
        },
        "id": "-02O2sYZI2IM",
        "outputId": "a3efe69f-7d60-4c83-a736-08ea703e1503"
      },
      "execution_count": 33,
      "outputs": [
        {
          "output_type": "execute_result",
          "data": {
            "text/plain": [
              "<spacy.lang.en.English at 0x7f5531f4c550>"
            ]
          },
          "metadata": {},
          "execution_count": 33
        }
      ]
    },
    {
      "cell_type": "code",
      "source": [],
      "metadata": {
        "id": "ODqmenZwI2Kz"
      },
      "execution_count": 33,
      "outputs": []
    },
    {
      "cell_type": "code",
      "source": [
        "def extract_locations(text_data):\n",
        "  doc = nlp(text_data)\n",
        "  gpe = []\n",
        "  ent_lab = [e.label_ for e in doc.ents]\n",
        "  # all_ents = [e.label_ for e in doc.ents if e.label_ == 'GPE' or e.label_ == 'NORP' or e.label_ == 'LOC']\n",
        "  for ent in doc.ents:\n",
        "    if ent.label_ == 'GPE':\n",
        "      gpe.append(ent.text)\n",
        "    elif ent.label_ == 'NORP':\n",
        "      gpe.append(ent.text)\n",
        "    elif ent.label_ == 'LOC':\n",
        "      gpe.append(ent.text)\n",
        "    elif ent.label_ == 'ORG':\n",
        "      gpe.append(ent.text)\n",
        "    else:\n",
        "      None\n",
        "\n",
        "  return ' '.join(gpe)"
      ],
      "metadata": {
        "id": "xiRofDWb_tW4"
      },
      "execution_count": 34,
      "outputs": []
    },
    {
      "cell_type": "code",
      "source": [
        "extract_locations(df.details_text[5000])\n"
      ],
      "metadata": {
        "colab": {
          "base_uri": "https://localhost:8080/",
          "height": 35
        },
        "id": "lbkGwPLo5vXp",
        "outputId": "509ae392-6489-4614-a1db-b89ec40ebe4f"
      },
      "execution_count": 35,
      "outputs": [
        {
          "output_type": "execute_result",
          "data": {
            "text/plain": [
              "'IAF oxford rain'"
            ],
            "application/vnd.google.colaboratory.intrinsic+json": {
              "type": "string"
            }
          },
          "metadata": {},
          "execution_count": 35
        }
      ]
    },
    {
      "cell_type": "code",
      "source": [],
      "metadata": {
        "id": "Yb9PWAsjI25w"
      },
      "execution_count": 35,
      "outputs": []
    },
    {
      "cell_type": "markdown",
      "source": [],
      "metadata": {
        "id": "NccAHrUDJZrT"
      }
    },
    {
      "cell_type": "code",
      "source": [],
      "metadata": {
        "id": "7PhC6eaWJBfG"
      },
      "execution_count": 35,
      "outputs": []
    },
    {
      "cell_type": "markdown",
      "source": [
        "##### Not doing it now"
      ],
      "metadata": {
        "id": "oVgeRrKAp2aA"
      }
    },
    {
      "cell_type": "code",
      "source": [
        "# df['loc_details'] = df.details_text.apply(lambda x: extract_locations(x))"
      ],
      "metadata": {
        "id": "e7QgBgpHI2M4"
      },
      "execution_count": 36,
      "outputs": []
    },
    {
      "cell_type": "code",
      "source": [
        "# df['loc_details']"
      ],
      "metadata": {
        "id": "mqQw7tWM5mLY"
      },
      "execution_count": 37,
      "outputs": []
    },
    {
      "cell_type": "code",
      "source": [
        "def custom_aggregation(*args):\n",
        "  txt_list = []\n",
        "  \n",
        "  for arg in args:\n",
        "    arg = arg[4:]\n",
        "    \n",
        "    txt_list.append(arg)\n",
        "\n",
        "  if len(txt_list) >2 :\n",
        "\n",
        "    return np.unique(txt_list).tolist()\n",
        "\n",
        "  else:\n",
        "    \n",
        "    return txt_list\n"
      ],
      "metadata": {
        "id": "Z5N70EhH2uP9"
      },
      "execution_count": 38,
      "outputs": []
    },
    {
      "cell_type": "code",
      "source": [
        "df.columns"
      ],
      "metadata": {
        "colab": {
          "base_uri": "https://localhost:8080/"
        },
        "id": "mlb8UpPk0O3x",
        "outputId": "7a53b3f9-4308-4727-e387-b60015e4ae1f"
      },
      "execution_count": 39,
      "outputs": [
        {
          "output_type": "execute_result",
          "data": {
            "text/plain": [
              "Index(['accountId', 'use_details', 'activity', 'entityId', 'details_text',\n",
              "       'details_value'],\n",
              "      dtype='object')"
            ]
          },
          "metadata": {},
          "execution_count": 39
        }
      ]
    },
    {
      "cell_type": "code",
      "source": [
        "df_activity = df.groupby('accountId')['details_text'].apply(lambda x: custom_aggregation(x)).to_frame()"
      ],
      "metadata": {
        "id": "0rTBHzxow57O"
      },
      "execution_count": 40,
      "outputs": []
    },
    {
      "cell_type": "code",
      "source": [
        "df_activity.reset_index(inplace = True)"
      ],
      "metadata": {
        "id": "b35rHVajxGXS"
      },
      "execution_count": 41,
      "outputs": []
    },
    {
      "cell_type": "code",
      "source": [
        "len(df_activity.details_text[0])"
      ],
      "metadata": {
        "colab": {
          "base_uri": "https://localhost:8080/"
        },
        "id": "V7IxLD7GxIHe",
        "outputId": "5c6d1473-d344-4e22-e065-913b5f990ee7"
      },
      "execution_count": 42,
      "outputs": [
        {
          "output_type": "execute_result",
          "data": {
            "text/plain": [
              "1"
            ]
          },
          "metadata": {},
          "execution_count": 42
        }
      ]
    },
    {
      "cell_type": "code",
      "source": [
        "df_activity.head()"
      ],
      "metadata": {
        "colab": {
          "base_uri": "https://localhost:8080/",
          "height": 206
        },
        "id": "r1NSQcwkgLyK",
        "outputId": "7c514ec8-42c8-48d3-ee3c-2f255691dcb0"
      },
      "execution_count": 43,
      "outputs": [
        {
          "output_type": "execute_result",
          "data": {
            "text/plain": [
              "             accountId                                       details_text\n",
              "0  6076439132127629518                                               [[]]\n",
              "1  6090418399291119165                                               [[]]\n",
              "2  6148417430046643859  [[Andhra Pradesh Telangana Krishna, Andhra Pra...\n",
              "3  6180975557690267471  [[19 inch rack Angle Bracket for Step Hanger E...\n",
              "4  6261728811314844815  [[3D PRINTING  CMM INSPECTIONS  Furniture GI W..."
            ],
            "text/html": [
              "\n",
              "  <div id=\"df-bf7c9408-8f4a-402b-8617-c05af12a972b\">\n",
              "    <div class=\"colab-df-container\">\n",
              "      <div>\n",
              "<style scoped>\n",
              "    .dataframe tbody tr th:only-of-type {\n",
              "        vertical-align: middle;\n",
              "    }\n",
              "\n",
              "    .dataframe tbody tr th {\n",
              "        vertical-align: top;\n",
              "    }\n",
              "\n",
              "    .dataframe thead th {\n",
              "        text-align: right;\n",
              "    }\n",
              "</style>\n",
              "<table border=\"1\" class=\"dataframe\">\n",
              "  <thead>\n",
              "    <tr style=\"text-align: right;\">\n",
              "      <th></th>\n",
              "      <th>accountId</th>\n",
              "      <th>details_text</th>\n",
              "    </tr>\n",
              "  </thead>\n",
              "  <tbody>\n",
              "    <tr>\n",
              "      <th>0</th>\n",
              "      <td>6076439132127629518</td>\n",
              "      <td>[[]]</td>\n",
              "    </tr>\n",
              "    <tr>\n",
              "      <th>1</th>\n",
              "      <td>6090418399291119165</td>\n",
              "      <td>[[]]</td>\n",
              "    </tr>\n",
              "    <tr>\n",
              "      <th>2</th>\n",
              "      <td>6148417430046643859</td>\n",
              "      <td>[[Andhra Pradesh Telangana Krishna, Andhra Pra...</td>\n",
              "    </tr>\n",
              "    <tr>\n",
              "      <th>3</th>\n",
              "      <td>6180975557690267471</td>\n",
              "      <td>[[19 inch rack Angle Bracket for Step Hanger E...</td>\n",
              "    </tr>\n",
              "    <tr>\n",
              "      <th>4</th>\n",
              "      <td>6261728811314844815</td>\n",
              "      <td>[[3D PRINTING  CMM INSPECTIONS  Furniture GI W...</td>\n",
              "    </tr>\n",
              "  </tbody>\n",
              "</table>\n",
              "</div>\n",
              "      <button class=\"colab-df-convert\" onclick=\"convertToInteractive('df-bf7c9408-8f4a-402b-8617-c05af12a972b')\"\n",
              "              title=\"Convert this dataframe to an interactive table.\"\n",
              "              style=\"display:none;\">\n",
              "        \n",
              "  <svg xmlns=\"http://www.w3.org/2000/svg\" height=\"24px\"viewBox=\"0 0 24 24\"\n",
              "       width=\"24px\">\n",
              "    <path d=\"M0 0h24v24H0V0z\" fill=\"none\"/>\n",
              "    <path d=\"M18.56 5.44l.94 2.06.94-2.06 2.06-.94-2.06-.94-.94-2.06-.94 2.06-2.06.94zm-11 1L8.5 8.5l.94-2.06 2.06-.94-2.06-.94L8.5 2.5l-.94 2.06-2.06.94zm10 10l.94 2.06.94-2.06 2.06-.94-2.06-.94-.94-2.06-.94 2.06-2.06.94z\"/><path d=\"M17.41 7.96l-1.37-1.37c-.4-.4-.92-.59-1.43-.59-.52 0-1.04.2-1.43.59L10.3 9.45l-7.72 7.72c-.78.78-.78 2.05 0 2.83L4 21.41c.39.39.9.59 1.41.59.51 0 1.02-.2 1.41-.59l7.78-7.78 2.81-2.81c.8-.78.8-2.07 0-2.86zM5.41 20L4 18.59l7.72-7.72 1.47 1.35L5.41 20z\"/>\n",
              "  </svg>\n",
              "      </button>\n",
              "      \n",
              "  <style>\n",
              "    .colab-df-container {\n",
              "      display:flex;\n",
              "      flex-wrap:wrap;\n",
              "      gap: 12px;\n",
              "    }\n",
              "\n",
              "    .colab-df-convert {\n",
              "      background-color: #E8F0FE;\n",
              "      border: none;\n",
              "      border-radius: 50%;\n",
              "      cursor: pointer;\n",
              "      display: none;\n",
              "      fill: #1967D2;\n",
              "      height: 32px;\n",
              "      padding: 0 0 0 0;\n",
              "      width: 32px;\n",
              "    }\n",
              "\n",
              "    .colab-df-convert:hover {\n",
              "      background-color: #E2EBFA;\n",
              "      box-shadow: 0px 1px 2px rgba(60, 64, 67, 0.3), 0px 1px 3px 1px rgba(60, 64, 67, 0.15);\n",
              "      fill: #174EA6;\n",
              "    }\n",
              "\n",
              "    [theme=dark] .colab-df-convert {\n",
              "      background-color: #3B4455;\n",
              "      fill: #D2E3FC;\n",
              "    }\n",
              "\n",
              "    [theme=dark] .colab-df-convert:hover {\n",
              "      background-color: #434B5C;\n",
              "      box-shadow: 0px 1px 3px 1px rgba(0, 0, 0, 0.15);\n",
              "      filter: drop-shadow(0px 1px 2px rgba(0, 0, 0, 0.3));\n",
              "      fill: #FFFFFF;\n",
              "    }\n",
              "  </style>\n",
              "\n",
              "      <script>\n",
              "        const buttonEl =\n",
              "          document.querySelector('#df-bf7c9408-8f4a-402b-8617-c05af12a972b button.colab-df-convert');\n",
              "        buttonEl.style.display =\n",
              "          google.colab.kernel.accessAllowed ? 'block' : 'none';\n",
              "\n",
              "        async function convertToInteractive(key) {\n",
              "          const element = document.querySelector('#df-bf7c9408-8f4a-402b-8617-c05af12a972b');\n",
              "          const dataTable =\n",
              "            await google.colab.kernel.invokeFunction('convertToInteractive',\n",
              "                                                     [key], {});\n",
              "          if (!dataTable) return;\n",
              "\n",
              "          const docLinkHtml = 'Like what you see? Visit the ' +\n",
              "            '<a target=\"_blank\" href=https://colab.research.google.com/notebooks/data_table.ipynb>data table notebook</a>'\n",
              "            + ' to learn more about interactive tables.';\n",
              "          element.innerHTML = '';\n",
              "          dataTable['output_type'] = 'display_data';\n",
              "          await google.colab.output.renderOutput(dataTable, element);\n",
              "          const docLink = document.createElement('div');\n",
              "          docLink.innerHTML = docLinkHtml;\n",
              "          element.appendChild(docLink);\n",
              "        }\n",
              "      </script>\n",
              "    </div>\n",
              "  </div>\n",
              "  "
            ]
          },
          "metadata": {},
          "execution_count": 43
        }
      ]
    },
    {
      "cell_type": "code",
      "source": [
        "df_activity.details_text[30]"
      ],
      "metadata": {
        "colab": {
          "base_uri": "https://localhost:8080/"
        },
        "id": "sl9ok5iZgL1h",
        "outputId": "26d56806-4cfd-4137-f870-2834a3307860"
      },
      "execution_count": 44,
      "outputs": [
        {
          "output_type": "execute_result",
          "data": {
            "text/plain": [
              "[2046    Plant and machinery scrap\n",
              " 2047    Plant and machinery scrap\n",
              " 2048    Plant and machinery scrap\n",
              " 2049    Plant and machinery scrap\n",
              " 2050    Plant and machinery scrap\n",
              " 2051    Plant and machinery scrap\n",
              " Name: 6384313597467562204, dtype: object]"
            ]
          },
          "metadata": {},
          "execution_count": 44
        }
      ]
    },
    {
      "cell_type": "code",
      "source": [],
      "metadata": {
        "id": "_HS-2kXagL6d"
      },
      "execution_count": 44,
      "outputs": []
    },
    {
      "cell_type": "markdown",
      "source": [
        "# modify items df"
      ],
      "metadata": {
        "id": "oAP5mcNeJ4ZP"
      }
    },
    {
      "cell_type": "code",
      "source": [
        "items.head()"
      ],
      "metadata": {
        "colab": {
          "base_uri": "https://localhost:8080/",
          "height": 511
        },
        "id": "AsTLgmh8Iej9",
        "outputId": "d6aff195-2ad7-4e9f-ac95-67ae7ae8e284"
      },
      "execution_count": 45,
      "outputs": [
        {
          "output_type": "execute_result",
          "data": {
            "text/plain": [
              "                                     id  \\\n",
              "0  7e5e42eb-de7d-4b63-bd8c-9a842c445e66   \n",
              "1  828d3851-105f-4c24-ae68-c5b24597c7e7   \n",
              "2  673074b9-8592-4682-a4e4-ee388a1d86c5   \n",
              "3  836737ee-1d1d-4ae7-86f8-0c5abb8823c4   \n",
              "4  929d94a1-0921-4625-9630-2720ee762f50   \n",
              "\n",
              "                                          authority  publishingDate  \\\n",
              "0                  Directorate Of Rural Development    1.645277e+12   \n",
              "1  Jharkhand State Rural Road Development Authority    1.645247e+12   \n",
              "2  Jharkhand State Rural Road Development Authority    1.645247e+12   \n",
              "3  Jharkhand State Rural Road Development Authority    1.645247e+12   \n",
              "4                      Rural Development Department    1.645270e+12   \n",
              "\n",
              "    bidDeadline       value        emd     status  \\\n",
              "0  1.645787e+12    300000.0     6000.0  CANCELLED   \n",
              "1  1.646048e+12  16861000.0   339000.0  PUBLISHED   \n",
              "2  1.646048e+12  32778000.0   656000.0  PUBLISHED   \n",
              "3  1.646048e+12  52264000.0  1045000.0  PUBLISHED   \n",
              "4  1.645760e+12    375755.0        NaN   ARCHIVED   \n",
              "\n",
              "                                           locations  \\\n",
              "0   [{'state': 'Jammu & Kashmir', 'city': 'Kathua'}]   \n",
              "1         [{'state': 'Jharkhand', 'city': 'Ranchi'}]   \n",
              "2  [{'state': 'Jharkhand', 'city': 'West Singhbhu...   \n",
              "3         [{'state': 'Jharkhand', 'city': 'Garhwa'}]   \n",
              "4       [{'state': 'Maharashtra', 'city': 'Nanded'}]   \n",
              "\n",
              "                                             details  \n",
              "0  Construction Of Community Sanitary Complex Uni...  \n",
              "1              Repair And Maintenance Of Pmgsy Roads  \n",
              "2              Repair And Maintenance Of Pmgsy Roads  \n",
              "3              Repair And Maintenance Of Pmgsy Roads  \n",
              "4  Construction Of Closed C.c. Drain / Road At Da...  "
            ],
            "text/html": [
              "\n",
              "  <div id=\"df-59b154e3-ef9e-46bb-9c5f-f14aa8de9f0e\">\n",
              "    <div class=\"colab-df-container\">\n",
              "      <div>\n",
              "<style scoped>\n",
              "    .dataframe tbody tr th:only-of-type {\n",
              "        vertical-align: middle;\n",
              "    }\n",
              "\n",
              "    .dataframe tbody tr th {\n",
              "        vertical-align: top;\n",
              "    }\n",
              "\n",
              "    .dataframe thead th {\n",
              "        text-align: right;\n",
              "    }\n",
              "</style>\n",
              "<table border=\"1\" class=\"dataframe\">\n",
              "  <thead>\n",
              "    <tr style=\"text-align: right;\">\n",
              "      <th></th>\n",
              "      <th>id</th>\n",
              "      <th>authority</th>\n",
              "      <th>publishingDate</th>\n",
              "      <th>bidDeadline</th>\n",
              "      <th>value</th>\n",
              "      <th>emd</th>\n",
              "      <th>status</th>\n",
              "      <th>locations</th>\n",
              "      <th>details</th>\n",
              "    </tr>\n",
              "  </thead>\n",
              "  <tbody>\n",
              "    <tr>\n",
              "      <th>0</th>\n",
              "      <td>7e5e42eb-de7d-4b63-bd8c-9a842c445e66</td>\n",
              "      <td>Directorate Of Rural Development</td>\n",
              "      <td>1.645277e+12</td>\n",
              "      <td>1.645787e+12</td>\n",
              "      <td>300000.0</td>\n",
              "      <td>6000.0</td>\n",
              "      <td>CANCELLED</td>\n",
              "      <td>[{'state': 'Jammu &amp; Kashmir', 'city': 'Kathua'}]</td>\n",
              "      <td>Construction Of Community Sanitary Complex Uni...</td>\n",
              "    </tr>\n",
              "    <tr>\n",
              "      <th>1</th>\n",
              "      <td>828d3851-105f-4c24-ae68-c5b24597c7e7</td>\n",
              "      <td>Jharkhand State Rural Road Development Authority</td>\n",
              "      <td>1.645247e+12</td>\n",
              "      <td>1.646048e+12</td>\n",
              "      <td>16861000.0</td>\n",
              "      <td>339000.0</td>\n",
              "      <td>PUBLISHED</td>\n",
              "      <td>[{'state': 'Jharkhand', 'city': 'Ranchi'}]</td>\n",
              "      <td>Repair And Maintenance Of Pmgsy Roads</td>\n",
              "    </tr>\n",
              "    <tr>\n",
              "      <th>2</th>\n",
              "      <td>673074b9-8592-4682-a4e4-ee388a1d86c5</td>\n",
              "      <td>Jharkhand State Rural Road Development Authority</td>\n",
              "      <td>1.645247e+12</td>\n",
              "      <td>1.646048e+12</td>\n",
              "      <td>32778000.0</td>\n",
              "      <td>656000.0</td>\n",
              "      <td>PUBLISHED</td>\n",
              "      <td>[{'state': 'Jharkhand', 'city': 'West Singhbhu...</td>\n",
              "      <td>Repair And Maintenance Of Pmgsy Roads</td>\n",
              "    </tr>\n",
              "    <tr>\n",
              "      <th>3</th>\n",
              "      <td>836737ee-1d1d-4ae7-86f8-0c5abb8823c4</td>\n",
              "      <td>Jharkhand State Rural Road Development Authority</td>\n",
              "      <td>1.645247e+12</td>\n",
              "      <td>1.646048e+12</td>\n",
              "      <td>52264000.0</td>\n",
              "      <td>1045000.0</td>\n",
              "      <td>PUBLISHED</td>\n",
              "      <td>[{'state': 'Jharkhand', 'city': 'Garhwa'}]</td>\n",
              "      <td>Repair And Maintenance Of Pmgsy Roads</td>\n",
              "    </tr>\n",
              "    <tr>\n",
              "      <th>4</th>\n",
              "      <td>929d94a1-0921-4625-9630-2720ee762f50</td>\n",
              "      <td>Rural Development Department</td>\n",
              "      <td>1.645270e+12</td>\n",
              "      <td>1.645760e+12</td>\n",
              "      <td>375755.0</td>\n",
              "      <td>NaN</td>\n",
              "      <td>ARCHIVED</td>\n",
              "      <td>[{'state': 'Maharashtra', 'city': 'Nanded'}]</td>\n",
              "      <td>Construction Of Closed C.c. Drain / Road At Da...</td>\n",
              "    </tr>\n",
              "  </tbody>\n",
              "</table>\n",
              "</div>\n",
              "      <button class=\"colab-df-convert\" onclick=\"convertToInteractive('df-59b154e3-ef9e-46bb-9c5f-f14aa8de9f0e')\"\n",
              "              title=\"Convert this dataframe to an interactive table.\"\n",
              "              style=\"display:none;\">\n",
              "        \n",
              "  <svg xmlns=\"http://www.w3.org/2000/svg\" height=\"24px\"viewBox=\"0 0 24 24\"\n",
              "       width=\"24px\">\n",
              "    <path d=\"M0 0h24v24H0V0z\" fill=\"none\"/>\n",
              "    <path d=\"M18.56 5.44l.94 2.06.94-2.06 2.06-.94-2.06-.94-.94-2.06-.94 2.06-2.06.94zm-11 1L8.5 8.5l.94-2.06 2.06-.94-2.06-.94L8.5 2.5l-.94 2.06-2.06.94zm10 10l.94 2.06.94-2.06 2.06-.94-2.06-.94-.94-2.06-.94 2.06-2.06.94z\"/><path d=\"M17.41 7.96l-1.37-1.37c-.4-.4-.92-.59-1.43-.59-.52 0-1.04.2-1.43.59L10.3 9.45l-7.72 7.72c-.78.78-.78 2.05 0 2.83L4 21.41c.39.39.9.59 1.41.59.51 0 1.02-.2 1.41-.59l7.78-7.78 2.81-2.81c.8-.78.8-2.07 0-2.86zM5.41 20L4 18.59l7.72-7.72 1.47 1.35L5.41 20z\"/>\n",
              "  </svg>\n",
              "      </button>\n",
              "      \n",
              "  <style>\n",
              "    .colab-df-container {\n",
              "      display:flex;\n",
              "      flex-wrap:wrap;\n",
              "      gap: 12px;\n",
              "    }\n",
              "\n",
              "    .colab-df-convert {\n",
              "      background-color: #E8F0FE;\n",
              "      border: none;\n",
              "      border-radius: 50%;\n",
              "      cursor: pointer;\n",
              "      display: none;\n",
              "      fill: #1967D2;\n",
              "      height: 32px;\n",
              "      padding: 0 0 0 0;\n",
              "      width: 32px;\n",
              "    }\n",
              "\n",
              "    .colab-df-convert:hover {\n",
              "      background-color: #E2EBFA;\n",
              "      box-shadow: 0px 1px 2px rgba(60, 64, 67, 0.3), 0px 1px 3px 1px rgba(60, 64, 67, 0.15);\n",
              "      fill: #174EA6;\n",
              "    }\n",
              "\n",
              "    [theme=dark] .colab-df-convert {\n",
              "      background-color: #3B4455;\n",
              "      fill: #D2E3FC;\n",
              "    }\n",
              "\n",
              "    [theme=dark] .colab-df-convert:hover {\n",
              "      background-color: #434B5C;\n",
              "      box-shadow: 0px 1px 3px 1px rgba(0, 0, 0, 0.15);\n",
              "      filter: drop-shadow(0px 1px 2px rgba(0, 0, 0, 0.3));\n",
              "      fill: #FFFFFF;\n",
              "    }\n",
              "  </style>\n",
              "\n",
              "      <script>\n",
              "        const buttonEl =\n",
              "          document.querySelector('#df-59b154e3-ef9e-46bb-9c5f-f14aa8de9f0e button.colab-df-convert');\n",
              "        buttonEl.style.display =\n",
              "          google.colab.kernel.accessAllowed ? 'block' : 'none';\n",
              "\n",
              "        async function convertToInteractive(key) {\n",
              "          const element = document.querySelector('#df-59b154e3-ef9e-46bb-9c5f-f14aa8de9f0e');\n",
              "          const dataTable =\n",
              "            await google.colab.kernel.invokeFunction('convertToInteractive',\n",
              "                                                     [key], {});\n",
              "          if (!dataTable) return;\n",
              "\n",
              "          const docLinkHtml = 'Like what you see? Visit the ' +\n",
              "            '<a target=\"_blank\" href=https://colab.research.google.com/notebooks/data_table.ipynb>data table notebook</a>'\n",
              "            + ' to learn more about interactive tables.';\n",
              "          element.innerHTML = '';\n",
              "          dataTable['output_type'] = 'display_data';\n",
              "          await google.colab.output.renderOutput(dataTable, element);\n",
              "          const docLink = document.createElement('div');\n",
              "          docLink.innerHTML = docLinkHtml;\n",
              "          element.appendChild(docLink);\n",
              "        }\n",
              "      </script>\n",
              "    </div>\n",
              "  </div>\n",
              "  "
            ]
          },
          "metadata": {},
          "execution_count": 45
        }
      ]
    },
    {
      "cell_type": "code",
      "source": [
        "def json_extractor_state(file):\n",
        "\n",
        "  corrected = file.replace(\"'\", '\"')\n",
        "  temp_data = json.loads(corrected)\n",
        "  \n",
        "  \n",
        "    \n",
        "  temp_value = [val for k, val in temp_data[0].items() if k == 'state']\n",
        "  \n",
        "  \n",
        "  \n",
        "  return ''.join([item for sublist in temp_value for item in sublist])\n",
        "  # return temp_data\n",
        "\n",
        "def json_extractor_state_arg(file):\n",
        "  try:\n",
        "    return json_extractor_state(file)\n",
        "  except:\n",
        "    return ''"
      ],
      "metadata": {
        "id": "2xQ9AX2iJ8w2"
      },
      "execution_count": 46,
      "outputs": []
    },
    {
      "cell_type": "code",
      "source": [
        "json_extractor_state(items.locations[0])"
      ],
      "metadata": {
        "colab": {
          "base_uri": "https://localhost:8080/",
          "height": 35
        },
        "id": "1BQuatFKL0JO",
        "outputId": "a7f7a34a-3c2f-4d35-ad30-d62ed4f1fc29"
      },
      "execution_count": 47,
      "outputs": [
        {
          "output_type": "execute_result",
          "data": {
            "text/plain": [
              "'Jammu & Kashmir'"
            ],
            "application/vnd.google.colaboratory.intrinsic+json": {
              "type": "string"
            }
          },
          "metadata": {},
          "execution_count": 47
        }
      ]
    },
    {
      "cell_type": "code",
      "source": [
        "items['state'] = items.locations.apply(lambda x: json_extractor_state_arg(x))"
      ],
      "metadata": {
        "id": "2DKOpIgQJ834"
      },
      "execution_count": 48,
      "outputs": []
    },
    {
      "cell_type": "code",
      "source": [
        "items['state']"
      ],
      "metadata": {
        "colab": {
          "base_uri": "https://localhost:8080/"
        },
        "id": "au4XonoWJ86c",
        "outputId": "0dbdce77-084b-4b9b-b409-786c93307005"
      },
      "execution_count": 49,
      "outputs": [
        {
          "output_type": "execute_result",
          "data": {
            "text/plain": [
              "0        Jammu & Kashmir\n",
              "1              Jharkhand\n",
              "2              Jharkhand\n",
              "3              Jharkhand\n",
              "4            Maharashtra\n",
              "              ...       \n",
              "76218    Jammu & Kashmir\n",
              "76219    Jammu & Kashmir\n",
              "76220    Jammu & Kashmir\n",
              "76221    Jammu & Kashmir\n",
              "76222    Jammu & Kashmir\n",
              "Name: state, Length: 76223, dtype: object"
            ]
          },
          "metadata": {},
          "execution_count": 49
        }
      ]
    },
    {
      "cell_type": "code",
      "source": [
        "items.isnull().sum()"
      ],
      "metadata": {
        "colab": {
          "base_uri": "https://localhost:8080/"
        },
        "id": "EUbPq6taJ89U",
        "outputId": "98acad90-3ea1-4c33-917f-37738c03f7bd"
      },
      "execution_count": 50,
      "outputs": [
        {
          "output_type": "execute_result",
          "data": {
            "text/plain": [
              "id                    0\n",
              "authority            50\n",
              "publishingDate      108\n",
              "bidDeadline          78\n",
              "value             30266\n",
              "emd               38693\n",
              "status               50\n",
              "locations            50\n",
              "details              51\n",
              "state                 0\n",
              "dtype: int64"
            ]
          },
          "metadata": {},
          "execution_count": 50
        }
      ]
    },
    {
      "cell_type": "code",
      "source": [
        "items = items[items['details'].notna()].copy()"
      ],
      "metadata": {
        "id": "zFmRtQGjNTRa"
      },
      "execution_count": 51,
      "outputs": []
    },
    {
      "cell_type": "code",
      "source": [
        "items.isnull().sum()"
      ],
      "metadata": {
        "colab": {
          "base_uri": "https://localhost:8080/"
        },
        "id": "_hwbgJYhNfJU",
        "outputId": "5fc7b724-6c66-42e3-830a-d14ab870f2a8"
      },
      "execution_count": 52,
      "outputs": [
        {
          "output_type": "execute_result",
          "data": {
            "text/plain": [
              "id                    0\n",
              "authority             0\n",
              "publishingDate       58\n",
              "bidDeadline          28\n",
              "value             30215\n",
              "emd               38642\n",
              "status                0\n",
              "locations             0\n",
              "details               0\n",
              "state                 0\n",
              "dtype: int64"
            ]
          },
          "metadata": {},
          "execution_count": 52
        }
      ]
    },
    {
      "cell_type": "code",
      "source": [
        "df.shape"
      ],
      "metadata": {
        "colab": {
          "base_uri": "https://localhost:8080/"
        },
        "id": "Cb2bnhhA_8wL",
        "outputId": "07ea7591-6697-4e73-d442-751f846ec31c"
      },
      "execution_count": 53,
      "outputs": [
        {
          "output_type": "execute_result",
          "data": {
            "text/plain": [
              "(31742, 6)"
            ]
          },
          "metadata": {},
          "execution_count": 53
        }
      ]
    },
    {
      "cell_type": "code",
      "source": [
        "# def custom_aggregation(*args):\n",
        "#   txt_list = []\n",
        "#   for arg in args:\n",
        "#     arg = arg[8:]\n",
        "#     txt_list.append(arg)\n",
        "#   if len(txt_list) > 1:\n",
        "#     res =  np.unique(txt_list).tolist()\n",
        "#   else: \n",
        "#     res =  txt_list\n",
        "#   return res\n",
        "\n",
        "\n",
        "  \n"
      ],
      "metadata": {
        "id": "jJ3F3vE9jLCG"
      },
      "execution_count": 54,
      "outputs": []
    },
    {
      "cell_type": "code",
      "source": [
        "# custom_aggregation('oneoneone', 'oneoneone', 'twotwo', 'three')"
      ],
      "metadata": {
        "id": "bLkL30tTlhD8"
      },
      "execution_count": 55,
      "outputs": []
    },
    {
      "cell_type": "code",
      "source": [
        "# df.columns"
      ],
      "metadata": {
        "id": "i7viV2ZijZzq"
      },
      "execution_count": 56,
      "outputs": []
    },
    {
      "cell_type": "code",
      "source": [
        "# df_group = df.groupby('accountId')['details_text'].apply(lambda x: custom_aggregation(x)).to_frame()"
      ],
      "metadata": {
        "id": "8UcuDWWcjLMg"
      },
      "execution_count": 57,
      "outputs": []
    },
    {
      "cell_type": "code",
      "source": [
        "df_group = df.groupby('accountId')['details_text'].apply(list).to_frame()"
      ],
      "metadata": {
        "id": "vQhelc7WmoS5"
      },
      "execution_count": 58,
      "outputs": []
    },
    {
      "cell_type": "code",
      "source": [
        "df_group = df_group.reset_index()"
      ],
      "metadata": {
        "id": "4Rd9nGpZjfGv"
      },
      "execution_count": 59,
      "outputs": []
    },
    {
      "cell_type": "code",
      "source": [
        "df_group.head()"
      ],
      "metadata": {
        "colab": {
          "base_uri": "https://localhost:8080/",
          "height": 206
        },
        "id": "DZHQC2NGlH-P",
        "outputId": "341f3a93-dfdc-4d19-e970-d68edcd8982c"
      },
      "execution_count": 60,
      "outputs": [
        {
          "output_type": "execute_result",
          "data": {
            "text/plain": [
              "             accountId                                       details_text\n",
              "0  6076439132127629518  [Andhra Pradesh Administration All ASTM D Buil...\n",
              "1  6090418399291119165  [ENABLE_EXACT_SEARCH ERW Black Pipe ERW Pipes ...\n",
              "2  6148417430046643859  [Andhra Pradesh Telangana Krishna, Andhra Prad...\n",
              "3  6180975557690267471  [19 inch rack Angle Bracket for Step Hanger En...\n",
              "4  6261728811314844815  [3D PRINTING  CMM INSPECTIONS  Furniture GI Wi..."
            ],
            "text/html": [
              "\n",
              "  <div id=\"df-72f6d321-1c28-4f59-b95c-b3b6e833a4c3\">\n",
              "    <div class=\"colab-df-container\">\n",
              "      <div>\n",
              "<style scoped>\n",
              "    .dataframe tbody tr th:only-of-type {\n",
              "        vertical-align: middle;\n",
              "    }\n",
              "\n",
              "    .dataframe tbody tr th {\n",
              "        vertical-align: top;\n",
              "    }\n",
              "\n",
              "    .dataframe thead th {\n",
              "        text-align: right;\n",
              "    }\n",
              "</style>\n",
              "<table border=\"1\" class=\"dataframe\">\n",
              "  <thead>\n",
              "    <tr style=\"text-align: right;\">\n",
              "      <th></th>\n",
              "      <th>accountId</th>\n",
              "      <th>details_text</th>\n",
              "    </tr>\n",
              "  </thead>\n",
              "  <tbody>\n",
              "    <tr>\n",
              "      <th>0</th>\n",
              "      <td>6076439132127629518</td>\n",
              "      <td>[Andhra Pradesh Administration All ASTM D Buil...</td>\n",
              "    </tr>\n",
              "    <tr>\n",
              "      <th>1</th>\n",
              "      <td>6090418399291119165</td>\n",
              "      <td>[ENABLE_EXACT_SEARCH ERW Black Pipe ERW Pipes ...</td>\n",
              "    </tr>\n",
              "    <tr>\n",
              "      <th>2</th>\n",
              "      <td>6148417430046643859</td>\n",
              "      <td>[Andhra Pradesh Telangana Krishna, Andhra Prad...</td>\n",
              "    </tr>\n",
              "    <tr>\n",
              "      <th>3</th>\n",
              "      <td>6180975557690267471</td>\n",
              "      <td>[19 inch rack Angle Bracket for Step Hanger En...</td>\n",
              "    </tr>\n",
              "    <tr>\n",
              "      <th>4</th>\n",
              "      <td>6261728811314844815</td>\n",
              "      <td>[3D PRINTING  CMM INSPECTIONS  Furniture GI Wi...</td>\n",
              "    </tr>\n",
              "  </tbody>\n",
              "</table>\n",
              "</div>\n",
              "      <button class=\"colab-df-convert\" onclick=\"convertToInteractive('df-72f6d321-1c28-4f59-b95c-b3b6e833a4c3')\"\n",
              "              title=\"Convert this dataframe to an interactive table.\"\n",
              "              style=\"display:none;\">\n",
              "        \n",
              "  <svg xmlns=\"http://www.w3.org/2000/svg\" height=\"24px\"viewBox=\"0 0 24 24\"\n",
              "       width=\"24px\">\n",
              "    <path d=\"M0 0h24v24H0V0z\" fill=\"none\"/>\n",
              "    <path d=\"M18.56 5.44l.94 2.06.94-2.06 2.06-.94-2.06-.94-.94-2.06-.94 2.06-2.06.94zm-11 1L8.5 8.5l.94-2.06 2.06-.94-2.06-.94L8.5 2.5l-.94 2.06-2.06.94zm10 10l.94 2.06.94-2.06 2.06-.94-2.06-.94-.94-2.06-.94 2.06-2.06.94z\"/><path d=\"M17.41 7.96l-1.37-1.37c-.4-.4-.92-.59-1.43-.59-.52 0-1.04.2-1.43.59L10.3 9.45l-7.72 7.72c-.78.78-.78 2.05 0 2.83L4 21.41c.39.39.9.59 1.41.59.51 0 1.02-.2 1.41-.59l7.78-7.78 2.81-2.81c.8-.78.8-2.07 0-2.86zM5.41 20L4 18.59l7.72-7.72 1.47 1.35L5.41 20z\"/>\n",
              "  </svg>\n",
              "      </button>\n",
              "      \n",
              "  <style>\n",
              "    .colab-df-container {\n",
              "      display:flex;\n",
              "      flex-wrap:wrap;\n",
              "      gap: 12px;\n",
              "    }\n",
              "\n",
              "    .colab-df-convert {\n",
              "      background-color: #E8F0FE;\n",
              "      border: none;\n",
              "      border-radius: 50%;\n",
              "      cursor: pointer;\n",
              "      display: none;\n",
              "      fill: #1967D2;\n",
              "      height: 32px;\n",
              "      padding: 0 0 0 0;\n",
              "      width: 32px;\n",
              "    }\n",
              "\n",
              "    .colab-df-convert:hover {\n",
              "      background-color: #E2EBFA;\n",
              "      box-shadow: 0px 1px 2px rgba(60, 64, 67, 0.3), 0px 1px 3px 1px rgba(60, 64, 67, 0.15);\n",
              "      fill: #174EA6;\n",
              "    }\n",
              "\n",
              "    [theme=dark] .colab-df-convert {\n",
              "      background-color: #3B4455;\n",
              "      fill: #D2E3FC;\n",
              "    }\n",
              "\n",
              "    [theme=dark] .colab-df-convert:hover {\n",
              "      background-color: #434B5C;\n",
              "      box-shadow: 0px 1px 3px 1px rgba(0, 0, 0, 0.15);\n",
              "      filter: drop-shadow(0px 1px 2px rgba(0, 0, 0, 0.3));\n",
              "      fill: #FFFFFF;\n",
              "    }\n",
              "  </style>\n",
              "\n",
              "      <script>\n",
              "        const buttonEl =\n",
              "          document.querySelector('#df-72f6d321-1c28-4f59-b95c-b3b6e833a4c3 button.colab-df-convert');\n",
              "        buttonEl.style.display =\n",
              "          google.colab.kernel.accessAllowed ? 'block' : 'none';\n",
              "\n",
              "        async function convertToInteractive(key) {\n",
              "          const element = document.querySelector('#df-72f6d321-1c28-4f59-b95c-b3b6e833a4c3');\n",
              "          const dataTable =\n",
              "            await google.colab.kernel.invokeFunction('convertToInteractive',\n",
              "                                                     [key], {});\n",
              "          if (!dataTable) return;\n",
              "\n",
              "          const docLinkHtml = 'Like what you see? Visit the ' +\n",
              "            '<a target=\"_blank\" href=https://colab.research.google.com/notebooks/data_table.ipynb>data table notebook</a>'\n",
              "            + ' to learn more about interactive tables.';\n",
              "          element.innerHTML = '';\n",
              "          dataTable['output_type'] = 'display_data';\n",
              "          await google.colab.output.renderOutput(dataTable, element);\n",
              "          const docLink = document.createElement('div');\n",
              "          docLink.innerHTML = docLinkHtml;\n",
              "          element.appendChild(docLink);\n",
              "        }\n",
              "      </script>\n",
              "    </div>\n",
              "  </div>\n",
              "  "
            ]
          },
          "metadata": {},
          "execution_count": 60
        }
      ]
    },
    {
      "cell_type": "code",
      "source": [
        "def filter_duplicates(lst):\n",
        "  unique_lst = []\n",
        "  dup_list = []\n",
        "  for v in lst:\n",
        "    if v not in unique_lst:\n",
        "      unique_lst.append(v)\n",
        "    else:\n",
        "      dup_list.append(v)\n",
        "  return ''.join(unique_lst)"
      ],
      "metadata": {
        "id": "zcMuRKI7lKvD"
      },
      "execution_count": 61,
      "outputs": []
    },
    {
      "cell_type": "code",
      "source": [
        "df_group['unique_details'] = df_group.details_text.apply(lambda x: filter_duplicates(x))"
      ],
      "metadata": {
        "id": "EvLQb11LDO9F"
      },
      "execution_count": 62,
      "outputs": []
    },
    {
      "cell_type": "code",
      "source": [],
      "metadata": {
        "id": "d5Yk4BN-DwMR"
      },
      "execution_count": 62,
      "outputs": []
    },
    {
      "cell_type": "markdown",
      "source": [
        "# creating a recommender"
      ],
      "metadata": {
        "id": "zLaz5Xu2Jf1y"
      }
    },
    {
      "cell_type": "markdown",
      "source": [
        "#### first let's make a content-based one (based on cosine similarity)"
      ],
      "metadata": {
        "id": "YvAyjdpKJkrs"
      }
    },
    {
      "cell_type": "code",
      "source": [
        "df.head()"
      ],
      "metadata": {
        "colab": {
          "base_uri": "https://localhost:8080/",
          "height": 337
        },
        "id": "bGx_JcOyIdfM",
        "outputId": "9e872b1f-2629-4a54-9ec4-49236f80c4e3"
      },
      "execution_count": 63,
      "outputs": [
        {
          "output_type": "execute_result",
          "data": {
            "text/plain": [
              "             accountId                                        use_details  \\\n",
              "0   794928084817024957            {'KEYWORD': ['Delhi', 'House Keeping']}   \n",
              "1   794934903824193736  {'KEYWORD': ['Power'], 'PURCHASER_NAME': ['GUN...   \n",
              "2   794934903824193736  {'KEYWORD': ['Power'], 'PURCHASER_NAME': ['GUN...   \n",
              "3   711046096666759540                                                 {}   \n",
              "4  6599911511613774475  {'LOCATION_STRING': ['Kerala'], 'KEYWORD': ['a...   \n",
              "\n",
              "     activity                              entityId  \\\n",
              "0      VIEWED  6658c6db-7b22-4612-b14b-edcdfe3f61c4   \n",
              "1  DOWNLOADED  817f9dbd-c37c-4e47-af18-01d3c2d25e41   \n",
              "2      VIEWED  817f9dbd-c37c-4e47-af18-01d3c2d25e41   \n",
              "3      VIEWED  6b781175-a6f9-47ea-80f1-74e7a26a4140   \n",
              "4      VIEWED  41c63df6-482e-48d5-99e3-1ac95fbb8894   \n",
              "\n",
              "                                        details_text     details_value  \n",
              "0                                Delhi House Keeping                []  \n",
              "1                                   Power GUNTUR DIV                []  \n",
              "2                                   Power GUNTUR DIV                []  \n",
              "3                                                                   []  \n",
              "4  Kerala acp exterior glass interior structural ...  [1000, 10000000]  "
            ],
            "text/html": [
              "\n",
              "  <div id=\"df-45c910dd-9fbf-447c-a34a-85dd7e796542\">\n",
              "    <div class=\"colab-df-container\">\n",
              "      <div>\n",
              "<style scoped>\n",
              "    .dataframe tbody tr th:only-of-type {\n",
              "        vertical-align: middle;\n",
              "    }\n",
              "\n",
              "    .dataframe tbody tr th {\n",
              "        vertical-align: top;\n",
              "    }\n",
              "\n",
              "    .dataframe thead th {\n",
              "        text-align: right;\n",
              "    }\n",
              "</style>\n",
              "<table border=\"1\" class=\"dataframe\">\n",
              "  <thead>\n",
              "    <tr style=\"text-align: right;\">\n",
              "      <th></th>\n",
              "      <th>accountId</th>\n",
              "      <th>use_details</th>\n",
              "      <th>activity</th>\n",
              "      <th>entityId</th>\n",
              "      <th>details_text</th>\n",
              "      <th>details_value</th>\n",
              "    </tr>\n",
              "  </thead>\n",
              "  <tbody>\n",
              "    <tr>\n",
              "      <th>0</th>\n",
              "      <td>794928084817024957</td>\n",
              "      <td>{'KEYWORD': ['Delhi', 'House Keeping']}</td>\n",
              "      <td>VIEWED</td>\n",
              "      <td>6658c6db-7b22-4612-b14b-edcdfe3f61c4</td>\n",
              "      <td>Delhi House Keeping</td>\n",
              "      <td>[]</td>\n",
              "    </tr>\n",
              "    <tr>\n",
              "      <th>1</th>\n",
              "      <td>794934903824193736</td>\n",
              "      <td>{'KEYWORD': ['Power'], 'PURCHASER_NAME': ['GUN...</td>\n",
              "      <td>DOWNLOADED</td>\n",
              "      <td>817f9dbd-c37c-4e47-af18-01d3c2d25e41</td>\n",
              "      <td>Power GUNTUR DIV</td>\n",
              "      <td>[]</td>\n",
              "    </tr>\n",
              "    <tr>\n",
              "      <th>2</th>\n",
              "      <td>794934903824193736</td>\n",
              "      <td>{'KEYWORD': ['Power'], 'PURCHASER_NAME': ['GUN...</td>\n",
              "      <td>VIEWED</td>\n",
              "      <td>817f9dbd-c37c-4e47-af18-01d3c2d25e41</td>\n",
              "      <td>Power GUNTUR DIV</td>\n",
              "      <td>[]</td>\n",
              "    </tr>\n",
              "    <tr>\n",
              "      <th>3</th>\n",
              "      <td>711046096666759540</td>\n",
              "      <td>{}</td>\n",
              "      <td>VIEWED</td>\n",
              "      <td>6b781175-a6f9-47ea-80f1-74e7a26a4140</td>\n",
              "      <td></td>\n",
              "      <td>[]</td>\n",
              "    </tr>\n",
              "    <tr>\n",
              "      <th>4</th>\n",
              "      <td>6599911511613774475</td>\n",
              "      <td>{'LOCATION_STRING': ['Kerala'], 'KEYWORD': ['a...</td>\n",
              "      <td>VIEWED</td>\n",
              "      <td>41c63df6-482e-48d5-99e3-1ac95fbb8894</td>\n",
              "      <td>Kerala acp exterior glass interior structural ...</td>\n",
              "      <td>[1000, 10000000]</td>\n",
              "    </tr>\n",
              "  </tbody>\n",
              "</table>\n",
              "</div>\n",
              "      <button class=\"colab-df-convert\" onclick=\"convertToInteractive('df-45c910dd-9fbf-447c-a34a-85dd7e796542')\"\n",
              "              title=\"Convert this dataframe to an interactive table.\"\n",
              "              style=\"display:none;\">\n",
              "        \n",
              "  <svg xmlns=\"http://www.w3.org/2000/svg\" height=\"24px\"viewBox=\"0 0 24 24\"\n",
              "       width=\"24px\">\n",
              "    <path d=\"M0 0h24v24H0V0z\" fill=\"none\"/>\n",
              "    <path d=\"M18.56 5.44l.94 2.06.94-2.06 2.06-.94-2.06-.94-.94-2.06-.94 2.06-2.06.94zm-11 1L8.5 8.5l.94-2.06 2.06-.94-2.06-.94L8.5 2.5l-.94 2.06-2.06.94zm10 10l.94 2.06.94-2.06 2.06-.94-2.06-.94-.94-2.06-.94 2.06-2.06.94z\"/><path d=\"M17.41 7.96l-1.37-1.37c-.4-.4-.92-.59-1.43-.59-.52 0-1.04.2-1.43.59L10.3 9.45l-7.72 7.72c-.78.78-.78 2.05 0 2.83L4 21.41c.39.39.9.59 1.41.59.51 0 1.02-.2 1.41-.59l7.78-7.78 2.81-2.81c.8-.78.8-2.07 0-2.86zM5.41 20L4 18.59l7.72-7.72 1.47 1.35L5.41 20z\"/>\n",
              "  </svg>\n",
              "      </button>\n",
              "      \n",
              "  <style>\n",
              "    .colab-df-container {\n",
              "      display:flex;\n",
              "      flex-wrap:wrap;\n",
              "      gap: 12px;\n",
              "    }\n",
              "\n",
              "    .colab-df-convert {\n",
              "      background-color: #E8F0FE;\n",
              "      border: none;\n",
              "      border-radius: 50%;\n",
              "      cursor: pointer;\n",
              "      display: none;\n",
              "      fill: #1967D2;\n",
              "      height: 32px;\n",
              "      padding: 0 0 0 0;\n",
              "      width: 32px;\n",
              "    }\n",
              "\n",
              "    .colab-df-convert:hover {\n",
              "      background-color: #E2EBFA;\n",
              "      box-shadow: 0px 1px 2px rgba(60, 64, 67, 0.3), 0px 1px 3px 1px rgba(60, 64, 67, 0.15);\n",
              "      fill: #174EA6;\n",
              "    }\n",
              "\n",
              "    [theme=dark] .colab-df-convert {\n",
              "      background-color: #3B4455;\n",
              "      fill: #D2E3FC;\n",
              "    }\n",
              "\n",
              "    [theme=dark] .colab-df-convert:hover {\n",
              "      background-color: #434B5C;\n",
              "      box-shadow: 0px 1px 3px 1px rgba(0, 0, 0, 0.15);\n",
              "      filter: drop-shadow(0px 1px 2px rgba(0, 0, 0, 0.3));\n",
              "      fill: #FFFFFF;\n",
              "    }\n",
              "  </style>\n",
              "\n",
              "      <script>\n",
              "        const buttonEl =\n",
              "          document.querySelector('#df-45c910dd-9fbf-447c-a34a-85dd7e796542 button.colab-df-convert');\n",
              "        buttonEl.style.display =\n",
              "          google.colab.kernel.accessAllowed ? 'block' : 'none';\n",
              "\n",
              "        async function convertToInteractive(key) {\n",
              "          const element = document.querySelector('#df-45c910dd-9fbf-447c-a34a-85dd7e796542');\n",
              "          const dataTable =\n",
              "            await google.colab.kernel.invokeFunction('convertToInteractive',\n",
              "                                                     [key], {});\n",
              "          if (!dataTable) return;\n",
              "\n",
              "          const docLinkHtml = 'Like what you see? Visit the ' +\n",
              "            '<a target=\"_blank\" href=https://colab.research.google.com/notebooks/data_table.ipynb>data table notebook</a>'\n",
              "            + ' to learn more about interactive tables.';\n",
              "          element.innerHTML = '';\n",
              "          dataTable['output_type'] = 'display_data';\n",
              "          await google.colab.output.renderOutput(dataTable, element);\n",
              "          const docLink = document.createElement('div');\n",
              "          docLink.innerHTML = docLinkHtml;\n",
              "          element.appendChild(docLink);\n",
              "        }\n",
              "      </script>\n",
              "    </div>\n",
              "  </div>\n",
              "  "
            ]
          },
          "metadata": {},
          "execution_count": 63
        }
      ]
    },
    {
      "cell_type": "markdown",
      "source": [
        "### cleaning text function"
      ],
      "metadata": {
        "id": "SC2BbtwqNyhd"
      }
    },
    {
      "cell_type": "code",
      "source": [
        "def clean_string(text,stem=\"None\"):\n",
        "\n",
        "    final_string = \"\"\n",
        "\n",
        "    # make lower\n",
        "    text = text.lower()\n",
        "    \n",
        "    # remove http\n",
        "    text = re.sub(r\"http.*\\.[a-z]{2,3}\",\"\",text)\n",
        "\n",
        "    # remove www\n",
        "    text = re.sub(r\"www.*\\.[a-z]{2,3}\",\"\",text)\n",
        "    \n",
        "    # remove line breaks\n",
        "    text = re.sub(r'\\n','',text)\n",
        "\n",
        "    # remove puncuation\n",
        "    translator = str.maketrans('','',string.punctuation)\n",
        "    text = text.translate(translator)\n",
        "\n",
        "    # remove stop words\n",
        "    text = text.split()\n",
        "    useless_words = nltk.corpus.stopwords.words(\"english\")\n",
        "    useless_words.remove(\"don't\")\n",
        "    useless_words.remove('not')\n",
        "\n",
        "    text_filtered = [word for word in text if not word in useless_words]\n",
        "\n",
        "    # remove numbers\n",
        "    text_filtered = [re.sub(r'\\w*\\d\\w*','',w) for w in text_filtered]\n",
        "\n",
        "    # stem or lemmatize\n",
        "    if stem == 'Stem':\n",
        "        stemmer = PorterStemmer() \n",
        "        text_stemmed = [stemmer.stem(y) for y in text_filtered]\n",
        "    elif stem == 'Lem':\n",
        "        lem = WordNetLemmatizer()\n",
        "        text_stemmed = [lem.lemmatize(y) for y in text_filtered]\n",
        "    elif stem == 'Spacy':\n",
        "        text_filtered = nlp(' '.join(text_filtered))\n",
        "        text_stemmed = [y.lemma_ for y in text_filtered]\n",
        "    else:\n",
        "        text_stemmed = text_filtered\n",
        "\n",
        "    final_string = ' '.join(text_stemmed)\n",
        "\n",
        "    return final_string\n",
        "        \n",
        "def apply_clean_string(df):\n",
        "   arr = df.apply(lambda x: clean_string(str(x)))\n",
        "   return pd.DataFrame(arr)  "
      ],
      "metadata": {
        "id": "4SWvYnNtNuBJ"
      },
      "execution_count": 64,
      "outputs": []
    },
    {
      "cell_type": "code",
      "source": [
        "items['clean_text'] = items.details.apply(lambda x: clean_string(x,stem=\"None\"))"
      ],
      "metadata": {
        "id": "Ak_HUJ5RN87A"
      },
      "execution_count": 65,
      "outputs": []
    },
    {
      "cell_type": "code",
      "source": [
        "items.head()"
      ],
      "metadata": {
        "colab": {
          "base_uri": "https://localhost:8080/",
          "height": 635
        },
        "id": "UuWov0oFeX93",
        "outputId": "e36c2c86-9223-4f46-8930-3bd3627b3453"
      },
      "execution_count": 66,
      "outputs": [
        {
          "output_type": "execute_result",
          "data": {
            "text/plain": [
              "                                     id  \\\n",
              "0  7e5e42eb-de7d-4b63-bd8c-9a842c445e66   \n",
              "1  828d3851-105f-4c24-ae68-c5b24597c7e7   \n",
              "2  673074b9-8592-4682-a4e4-ee388a1d86c5   \n",
              "3  836737ee-1d1d-4ae7-86f8-0c5abb8823c4   \n",
              "4  929d94a1-0921-4625-9630-2720ee762f50   \n",
              "\n",
              "                                          authority  publishingDate  \\\n",
              "0                  Directorate Of Rural Development    1.645277e+12   \n",
              "1  Jharkhand State Rural Road Development Authority    1.645247e+12   \n",
              "2  Jharkhand State Rural Road Development Authority    1.645247e+12   \n",
              "3  Jharkhand State Rural Road Development Authority    1.645247e+12   \n",
              "4                      Rural Development Department    1.645270e+12   \n",
              "\n",
              "    bidDeadline       value        emd     status  \\\n",
              "0  1.645787e+12    300000.0     6000.0  CANCELLED   \n",
              "1  1.646048e+12  16861000.0   339000.0  PUBLISHED   \n",
              "2  1.646048e+12  32778000.0   656000.0  PUBLISHED   \n",
              "3  1.646048e+12  52264000.0  1045000.0  PUBLISHED   \n",
              "4  1.645760e+12    375755.0        NaN   ARCHIVED   \n",
              "\n",
              "                                           locations  \\\n",
              "0   [{'state': 'Jammu & Kashmir', 'city': 'Kathua'}]   \n",
              "1         [{'state': 'Jharkhand', 'city': 'Ranchi'}]   \n",
              "2  [{'state': 'Jharkhand', 'city': 'West Singhbhu...   \n",
              "3         [{'state': 'Jharkhand', 'city': 'Garhwa'}]   \n",
              "4       [{'state': 'Maharashtra', 'city': 'Nanded'}]   \n",
              "\n",
              "                                             details            state  \\\n",
              "0  Construction Of Community Sanitary Complex Uni...  Jammu & Kashmir   \n",
              "1              Repair And Maintenance Of Pmgsy Roads        Jharkhand   \n",
              "2              Repair And Maintenance Of Pmgsy Roads        Jharkhand   \n",
              "3              Repair And Maintenance Of Pmgsy Roads        Jharkhand   \n",
              "4  Construction Of Closed C.c. Drain / Road At Da...      Maharashtra   \n",
              "\n",
              "                                          clean_text  \n",
              "0  construction community sanitary complex unit n...  \n",
              "1                     repair maintenance pmgsy roads  \n",
              "2                     repair maintenance pmgsy roads  \n",
              "3                     repair maintenance pmgsy roads  \n",
              "4  construction closed cc drain road dapka gundop...  "
            ],
            "text/html": [
              "\n",
              "  <div id=\"df-a823a08c-e072-43e5-b53d-0a3ccfcf7d5d\">\n",
              "    <div class=\"colab-df-container\">\n",
              "      <div>\n",
              "<style scoped>\n",
              "    .dataframe tbody tr th:only-of-type {\n",
              "        vertical-align: middle;\n",
              "    }\n",
              "\n",
              "    .dataframe tbody tr th {\n",
              "        vertical-align: top;\n",
              "    }\n",
              "\n",
              "    .dataframe thead th {\n",
              "        text-align: right;\n",
              "    }\n",
              "</style>\n",
              "<table border=\"1\" class=\"dataframe\">\n",
              "  <thead>\n",
              "    <tr style=\"text-align: right;\">\n",
              "      <th></th>\n",
              "      <th>id</th>\n",
              "      <th>authority</th>\n",
              "      <th>publishingDate</th>\n",
              "      <th>bidDeadline</th>\n",
              "      <th>value</th>\n",
              "      <th>emd</th>\n",
              "      <th>status</th>\n",
              "      <th>locations</th>\n",
              "      <th>details</th>\n",
              "      <th>state</th>\n",
              "      <th>clean_text</th>\n",
              "    </tr>\n",
              "  </thead>\n",
              "  <tbody>\n",
              "    <tr>\n",
              "      <th>0</th>\n",
              "      <td>7e5e42eb-de7d-4b63-bd8c-9a842c445e66</td>\n",
              "      <td>Directorate Of Rural Development</td>\n",
              "      <td>1.645277e+12</td>\n",
              "      <td>1.645787e+12</td>\n",
              "      <td>300000.0</td>\n",
              "      <td>6000.0</td>\n",
              "      <td>CANCELLED</td>\n",
              "      <td>[{'state': 'Jammu &amp; Kashmir', 'city': 'Kathua'}]</td>\n",
              "      <td>Construction Of Community Sanitary Complex Uni...</td>\n",
              "      <td>Jammu &amp; Kashmir</td>\n",
              "      <td>construction community sanitary complex unit n...</td>\n",
              "    </tr>\n",
              "    <tr>\n",
              "      <th>1</th>\n",
              "      <td>828d3851-105f-4c24-ae68-c5b24597c7e7</td>\n",
              "      <td>Jharkhand State Rural Road Development Authority</td>\n",
              "      <td>1.645247e+12</td>\n",
              "      <td>1.646048e+12</td>\n",
              "      <td>16861000.0</td>\n",
              "      <td>339000.0</td>\n",
              "      <td>PUBLISHED</td>\n",
              "      <td>[{'state': 'Jharkhand', 'city': 'Ranchi'}]</td>\n",
              "      <td>Repair And Maintenance Of Pmgsy Roads</td>\n",
              "      <td>Jharkhand</td>\n",
              "      <td>repair maintenance pmgsy roads</td>\n",
              "    </tr>\n",
              "    <tr>\n",
              "      <th>2</th>\n",
              "      <td>673074b9-8592-4682-a4e4-ee388a1d86c5</td>\n",
              "      <td>Jharkhand State Rural Road Development Authority</td>\n",
              "      <td>1.645247e+12</td>\n",
              "      <td>1.646048e+12</td>\n",
              "      <td>32778000.0</td>\n",
              "      <td>656000.0</td>\n",
              "      <td>PUBLISHED</td>\n",
              "      <td>[{'state': 'Jharkhand', 'city': 'West Singhbhu...</td>\n",
              "      <td>Repair And Maintenance Of Pmgsy Roads</td>\n",
              "      <td>Jharkhand</td>\n",
              "      <td>repair maintenance pmgsy roads</td>\n",
              "    </tr>\n",
              "    <tr>\n",
              "      <th>3</th>\n",
              "      <td>836737ee-1d1d-4ae7-86f8-0c5abb8823c4</td>\n",
              "      <td>Jharkhand State Rural Road Development Authority</td>\n",
              "      <td>1.645247e+12</td>\n",
              "      <td>1.646048e+12</td>\n",
              "      <td>52264000.0</td>\n",
              "      <td>1045000.0</td>\n",
              "      <td>PUBLISHED</td>\n",
              "      <td>[{'state': 'Jharkhand', 'city': 'Garhwa'}]</td>\n",
              "      <td>Repair And Maintenance Of Pmgsy Roads</td>\n",
              "      <td>Jharkhand</td>\n",
              "      <td>repair maintenance pmgsy roads</td>\n",
              "    </tr>\n",
              "    <tr>\n",
              "      <th>4</th>\n",
              "      <td>929d94a1-0921-4625-9630-2720ee762f50</td>\n",
              "      <td>Rural Development Department</td>\n",
              "      <td>1.645270e+12</td>\n",
              "      <td>1.645760e+12</td>\n",
              "      <td>375755.0</td>\n",
              "      <td>NaN</td>\n",
              "      <td>ARCHIVED</td>\n",
              "      <td>[{'state': 'Maharashtra', 'city': 'Nanded'}]</td>\n",
              "      <td>Construction Of Closed C.c. Drain / Road At Da...</td>\n",
              "      <td>Maharashtra</td>\n",
              "      <td>construction closed cc drain road dapka gundop...</td>\n",
              "    </tr>\n",
              "  </tbody>\n",
              "</table>\n",
              "</div>\n",
              "      <button class=\"colab-df-convert\" onclick=\"convertToInteractive('df-a823a08c-e072-43e5-b53d-0a3ccfcf7d5d')\"\n",
              "              title=\"Convert this dataframe to an interactive table.\"\n",
              "              style=\"display:none;\">\n",
              "        \n",
              "  <svg xmlns=\"http://www.w3.org/2000/svg\" height=\"24px\"viewBox=\"0 0 24 24\"\n",
              "       width=\"24px\">\n",
              "    <path d=\"M0 0h24v24H0V0z\" fill=\"none\"/>\n",
              "    <path d=\"M18.56 5.44l.94 2.06.94-2.06 2.06-.94-2.06-.94-.94-2.06-.94 2.06-2.06.94zm-11 1L8.5 8.5l.94-2.06 2.06-.94-2.06-.94L8.5 2.5l-.94 2.06-2.06.94zm10 10l.94 2.06.94-2.06 2.06-.94-2.06-.94-.94-2.06-.94 2.06-2.06.94z\"/><path d=\"M17.41 7.96l-1.37-1.37c-.4-.4-.92-.59-1.43-.59-.52 0-1.04.2-1.43.59L10.3 9.45l-7.72 7.72c-.78.78-.78 2.05 0 2.83L4 21.41c.39.39.9.59 1.41.59.51 0 1.02-.2 1.41-.59l7.78-7.78 2.81-2.81c.8-.78.8-2.07 0-2.86zM5.41 20L4 18.59l7.72-7.72 1.47 1.35L5.41 20z\"/>\n",
              "  </svg>\n",
              "      </button>\n",
              "      \n",
              "  <style>\n",
              "    .colab-df-container {\n",
              "      display:flex;\n",
              "      flex-wrap:wrap;\n",
              "      gap: 12px;\n",
              "    }\n",
              "\n",
              "    .colab-df-convert {\n",
              "      background-color: #E8F0FE;\n",
              "      border: none;\n",
              "      border-radius: 50%;\n",
              "      cursor: pointer;\n",
              "      display: none;\n",
              "      fill: #1967D2;\n",
              "      height: 32px;\n",
              "      padding: 0 0 0 0;\n",
              "      width: 32px;\n",
              "    }\n",
              "\n",
              "    .colab-df-convert:hover {\n",
              "      background-color: #E2EBFA;\n",
              "      box-shadow: 0px 1px 2px rgba(60, 64, 67, 0.3), 0px 1px 3px 1px rgba(60, 64, 67, 0.15);\n",
              "      fill: #174EA6;\n",
              "    }\n",
              "\n",
              "    [theme=dark] .colab-df-convert {\n",
              "      background-color: #3B4455;\n",
              "      fill: #D2E3FC;\n",
              "    }\n",
              "\n",
              "    [theme=dark] .colab-df-convert:hover {\n",
              "      background-color: #434B5C;\n",
              "      box-shadow: 0px 1px 3px 1px rgba(0, 0, 0, 0.15);\n",
              "      filter: drop-shadow(0px 1px 2px rgba(0, 0, 0, 0.3));\n",
              "      fill: #FFFFFF;\n",
              "    }\n",
              "  </style>\n",
              "\n",
              "      <script>\n",
              "        const buttonEl =\n",
              "          document.querySelector('#df-a823a08c-e072-43e5-b53d-0a3ccfcf7d5d button.colab-df-convert');\n",
              "        buttonEl.style.display =\n",
              "          google.colab.kernel.accessAllowed ? 'block' : 'none';\n",
              "\n",
              "        async function convertToInteractive(key) {\n",
              "          const element = document.querySelector('#df-a823a08c-e072-43e5-b53d-0a3ccfcf7d5d');\n",
              "          const dataTable =\n",
              "            await google.colab.kernel.invokeFunction('convertToInteractive',\n",
              "                                                     [key], {});\n",
              "          if (!dataTable) return;\n",
              "\n",
              "          const docLinkHtml = 'Like what you see? Visit the ' +\n",
              "            '<a target=\"_blank\" href=https://colab.research.google.com/notebooks/data_table.ipynb>data table notebook</a>'\n",
              "            + ' to learn more about interactive tables.';\n",
              "          element.innerHTML = '';\n",
              "          dataTable['output_type'] = 'display_data';\n",
              "          await google.colab.output.renderOutput(dataTable, element);\n",
              "          const docLink = document.createElement('div');\n",
              "          docLink.innerHTML = docLinkHtml;\n",
              "          element.appendChild(docLink);\n",
              "        }\n",
              "      </script>\n",
              "    </div>\n",
              "  </div>\n",
              "  "
            ]
          },
          "metadata": {},
          "execution_count": 66
        }
      ]
    },
    {
      "cell_type": "code",
      "source": [
        "from sklearn.feature_extraction.text import TfidfVectorizer, CountVectorizer\n",
        "\n",
        "\n",
        "tfidf = TfidfVectorizer(stop_words=\"english\", min_df=1)"
      ],
      "metadata": {
        "id": "5JZzEsKxY3Vj"
      },
      "execution_count": 67,
      "outputs": []
    },
    {
      "cell_type": "code",
      "source": [
        "trainVectorizerArray = tfidf.fit_transform(df_group['unique_details']).toarray()\n",
        "testVectorizerArray = tfidf.transform(items['clean_text']).toarray()"
      ],
      "metadata": {
        "id": "nTP8KkHmh8YR"
      },
      "execution_count": 73,
      "outputs": []
    },
    {
      "cell_type": "code",
      "source": [
        "import numpy.linalg as LA\n",
        "cx = lambda a, b : round(np.inner(a, b)/(LA.norm(a)*LA.norm(b)), 3)"
      ],
      "metadata": {
        "id": "ZlaW6rq0mO-I"
      },
      "execution_count": 74,
      "outputs": []
    },
    {
      "cell_type": "markdown",
      "source": [
        "## running with a subset of data as pilot batch"
      ],
      "metadata": {
        "id": "suVP1_r8tb_4"
      }
    },
    {
      "cell_type": "code",
      "source": [
        "cosine_all = []\n",
        "idx = []\n",
        "for i, vector in enumerate(trainVectorizerArray[:1000]):\n",
        "  # print vector\n",
        "  cosine = []\n",
        "  \n",
        "  for testV in testVectorizerArray[:10]:\n",
        "    # print testV\n",
        "    cosine.append(cx(vector, testV))\n",
        "\n",
        "  cosine_all.append(cosine)\n",
        "  idx.append(i)"
      ],
      "metadata": {
        "colab": {
          "base_uri": "https://localhost:8080/"
        },
        "id": "CcxhPx9KtOJT",
        "outputId": "9826e79e-2f07-42dc-9552-198d68639087"
      },
      "execution_count": 82,
      "outputs": [
        {
          "output_type": "stream",
          "name": "stderr",
          "text": [
            "<ipython-input-74-0bdad5d36d50>:2: RuntimeWarning: invalid value encountered in double_scalars\n",
            "  cx = lambda a, b : round(np.inner(a, b)/(LA.norm(a)*LA.norm(b)), 3)\n"
          ]
        }
      ]
    },
    {
      "cell_type": "code",
      "source": [
        "cosine_all = []\n",
        "test_idx_all = []\n",
        "idx = []\n",
        "for i, vector in enumerate(testVectorizerArray[:10]):\n",
        "  # print vector\n",
        "  cosine = []\n",
        "  test_idx = []\n",
        "  for j, trainV in enumerate(trainVectorizerArray[:1000]):\n",
        "    # print testV\n",
        "    cosine.append(cx(vector, trainV))\n",
        "    test_idx.append(j)\n",
        "  cosine_all.append(cosine)\n",
        "  test_idx_all.append(test_idx)\n",
        "  idx.append(i)"
      ],
      "metadata": {
        "colab": {
          "base_uri": "https://localhost:8080/"
        },
        "id": "sKRmwEyTu063",
        "outputId": "7fccfc23-1a9d-4c47-9671-c1bfea8423b3"
      },
      "execution_count": 91,
      "outputs": [
        {
          "output_type": "stream",
          "name": "stderr",
          "text": [
            "<ipython-input-74-0bdad5d36d50>:2: RuntimeWarning: invalid value encountered in double_scalars\n",
            "  cx = lambda a, b : round(np.inner(a, b)/(LA.norm(a)*LA.norm(b)), 3)\n"
          ]
        }
      ]
    },
    {
      "cell_type": "code",
      "source": [
        "cosine_dict = {'user_idx': idx, 'cosine_sim': cosine_all, 'item_idx': test_idx_all}\n",
        "recommender_df = pd.DataFrame(cosine_dict)"
      ],
      "metadata": {
        "id": "HHtZYuI-u7vI"
      },
      "execution_count": 110,
      "outputs": []
    },
    {
      "cell_type": "code",
      "source": [
        "cosine_sim_array = np.array(cosine_all)\n",
        "cosine_sim_array[np.isnan(cosine_sim_array)] = 1"
      ],
      "metadata": {
        "id": "29lnd-spwFkc"
      },
      "execution_count": 102,
      "outputs": []
    },
    {
      "cell_type": "code",
      "source": [
        "sorted_item_idx = []\n",
        "for i in cosine_sim_array:\n",
        "  sorted_item_idx.append(np.argsort(i)[:10])\n"
      ],
      "metadata": {
        "id": "rnxt1NZXxpuc"
      },
      "execution_count": 108,
      "outputs": []
    },
    {
      "cell_type": "code",
      "source": [
        "sorted_item_idx"
      ],
      "metadata": {
        "colab": {
          "base_uri": "https://localhost:8080/"
        },
        "id": "X8IQufgsymyc",
        "outputId": "d62cc958-3982-42b2-f24e-b2ba30f674da"
      },
      "execution_count": 109,
      "outputs": [
        {
          "output_type": "execute_result",
          "data": {
            "text/plain": [
              "[array([262, 668, 670, 671, 347, 674, 675, 344, 676, 677]),\n",
              " array([  0, 779, 410, 777, 412, 774, 414, 772, 416, 770]),\n",
              " array([  0, 779, 410, 777, 412, 774, 414, 772, 416, 770]),\n",
              " array([  0, 779, 410, 777, 412, 774, 414, 772, 416, 770]),\n",
              " array([273, 347, 701, 702, 344, 704, 706, 340, 339, 338]),\n",
              " array([  0, 582, 583, 584, 585, 587, 588, 589, 590, 591]),\n",
              " array([  0, 553, 556, 558, 559, 562, 567, 568, 569, 571]),\n",
              " array([269, 360, 359, 678, 357, 356, 679, 680, 681, 683]),\n",
              " array([  0, 582, 583, 584, 585, 587, 588, 589, 590, 591]),\n",
              " array([  0, 577, 580, 581, 582, 583, 584, 585, 587, 588])]"
            ]
          },
          "metadata": {},
          "execution_count": 109
        }
      ]
    },
    {
      "cell_type": "code",
      "source": [
        "recommender_df['item_index_recommendation'] = sorted_item_idx"
      ],
      "metadata": {
        "id": "OPfZZJ4Fyv0h"
      },
      "execution_count": 112,
      "outputs": []
    },
    {
      "cell_type": "markdown",
      "source": [
        "## Result: column item_index_recommendation lists 1st 10 item (i.e. tender item dataframe) indices for each user index. The indices can be traced back to the respective dataframes. Essentially, this is the first version of content-based recommender."
      ],
      "metadata": {
        "id": "J71-TJmPy_yp"
      }
    },
    {
      "cell_type": "code",
      "source": [
        "recommender_df.head()"
      ],
      "metadata": {
        "colab": {
          "base_uri": "https://localhost:8080/",
          "height": 206
        },
        "id": "WMsODujKy7t_",
        "outputId": "091cbfed-c0a2-4903-d839-1a197b4a723d"
      },
      "execution_count": 113,
      "outputs": [
        {
          "output_type": "execute_result",
          "data": {
            "text/plain": [
              "   user_idx                                         cosine_sim  \\\n",
              "0         0  [0.028, 0.0, 0.0, 0.0, 0.0, 0.0, 0.019, 0.0, 0...   \n",
              "1         1  [0.0, 0.0, 0.0, 0.0, 0.0, 0.0, 0.087, 0.0, 0.0...   \n",
              "2         2  [0.0, 0.0, 0.0, 0.0, 0.0, 0.0, 0.087, 0.0, 0.0...   \n",
              "3         3  [0.0, 0.0, 0.0, 0.0, 0.0, 0.0, 0.087, 0.0, 0.0...   \n",
              "4         4  [0.064, 0.0, 0.0, 0.0, 0.0, 0.0, 0.043, 0.0, 0...   \n",
              "\n",
              "                                            item_idx  \\\n",
              "0  [0, 1, 2, 3, 4, 5, 6, 7, 8, 9, 10, 11, 12, 13,...   \n",
              "1  [0, 1, 2, 3, 4, 5, 6, 7, 8, 9, 10, 11, 12, 13,...   \n",
              "2  [0, 1, 2, 3, 4, 5, 6, 7, 8, 9, 10, 11, 12, 13,...   \n",
              "3  [0, 1, 2, 3, 4, 5, 6, 7, 8, 9, 10, 11, 12, 13,...   \n",
              "4  [0, 1, 2, 3, 4, 5, 6, 7, 8, 9, 10, 11, 12, 13,...   \n",
              "\n",
              "                           item_index_recommendation  \n",
              "0  [262, 668, 670, 671, 347, 674, 675, 344, 676, ...  \n",
              "1   [0, 779, 410, 777, 412, 774, 414, 772, 416, 770]  \n",
              "2   [0, 779, 410, 777, 412, 774, 414, 772, 416, 770]  \n",
              "3   [0, 779, 410, 777, 412, 774, 414, 772, 416, 770]  \n",
              "4  [273, 347, 701, 702, 344, 704, 706, 340, 339, ...  "
            ],
            "text/html": [
              "\n",
              "  <div id=\"df-68fd928c-262b-486b-829d-316d3184944f\">\n",
              "    <div class=\"colab-df-container\">\n",
              "      <div>\n",
              "<style scoped>\n",
              "    .dataframe tbody tr th:only-of-type {\n",
              "        vertical-align: middle;\n",
              "    }\n",
              "\n",
              "    .dataframe tbody tr th {\n",
              "        vertical-align: top;\n",
              "    }\n",
              "\n",
              "    .dataframe thead th {\n",
              "        text-align: right;\n",
              "    }\n",
              "</style>\n",
              "<table border=\"1\" class=\"dataframe\">\n",
              "  <thead>\n",
              "    <tr style=\"text-align: right;\">\n",
              "      <th></th>\n",
              "      <th>user_idx</th>\n",
              "      <th>cosine_sim</th>\n",
              "      <th>item_idx</th>\n",
              "      <th>item_index_recommendation</th>\n",
              "    </tr>\n",
              "  </thead>\n",
              "  <tbody>\n",
              "    <tr>\n",
              "      <th>0</th>\n",
              "      <td>0</td>\n",
              "      <td>[0.028, 0.0, 0.0, 0.0, 0.0, 0.0, 0.019, 0.0, 0...</td>\n",
              "      <td>[0, 1, 2, 3, 4, 5, 6, 7, 8, 9, 10, 11, 12, 13,...</td>\n",
              "      <td>[262, 668, 670, 671, 347, 674, 675, 344, 676, ...</td>\n",
              "    </tr>\n",
              "    <tr>\n",
              "      <th>1</th>\n",
              "      <td>1</td>\n",
              "      <td>[0.0, 0.0, 0.0, 0.0, 0.0, 0.0, 0.087, 0.0, 0.0...</td>\n",
              "      <td>[0, 1, 2, 3, 4, 5, 6, 7, 8, 9, 10, 11, 12, 13,...</td>\n",
              "      <td>[0, 779, 410, 777, 412, 774, 414, 772, 416, 770]</td>\n",
              "    </tr>\n",
              "    <tr>\n",
              "      <th>2</th>\n",
              "      <td>2</td>\n",
              "      <td>[0.0, 0.0, 0.0, 0.0, 0.0, 0.0, 0.087, 0.0, 0.0...</td>\n",
              "      <td>[0, 1, 2, 3, 4, 5, 6, 7, 8, 9, 10, 11, 12, 13,...</td>\n",
              "      <td>[0, 779, 410, 777, 412, 774, 414, 772, 416, 770]</td>\n",
              "    </tr>\n",
              "    <tr>\n",
              "      <th>3</th>\n",
              "      <td>3</td>\n",
              "      <td>[0.0, 0.0, 0.0, 0.0, 0.0, 0.0, 0.087, 0.0, 0.0...</td>\n",
              "      <td>[0, 1, 2, 3, 4, 5, 6, 7, 8, 9, 10, 11, 12, 13,...</td>\n",
              "      <td>[0, 779, 410, 777, 412, 774, 414, 772, 416, 770]</td>\n",
              "    </tr>\n",
              "    <tr>\n",
              "      <th>4</th>\n",
              "      <td>4</td>\n",
              "      <td>[0.064, 0.0, 0.0, 0.0, 0.0, 0.0, 0.043, 0.0, 0...</td>\n",
              "      <td>[0, 1, 2, 3, 4, 5, 6, 7, 8, 9, 10, 11, 12, 13,...</td>\n",
              "      <td>[273, 347, 701, 702, 344, 704, 706, 340, 339, ...</td>\n",
              "    </tr>\n",
              "  </tbody>\n",
              "</table>\n",
              "</div>\n",
              "      <button class=\"colab-df-convert\" onclick=\"convertToInteractive('df-68fd928c-262b-486b-829d-316d3184944f')\"\n",
              "              title=\"Convert this dataframe to an interactive table.\"\n",
              "              style=\"display:none;\">\n",
              "        \n",
              "  <svg xmlns=\"http://www.w3.org/2000/svg\" height=\"24px\"viewBox=\"0 0 24 24\"\n",
              "       width=\"24px\">\n",
              "    <path d=\"M0 0h24v24H0V0z\" fill=\"none\"/>\n",
              "    <path d=\"M18.56 5.44l.94 2.06.94-2.06 2.06-.94-2.06-.94-.94-2.06-.94 2.06-2.06.94zm-11 1L8.5 8.5l.94-2.06 2.06-.94-2.06-.94L8.5 2.5l-.94 2.06-2.06.94zm10 10l.94 2.06.94-2.06 2.06-.94-2.06-.94-.94-2.06-.94 2.06-2.06.94z\"/><path d=\"M17.41 7.96l-1.37-1.37c-.4-.4-.92-.59-1.43-.59-.52 0-1.04.2-1.43.59L10.3 9.45l-7.72 7.72c-.78.78-.78 2.05 0 2.83L4 21.41c.39.39.9.59 1.41.59.51 0 1.02-.2 1.41-.59l7.78-7.78 2.81-2.81c.8-.78.8-2.07 0-2.86zM5.41 20L4 18.59l7.72-7.72 1.47 1.35L5.41 20z\"/>\n",
              "  </svg>\n",
              "      </button>\n",
              "      \n",
              "  <style>\n",
              "    .colab-df-container {\n",
              "      display:flex;\n",
              "      flex-wrap:wrap;\n",
              "      gap: 12px;\n",
              "    }\n",
              "\n",
              "    .colab-df-convert {\n",
              "      background-color: #E8F0FE;\n",
              "      border: none;\n",
              "      border-radius: 50%;\n",
              "      cursor: pointer;\n",
              "      display: none;\n",
              "      fill: #1967D2;\n",
              "      height: 32px;\n",
              "      padding: 0 0 0 0;\n",
              "      width: 32px;\n",
              "    }\n",
              "\n",
              "    .colab-df-convert:hover {\n",
              "      background-color: #E2EBFA;\n",
              "      box-shadow: 0px 1px 2px rgba(60, 64, 67, 0.3), 0px 1px 3px 1px rgba(60, 64, 67, 0.15);\n",
              "      fill: #174EA6;\n",
              "    }\n",
              "\n",
              "    [theme=dark] .colab-df-convert {\n",
              "      background-color: #3B4455;\n",
              "      fill: #D2E3FC;\n",
              "    }\n",
              "\n",
              "    [theme=dark] .colab-df-convert:hover {\n",
              "      background-color: #434B5C;\n",
              "      box-shadow: 0px 1px 3px 1px rgba(0, 0, 0, 0.15);\n",
              "      filter: drop-shadow(0px 1px 2px rgba(0, 0, 0, 0.3));\n",
              "      fill: #FFFFFF;\n",
              "    }\n",
              "  </style>\n",
              "\n",
              "      <script>\n",
              "        const buttonEl =\n",
              "          document.querySelector('#df-68fd928c-262b-486b-829d-316d3184944f button.colab-df-convert');\n",
              "        buttonEl.style.display =\n",
              "          google.colab.kernel.accessAllowed ? 'block' : 'none';\n",
              "\n",
              "        async function convertToInteractive(key) {\n",
              "          const element = document.querySelector('#df-68fd928c-262b-486b-829d-316d3184944f');\n",
              "          const dataTable =\n",
              "            await google.colab.kernel.invokeFunction('convertToInteractive',\n",
              "                                                     [key], {});\n",
              "          if (!dataTable) return;\n",
              "\n",
              "          const docLinkHtml = 'Like what you see? Visit the ' +\n",
              "            '<a target=\"_blank\" href=https://colab.research.google.com/notebooks/data_table.ipynb>data table notebook</a>'\n",
              "            + ' to learn more about interactive tables.';\n",
              "          element.innerHTML = '';\n",
              "          dataTable['output_type'] = 'display_data';\n",
              "          await google.colab.output.renderOutput(dataTable, element);\n",
              "          const docLink = document.createElement('div');\n",
              "          docLink.innerHTML = docLinkHtml;\n",
              "          element.appendChild(docLink);\n",
              "        }\n",
              "      </script>\n",
              "    </div>\n",
              "  </div>\n",
              "  "
            ]
          },
          "metadata": {},
          "execution_count": 113
        }
      ]
    }
  ]
}