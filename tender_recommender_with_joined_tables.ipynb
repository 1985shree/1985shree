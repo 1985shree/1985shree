{
  "nbformat": 4,
  "nbformat_minor": 0,
  "metadata": {
    "colab": {
      "provenance": [],
      "authorship_tag": "ABX9TyPdVoYWzMU28klPasfrqwTL",
      "include_colab_link": true
    },
    "kernelspec": {
      "name": "python3",
      "display_name": "Python 3"
    },
    "language_info": {
      "name": "python"
    }
  },
  "cells": [
    {
      "cell_type": "markdown",
      "metadata": {
        "id": "view-in-github",
        "colab_type": "text"
      },
      "source": [
        "<a href=\"https://colab.research.google.com/github/1985shree/1985shree/blob/main/tender_recommender_with_joined_tables.ipynb\" target=\"_parent\"><img src=\"https://colab.research.google.com/assets/colab-badge.svg\" alt=\"Open In Colab\"/></a>"
      ]
    },
    {
      "cell_type": "markdown",
      "source": [
        "# Importing modules"
      ],
      "metadata": {
        "id": "sa0vrlyYZinO"
      }
    },
    {
      "cell_type": "code",
      "execution_count": 311,
      "metadata": {
        "colab": {
          "base_uri": "https://localhost:8080/"
        },
        "id": "pYId1Q27Wscw",
        "outputId": "b30e1f91-e6e8-44a3-a535-4894d5f0fea7"
      },
      "outputs": [
        {
          "output_type": "stream",
          "name": "stderr",
          "text": [
            "[nltk_data] Downloading package stopwords to /root/nltk_data...\n",
            "[nltk_data]   Package stopwords is already up-to-date!\n"
          ]
        }
      ],
      "source": [
        "import pandas as pd\n",
        "import numpy as np\n",
        "import json\n",
        "import matplotlib.pyplot as plt\n",
        "import seaborn as sns\n",
        "\n",
        "import os\n",
        "import nltk\n",
        "nltk.download('stopwords')\n",
        "from nltk.corpus import stopwords\n",
        "from nltk.tokenize import word_tokenize\n",
        "from nltk.stem import WordNetLemmatizer\n",
        "import string\n",
        "from spacy.lang.en.stop_words import STOP_WORDS\n",
        "from spacy.tokenizer import Tokenizer\n",
        "import re\n",
        "import spacy\n",
        "# nlp = spacy.load('en_core_web_lg')\n",
        "# spacy_tokenizer = Tokenizer(nlp.vocab)\n",
        "\n",
        "from sklearn.feature_extraction.text import CountVectorizer\n",
        "from sklearn.feature_extraction.text import TfidfVectorizer\n",
        "from scipy.sparse import save_npz, load_npz\n",
        "\n",
        "import seaborn as sns\n",
        "import matplotlib.pyplot as plt\n",
        "\n"
      ]
    },
    {
      "cell_type": "code",
      "source": [
        "pd.options.display.max_colwidth = 1000"
      ],
      "metadata": {
        "id": "T_lyybQhX3-S"
      },
      "execution_count": 312,
      "outputs": []
    },
    {
      "cell_type": "markdown",
      "source": [
        "# Importing dataset"
      ],
      "metadata": {
        "id": "gD0-WqTTZmOM"
      }
    },
    {
      "cell_type": "code",
      "source": [
        "items = pd.read_csv('items.csv')\n",
        "userint = pd.read_csv('userInteractions.csv')\n",
        "users = pd.read_csv('users.csv')\n"
      ],
      "metadata": {
        "id": "wn1wJH-OZrgv"
      },
      "execution_count": 313,
      "outputs": []
    },
    {
      "cell_type": "code",
      "source": [
        "items.head()"
      ],
      "metadata": {
        "colab": {
          "base_uri": "https://localhost:8080/",
          "height": 649
        },
        "id": "OCKOuCb_Zrjn",
        "outputId": "023cffcc-7c11-4638-b67c-df32c7f61869"
      },
      "execution_count": 314,
      "outputs": [
        {
          "output_type": "execute_result",
          "data": {
            "text/plain": [
              "                                     id  \\\n",
              "0  7e5e42eb-de7d-4b63-bd8c-9a842c445e66   \n",
              "1  828d3851-105f-4c24-ae68-c5b24597c7e7   \n",
              "2  673074b9-8592-4682-a4e4-ee388a1d86c5   \n",
              "3  836737ee-1d1d-4ae7-86f8-0c5abb8823c4   \n",
              "4  929d94a1-0921-4625-9630-2720ee762f50   \n",
              "\n",
              "                                          authority  publishingDate  \\\n",
              "0                  Directorate Of Rural Development    1.645277e+12   \n",
              "1  Jharkhand State Rural Road Development Authority    1.645247e+12   \n",
              "2  Jharkhand State Rural Road Development Authority    1.645247e+12   \n",
              "3  Jharkhand State Rural Road Development Authority    1.645247e+12   \n",
              "4                      Rural Development Department    1.645270e+12   \n",
              "\n",
              "    bidDeadline       value        emd     status  \\\n",
              "0  1.645787e+12    300000.0     6000.0  CANCELLED   \n",
              "1  1.646048e+12  16861000.0   339000.0  PUBLISHED   \n",
              "2  1.646048e+12  32778000.0   656000.0  PUBLISHED   \n",
              "3  1.646048e+12  52264000.0  1045000.0  PUBLISHED   \n",
              "4  1.645760e+12    375755.0        NaN   ARCHIVED   \n",
              "\n",
              "                                            locations  \\\n",
              "0    [{'state': 'Jammu & Kashmir', 'city': 'Kathua'}]   \n",
              "1          [{'state': 'Jharkhand', 'city': 'Ranchi'}]   \n",
              "2  [{'state': 'Jharkhand', 'city': 'West Singhbhum'}]   \n",
              "3          [{'state': 'Jharkhand', 'city': 'Garhwa'}]   \n",
              "4        [{'state': 'Maharashtra', 'city': 'Nanded'}]   \n",
              "\n",
              "                                                                                                           details  \n",
              "0                  Construction Of Community Sanitary Complex Unit At Near Gms Rohat Pyt Kah Block Nagrota Gujrooo  \n",
              "1                                                                            Repair And Maintenance Of Pmgsy Roads  \n",
              "2                                                                            Repair And Maintenance Of Pmgsy Roads  \n",
              "3                                                                            Repair And Maintenance Of Pmgsy Roads  \n",
              "4  Construction Of Closed C.c. Drain / Road At Dapka Gundopant Tq Mukhed Dist Nanded (under 15th Fin Comm 2020-21)  "
            ],
            "text/html": [
              "\n",
              "  <div id=\"df-7234c425-eb9e-43cd-9971-2375b0b31ec4\">\n",
              "    <div class=\"colab-df-container\">\n",
              "      <div>\n",
              "<style scoped>\n",
              "    .dataframe tbody tr th:only-of-type {\n",
              "        vertical-align: middle;\n",
              "    }\n",
              "\n",
              "    .dataframe tbody tr th {\n",
              "        vertical-align: top;\n",
              "    }\n",
              "\n",
              "    .dataframe thead th {\n",
              "        text-align: right;\n",
              "    }\n",
              "</style>\n",
              "<table border=\"1\" class=\"dataframe\">\n",
              "  <thead>\n",
              "    <tr style=\"text-align: right;\">\n",
              "      <th></th>\n",
              "      <th>id</th>\n",
              "      <th>authority</th>\n",
              "      <th>publishingDate</th>\n",
              "      <th>bidDeadline</th>\n",
              "      <th>value</th>\n",
              "      <th>emd</th>\n",
              "      <th>status</th>\n",
              "      <th>locations</th>\n",
              "      <th>details</th>\n",
              "    </tr>\n",
              "  </thead>\n",
              "  <tbody>\n",
              "    <tr>\n",
              "      <th>0</th>\n",
              "      <td>7e5e42eb-de7d-4b63-bd8c-9a842c445e66</td>\n",
              "      <td>Directorate Of Rural Development</td>\n",
              "      <td>1.645277e+12</td>\n",
              "      <td>1.645787e+12</td>\n",
              "      <td>300000.0</td>\n",
              "      <td>6000.0</td>\n",
              "      <td>CANCELLED</td>\n",
              "      <td>[{'state': 'Jammu &amp; Kashmir', 'city': 'Kathua'}]</td>\n",
              "      <td>Construction Of Community Sanitary Complex Unit At Near Gms Rohat Pyt Kah Block Nagrota Gujrooo</td>\n",
              "    </tr>\n",
              "    <tr>\n",
              "      <th>1</th>\n",
              "      <td>828d3851-105f-4c24-ae68-c5b24597c7e7</td>\n",
              "      <td>Jharkhand State Rural Road Development Authority</td>\n",
              "      <td>1.645247e+12</td>\n",
              "      <td>1.646048e+12</td>\n",
              "      <td>16861000.0</td>\n",
              "      <td>339000.0</td>\n",
              "      <td>PUBLISHED</td>\n",
              "      <td>[{'state': 'Jharkhand', 'city': 'Ranchi'}]</td>\n",
              "      <td>Repair And Maintenance Of Pmgsy Roads</td>\n",
              "    </tr>\n",
              "    <tr>\n",
              "      <th>2</th>\n",
              "      <td>673074b9-8592-4682-a4e4-ee388a1d86c5</td>\n",
              "      <td>Jharkhand State Rural Road Development Authority</td>\n",
              "      <td>1.645247e+12</td>\n",
              "      <td>1.646048e+12</td>\n",
              "      <td>32778000.0</td>\n",
              "      <td>656000.0</td>\n",
              "      <td>PUBLISHED</td>\n",
              "      <td>[{'state': 'Jharkhand', 'city': 'West Singhbhum'}]</td>\n",
              "      <td>Repair And Maintenance Of Pmgsy Roads</td>\n",
              "    </tr>\n",
              "    <tr>\n",
              "      <th>3</th>\n",
              "      <td>836737ee-1d1d-4ae7-86f8-0c5abb8823c4</td>\n",
              "      <td>Jharkhand State Rural Road Development Authority</td>\n",
              "      <td>1.645247e+12</td>\n",
              "      <td>1.646048e+12</td>\n",
              "      <td>52264000.0</td>\n",
              "      <td>1045000.0</td>\n",
              "      <td>PUBLISHED</td>\n",
              "      <td>[{'state': 'Jharkhand', 'city': 'Garhwa'}]</td>\n",
              "      <td>Repair And Maintenance Of Pmgsy Roads</td>\n",
              "    </tr>\n",
              "    <tr>\n",
              "      <th>4</th>\n",
              "      <td>929d94a1-0921-4625-9630-2720ee762f50</td>\n",
              "      <td>Rural Development Department</td>\n",
              "      <td>1.645270e+12</td>\n",
              "      <td>1.645760e+12</td>\n",
              "      <td>375755.0</td>\n",
              "      <td>NaN</td>\n",
              "      <td>ARCHIVED</td>\n",
              "      <td>[{'state': 'Maharashtra', 'city': 'Nanded'}]</td>\n",
              "      <td>Construction Of Closed C.c. Drain / Road At Dapka Gundopant Tq Mukhed Dist Nanded (under 15th Fin Comm 2020-21)</td>\n",
              "    </tr>\n",
              "  </tbody>\n",
              "</table>\n",
              "</div>\n",
              "      <button class=\"colab-df-convert\" onclick=\"convertToInteractive('df-7234c425-eb9e-43cd-9971-2375b0b31ec4')\"\n",
              "              title=\"Convert this dataframe to an interactive table.\"\n",
              "              style=\"display:none;\">\n",
              "        \n",
              "  <svg xmlns=\"http://www.w3.org/2000/svg\" height=\"24px\"viewBox=\"0 0 24 24\"\n",
              "       width=\"24px\">\n",
              "    <path d=\"M0 0h24v24H0V0z\" fill=\"none\"/>\n",
              "    <path d=\"M18.56 5.44l.94 2.06.94-2.06 2.06-.94-2.06-.94-.94-2.06-.94 2.06-2.06.94zm-11 1L8.5 8.5l.94-2.06 2.06-.94-2.06-.94L8.5 2.5l-.94 2.06-2.06.94zm10 10l.94 2.06.94-2.06 2.06-.94-2.06-.94-.94-2.06-.94 2.06-2.06.94z\"/><path d=\"M17.41 7.96l-1.37-1.37c-.4-.4-.92-.59-1.43-.59-.52 0-1.04.2-1.43.59L10.3 9.45l-7.72 7.72c-.78.78-.78 2.05 0 2.83L4 21.41c.39.39.9.59 1.41.59.51 0 1.02-.2 1.41-.59l7.78-7.78 2.81-2.81c.8-.78.8-2.07 0-2.86zM5.41 20L4 18.59l7.72-7.72 1.47 1.35L5.41 20z\"/>\n",
              "  </svg>\n",
              "      </button>\n",
              "      \n",
              "  <style>\n",
              "    .colab-df-container {\n",
              "      display:flex;\n",
              "      flex-wrap:wrap;\n",
              "      gap: 12px;\n",
              "    }\n",
              "\n",
              "    .colab-df-convert {\n",
              "      background-color: #E8F0FE;\n",
              "      border: none;\n",
              "      border-radius: 50%;\n",
              "      cursor: pointer;\n",
              "      display: none;\n",
              "      fill: #1967D2;\n",
              "      height: 32px;\n",
              "      padding: 0 0 0 0;\n",
              "      width: 32px;\n",
              "    }\n",
              "\n",
              "    .colab-df-convert:hover {\n",
              "      background-color: #E2EBFA;\n",
              "      box-shadow: 0px 1px 2px rgba(60, 64, 67, 0.3), 0px 1px 3px 1px rgba(60, 64, 67, 0.15);\n",
              "      fill: #174EA6;\n",
              "    }\n",
              "\n",
              "    [theme=dark] .colab-df-convert {\n",
              "      background-color: #3B4455;\n",
              "      fill: #D2E3FC;\n",
              "    }\n",
              "\n",
              "    [theme=dark] .colab-df-convert:hover {\n",
              "      background-color: #434B5C;\n",
              "      box-shadow: 0px 1px 3px 1px rgba(0, 0, 0, 0.15);\n",
              "      filter: drop-shadow(0px 1px 2px rgba(0, 0, 0, 0.3));\n",
              "      fill: #FFFFFF;\n",
              "    }\n",
              "  </style>\n",
              "\n",
              "      <script>\n",
              "        const buttonEl =\n",
              "          document.querySelector('#df-7234c425-eb9e-43cd-9971-2375b0b31ec4 button.colab-df-convert');\n",
              "        buttonEl.style.display =\n",
              "          google.colab.kernel.accessAllowed ? 'block' : 'none';\n",
              "\n",
              "        async function convertToInteractive(key) {\n",
              "          const element = document.querySelector('#df-7234c425-eb9e-43cd-9971-2375b0b31ec4');\n",
              "          const dataTable =\n",
              "            await google.colab.kernel.invokeFunction('convertToInteractive',\n",
              "                                                     [key], {});\n",
              "          if (!dataTable) return;\n",
              "\n",
              "          const docLinkHtml = 'Like what you see? Visit the ' +\n",
              "            '<a target=\"_blank\" href=https://colab.research.google.com/notebooks/data_table.ipynb>data table notebook</a>'\n",
              "            + ' to learn more about interactive tables.';\n",
              "          element.innerHTML = '';\n",
              "          dataTable['output_type'] = 'display_data';\n",
              "          await google.colab.output.renderOutput(dataTable, element);\n",
              "          const docLink = document.createElement('div');\n",
              "          docLink.innerHTML = docLinkHtml;\n",
              "          element.appendChild(docLink);\n",
              "        }\n",
              "      </script>\n",
              "    </div>\n",
              "  </div>\n",
              "  "
            ]
          },
          "metadata": {},
          "execution_count": 314
        }
      ]
    },
    {
      "cell_type": "code",
      "source": [
        "items.shape"
      ],
      "metadata": {
        "colab": {
          "base_uri": "https://localhost:8080/"
        },
        "id": "z1LjmOjJvgoD",
        "outputId": "80f9b644-42c7-488b-cdbc-1ecc507613c1"
      },
      "execution_count": 315,
      "outputs": [
        {
          "output_type": "execute_result",
          "data": {
            "text/plain": [
              "(76223, 9)"
            ]
          },
          "metadata": {},
          "execution_count": 315
        }
      ]
    },
    {
      "cell_type": "code",
      "source": [
        "userint.head()"
      ],
      "metadata": {
        "colab": {
          "base_uri": "https://localhost:8080/",
          "height": 206
        },
        "id": "kGXs6J4dZrpD",
        "outputId": "b0a6735b-fdda-47e7-c591-292bacd939aa"
      },
      "execution_count": 316,
      "outputs": [
        {
          "output_type": "execute_result",
          "data": {
            "text/plain": [
              "     activity                              entityId           accountId\n",
              "0      VIEWED  6658c6db-7b22-4612-b14b-edcdfe3f61c4  794928084817024957\n",
              "1  DOWNLOADED  0c5b4a9d-21c8-428b-bce4-ee27556ba49d  794929730519308433\n",
              "2      VIEWED  0c5b4a9d-21c8-428b-bce4-ee27556ba49d  794929730519308433\n",
              "3  DOWNLOADED  817f9dbd-c37c-4e47-af18-01d3c2d25e41  794934903824193736\n",
              "4      VIEWED  817f9dbd-c37c-4e47-af18-01d3c2d25e41  794934903824193736"
            ],
            "text/html": [
              "\n",
              "  <div id=\"df-b89e7ea2-dea6-4b20-bb77-3b17f853d282\">\n",
              "    <div class=\"colab-df-container\">\n",
              "      <div>\n",
              "<style scoped>\n",
              "    .dataframe tbody tr th:only-of-type {\n",
              "        vertical-align: middle;\n",
              "    }\n",
              "\n",
              "    .dataframe tbody tr th {\n",
              "        vertical-align: top;\n",
              "    }\n",
              "\n",
              "    .dataframe thead th {\n",
              "        text-align: right;\n",
              "    }\n",
              "</style>\n",
              "<table border=\"1\" class=\"dataframe\">\n",
              "  <thead>\n",
              "    <tr style=\"text-align: right;\">\n",
              "      <th></th>\n",
              "      <th>activity</th>\n",
              "      <th>entityId</th>\n",
              "      <th>accountId</th>\n",
              "    </tr>\n",
              "  </thead>\n",
              "  <tbody>\n",
              "    <tr>\n",
              "      <th>0</th>\n",
              "      <td>VIEWED</td>\n",
              "      <td>6658c6db-7b22-4612-b14b-edcdfe3f61c4</td>\n",
              "      <td>794928084817024957</td>\n",
              "    </tr>\n",
              "    <tr>\n",
              "      <th>1</th>\n",
              "      <td>DOWNLOADED</td>\n",
              "      <td>0c5b4a9d-21c8-428b-bce4-ee27556ba49d</td>\n",
              "      <td>794929730519308433</td>\n",
              "    </tr>\n",
              "    <tr>\n",
              "      <th>2</th>\n",
              "      <td>VIEWED</td>\n",
              "      <td>0c5b4a9d-21c8-428b-bce4-ee27556ba49d</td>\n",
              "      <td>794929730519308433</td>\n",
              "    </tr>\n",
              "    <tr>\n",
              "      <th>3</th>\n",
              "      <td>DOWNLOADED</td>\n",
              "      <td>817f9dbd-c37c-4e47-af18-01d3c2d25e41</td>\n",
              "      <td>794934903824193736</td>\n",
              "    </tr>\n",
              "    <tr>\n",
              "      <th>4</th>\n",
              "      <td>VIEWED</td>\n",
              "      <td>817f9dbd-c37c-4e47-af18-01d3c2d25e41</td>\n",
              "      <td>794934903824193736</td>\n",
              "    </tr>\n",
              "  </tbody>\n",
              "</table>\n",
              "</div>\n",
              "      <button class=\"colab-df-convert\" onclick=\"convertToInteractive('df-b89e7ea2-dea6-4b20-bb77-3b17f853d282')\"\n",
              "              title=\"Convert this dataframe to an interactive table.\"\n",
              "              style=\"display:none;\">\n",
              "        \n",
              "  <svg xmlns=\"http://www.w3.org/2000/svg\" height=\"24px\"viewBox=\"0 0 24 24\"\n",
              "       width=\"24px\">\n",
              "    <path d=\"M0 0h24v24H0V0z\" fill=\"none\"/>\n",
              "    <path d=\"M18.56 5.44l.94 2.06.94-2.06 2.06-.94-2.06-.94-.94-2.06-.94 2.06-2.06.94zm-11 1L8.5 8.5l.94-2.06 2.06-.94-2.06-.94L8.5 2.5l-.94 2.06-2.06.94zm10 10l.94 2.06.94-2.06 2.06-.94-2.06-.94-.94-2.06-.94 2.06-2.06.94z\"/><path d=\"M17.41 7.96l-1.37-1.37c-.4-.4-.92-.59-1.43-.59-.52 0-1.04.2-1.43.59L10.3 9.45l-7.72 7.72c-.78.78-.78 2.05 0 2.83L4 21.41c.39.39.9.59 1.41.59.51 0 1.02-.2 1.41-.59l7.78-7.78 2.81-2.81c.8-.78.8-2.07 0-2.86zM5.41 20L4 18.59l7.72-7.72 1.47 1.35L5.41 20z\"/>\n",
              "  </svg>\n",
              "      </button>\n",
              "      \n",
              "  <style>\n",
              "    .colab-df-container {\n",
              "      display:flex;\n",
              "      flex-wrap:wrap;\n",
              "      gap: 12px;\n",
              "    }\n",
              "\n",
              "    .colab-df-convert {\n",
              "      background-color: #E8F0FE;\n",
              "      border: none;\n",
              "      border-radius: 50%;\n",
              "      cursor: pointer;\n",
              "      display: none;\n",
              "      fill: #1967D2;\n",
              "      height: 32px;\n",
              "      padding: 0 0 0 0;\n",
              "      width: 32px;\n",
              "    }\n",
              "\n",
              "    .colab-df-convert:hover {\n",
              "      background-color: #E2EBFA;\n",
              "      box-shadow: 0px 1px 2px rgba(60, 64, 67, 0.3), 0px 1px 3px 1px rgba(60, 64, 67, 0.15);\n",
              "      fill: #174EA6;\n",
              "    }\n",
              "\n",
              "    [theme=dark] .colab-df-convert {\n",
              "      background-color: #3B4455;\n",
              "      fill: #D2E3FC;\n",
              "    }\n",
              "\n",
              "    [theme=dark] .colab-df-convert:hover {\n",
              "      background-color: #434B5C;\n",
              "      box-shadow: 0px 1px 3px 1px rgba(0, 0, 0, 0.15);\n",
              "      filter: drop-shadow(0px 1px 2px rgba(0, 0, 0, 0.3));\n",
              "      fill: #FFFFFF;\n",
              "    }\n",
              "  </style>\n",
              "\n",
              "      <script>\n",
              "        const buttonEl =\n",
              "          document.querySelector('#df-b89e7ea2-dea6-4b20-bb77-3b17f853d282 button.colab-df-convert');\n",
              "        buttonEl.style.display =\n",
              "          google.colab.kernel.accessAllowed ? 'block' : 'none';\n",
              "\n",
              "        async function convertToInteractive(key) {\n",
              "          const element = document.querySelector('#df-b89e7ea2-dea6-4b20-bb77-3b17f853d282');\n",
              "          const dataTable =\n",
              "            await google.colab.kernel.invokeFunction('convertToInteractive',\n",
              "                                                     [key], {});\n",
              "          if (!dataTable) return;\n",
              "\n",
              "          const docLinkHtml = 'Like what you see? Visit the ' +\n",
              "            '<a target=\"_blank\" href=https://colab.research.google.com/notebooks/data_table.ipynb>data table notebook</a>'\n",
              "            + ' to learn more about interactive tables.';\n",
              "          element.innerHTML = '';\n",
              "          dataTable['output_type'] = 'display_data';\n",
              "          await google.colab.output.renderOutput(dataTable, element);\n",
              "          const docLink = document.createElement('div');\n",
              "          docLink.innerHTML = docLinkHtml;\n",
              "          element.appendChild(docLink);\n",
              "        }\n",
              "      </script>\n",
              "    </div>\n",
              "  </div>\n",
              "  "
            ]
          },
          "metadata": {},
          "execution_count": 316
        }
      ]
    },
    {
      "cell_type": "code",
      "source": [
        "userint.shape"
      ],
      "metadata": {
        "colab": {
          "base_uri": "https://localhost:8080/"
        },
        "id": "CX4P0V82vDp8",
        "outputId": "3bf77d10-4852-414c-e22c-8fb21a7beb8d"
      },
      "execution_count": 317,
      "outputs": [
        {
          "output_type": "execute_result",
          "data": {
            "text/plain": [
              "(40466, 3)"
            ]
          },
          "metadata": {},
          "execution_count": 317
        }
      ]
    },
    {
      "cell_type": "code",
      "source": [
        "users.head()"
      ],
      "metadata": {
        "colab": {
          "base_uri": "https://localhost:8080/",
          "height": 268
        },
        "id": "pD8WEzPpZrrr",
        "outputId": "b9c603eb-01c0-4f1c-8014-8af463955a06"
      },
      "execution_count": 318,
      "outputs": [
        {
          "output_type": "execute_result",
          "data": {
            "text/plain": [
              "             accountId  \\\n",
              "0   794928084817024957   \n",
              "1   794929730519308433   \n",
              "2   794934903824193736   \n",
              "3   711046096666759540   \n",
              "4  6599911511613774475   \n",
              "\n",
              "                                                                                                                                               filter  \n",
              "0                                                                                                             {'KEYWORD': ['Delhi', 'House Keeping']}  \n",
              "1                                                                                                                                                 NaN  \n",
              "2                                                                                            {'KEYWORD': ['Power'], 'PURCHASER_NAME': ['GUNTUR DIV']}  \n",
              "3                                                                                                                                                  {}  \n",
              "4  {'LOCATION_STRING': ['Kerala'], 'KEYWORD': ['acp', 'exterior', 'glass', 'interior', 'structural glazing', 'truss'], 'VALUE': ['1000', '10000000']}  "
            ],
            "text/html": [
              "\n",
              "  <div id=\"df-5b01852d-67d4-4513-8794-214e9fc9fdcc\">\n",
              "    <div class=\"colab-df-container\">\n",
              "      <div>\n",
              "<style scoped>\n",
              "    .dataframe tbody tr th:only-of-type {\n",
              "        vertical-align: middle;\n",
              "    }\n",
              "\n",
              "    .dataframe tbody tr th {\n",
              "        vertical-align: top;\n",
              "    }\n",
              "\n",
              "    .dataframe thead th {\n",
              "        text-align: right;\n",
              "    }\n",
              "</style>\n",
              "<table border=\"1\" class=\"dataframe\">\n",
              "  <thead>\n",
              "    <tr style=\"text-align: right;\">\n",
              "      <th></th>\n",
              "      <th>accountId</th>\n",
              "      <th>filter</th>\n",
              "    </tr>\n",
              "  </thead>\n",
              "  <tbody>\n",
              "    <tr>\n",
              "      <th>0</th>\n",
              "      <td>794928084817024957</td>\n",
              "      <td>{'KEYWORD': ['Delhi', 'House Keeping']}</td>\n",
              "    </tr>\n",
              "    <tr>\n",
              "      <th>1</th>\n",
              "      <td>794929730519308433</td>\n",
              "      <td>NaN</td>\n",
              "    </tr>\n",
              "    <tr>\n",
              "      <th>2</th>\n",
              "      <td>794934903824193736</td>\n",
              "      <td>{'KEYWORD': ['Power'], 'PURCHASER_NAME': ['GUNTUR DIV']}</td>\n",
              "    </tr>\n",
              "    <tr>\n",
              "      <th>3</th>\n",
              "      <td>711046096666759540</td>\n",
              "      <td>{}</td>\n",
              "    </tr>\n",
              "    <tr>\n",
              "      <th>4</th>\n",
              "      <td>6599911511613774475</td>\n",
              "      <td>{'LOCATION_STRING': ['Kerala'], 'KEYWORD': ['acp', 'exterior', 'glass', 'interior', 'structural glazing', 'truss'], 'VALUE': ['1000', '10000000']}</td>\n",
              "    </tr>\n",
              "  </tbody>\n",
              "</table>\n",
              "</div>\n",
              "      <button class=\"colab-df-convert\" onclick=\"convertToInteractive('df-5b01852d-67d4-4513-8794-214e9fc9fdcc')\"\n",
              "              title=\"Convert this dataframe to an interactive table.\"\n",
              "              style=\"display:none;\">\n",
              "        \n",
              "  <svg xmlns=\"http://www.w3.org/2000/svg\" height=\"24px\"viewBox=\"0 0 24 24\"\n",
              "       width=\"24px\">\n",
              "    <path d=\"M0 0h24v24H0V0z\" fill=\"none\"/>\n",
              "    <path d=\"M18.56 5.44l.94 2.06.94-2.06 2.06-.94-2.06-.94-.94-2.06-.94 2.06-2.06.94zm-11 1L8.5 8.5l.94-2.06 2.06-.94-2.06-.94L8.5 2.5l-.94 2.06-2.06.94zm10 10l.94 2.06.94-2.06 2.06-.94-2.06-.94-.94-2.06-.94 2.06-2.06.94z\"/><path d=\"M17.41 7.96l-1.37-1.37c-.4-.4-.92-.59-1.43-.59-.52 0-1.04.2-1.43.59L10.3 9.45l-7.72 7.72c-.78.78-.78 2.05 0 2.83L4 21.41c.39.39.9.59 1.41.59.51 0 1.02-.2 1.41-.59l7.78-7.78 2.81-2.81c.8-.78.8-2.07 0-2.86zM5.41 20L4 18.59l7.72-7.72 1.47 1.35L5.41 20z\"/>\n",
              "  </svg>\n",
              "      </button>\n",
              "      \n",
              "  <style>\n",
              "    .colab-df-container {\n",
              "      display:flex;\n",
              "      flex-wrap:wrap;\n",
              "      gap: 12px;\n",
              "    }\n",
              "\n",
              "    .colab-df-convert {\n",
              "      background-color: #E8F0FE;\n",
              "      border: none;\n",
              "      border-radius: 50%;\n",
              "      cursor: pointer;\n",
              "      display: none;\n",
              "      fill: #1967D2;\n",
              "      height: 32px;\n",
              "      padding: 0 0 0 0;\n",
              "      width: 32px;\n",
              "    }\n",
              "\n",
              "    .colab-df-convert:hover {\n",
              "      background-color: #E2EBFA;\n",
              "      box-shadow: 0px 1px 2px rgba(60, 64, 67, 0.3), 0px 1px 3px 1px rgba(60, 64, 67, 0.15);\n",
              "      fill: #174EA6;\n",
              "    }\n",
              "\n",
              "    [theme=dark] .colab-df-convert {\n",
              "      background-color: #3B4455;\n",
              "      fill: #D2E3FC;\n",
              "    }\n",
              "\n",
              "    [theme=dark] .colab-df-convert:hover {\n",
              "      background-color: #434B5C;\n",
              "      box-shadow: 0px 1px 3px 1px rgba(0, 0, 0, 0.15);\n",
              "      filter: drop-shadow(0px 1px 2px rgba(0, 0, 0, 0.3));\n",
              "      fill: #FFFFFF;\n",
              "    }\n",
              "  </style>\n",
              "\n",
              "      <script>\n",
              "        const buttonEl =\n",
              "          document.querySelector('#df-5b01852d-67d4-4513-8794-214e9fc9fdcc button.colab-df-convert');\n",
              "        buttonEl.style.display =\n",
              "          google.colab.kernel.accessAllowed ? 'block' : 'none';\n",
              "\n",
              "        async function convertToInteractive(key) {\n",
              "          const element = document.querySelector('#df-5b01852d-67d4-4513-8794-214e9fc9fdcc');\n",
              "          const dataTable =\n",
              "            await google.colab.kernel.invokeFunction('convertToInteractive',\n",
              "                                                     [key], {});\n",
              "          if (!dataTable) return;\n",
              "\n",
              "          const docLinkHtml = 'Like what you see? Visit the ' +\n",
              "            '<a target=\"_blank\" href=https://colab.research.google.com/notebooks/data_table.ipynb>data table notebook</a>'\n",
              "            + ' to learn more about interactive tables.';\n",
              "          element.innerHTML = '';\n",
              "          dataTable['output_type'] = 'display_data';\n",
              "          await google.colab.output.renderOutput(dataTable, element);\n",
              "          const docLink = document.createElement('div');\n",
              "          docLink.innerHTML = docLinkHtml;\n",
              "          element.appendChild(docLink);\n",
              "        }\n",
              "      </script>\n",
              "    </div>\n",
              "  </div>\n",
              "  "
            ]
          },
          "metadata": {},
          "execution_count": 318
        }
      ]
    },
    {
      "cell_type": "code",
      "source": [
        "users.rename(columns = {'filter': 'use_details'}, inplace = True) # renamed because 'filter' is also a method and keeps interfering"
      ],
      "metadata": {
        "id": "7TfQ6AvLHHNh"
      },
      "execution_count": 319,
      "outputs": []
    },
    {
      "cell_type": "code",
      "source": [
        "users.shape"
      ],
      "metadata": {
        "colab": {
          "base_uri": "https://localhost:8080/"
        },
        "id": "MHXm5yCTvGxb",
        "outputId": "61e24eec-bc6a-4296-bf07-cde9f28198cf"
      },
      "execution_count": 320,
      "outputs": [
        {
          "output_type": "execute_result",
          "data": {
            "text/plain": [
              "(7566, 2)"
            ]
          },
          "metadata": {},
          "execution_count": 320
        }
      ]
    },
    {
      "cell_type": "markdown",
      "source": [
        "# Inner join tables to get values for unique user keys and items id. This table to be used for recommender."
      ],
      "metadata": {
        "id": "W86MfumNRiIv"
      }
    },
    {
      "cell_type": "code",
      "source": [
        "df = users.merge(userint, how = 'inner', on = 'accountId').merge(items, how = 'inner', left_on= 'entityId', right_on = 'id')"
      ],
      "metadata": {
        "id": "88tWps93ZruT"
      },
      "execution_count": 321,
      "outputs": []
    },
    {
      "cell_type": "code",
      "source": [
        "df.shape"
      ],
      "metadata": {
        "colab": {
          "base_uri": "https://localhost:8080/"
        },
        "id": "THNfAMsHRFu-",
        "outputId": "083dadcc-b3a0-4d8b-f616-dd63e9fbd69f"
      },
      "execution_count": 322,
      "outputs": [
        {
          "output_type": "execute_result",
          "data": {
            "text/plain": [
              "(11966, 13)"
            ]
          },
          "metadata": {},
          "execution_count": 322
        }
      ]
    },
    {
      "cell_type": "code",
      "source": [
        "df.head()"
      ],
      "metadata": {
        "colab": {
          "base_uri": "https://localhost:8080/",
          "height": 739
        },
        "id": "At95G82SRaUM",
        "outputId": "460a9350-dea9-41f0-dac9-ced42d6d9889"
      },
      "execution_count": 323,
      "outputs": [
        {
          "output_type": "execute_result",
          "data": {
            "text/plain": [
              "             accountId  \\\n",
              "0  6599911511613774475   \n",
              "1  6599911511613774475   \n",
              "2  6597437160620561202   \n",
              "3  6599911511613774475   \n",
              "4  6599911511613774475   \n",
              "\n",
              "                                                                                                                                          use_details  \\\n",
              "0  {'LOCATION_STRING': ['Kerala'], 'KEYWORD': ['acp', 'exterior', 'glass', 'interior', 'structural glazing', 'truss'], 'VALUE': ['1000', '10000000']}   \n",
              "1  {'LOCATION_STRING': ['Kerala'], 'KEYWORD': ['acp', 'exterior', 'glass', 'interior', 'structural glazing', 'truss'], 'VALUE': ['1000', '10000000']}   \n",
              "2                                                                                                                                                  {}   \n",
              "3  {'LOCATION_STRING': ['Kerala'], 'KEYWORD': ['acp', 'exterior', 'glass', 'interior', 'structural glazing', 'truss'], 'VALUE': ['1000', '10000000']}   \n",
              "4  {'LOCATION_STRING': ['Kerala'], 'KEYWORD': ['acp', 'exterior', 'glass', 'interior', 'structural glazing', 'truss'], 'VALUE': ['1000', '10000000']}   \n",
              "\n",
              "  activity                              entityId  \\\n",
              "0   VIEWED  52cb8cd0-9b31-4f4c-ade2-c5fb00ec8814   \n",
              "1   VIEWED  93094cb5-206c-4cfb-b1ba-9c9d4a7d172f   \n",
              "2   VIEWED  93094cb5-206c-4cfb-b1ba-9c9d4a7d172f   \n",
              "3   VIEWED  703271eb-cf27-4a12-ae58-d7524e269378   \n",
              "4   VIEWED  44c5aa55-fe3a-4632-a835-6d3996be05e5   \n",
              "\n",
              "                                     id                         authority  \\\n",
              "0  52cb8cd0-9b31-4f4c-ade2-c5fb00ec8814  Local Self Government Department   \n",
              "1  93094cb5-206c-4cfb-b1ba-9c9d4a7d172f  Local Self Government Department   \n",
              "2  93094cb5-206c-4cfb-b1ba-9c9d4a7d172f  Local Self Government Department   \n",
              "3  703271eb-cf27-4a12-ae58-d7524e269378  Local Self Government Department   \n",
              "4  44c5aa55-fe3a-4632-a835-6d3996be05e5  Local Self Government Department   \n",
              "\n",
              "   publishingDate   bidDeadline      value      emd     status  \\\n",
              "0    1.645274e+12  1.646224e+12  1606682.0  40200.0  PUBLISHED   \n",
              "1    1.645241e+12  1.645875e+12  2715214.0  50000.0   ARCHIVED   \n",
              "2    1.645241e+12  1.645875e+12  2715214.0  50000.0   ARCHIVED   \n",
              "3    1.645155e+12  1.646123e+12  4065562.0  50000.0  PUBLISHED   \n",
              "4    1.645274e+12  1.646044e+12  1581827.0  39600.0  PUBLISHED   \n",
              "\n",
              "                                         locations  \\\n",
              "0          [{'state': 'Kerala', 'city': 'Kollam'}]   \n",
              "1        [{'state': 'Kerala', 'city': 'Kottayam'}]   \n",
              "2        [{'state': 'Kerala', 'city': 'Kottayam'}]   \n",
              "3  [{'state': 'Kerala', 'city': 'Pathanamthitta'}]   \n",
              "4          [{'state': 'Kerala', 'city': 'Idukki'}]   \n",
              "\n",
              "                                                                                                                details  \n",
              "0                                                          Proj No. 53/2021-22 Alayamon Gp Panchayat Office Maintenance  \n",
              "1                                                               Pr.no.418.construction Of Smart Anganwadi In Ward No-19  \n",
              "2                                                               Pr.no.418.construction Of Smart Anganwadi In Ward No-19  \n",
              "3                                                              Construction Of First Floor In Panchayat Office Kottanad  \n",
              "4  Dp Works 2021-22 Ummakkada Dwss In Ward 3 Of Nedumkandam Grama Panchayath(nedumkandam Bp)(pro.no.456/22) E-quotation  "
            ],
            "text/html": [
              "\n",
              "  <div id=\"df-ddc4a507-822d-4083-a066-b02101b72400\">\n",
              "    <div class=\"colab-df-container\">\n",
              "      <div>\n",
              "<style scoped>\n",
              "    .dataframe tbody tr th:only-of-type {\n",
              "        vertical-align: middle;\n",
              "    }\n",
              "\n",
              "    .dataframe tbody tr th {\n",
              "        vertical-align: top;\n",
              "    }\n",
              "\n",
              "    .dataframe thead th {\n",
              "        text-align: right;\n",
              "    }\n",
              "</style>\n",
              "<table border=\"1\" class=\"dataframe\">\n",
              "  <thead>\n",
              "    <tr style=\"text-align: right;\">\n",
              "      <th></th>\n",
              "      <th>accountId</th>\n",
              "      <th>use_details</th>\n",
              "      <th>activity</th>\n",
              "      <th>entityId</th>\n",
              "      <th>id</th>\n",
              "      <th>authority</th>\n",
              "      <th>publishingDate</th>\n",
              "      <th>bidDeadline</th>\n",
              "      <th>value</th>\n",
              "      <th>emd</th>\n",
              "      <th>status</th>\n",
              "      <th>locations</th>\n",
              "      <th>details</th>\n",
              "    </tr>\n",
              "  </thead>\n",
              "  <tbody>\n",
              "    <tr>\n",
              "      <th>0</th>\n",
              "      <td>6599911511613774475</td>\n",
              "      <td>{'LOCATION_STRING': ['Kerala'], 'KEYWORD': ['acp', 'exterior', 'glass', 'interior', 'structural glazing', 'truss'], 'VALUE': ['1000', '10000000']}</td>\n",
              "      <td>VIEWED</td>\n",
              "      <td>52cb8cd0-9b31-4f4c-ade2-c5fb00ec8814</td>\n",
              "      <td>52cb8cd0-9b31-4f4c-ade2-c5fb00ec8814</td>\n",
              "      <td>Local Self Government Department</td>\n",
              "      <td>1.645274e+12</td>\n",
              "      <td>1.646224e+12</td>\n",
              "      <td>1606682.0</td>\n",
              "      <td>40200.0</td>\n",
              "      <td>PUBLISHED</td>\n",
              "      <td>[{'state': 'Kerala', 'city': 'Kollam'}]</td>\n",
              "      <td>Proj No. 53/2021-22 Alayamon Gp Panchayat Office Maintenance</td>\n",
              "    </tr>\n",
              "    <tr>\n",
              "      <th>1</th>\n",
              "      <td>6599911511613774475</td>\n",
              "      <td>{'LOCATION_STRING': ['Kerala'], 'KEYWORD': ['acp', 'exterior', 'glass', 'interior', 'structural glazing', 'truss'], 'VALUE': ['1000', '10000000']}</td>\n",
              "      <td>VIEWED</td>\n",
              "      <td>93094cb5-206c-4cfb-b1ba-9c9d4a7d172f</td>\n",
              "      <td>93094cb5-206c-4cfb-b1ba-9c9d4a7d172f</td>\n",
              "      <td>Local Self Government Department</td>\n",
              "      <td>1.645241e+12</td>\n",
              "      <td>1.645875e+12</td>\n",
              "      <td>2715214.0</td>\n",
              "      <td>50000.0</td>\n",
              "      <td>ARCHIVED</td>\n",
              "      <td>[{'state': 'Kerala', 'city': 'Kottayam'}]</td>\n",
              "      <td>Pr.no.418.construction Of Smart Anganwadi In Ward No-19</td>\n",
              "    </tr>\n",
              "    <tr>\n",
              "      <th>2</th>\n",
              "      <td>6597437160620561202</td>\n",
              "      <td>{}</td>\n",
              "      <td>VIEWED</td>\n",
              "      <td>93094cb5-206c-4cfb-b1ba-9c9d4a7d172f</td>\n",
              "      <td>93094cb5-206c-4cfb-b1ba-9c9d4a7d172f</td>\n",
              "      <td>Local Self Government Department</td>\n",
              "      <td>1.645241e+12</td>\n",
              "      <td>1.645875e+12</td>\n",
              "      <td>2715214.0</td>\n",
              "      <td>50000.0</td>\n",
              "      <td>ARCHIVED</td>\n",
              "      <td>[{'state': 'Kerala', 'city': 'Kottayam'}]</td>\n",
              "      <td>Pr.no.418.construction Of Smart Anganwadi In Ward No-19</td>\n",
              "    </tr>\n",
              "    <tr>\n",
              "      <th>3</th>\n",
              "      <td>6599911511613774475</td>\n",
              "      <td>{'LOCATION_STRING': ['Kerala'], 'KEYWORD': ['acp', 'exterior', 'glass', 'interior', 'structural glazing', 'truss'], 'VALUE': ['1000', '10000000']}</td>\n",
              "      <td>VIEWED</td>\n",
              "      <td>703271eb-cf27-4a12-ae58-d7524e269378</td>\n",
              "      <td>703271eb-cf27-4a12-ae58-d7524e269378</td>\n",
              "      <td>Local Self Government Department</td>\n",
              "      <td>1.645155e+12</td>\n",
              "      <td>1.646123e+12</td>\n",
              "      <td>4065562.0</td>\n",
              "      <td>50000.0</td>\n",
              "      <td>PUBLISHED</td>\n",
              "      <td>[{'state': 'Kerala', 'city': 'Pathanamthitta'}]</td>\n",
              "      <td>Construction Of First Floor In Panchayat Office Kottanad</td>\n",
              "    </tr>\n",
              "    <tr>\n",
              "      <th>4</th>\n",
              "      <td>6599911511613774475</td>\n",
              "      <td>{'LOCATION_STRING': ['Kerala'], 'KEYWORD': ['acp', 'exterior', 'glass', 'interior', 'structural glazing', 'truss'], 'VALUE': ['1000', '10000000']}</td>\n",
              "      <td>VIEWED</td>\n",
              "      <td>44c5aa55-fe3a-4632-a835-6d3996be05e5</td>\n",
              "      <td>44c5aa55-fe3a-4632-a835-6d3996be05e5</td>\n",
              "      <td>Local Self Government Department</td>\n",
              "      <td>1.645274e+12</td>\n",
              "      <td>1.646044e+12</td>\n",
              "      <td>1581827.0</td>\n",
              "      <td>39600.0</td>\n",
              "      <td>PUBLISHED</td>\n",
              "      <td>[{'state': 'Kerala', 'city': 'Idukki'}]</td>\n",
              "      <td>Dp Works 2021-22 Ummakkada Dwss In Ward 3 Of Nedumkandam Grama Panchayath(nedumkandam Bp)(pro.no.456/22) E-quotation</td>\n",
              "    </tr>\n",
              "  </tbody>\n",
              "</table>\n",
              "</div>\n",
              "      <button class=\"colab-df-convert\" onclick=\"convertToInteractive('df-ddc4a507-822d-4083-a066-b02101b72400')\"\n",
              "              title=\"Convert this dataframe to an interactive table.\"\n",
              "              style=\"display:none;\">\n",
              "        \n",
              "  <svg xmlns=\"http://www.w3.org/2000/svg\" height=\"24px\"viewBox=\"0 0 24 24\"\n",
              "       width=\"24px\">\n",
              "    <path d=\"M0 0h24v24H0V0z\" fill=\"none\"/>\n",
              "    <path d=\"M18.56 5.44l.94 2.06.94-2.06 2.06-.94-2.06-.94-.94-2.06-.94 2.06-2.06.94zm-11 1L8.5 8.5l.94-2.06 2.06-.94-2.06-.94L8.5 2.5l-.94 2.06-2.06.94zm10 10l.94 2.06.94-2.06 2.06-.94-2.06-.94-.94-2.06-.94 2.06-2.06.94z\"/><path d=\"M17.41 7.96l-1.37-1.37c-.4-.4-.92-.59-1.43-.59-.52 0-1.04.2-1.43.59L10.3 9.45l-7.72 7.72c-.78.78-.78 2.05 0 2.83L4 21.41c.39.39.9.59 1.41.59.51 0 1.02-.2 1.41-.59l7.78-7.78 2.81-2.81c.8-.78.8-2.07 0-2.86zM5.41 20L4 18.59l7.72-7.72 1.47 1.35L5.41 20z\"/>\n",
              "  </svg>\n",
              "      </button>\n",
              "      \n",
              "  <style>\n",
              "    .colab-df-container {\n",
              "      display:flex;\n",
              "      flex-wrap:wrap;\n",
              "      gap: 12px;\n",
              "    }\n",
              "\n",
              "    .colab-df-convert {\n",
              "      background-color: #E8F0FE;\n",
              "      border: none;\n",
              "      border-radius: 50%;\n",
              "      cursor: pointer;\n",
              "      display: none;\n",
              "      fill: #1967D2;\n",
              "      height: 32px;\n",
              "      padding: 0 0 0 0;\n",
              "      width: 32px;\n",
              "    }\n",
              "\n",
              "    .colab-df-convert:hover {\n",
              "      background-color: #E2EBFA;\n",
              "      box-shadow: 0px 1px 2px rgba(60, 64, 67, 0.3), 0px 1px 3px 1px rgba(60, 64, 67, 0.15);\n",
              "      fill: #174EA6;\n",
              "    }\n",
              "\n",
              "    [theme=dark] .colab-df-convert {\n",
              "      background-color: #3B4455;\n",
              "      fill: #D2E3FC;\n",
              "    }\n",
              "\n",
              "    [theme=dark] .colab-df-convert:hover {\n",
              "      background-color: #434B5C;\n",
              "      box-shadow: 0px 1px 3px 1px rgba(0, 0, 0, 0.15);\n",
              "      filter: drop-shadow(0px 1px 2px rgba(0, 0, 0, 0.3));\n",
              "      fill: #FFFFFF;\n",
              "    }\n",
              "  </style>\n",
              "\n",
              "      <script>\n",
              "        const buttonEl =\n",
              "          document.querySelector('#df-ddc4a507-822d-4083-a066-b02101b72400 button.colab-df-convert');\n",
              "        buttonEl.style.display =\n",
              "          google.colab.kernel.accessAllowed ? 'block' : 'none';\n",
              "\n",
              "        async function convertToInteractive(key) {\n",
              "          const element = document.querySelector('#df-ddc4a507-822d-4083-a066-b02101b72400');\n",
              "          const dataTable =\n",
              "            await google.colab.kernel.invokeFunction('convertToInteractive',\n",
              "                                                     [key], {});\n",
              "          if (!dataTable) return;\n",
              "\n",
              "          const docLinkHtml = 'Like what you see? Visit the ' +\n",
              "            '<a target=\"_blank\" href=https://colab.research.google.com/notebooks/data_table.ipynb>data table notebook</a>'\n",
              "            + ' to learn more about interactive tables.';\n",
              "          element.innerHTML = '';\n",
              "          dataTable['output_type'] = 'display_data';\n",
              "          await google.colab.output.renderOutput(dataTable, element);\n",
              "          const docLink = document.createElement('div');\n",
              "          docLink.innerHTML = docLinkHtml;\n",
              "          element.appendChild(docLink);\n",
              "        }\n",
              "      </script>\n",
              "    </div>\n",
              "  </div>\n",
              "  "
            ]
          },
          "metadata": {},
          "execution_count": 323
        }
      ]
    },
    {
      "cell_type": "code",
      "source": [
        "sns.heatmap(df.isnull())"
      ],
      "metadata": {
        "colab": {
          "base_uri": "https://localhost:8080/",
          "height": 354
        },
        "id": "LkpohydRvTWU",
        "outputId": "940df7a2-cbcf-4621-8931-076038c2a0b3"
      },
      "execution_count": 324,
      "outputs": [
        {
          "output_type": "execute_result",
          "data": {
            "text/plain": [
              "<AxesSubplot:>"
            ]
          },
          "metadata": {},
          "execution_count": 324
        },
        {
          "output_type": "display_data",
          "data": {
            "text/plain": [
              "<Figure size 432x288 with 2 Axes>"
            ],
            "image/png": "[encoded data removed]"
          },
          "metadata": {
            "needs_background": "light"
          }
        }
      ]
    },
    {
      "cell_type": "code",
      "source": [
        "# user_df.fillna(0)"
      ],
      "metadata": {
        "id": "8hiY6G0Nzlc5"
      },
      "execution_count": null,
      "outputs": []
    },
    {
      "cell_type": "code",
      "source": [
        "df = df[df['use_details'].notna()] #got rid of data without any info"
      ],
      "metadata": {
        "id": "61feZbGkzDJo"
      },
      "execution_count": 325,
      "outputs": []
    },
    {
      "cell_type": "code",
      "source": [
        "df.duplicated().sum()"
      ],
      "metadata": {
        "colab": {
          "base_uri": "https://localhost:8080/"
        },
        "id": "2-_-qhoQn5mA",
        "outputId": "1b917352-f475-4ebc-f220-5070c0a5af24"
      },
      "execution_count": 326,
      "outputs": [
        {
          "output_type": "execute_result",
          "data": {
            "text/plain": [
              "0"
            ]
          },
          "metadata": {},
          "execution_count": 326
        }
      ]
    },
    {
      "cell_type": "code",
      "source": [
        "df.shape"
      ],
      "metadata": {
        "colab": {
          "base_uri": "https://localhost:8080/"
        },
        "id": "ejnFlUxqzeaI",
        "outputId": "d3f44775-e514-45ed-da76-3d9afa8f2443"
      },
      "execution_count": 327,
      "outputs": [
        {
          "output_type": "execute_result",
          "data": {
            "text/plain": [
              "(10213, 13)"
            ]
          },
          "metadata": {},
          "execution_count": 327
        }
      ]
    },
    {
      "cell_type": "code",
      "source": [
        "df.info()"
      ],
      "metadata": {
        "colab": {
          "base_uri": "https://localhost:8080/"
        },
        "id": "It2MNZ314apK",
        "outputId": "ffa4eab3-1621-4d2c-a060-8a5bbfa44710"
      },
      "execution_count": 328,
      "outputs": [
        {
          "output_type": "stream",
          "name": "stdout",
          "text": [
            "<class 'pandas.core.frame.DataFrame'>\n",
            "Int64Index: 10213 entries, 0 to 11963\n",
            "Data columns (total 13 columns):\n",
            " #   Column          Non-Null Count  Dtype  \n",
            "---  ------          --------------  -----  \n",
            " 0   accountId       10213 non-null  object \n",
            " 1   use_details     10213 non-null  object \n",
            " 2   activity        10213 non-null  object \n",
            " 3   entityId        10213 non-null  object \n",
            " 4   id              10213 non-null  object \n",
            " 5   authority       10213 non-null  object \n",
            " 6   publishingDate  10213 non-null  float64\n",
            " 7   bidDeadline     10211 non-null  float64\n",
            " 8   value           5917 non-null   float64\n",
            " 9   emd             5411 non-null   float64\n",
            " 10  status          10213 non-null  object \n",
            " 11  locations       10213 non-null  object \n",
            " 12  details         10213 non-null  object \n",
            "dtypes: float64(4), object(9)\n",
            "memory usage: 1.1+ MB\n"
          ]
        }
      ]
    },
    {
      "cell_type": "code",
      "source": [
        "df.rename(columns = {'filter': 'use_details'}, inplace = True) # renamed because 'filter' is also a method and keeps interfering"
      ],
      "metadata": {
        "id": "tyHhWPGU01vo"
      },
      "execution_count": 329,
      "outputs": []
    },
    {
      "cell_type": "code",
      "source": [
        "df = df.reset_index(drop = True)"
      ],
      "metadata": {
        "id": "zWKKlL-M8GId"
      },
      "execution_count": 330,
      "outputs": []
    },
    {
      "cell_type": "code",
      "source": [
        "df.columns"
      ],
      "metadata": {
        "colab": {
          "base_uri": "https://localhost:8080/"
        },
        "id": "JQXT8YSToEU8",
        "outputId": "c544e048-7264-4df4-f7ec-82b04151dbdd"
      },
      "execution_count": 331,
      "outputs": [
        {
          "output_type": "execute_result",
          "data": {
            "text/plain": [
              "Index(['accountId', 'use_details', 'activity', 'entityId', 'id', 'authority',\n",
              "       'publishingDate', 'bidDeadline', 'value', 'emd', 'status', 'locations',\n",
              "       'details'],\n",
              "      dtype='object')"
            ]
          },
          "metadata": {},
          "execution_count": 331
        }
      ]
    },
    {
      "cell_type": "markdown",
      "source": [
        "## Extract text from details column"
      ],
      "metadata": {
        "id": "nC4LVQxw14aV"
      }
    },
    {
      "cell_type": "code",
      "source": [
        "df.use_details[10]"
      ],
      "metadata": {
        "colab": {
          "base_uri": "https://localhost:8080/",
          "height": 53
        },
        "id": "wq-9kk7M0IuH",
        "outputId": "4e94fb16-841d-4349-dc21-bb8c9c8fb25c"
      },
      "execution_count": 332,
      "outputs": [
        {
          "output_type": "execute_result",
          "data": {
            "text/plain": [
              "\"{'LOCATION_STRING': ['Kerala'], 'KEYWORD': ['acp', 'exterior', 'glass', 'interior', 'structural glazing', 'truss'], 'VALUE': ['1000', '10000000']}\""
            ],
            "application/vnd.google.colaboratory.intrinsic+json": {
              "type": "string"
            }
          },
          "metadata": {},
          "execution_count": 332
        }
      ]
    },
    {
      "cell_type": "code",
      "source": [
        "json_data = json.loads(df.use_details[10].replace(\"'\", '\"'))\n",
        "json_val = [val for k, val in json_data.items() if not k == 'VALUE']"
      ],
      "metadata": {
        "id": "uDKSaIS02xtu"
      },
      "execution_count": 333,
      "outputs": []
    },
    {
      "cell_type": "code",
      "source": [
        "json_val"
      ],
      "metadata": {
        "colab": {
          "base_uri": "https://localhost:8080/"
        },
        "id": "0ptZeywL3pJ4",
        "outputId": "87fc76b5-155d-419d-8e74-2dfdce8afa96"
      },
      "execution_count": 334,
      "outputs": [
        {
          "output_type": "execute_result",
          "data": {
            "text/plain": [
              "[['Kerala'],\n",
              " ['acp', 'exterior', 'glass', 'interior', 'structural glazing', 'truss']]"
            ]
          },
          "metadata": {},
          "execution_count": 334
        }
      ]
    },
    {
      "cell_type": "code",
      "source": [
        "def json_extractor_text(file):\n",
        "\n",
        "  corrected = file.replace(\"'\", '\"')\n",
        "  temp_data = json.loads(corrected)\n",
        "  \n",
        "  \n",
        "    \n",
        "  temp_value = [val for k, val in temp_data.items() if not k == 'VALUE']\n",
        "  \n",
        "  \n",
        "  \n",
        "  return ' '.join([item for sublist in temp_value for item in sublist])\n",
        "\n",
        "def json_extractor_arg(file):\n",
        "  try:\n",
        "    return json_extractor_text(file)\n",
        "  except:\n",
        "    return ''\n",
        "    \n",
        "\n"
      ],
      "metadata": {
        "id": "M4HO1puC19_3"
      },
      "execution_count": 335,
      "outputs": []
    },
    {
      "cell_type": "code",
      "source": [
        "def json_extractor_value(file):\n",
        "\n",
        "  corrected = file.replace(\"'\", '\"')\n",
        "  temp_data = json.loads(corrected)\n",
        "  \n",
        "  \n",
        "    \n",
        "  temp_value = [val for k, val in temp_data.items() if k == 'VALUE']\n",
        "  \n",
        "  \n",
        "  \n",
        "  return [int(item) for sublist in temp_value for item in sublist]\n",
        "\n",
        "def json_extractor_val_arg(file):\n",
        "  try:\n",
        "    return json_extractor_value(file)\n",
        "  except:\n",
        "    return ''"
      ],
      "metadata": {
        "id": "M8IY-fXoKMhd"
      },
      "execution_count": 336,
      "outputs": []
    },
    {
      "cell_type": "code",
      "source": [
        "json_extractor_text(df.use_details[4]) #trying on one example"
      ],
      "metadata": {
        "colab": {
          "base_uri": "https://localhost:8080/",
          "height": 35
        },
        "id": "_tYfS5CaAXGP",
        "outputId": "598bb188-f603-46f9-9a52-9d7931d676be"
      },
      "execution_count": 337,
      "outputs": [
        {
          "output_type": "execute_result",
          "data": {
            "text/plain": [
              "'Kerala acp exterior glass interior structural glazing truss'"
            ],
            "application/vnd.google.colaboratory.intrinsic+json": {
              "type": "string"
            }
          },
          "metadata": {},
          "execution_count": 337
        }
      ]
    },
    {
      "cell_type": "code",
      "source": [
        "df['details_text'] = df.use_details.apply(lambda x: json_extractor_arg(x))"
      ],
      "metadata": {
        "id": "-xQE3RW91PyD"
      },
      "execution_count": 338,
      "outputs": []
    },
    {
      "cell_type": "code",
      "source": [
        "df['details_value'] = df.use_details.apply(lambda x: json_extractor_val_arg(x))"
      ],
      "metadata": {
        "id": "oiLrTO3fKTzG"
      },
      "execution_count": 339,
      "outputs": []
    },
    {
      "cell_type": "code",
      "source": [
        "df['details_text'][0]"
      ],
      "metadata": {
        "colab": {
          "base_uri": "https://localhost:8080/",
          "height": 35
        },
        "id": "EDBNM33PD29b",
        "outputId": "e680e1a0-5626-445e-8d51-f59e6c5ec416"
      },
      "execution_count": 341,
      "outputs": [
        {
          "output_type": "execute_result",
          "data": {
            "text/plain": [
              "'Kerala acp exterior glass interior structural glazing truss'"
            ],
            "application/vnd.google.colaboratory.intrinsic+json": {
              "type": "string"
            }
          },
          "metadata": {},
          "execution_count": 341
        }
      ]
    },
    {
      "cell_type": "code",
      "source": [
        "df['details_value'][10]"
      ],
      "metadata": {
        "colab": {
          "base_uri": "https://localhost:8080/"
        },
        "id": "N_EME_2zKl6v",
        "outputId": "baf7d7ad-42cd-4d31-f0c7-f727340a8e4f"
      },
      "execution_count": 342,
      "outputs": [
        {
          "output_type": "execute_result",
          "data": {
            "text/plain": [
              "[1000, 10000000]"
            ]
          },
          "metadata": {},
          "execution_count": 342
        }
      ]
    },
    {
      "cell_type": "markdown",
      "source": [
        "# performing NER to extract region information from details_text column."
      ],
      "metadata": {
        "id": "VrMcSgNIIswg"
      }
    },
    {
      "cell_type": "code",
      "source": [
        "! python -m spacy download en_core_web_lg"
      ],
      "metadata": {
        "colab": {
          "base_uri": "https://localhost:8080/"
        },
        "id": "VS7ZPqVDI2F3",
        "outputId": "110cd236-bc4e-45f6-9e95-9611cb9bdcb1"
      },
      "execution_count": null,
      "outputs": [
        {
          "output_type": "stream",
          "name": "stdout",
          "text": [
            "/usr/local/lib/python3.9/dist-packages/torch/cuda/__init__.py:497: UserWarning: Can't initialize NVML\n",
            "  warnings.warn(\"Can't initialize NVML\")\n",
            "2023-03-10 06:42:45.475626: W tensorflow/compiler/xla/stream_executor/platform/default/dso_loader.cc:64] Could not load dynamic library 'libnvinfer.so.7'; dlerror: libnvinfer.so.7: cannot open shared object file: No such file or directory; LD_LIBRARY_PATH: /usr/local/nvidia/lib:/usr/local/nvidia/lib64\n",
            "2023-03-10 06:42:45.475751: W tensorflow/compiler/xla/stream_executor/platform/default/dso_loader.cc:64] Could not load dynamic library 'libnvinfer_plugin.so.7'; dlerror: libnvinfer_plugin.so.7: cannot open shared object file: No such file or directory; LD_LIBRARY_PATH: /usr/local/nvidia/lib:/usr/local/nvidia/lib64\n",
            "2023-03-10 06:42:45.475774: W tensorflow/compiler/tf2tensorrt/utils/py_utils.cc:38] TF-TRT Warning: Cannot dlopen some TensorRT libraries. If you would like to use Nvidia GPU with TensorRT, please make sure the missing libraries mentioned above are installed properly.\n",
            "2023-03-10 06:42:47.267616: E tensorflow/compiler/xla/stream_executor/cuda/cuda_driver.cc:267] failed call to cuInit: CUDA_ERROR_NO_DEVICE: no CUDA-capable device is detected\n",
            "Looking in indexes: https://pypi.org/simple, https://us-python.pkg.dev/colab-wheels/public/simple/\n",
            "Collecting en-core-web-lg==3.4.1\n",
            "  Downloading https://github.com/explosion/spacy-models/releases/download/en_core_web_lg-3.4.1/en_core_web_lg-3.4.1-py3-none-any.whl (587.7 MB)\n",
            "\u001b[2K     \u001b[90m━━━━━━━━━━━━━━━━━━━━━━━━━━━━━━━━━━━━━━━\u001b[0m \u001b[32m587.7/587.7 MB\u001b[0m \u001b[31m1.8 MB/s\u001b[0m eta \u001b[36m0:00:00\u001b[0m\n",
            "\u001b[?25hRequirement already satisfied: spacy<3.5.0,>=3.4.0 in /usr/local/lib/python3.9/dist-packages (from en-core-web-lg==3.4.1) (3.4.4)\n",
            "Requirement already satisfied: pydantic!=1.8,!=1.8.1,<1.11.0,>=1.7.4 in /usr/local/lib/python3.9/dist-packages (from spacy<3.5.0,>=3.4.0->en-core-web-lg==3.4.1) (1.10.5)\n",
            "Requirement already satisfied: preshed<3.1.0,>=3.0.2 in /usr/local/lib/python3.9/dist-packages (from spacy<3.5.0,>=3.4.0->en-core-web-lg==3.4.1) (3.0.8)\n",
            "Requirement already satisfied: smart-open<7.0.0,>=5.2.1 in /usr/local/lib/python3.9/dist-packages (from spacy<3.5.0,>=3.4.0->en-core-web-lg==3.4.1) (6.3.0)\n",
            "Requirement already satisfied: spacy-legacy<3.1.0,>=3.0.10 in /usr/local/lib/python3.9/dist-packages (from spacy<3.5.0,>=3.4.0->en-core-web-lg==3.4.1) (3.0.12)\n",
            "Requirement already satisfied: setuptools in /usr/local/lib/python3.9/dist-packages (from spacy<3.5.0,>=3.4.0->en-core-web-lg==3.4.1) (57.4.0)\n",
            "Requirement already satisfied: langcodes<4.0.0,>=3.2.0 in /usr/local/lib/python3.9/dist-packages (from spacy<3.5.0,>=3.4.0->en-core-web-lg==3.4.1) (3.3.0)\n",
            "Requirement already satisfied: srsly<3.0.0,>=2.4.3 in /usr/local/lib/python3.9/dist-packages (from spacy<3.5.0,>=3.4.0->en-core-web-lg==3.4.1) (2.4.6)\n",
            "Requirement already satisfied: spacy-loggers<2.0.0,>=1.0.0 in /usr/local/lib/python3.9/dist-packages (from spacy<3.5.0,>=3.4.0->en-core-web-lg==3.4.1) (1.0.4)\n",
            "Requirement already satisfied: requests<3.0.0,>=2.13.0 in /usr/local/lib/python3.9/dist-packages (from spacy<3.5.0,>=3.4.0->en-core-web-lg==3.4.1) (2.25.1)\n",
            "Requirement already satisfied: cymem<2.1.0,>=2.0.2 in /usr/local/lib/python3.9/dist-packages (from spacy<3.5.0,>=3.4.0->en-core-web-lg==3.4.1) (2.0.7)\n",
            "Requirement already satisfied: numpy>=1.15.0 in /usr/local/lib/python3.9/dist-packages (from spacy<3.5.0,>=3.4.0->en-core-web-lg==3.4.1) (1.22.4)\n",
            "Requirement already satisfied: thinc<8.2.0,>=8.1.0 in /usr/local/lib/python3.9/dist-packages (from spacy<3.5.0,>=3.4.0->en-core-web-lg==3.4.1) (8.1.8)\n",
            "Requirement already satisfied: murmurhash<1.1.0,>=0.28.0 in /usr/local/lib/python3.9/dist-packages (from spacy<3.5.0,>=3.4.0->en-core-web-lg==3.4.1) (1.0.9)\n",
            "Requirement already satisfied: typer<0.8.0,>=0.3.0 in /usr/local/lib/python3.9/dist-packages (from spacy<3.5.0,>=3.4.0->en-core-web-lg==3.4.1) (0.7.0)\n",
            "Requirement already satisfied: tqdm<5.0.0,>=4.38.0 in /usr/local/lib/python3.9/dist-packages (from spacy<3.5.0,>=3.4.0->en-core-web-lg==3.4.1) (4.65.0)\n",
            "Requirement already satisfied: pathy>=0.3.5 in /usr/local/lib/python3.9/dist-packages (from spacy<3.5.0,>=3.4.0->en-core-web-lg==3.4.1) (0.10.1)\n",
            "Requirement already satisfied: packaging>=20.0 in /usr/local/lib/python3.9/dist-packages (from spacy<3.5.0,>=3.4.0->en-core-web-lg==3.4.1) (23.0)\n",
            "Requirement already satisfied: catalogue<2.1.0,>=2.0.6 in /usr/local/lib/python3.9/dist-packages (from spacy<3.5.0,>=3.4.0->en-core-web-lg==3.4.1) (2.0.8)\n",
            "Requirement already satisfied: jinja2 in /usr/local/lib/python3.9/dist-packages (from spacy<3.5.0,>=3.4.0->en-core-web-lg==3.4.1) (3.1.2)\n",
            "Requirement already satisfied: wasabi<1.1.0,>=0.9.1 in /usr/local/lib/python3.9/dist-packages (from spacy<3.5.0,>=3.4.0->en-core-web-lg==3.4.1) (0.10.1)\n",
            "Requirement already satisfied: typing-extensions>=4.2.0 in /usr/local/lib/python3.9/dist-packages (from pydantic!=1.8,!=1.8.1,<1.11.0,>=1.7.4->spacy<3.5.0,>=3.4.0->en-core-web-lg==3.4.1) (4.5.0)\n",
            "Requirement already satisfied: idna<3,>=2.5 in /usr/local/lib/python3.9/dist-packages (from requests<3.0.0,>=2.13.0->spacy<3.5.0,>=3.4.0->en-core-web-lg==3.4.1) (2.10)\n",
            "Requirement already satisfied: urllib3<1.27,>=1.21.1 in /usr/local/lib/python3.9/dist-packages (from requests<3.0.0,>=2.13.0->spacy<3.5.0,>=3.4.0->en-core-web-lg==3.4.1) (1.26.14)\n",
            "Requirement already satisfied: chardet<5,>=3.0.2 in /usr/local/lib/python3.9/dist-packages (from requests<3.0.0,>=2.13.0->spacy<3.5.0,>=3.4.0->en-core-web-lg==3.4.1) (4.0.0)\n",
            "Requirement already satisfied: certifi>=2017.4.17 in /usr/local/lib/python3.9/dist-packages (from requests<3.0.0,>=2.13.0->spacy<3.5.0,>=3.4.0->en-core-web-lg==3.4.1) (2022.12.7)\n",
            "Requirement already satisfied: confection<1.0.0,>=0.0.1 in /usr/local/lib/python3.9/dist-packages (from thinc<8.2.0,>=8.1.0->spacy<3.5.0,>=3.4.0->en-core-web-lg==3.4.1) (0.0.4)\n",
            "Requirement already satisfied: blis<0.8.0,>=0.7.8 in /usr/local/lib/python3.9/dist-packages (from thinc<8.2.0,>=8.1.0->spacy<3.5.0,>=3.4.0->en-core-web-lg==3.4.1) (0.7.9)\n",
            "Requirement already satisfied: click<9.0.0,>=7.1.1 in /usr/local/lib/python3.9/dist-packages (from typer<0.8.0,>=0.3.0->spacy<3.5.0,>=3.4.0->en-core-web-lg==3.4.1) (8.1.3)\n",
            "Requirement already satisfied: MarkupSafe>=2.0 in /usr/local/lib/python3.9/dist-packages (from jinja2->spacy<3.5.0,>=3.4.0->en-core-web-lg==3.4.1) (2.1.2)\n",
            "Installing collected packages: en-core-web-lg\n",
            "Successfully installed en-core-web-lg-3.4.1\n",
            "\u001b[38;5;2m✔ Download and installation successful\u001b[0m\n",
            "You can now load the package via spacy.load('en_core_web_lg')\n"
          ]
        }
      ]
    },
    {
      "cell_type": "code",
      "source": [
        "nlp = spacy.load(\"en_core_web_lg\")\n",
        "nlp"
      ],
      "metadata": {
        "colab": {
          "base_uri": "https://localhost:8080/"
        },
        "id": "-02O2sYZI2IM",
        "outputId": "114f370f-88fb-4d5f-bc33-c8937774692b"
      },
      "execution_count": null,
      "outputs": [
        {
          "output_type": "execute_result",
          "data": {
            "text/plain": [
              "<spacy.lang.en.English at 0x7fa22dd3d400>"
            ]
          },
          "metadata": {},
          "execution_count": 33
        }
      ]
    },
    {
      "cell_type": "markdown",
      "source": [
        "Getting text data for fine-tuning Spacy NER model"
      ],
      "metadata": {
        "id": "F63zr4niRjqf"
      }
    },
    {
      "cell_type": "code",
      "source": [
        "df.columns"
      ],
      "metadata": {
        "colab": {
          "base_uri": "https://localhost:8080/"
        },
        "id": "iEfuOCQDSSOn",
        "outputId": "922aa278-1ed8-413b-80e0-7ca4aec24644"
      },
      "execution_count": null,
      "outputs": [
        {
          "output_type": "execute_result",
          "data": {
            "text/plain": [
              "Index(['accountId', 'use_details', 'activity', 'entityId', 'details_text',\n",
              "       'details_value'],\n",
              "      dtype='object')"
            ]
          },
          "metadata": {},
          "execution_count": 86
        }
      ]
    },
    {
      "cell_type": "code",
      "source": [
        "text_data = ' '.join(df.details_text.sample(500))"
      ],
      "metadata": {
        "id": "ODqmenZwI2Kz"
      },
      "execution_count": null,
      "outputs": []
    },
    {
      "cell_type": "code",
      "source": [
        "text_data"
      ],
      "metadata": {
        "colab": {
          "base_uri": "https://localhost:8080/",
          "height": 178
        },
        "id": "QBN3cHJ7R_Ch",
        "outputId": "b6de6027-dea6-449a-a138-0214ce7c2fe2"
      },
      "execution_count": null,
      "outputs": [
        {
          "output_type": "execute_result",
          "data": {
            "text/plain": [
              "'Civil Civil Construction Construction Consultancy EOI Etp Manpower Pwd Sand Filter Sewage Sewage Treatment Sewage Treatment Plant Water Treatment Western Railway Wtp besan broom bucket civil cleaning cloths cons dalia drain durum wheat dustbin dustpan e-waste eco effluent environment ewaste facility garbage bags installation jaali jeera maintenance management mop nali nepthalene ball operation package pest plant planter ppe recovery remediation sanitization sanitizer sewage sewerage situ solid storage drum stp survillience termite tissue papers and tissue rolls toilet brush toilet cleaner treatment urinal ball urinal screen wall ward waste wastewater wiper Madhya Pradesh Maharashtra Akola Amravati Betul Bhandara Bhopal Dindori Gondia Hoshangabad Indore Jabalpur Katni Mandla Nagpur Seoni Shahdol Wardha CCTV Printing civil works manpower photography road work transportation videogarphy Maharashtra AMC Maintenance Contracts Batteries and Cells and Accessories Cable and Wires Drilling Works Electrical Goods Electrical Goods and Equipments Electrical and Maintenance Works Electronics Equipment Security System and Service Solar Power Plant Goods Support and Maintenance Service Surveillance Equipments Survey Works Ministry Of Defence Ministry of Home Affairs Chandigarh Delhi Gujarat Haryana Rajasthan Uttar Pradesh Cable Cctv Ofc Solar Products  Bihar Transformer Construction 7678171383 Water civil work  construction work pump Kerala Electrical contractor  Bridge Bridge Construction Scrap Road Acetaldehyde Gas Detector Acetaldehyde Monitor Acetaldehyde Sensor Acetaldehyde Transmitter Acetone Gas Detector Acetone Monitor Acetone Sensor Acetone Transmitter Air Humidity Monitor Air Quality Monitor Ambient air quality monitoring Ammonia Gas Detector Ammonia Monitor Ammonia Sensor Ammonia Transmitter Battery Room Hydrogen Gas Leak Detector Butanol Detector Button Logger CNG Detector CNG gas detector CO Gas Analyser CO Gas Analyzer CO Gas Detector CO2 Detector CO2 Transmitter CPCB Carbon Monoxide Gas Detector Carbon Monoxide Monitor Carbon Monoxide Sensor Carbon Monoxide Transmitter Chlorine Detector Chlorine Gas Detector Chlorine Monitor Chlorine Sensor Chlorine Transmitter Clean Room Monitoring System Cold Room Monitoring System Combustible Continuous Gas Analyser Continuous Gas Analyzer Controller Cyclohexane Gas Detector Cyclohexane Monitor Cyclohexane Sensor Cyclohexane Transmitter Cyclopropane Detector Cyclopropane Gas Detector Cyclopropane Monitor Cyclopropane Sensor Cyclopropane Transmitter Cycolopropanc Detector Data Logger Dew Point Analyser Dew Point Analyzer Digital Indicator Digital Temp Indicators Digital Temperature Indicators Digital Thermometer Dust Opacity Monitor Dust Particulate Monitor Ember Detector Ethane Sensor Ethane Transmitter Ethanol Detector Ethyl benzene Ethylene Analyser Ethylene Analyzer Ethylene Gas Detector Ethylene Monitor Ethylene Sensor Ethylene Transmitter Fire Alarm Panel Flame Arrestor Flame Detector System GMS Gas Monitor System Gas Monitors Gas transmitter Graphic Data Logger Graphic Recorder HMI System Hand Tachometer High Temp Logger High Temperature Logger Humidity Indicator Humidity Measuring Instrument Humidity Meter Humidity Monitor Humidity Recorder Humidity Transmitters Hydrocarbon Analyser Hydrocarbon Analyzer Hydrocarbon Monitor Hydrogen Chloride Gas Detector Hydrogen Chloride Monitor Hydrogen Chloride Sensor Hydrogen Chloride Transmitter Hydrogen Cyanide Gas Detector Hydrogen Cyanide Monitor Hydrogen Cyanide Sensor Hydrogen Cyanide Transmitter Hydrogen Gas Detector Hydrogen Monitor Hydrogen Sensor Hydrogen Sulphide Detector Hydrogen Sulphide Gas Detector Hydrogen Sulphide Monitor Hydrogen Sulphide Transmitter Hydrogen Transmitter Hydrogen sulphide Sensor IOT Indicator Infrared Thermo Meter Infrared Thermometer LPG / PNG Cylinder LPG gas detector Level Indicator Loop Powered Humidity Transmitter Loop Powered Indicator Loop Powered Temp Transmitter Loop Powered Temperature Transmitter MPCM Methane Gas Detector Methane Monitor Methane Sensor Methane Transmitter Mini Temp Logger Mini Temperature Logger Moisture Analyser Moisture Analyzer Multi Channel Gas Detector Multi Channel Indicator Multi Use Data Logger Multichannel Gas Detector Multiuse Data Logger N-Butane Gas Detector N-Butane Monitor N-Butane Sensor N-Butane Transmitter N-Decane Detector N-Decane Gas Detector N-Decane Monitor N-Decane Sensor N-Decane Transmitter N-Heptane Gas Detector N-Heptane Monitor N-Heptane Sensor N-Heptane Transmitter N-Hexane Gas Detector N-Hexane Monitor N-Hexane Sensor N-Hexane Transmitter N-Pentane Gas Detector N-Pentane Monitor N-Pentane Sensor N-Pentane Transmitter NO2 gas detector Nh3 gas transmittter Nitric Gas Detector Nitric Gas Monitor Nitric Oxide Analyser Nitric Oxide Analyzer Nitric Sensor Nitric Transmitter Nitrogen Dioxide Detector Nitrogen Dioxide Monitor Nitrogen Dioxide Sensor Nitrogen Dioxide Transmitter Offline Temp / Pressure Logger On / Off Controller On/Off Controller Oxygen Gas Detector Oxygen Monitor Oxygen Sensor Oxygen Transmitter Ozone Detector Ozone Monitor Ozone Sensor Ozone Transmitter PDF Data Logger PLC PANELS Paperless Data Logger Paperless Logger Paperless Recorder Phosgene Phosgene Gas Detector Phosgene Monitor Phosgene Sensor Phosgene Transmitter Phosphine Gas Detector Phosphine Monitor Phosphine Transmitter Pid Controller Portable Data Logger Portable Logger Portable Temp Data Logger Portable Temp Humidity Data Logger Portable Temperature Data Logger Portable Temperature Humidity Data Logger Portable gas detector Portable multi gas detector Precision Temp Logger Precision Temperature Logger Process Scanner Propane Gas Detector Propane Monitor Propane Sensor Propane Transmitter Propanol Detector Pyrometer RH & Temperature Data Logger SCADA System SF 6 Gas Leak Detector SF6 Gas Leak Detector Scanner Logger Single Channel Data Logger Single Use Data Logger Smart Gas Transmitter Solenoid Valve Sulphur Dioxide Detector Sulphur Dioxide Monitor Sulphur Dioxide Sensor Sulphur Dioxide Transmitter Temp & Humidity Scanner Temp & Humidity Transmitter Temp And Humidity Scanner Temp And Humidity Transmitter Temp Counter Temp Humidity Data Logger Temp Humidity Logger Temp Indicator Temp Meter Temp Recorder Temp Scanner Temp Transmitter Temp humidity Recorder Temperature & Humidity Scanner Temperature & Humidity Transmitter Temperature And Humidity Scanner Temperature And Humidity Transmitter Temperature Counter Temperature Data Logger Temperature Humidity Data Logger Temperature Humidity Logger Temperature Humidity Recorder Temperature Indicator Temperature Meter Temperature Monitoring Temperature Recorder Temperature Scanner Temperature Transmitter Temperature logger Therma Meter Thermometer Toxic Gas Detector Toxic Gas Monitor Toxic Gas Sensor Toxic Gas Transmitter Transmitter Transportation Logger Triple IR Detector USB Data Logger UV IR Detector UV IR Flyer UV IR Test Lamp Ultrasonic Gas Leak Detector Universal Data Scanner VOC Analyser VOC Analyzer VOC Gas Monitor VOC Monitor Wireless Repeater Wireless Temp Humidity Logger Wireless Temp Monitoring Wireless Temperature Humidity Logger Wireless Temperature Logger Wireless Temperature Monitoring Wireless Transmitter Receiver ambetronics amc of gas detector ammonia detector biogas analyser biogas analyzer calibration of gas detector chlorine gas detector clean room monitor cmc of gas detect co detector co2 detector continuous stack emission monitor cyclopropane detector data logger data scanner dew point meter ethyl mercaptan flame detector flue gas analyser flue gas analyzer ftu gas analyser ENABLE_EXACT_SEARCH Akola Amravati Aurangabad Mh Bhopal Delhi Gurugram Latur Mumbai New Delhi Pune Yavatmal Consumables Hospital Lab Gamma Radiation Therapy Products Health Hospital Hospital Equipment Hospital Lab Equipments Hospitality Related Services Latur Medical Supply Medicine Non Consumables Hospital and Labs Nuclear Magnetic Resonance Spectrometers Surgical Drugs and Pharmaceutical Products Ajmer Municipal Corporation All India Institute Of Medical Sciences All India Institute of Medical Sciences Allahabad Municipal Corporation Amdavad Municipal Corporation Amravati Municipal Corporation Andhra Pradesh Medical Services And Infrastructure Development Corporation Atal Bihari Vajpayee Institute Of Medical Science And Dr Ram Manohar Lohia Hospital Aurangabad Municipal Corporation Brihanmumbai Municipal Corporation Central Government Health Scheme Collector Office Mumbai City Combined Admission System cas , Department Of Medical Health & Family Welfare, Uttar Pradesh Commissioner of health and medical services Commissioner of health services mumbai Commissionerate Of Health And Family Welfare Commissionerate of Health Services Commissionerate of health and medical services & Medical education and research Community Health Center Community Health Centers Delhi State Health Mission Department Of Health , Department Of Health And Family Welfare Department Of Health And Family Welfare Services Department Of Health And Medical Education Department Of Health Research Department Of Health Services Department Of Health Services thane Department Of Health Services, Department Of Medical And Educational Research Department Of Medical And Health Services Department Of Medical And Public Health Department Of Medical And Rural Health Services Department Of Medical Education Department Of Medical Education And Medicine Department Of Medical Education And Research Department Of Medical Health And Family Welfare Department of Health And Family Welfare Department of Medical Education and Research Departments Of Health And Family Welfare Director Health Services Director Of Health Services Directorate General Health Services Directorate General Of Health Services Directorate Of Health Services Directorate Of Medical And Health Service Directorate Of Medical And Health Services Daman Directorate of Dental Health Services Directorate of Health Service Directorate of Health Services Directorate of Health Services, Mumba District Health And Family Welfare District Health Society Employees State Insurance Health Care Health Department Health and Family Welfare Department Maharashtra University Of Health Sciences Maharastra University Of Health Sciences Medical And Health Department Ministry Of Health And Family Welfare Ministry Of Health And Welfare Minsitry of health & family welfare National Health Authority National Institute Of Health And Family Welfare National Institute Of Mental Health And Neuro Sciences National Rural Health Mission National Urban Health Mission Public Health Department Public Health Foundation Of India  Uttar Pradesh  Scrap Transport EMUGE KENNAMETAL OMI RENISHAW TECTYL WIDIA adaptors bandsaw machine bimetal bandsaw brazed cutting tools carbide cutting tools cmm fixtures cnc lathe cnc machine co-ordinate measuring machine coolant oil deburring tools dial stands encoders equator gauging system equator gauging system, grooving inserts hand hacksaw hss drills hss endmills hss taps hydraulic oils kennametal lubricants machince probes measuring instruments metrology milling cutters milling inserts power saw probe modules probes heads reamers rust preventive oils solid carbide endmills solid carbide taps solid cardide drills spares spares and fixtures styli thread mill threading inserts tool bits tool holders tool setters turning inserts white bits widia Andhra Pradesh Telangana  Madhya Pradesh Uttar Pradesh Ahmedabad Gandhinagar Vadodara Scrap Gujarat Water Laundry machine laundry laundry equipment laundry machines washer extraxtors washing machine Drone  Vehicle Cctv Water Building Construction Railway Civil Road Construction Civil Work Pumps Road Building Construction Cleaning Camera Rajasthan fabrication grill gate railing  Building Cleaning Construction Paint Painting Road Road  Construction Water Jammu Cleaning drainage housekeeping pathways repair and maintenance sanitisation Bihar Water Proofing Work sanitizer Amino Acid Analytical Standards Antibiotics Antibodies Apoptosis Kits Bead mill homogenizer Bead ruptor Biological Products Biological Stains Buffers CRISPR Cell viability Chip & Flow Cytometry Cytokines DNA DNA Damage & Repairs Endotoxin detection Enzymes Expression Vector Flexmap 3D Fluorescent dyes GMP Proteins GPCR Ligands Growth Hormone Hollow fiber filters Inorganic salts Laboratory Research Laboratory Research Chemicals Laboratory consumables Ladders Life Science Research Products Luminex 100/200 Luminex Instruments Lysates Magpix Mono/Disaccharides Natural Protein Neurotransmitters Nutraceuticals Omni prep Peptides Plastic wares Plasticwares Polysaccharides Primary Antibodies Primary human cell line Primer Pairs Protein Labeling Kits Protein Markers RNA RT PCR Repligen Research Protein Secondary Antibodies Signaling inhibitors Sonic ruptor Synthesis Transcription adhesion peptides agarose antibody assay kits, atplite one step biochemical biochemicals biological cells bulk tips cell culture media cell immortalization kits cell immortalization reagents cell membrane chemicals rate contract cloning kit deoxyribonucleic acid dna analysis kits deoxyribonucleic acid dna sequencing products dialysis tube dietary fiber/starch dna extraction eco-tek ecofriendly research products elisa elisa kit elisa kits elisa reader enzyme substrate expression vectors florescence florescent tagged antibodies gene expression genetic analyzer genome genotyping glass wares glassware homogenizer hormone hrp tagged immunoassay kits inhibitors ion Channel modulators laboratory glassware rate contract ligands ligates lites reagent lts luminescence luminex membrane microarray microplate readers microplates mirna molecular biology molecular biology grade chemicals molecular biology reagents molecular biology test kits multichannel pipette multimode plate reader multiplex reader next generation nucleic nucleosides oligonucleotides pcr kit perkinelmer pipette tips pipettes plastic wares polymerase pre packed column protein expression purification kit qpcr expression arrays qpcr products rdna reagents real time pcr products recombinants resins & ligands rotor stator homogenizer sequence sequencing siRNA single channel pipette starch supplements sustainable transcriptome transfection reagents vector & virus library xmap technology  ADEQUACY STUDY CABLE CHANNEL CABLE JOINITNG KIT CHEMICAL EARTHING COPPER BONDED ROD DIGITAL EARTHING DIGITAL GROUNDING SYSTEM EARHT LEAKAGE DETECTOR EARTH ELECTRODE EARTH GRID EARTH MAT EARTH PIT EARTHING SURVEY ESE LIGHTENING INJECTION MOULDING PLASTIC CABLE DUCT LIGHTENING ARRESTOR LIGHTENING PROTECTION SYSTEM LIGHTENING SURVEY LIGHTNING ARRESTER LIGHTNING PROTECTION SYSTEM LIGHTNING SURVEY MAINTENANCE FREE EARTHING POLYOLEFIN CABLE CHANNEL QN1 RELAY QNA1 RELAY RAPID JOINT SURGE ARRESTOR SURGE PROTECTING DEVICE SURGE PROTECTION DEVICE SURGE PROTECTOR polylefin cable channel surge Painting  Maharashtra Maharashtra Supply Cleaning bihar khagaria Battery Inverters Cement Cleaning Construction Design Excavation Gem It Labour Led Lift Mechanical Paint Painting Pipe Power Railway Repair Road Sand Steel Supply Water Arunachal Pradesh Assam Bihar Scrap Bikaner Haryana Gujarat Madhya Pradesh Rajasthan Uttar Pradesh Railway Repair Supply Acetaldehyde Gas Detector Acetaldehyde Monitor Acetaldehyde Sensor Acetaldehyde Transmitter Acetone Gas Detector Acetone Monitor Acetone Sensor Acetone Transmitter Air Humidity Monitor Air Quality Monitor Ambient air quality monitoring Ammonia Gas Detector Ammonia Monitor Ammonia Sensor Ammonia Transmitter Battery Room Hydrogen Gas Leak Detector Butanol Detector Button Logger CNG Detector CNG gas detector CO Gas Analyser CO Gas Analyzer CO Gas Detector CO2 Detector CO2 Transmitter CPCB Carbon Monoxide Gas Detector Carbon Monoxide Monitor Carbon Monoxide Sensor Carbon Monoxide Transmitter Chlorine Detector Chlorine Gas Detector Chlorine Monitor Chlorine Sensor Chlorine Transmitter Clean Room Monitoring System Cold Room Monitoring System Combustible Continuous Gas Analyser Continuous Gas Analyzer Controller Cyclohexane Gas Detector Cyclohexane Monitor Cyclohexane Sensor Cyclohexane Transmitter Cyclopropane Detector Cyclopropane Gas Detector Cyclopropane Monitor Cyclopropane Sensor Cyclopropane Transmitter Cycolopropanc Detector Data Logger Dew Point Analyser Dew Point Analyzer Digital Indicator Digital Temp Indicators Digital Temperature Indicators Digital Thermometer Dust Opacity Monitor Dust Particulate Monitor Ember Detector Ethane Sensor Ethane Transmitter Ethanol Detector Ethyl benzene Ethylene Analyser Ethylene Analyzer Ethylene Gas Detector Ethylene Monitor Ethylene Sensor Ethylene Transmitter Fire Alarm Panel Flame Arrestor Flame Detector System GMS Gas Monitor System Gas Monitors Gas transmitter Graphic Data Logger Graphic Recorder HMI System Hand Tachometer High Temp Logger High Temperature Logger Humidity Indicator Humidity Measuring Instrument Humidity Meter Humidity Monitor Humidity Recorder Humidity Transmitters Hydrocarbon Analyser Hydrocarbon Analyzer Hydrocarbon Monitor Hydrogen Chloride Gas Detector Hydrogen Chloride Monitor Hydrogen Chloride Sensor Hydrogen Chloride Transmitter Hydrogen Cyanide Gas Detector Hydrogen Cyanide Monitor Hydrogen Cyanide Sensor Hydrogen Cyanide Transmitter Hydrogen Gas Detector Hydrogen Monitor Hydrogen Sensor Hydrogen Sulphide Detector Hydrogen Sulphide Gas Detector Hydrogen Sulphide Monitor Hydrogen Sulphide Transmitter Hydrogen Transmitter Hydrogen sulphide Sensor IOT Indicator Infrared Thermo Meter Infrared Thermometer LPG / PNG Cylinder LPG gas detector Level Indicator Loop Powered Humidity Transmitter Loop Powered Indicator Loop Powered Temp Transmitter Loop Powered Temperature Transmitter MPCM Methane Gas Detector Methane Monitor Methane Sensor Methane Transmitter Mini Temp Logger Mini Temperature Logger Moisture Analyser Moisture Analyzer Multi Channel Gas Detector Multi Channel Indicator Multi Use Data Logger Multichannel Gas Detector Multiuse Data Logger N-Butane Gas Detector N-Butane Monitor N-Butane Sensor N-Butane Transmitter N-Decane Detector N-Decane Gas Detector N-Decane Monitor N-Decane Sensor N-Decane Transmitter N-Heptane Gas Detector N-Heptane Monitor N-Heptane Sensor N-Heptane Transmitter N-Hexane Gas Detector N-Hexane Monitor N-Hexane Sensor N-Hexane Transmitter N-Pentane Gas Detector N-Pentane Monitor N-Pentane Sensor N-Pentane Transmitter NO2 gas detector Nh3 gas transmittter Nitric Gas Detector Nitric Gas Monitor Nitric Oxide Analyser Nitric Oxide Analyzer Nitric Sensor Nitric Transmitter Nitrogen Dioxide Detector Nitrogen Dioxide Monitor Nitrogen Dioxide Sensor Nitrogen Dioxide Transmitter Offline Temp / Pressure Logger On / Off Controller On/Off Controller Oxygen Gas Detector Oxygen Monitor Oxygen Sensor Oxygen Transmitter Ozone Detector Ozone Monitor Ozone Sensor Ozone Transmitter PDF Data Logger PLC PANELS Paperless Data Logger Paperless Logger Paperless Recorder Phosgene Phosgene Gas Detector Phosgene Monitor Phosgene Sensor Phosgene Transmitter Phosphine Gas Detector Phosphine Monitor Phosphine Transmitter Pid Controller Portable Data Logger Portable Logger Portable Temp Data Logger Portable Temp Humidity Data Logger Portable Temperature Data Logger Portable Temperature Humidity Data Logger Portable gas detector Portable multi gas detector Precision Temp Logger Precision Temperature Logger Process Scanner Propane Gas Detector Propane Monitor Propane Sensor Propane Transmitter Propanol Detector Pyrometer RH & Temperature Data Logger SCADA System SF 6 Gas Leak Detector SF6 Gas Leak Detector Scanner Logger Single Channel Data Logger Single Use Data Logger Smart Gas Transmitter Solenoid Valve Sulphur Dioxide Detector Sulphur Dioxide Monitor Sulphur Dioxide Sensor Sulphur Dioxide Transmitter Temp & Humidity Scanner Temp & Humidity Transmitter Temp And Humidity Scanner Temp And Humidity Transmitter Temp Counter Temp Humidity Data Logger Temp Humidity Logger Temp Indicator Temp Meter Temp Recorder Temp Scanner Temp Transmitter Temp humidity Recorder Temperature & Humidity Scanner Temperature & Humidity Transmitter Temperature And Humidity Scanner Temperature And Humidity Transmitter Temperature Counter Temperature Data Logger Temperature Humidity Data Logger Temperature Humidity Logger Temperature Humidity Recorder Temperature Indicator Temperature Meter Temperature Monitoring Temperature Recorder Temperature Scanner Temperature Transmitter Temperature logger Therma Meter Thermometer Toxic Gas Detector Toxic Gas Monitor Toxic Gas Sensor Toxic Gas Transmitter Transmitter Transportation Logger Triple IR Detector USB Data Logger UV IR Detector UV IR Flyer UV IR Test Lamp Ultrasonic Gas Leak Detector Universal Data Scanner VOC Analyser VOC Analyzer VOC Gas Monitor VOC Monitor Wireless Repeater Wireless Temp Humidity Logger Wireless Temp Monitoring Wireless Temperature Humidity Logger Wireless Temperature Logger Wireless Temperature Monitoring Wireless Transmitter Receiver ambetronics amc of gas detector ammonia detector biogas analyser biogas analyzer calibration of gas detector chlorine gas detector clean room monitor cmc of gas detect co detector co2 detector continuous stack emission monitor cyclopropane detector data logger data scanner dew point meter ethyl mercaptan flame detector flue gas analyser flue gas analyzer ftu gas analyser ENABLE_EXACT_SEARCH  Uttar Pradesh  Solar Power Plants grid Celling fans Led bulb Street Lighting Uttar Pradesh electric product electric switch  electric wire led light table fan Uttar Pradesh 7678171383 Water    ITSM data center enterprise monitoring system network monitoring solution service desk smart city Bihar Auction Of Vehicles  Rajasthan fabrication grill gate railing Maharashtra Civil Construction Acetaldehyde Gas Detector Acetaldehyde Monitor Acetaldehyde Sensor Acetaldehyde Transmitter Acetone Gas Detector Acetone Monitor Acetone Sensor Acetone Transmitter Air Humidity Monitor Air Quality Monitor Ambient air quality monitoring Ammonia Gas Detector Ammonia Monitor Ammonia Sensor Ammonia Transmitter Battery Room Hydrogen Gas Leak Detector Butanol Detector Button Logger CNG Detector CNG gas detector CO Gas Analyser CO Gas Analyzer CO Gas Detector CO2 Detector CO2 Transmitter CPCB Carbon Monoxide Gas Detector Carbon Monoxide Monitor Carbon Monoxide Sensor Carbon Monoxide Transmitter Chlorine Detector Chlorine Gas Detector Chlorine Monitor Chlorine Sensor Chlorine Transmitter Clean Room Monitoring System Cold Room Monitoring System Combustible Continuous Gas Analyser Continuous Gas Analyzer Controller Cyclohexane Gas Detector Cyclohexane Monitor Cyclohexane Sensor Cyclohexane Transmitter Cyclopropane Detector Cyclopropane Gas Detector Cyclopropane Monitor Cyclopropane Sensor Cyclopropane Transmitter Cycolopropanc Detector Data Logger Dew Point Analyser Dew Point Analyzer Digital Indicator Digital Temp Indicators Digital Temperature Indicators Digital Thermometer Dust Opacity Monitor Dust Particulate Monitor Ember Detector Ethane Sensor Ethane Transmitter Ethanol Detector Ethyl benzene Ethylene Analyser Ethylene Analyzer Ethylene Gas Detector Ethylene Monitor Ethylene Sensor Ethylene Transmitter Fire Alarm Panel Flame Arrestor Flame Detector System GMS Gas Monitor System Gas Monitors Gas transmitter Graphic Data Logger Graphic Recorder HMI System Hand Tachometer High Temp Logger High Temperature Logger Humidity Indicator Humidity Measuring Instrument Humidity Meter Humidity Monitor Humidity Recorder Humidity Transmitters Hydrocarbon Analyser Hydrocarbon Analyzer Hydrocarbon Monitor Hydrogen Chloride Gas Detector Hydrogen Chloride Monitor Hydrogen Chloride Sensor Hydrogen Chloride Transmitter Hydrogen Cyanide Gas Detector Hydrogen Cyanide Monitor Hydrogen Cyanide Sensor Hydrogen Cyanide Transmitter Hydrogen Gas Detector Hydrogen Monitor Hydrogen Sensor Hydrogen Sulphide Detector Hydrogen Sulphide Gas Detector Hydrogen Sulphide Monitor Hydrogen Sulphide Transmitter Hydrogen Transmitter Hydrogen sulphide Sensor IOT Indicator Infrared Thermo Meter Infrared Thermometer LPG / PNG Cylinder LPG gas detector Level Indicator Loop Powered Humidity Transmitter Loop Powered Indicator Loop Powered Temp Transmitter Loop Powered Temperature Transmitter MPCM Methane Gas Detector Methane Monitor Methane Sensor Methane Transmitter Mini Temp Logger Mini Temperature Logger Moisture Analyser Moisture Analyzer Multi Channel Gas Detector Multi Channel Indicator Multi Use Data Logger Multichannel Gas Detector Multiuse Data Logger N-Butane Gas Detector N-Butane Monitor N-Butane Sensor N-Butane Transmitter N-Decane Detector N-Decane Gas Detector N-Decane Monitor N-Decane Sensor N-Decane Transmitter N-Heptane Gas Detector N-Heptane Monitor N-Heptane Sensor N-Heptane Transmitter N-Hexane Gas Detector N-Hexane Monitor N-Hexane Sensor N-Hexane Transmitter N-Pentane Gas Detector N-Pentane Monitor N-Pentane Sensor N-Pentane Transmitter NO2 gas detector Nh3 gas transmittter Nitric Gas Detector Nitric Gas Monitor Nitric Oxide Analyser Nitric Oxide Analyzer Nitric Sensor Nitric Transmitter Nitrogen Dioxide Detector Nitrogen Dioxide Monitor Nitrogen Dioxide Sensor Nitrogen Dioxide Transmitter Offline Temp / Pressure Logger On / Off Controller On/Off Controller Oxygen Gas Detector Oxygen Monitor Oxygen Sensor Oxygen Transmitter Ozone Detector Ozone Monitor Ozone Sensor Ozone Transmitter PDF Data Logger PLC PANELS Paperless Data Logger Paperless Logger Paperless Recorder Phosgene Phosgene Gas Detector Phosgene Monitor Phosgene Sensor Phosgene Transmitter Phosphine Gas Detector Phosphine Monitor Phosphine Transmitter Pid Controller Portable Data Logger Portable Logger Portable Temp Data Logger Portable Temp Humidity Data Logger Portable Temperature Data Logger Portable Temperature Humidity Data Logger Portable gas detector Portable multi gas detector Precision Temp Logger Precision Temperature Logger Process Scanner Propane Gas Detector Propane Monitor Propane Sensor Propane Transmitter Propanol Detector Pyrometer RH & Temperature Data Logger SCADA System SF 6 Gas Leak Detector SF6 Gas Leak Detector Scanner Logger Single Channel Data Logger Single Use Data Logger Smart Gas Transmitter Solenoid Valve Sulphur Dioxide Detector Sulphur Dioxide Monitor Sulphur Dioxide Sensor Sulphur Dioxide Transmitter Temp & Humidity Scanner Temp & Humidity Transmitter Temp And Humidity Scanner Temp And Humidity Transmitter Temp Counter Temp Humidity Data Logger Temp Humidity Logger Temp Indicator Temp Meter Temp Recorder Temp Scanner Temp Transmitter Temp humidity Recorder Temperature & Humidity Scanner Temperature & Humidity Transmitter Temperature And Humidity Scanner Temperature And Humidity Transmitter Temperature Counter Temperature Data Logger Temperature Humidity Data Logger Temperature Humidity Logger Temperature Humidity Recorder Temperature Indicator Temperature Meter Temperature Monitoring Temperature Recorder Temperature Scanner Temperature Transmitter Temperature logger Therma Meter Thermometer Toxic Gas Detector Toxic Gas Monitor Toxic Gas Sensor Toxic Gas Transmitter Transmitter Transportation Logger Triple IR Detector USB Data Logger UV IR Detector UV IR Flyer UV IR Test Lamp Ultrasonic Gas Leak Detector Universal Data Scanner VOC Analyser VOC Analyzer VOC Gas Monitor VOC Monitor Wireless Repeater Wireless Temp Humidity Logger Wireless Temp Monitoring Wireless Temperature Humidity Logger Wireless Temperature Logger Wireless Temperature Monitoring Wireless Transmitter Receiver ambetronics amc of gas detector ammonia detector biogas analyser biogas analyzer calibration of gas detector chlorine gas detector clean room monitor cmc of gas detect co detector co2 detector continuous stack emission monitor cyclopropane detector data logger data scanner dew point meter ethyl mercaptan flame detector flue gas analyser flue gas analyzer ftu gas analyser ENABLE_EXACT_SEARCH Railway Drip Sprinkler Irrigation Supply  DWC   Road building   BRUSH CUTTER Construction POLYTHENE BAG blower chaff cutter compound wall germination tray grass cutter landscape lawn mower poly bag pruner rescue root trainer safety item solar tiller weeder Goggles ammunition ankle anklet backpack badge bags balklava barrack bed holder bed sheet belt blanket blazer boot brush cap cape ceremonial cloth clothing coat combat cotton dangri dari defence dress drawer dress garments ground sheet hand glove haversack iaf jacket jacket jersey jhallar jungle boot kerchief khaki kitbag lanyard leather mha mosquito overall oxford pagri pouch rain rainsuit rucksack scarf shirt shirt tactical shoe shorts single texture sleeping socks stiching stitch sunglass synthetic equipment t-shirt textile thali tie neck towel trouser uniform vardi vest waist belt web equipment woolen PA SYSTEM fire alarm fire door gas supression system public addressable system  Smart Class BILLING SPOT BILLING online spot billing reading and billing Almirah Chair Furniture Office Furniture Revolving Chair book stand furniture class room furniture cupboard dressing table hostel furniture modular furniture modular kitchen partitions chairs school furniture sofa bed sofa bed furniture sofa furniture table furniture  Construction Delhi University  Iron Railway Repair Supply Haryana Himachal Pradesh Punjab Jammu & Kashmir Jalandhar 110 132 220 400 765 electrical excavation kld kv lpd mld ohe sub station substation transmission Andaman & Nicobar Islands Andhra Pradesh Arunachal Pradesh Assam Bihar Chandigarh Chhattisgarh Dadra & Nagar Haveli Daman & Diu Delhi Goa Gujarat Haryana Himachal Pradesh Jammu & Kashmir Jharkhand Karnataka Kerala Lakshadweep Madhya Pradesh Maharashtra Manipur Meghalaya Mizoram Nagaland Odisha Pondicherry Punjab Rajasthan Sikkim Tamil Nadu Telangana Tripura Uttar Pradesh Uttarakhand West Bengal EMU RS BCT ELECTRICAL Gujarat Madhya Pradesh Maharashtra Rajasthan 0 250000000 Architect Vadodara architectre consultancy planner urban planning Ministry Of Road Transport And Highways National Highways And Infrastructure Development Corporation Limited National Highways Authority Of India Building Building Construction Civil Construction Road Construction solar street light Assam Telangana Road   Drone survey UAV anti drone drone Hubli Electricity Supply Company Limited  Construction Supply END SUCTION PUMP PUMP Split Casing Pump centrifugal pump multistage pump vertical turbine Manpower Cement Construction Excavation Maharashtra Paint Repair Road Water Delhi Construction Patna Space Planning And Designing Architecture and Interior Design Uttar Pradesh Scrap Bikaner Haryana Gujarat Madhya Pradesh Rajasthan Uttar Pradesh Haryana ADEQUACY STUDY CABLE CHANNEL CABLE JOINITNG KIT CHEMICAL EARTHING COPPER BONDED ROD DIGITAL EARTHING DIGITAL GROUNDING SYSTEM EARHT LEAKAGE DETECTOR EARTH ELECTRODE EARTH GRID EARTH MAT EARTH PIT EARTHING SURVEY ESE LIGHTENING INJECTION MOULDING PLASTIC CABLE DUCT LIGHTENING ARRESTOR LIGHTENING PROTECTION SYSTEM LIGHTENING SURVEY LIGHTNING ARRESTER LIGHTNING PROTECTION SYSTEM LIGHTNING SURVEY MAINTENANCE FREE EARTHING POLYOLEFIN CABLE CHANNEL QN1 RELAY QNA1 RELAY RAPID JOINT SURGE ARRESTOR SURGE PROTECTING DEVICE SURGE PROTECTION DEVICE SURGE PROTECTOR polylefin cable channel surge  Maharashtra Building Construction Road 1643653800000 1646072999999 Civil All Civil Works Buildings Pune  Scrap Ammunition BADGE BLANKET BLAZER BOOT CAP CLOTH COTTON DRESS IAF JACKET JHALLAR MOSQUITO PAGRI POUCH RAIN CAPE SINGLE TEXTURE STICHING STITCH T SHIRT TIE NECK TOWEL TROUSER WAIST BELT WEB EQUIPMENT Woolens ankle anklet backpack badge bags balklava barrack bed holder bed sheet belt blanket boots brush cap ceremonial clothing coat combat dangri dari defence dress garments goggles ground sheet hand glove handkerchief haversack jacket jersey jungle boot khaki khaki  kit bag lanyard leather mha mosquito overall oxford rain suit rucksack scarf shirt shoe short shorts sleeping  socks sunglass synthetic equipment t shirt tactical textile thali uniform vardi vest  Labour Scrap bench bench cement rcc pcc iron e rickshaw fire fighting vehicle food cart garbage dustbin twin bin garbage e cart rickshaw hopper tipper dumper hydraulic tractor trolley iron bench mobile bio toilet mobile toilet multiplay station mini house chain swing slide revolving platform sea saw nala cleaning machine open gym outdoor gym plastic dustbin hdpe lldpe dustbin twin bin container playing equipment recovery van refuse compactor road sweeping machine sanitation solid waste  management product sewer jetting cum suction machine sky lift steel dustbin suction cum jetting machine suction machine super sucker machine tractor backhoe with loader tractor trailer tricycle or rickshaw twin bin dumper placer product and material transport waste container waste container and accessorie water tanker wheel  barrow wheelbarrows wooden garbage tricycle rickshaw rehri Civil Civil Construction Construction Consultancy EOI Etp Manpower Pwd Sand Filter Sewage Sewage Treatment Sewage Treatment Plant Water Treatment Western Railway Wtp besan broom bucket civil cleaning cloths cons dalia drain durum wheat dustbin dustpan e-waste eco effluent environment ewaste facility garbage bags installation jaali jeera maintenance management mop nali nepthalene ball operation package pest plant planter ppe recovery remediation sanitization sanitizer sewage sewerage situ solid storage drum stp survillience termite tissue papers and tissue rolls toilet brush toilet cleaner treatment urinal ball urinal screen wall ward waste wastewater wiper Madhya Pradesh Maharashtra Akola Amravati Betul Bhandara Bhopal Dindori Gondia Hoshangabad Indore Jabalpur Katni Mandla Nagpur Seoni Shahdol Wardha  MEDICAL GAS PIPELINE SYSTEM MODULAR OPERATION THEATRE Medical gas pipe line establishment of medical gas modular ot smart scope upgradation of modular ot ANTI FLOOTING EMBANKMENT EROSION PROTECTION WORK FLOOD CONTROL STRUCTURE FLOOD PROTECTION Foundation work PREVENTION OF SOIL EROSION RCC foundation RIVER BANK EROSION & RESTORATION RIVER EROSION PROTECTION WORK RIVER FLOOD BARRIER anchoring anchors arrest arresting avalanche barrier barrier protect barrier protection boulder cable anchor cast in situ cast in situ piling ccgc ccgm cement grouting cementitious composite chronic concrete geo mattress concrete revetment reinforcing river consolidating grouting consolidation grouting contact grouting curtain grouting diaphragm wall drapery driling services drilling embankment embankment maintenance erosion control flood prevention barrier flood protection embankment foundation gabion geo bag revetment geo composite geo synthetic carpet geomat ground improve ground improvement grouting hill hill  impact protect impact protection jet grouting landslide landslide protection mattress micro pilling mitigation mono oriented natural hazard pile foundation piling work pilling plinth foundation protective protective measur protective measures  restoration river bank protection river protection river rivetment river training river traning rock bolt rock fall rock fall barrier rock fall project rock protect rockbolt rockfall rockfall mitigation safe grouting shoring shotcrete shroring situ piling slope slope protection slope stabilization snow barrier snow clearance soil nail soil protect soil strength soil strengthening soilnail soldier pile stabilization stone coloumn stone column tam grouting tendon treatment tunnel tunnel construction vibro stane column wall anchors well drilling services wind tunnel wire anchor wire mesh wiremesh Madhya Pradesh Fabrication  Labour supply bace tandar Chhattisgarh Gujarat Madhya Pradesh Uttar Pradesh DWC Construction Road hospital furniture ofice furniture school furniture Gujarat Madhya Pradesh Amdavad Municipal Corporation National Highways And Infrastructure Development Corporation Limited AC PLANT AHP AMC AMC Maintenance  Ash handling plant BTG BOP Balance of plant Bulk handling C&I Maintenance CHP Coal Handling plant Combined cycle Power plant Comprehensive Annual Maintenance Contract Cooling water DG Diesel Generator Electrical Maintenance Electrical equipments Electrical installations Electrical systems FHS Facility Maintenance Facility Management Field operation Gas Turbo Power Station Gas plant Gas power plant Gas turbine HRSG KLD LONG TERM CONTRACT MLD MW Plant Maintenance Man Power Manpower Manpower Supply Mechanical Maintenance Mining New Power Plant OVERHAULING Oil and Gas Operation and Maintenance POWER HOUSE Power Power and Energy Projects Providing assistance RO DM Rate Contract Raw material handling Repair and Maintenance SOLAR STG Sewage Treatment Solar Power Plant Steam turbine Stp Sub station Maintenance Substation Substation Operation WTP Waste to energy Water treatment Work contract WtE combined cycle gas power plant data center fire fighting fire tender hvac maintenance operation operational assistance plant power plant service contract tank farm thermal waste water x MW  Fire Extinguisher Fire Himachal Pradesh Jammu & Kashmir Uttarakhand Barbed Wire Chain Link Gabion  Gem Cleaning Construction 164 22992 24308 26482 26500 27291 28840 2RM 2RMD 38999 55116 55181 83723 85049 8DA AMPHENOL AS39029 AS50151 Adapter Allied connector Amphenol Audio Connector Axon BNC BOX MOUNT Back Shell Backshell Bayonet CONNECTOR Cable No.2 Cable assy Chassis Fabrication Connectorisation Contact Coupler Crimpable Crimping Tool Crimping tools Cutting Crimping And Punching Tools D SUB D-Sub D-Type D38999 DMC DUST CAP Deutsch Dsub Dsut-cap EDGE EMI/EMC GASKET Electrical Plugs Ethernet converter Fabrication of Cables Fibre optic Cable Glenair HULL ELECTRIC Hermetical sealed Hermetically sealed connector Hitech ITT CANNON Insertion/Extraction tool Interconnect Junction Module Junction Modules Lanyard M24308 M55116 M55181 M83513 M83723 M85049 MIL-DTL MS345 MS347 Merlyn Hawk Micro-D MicroD Mighty Mouse Mil-Connector Optical Fibre Cable Push pull Push-Pull Pyro Connector QWL RAYCHEM RF Connector Radial Receptacle Rectangular Relay Box Rf coaxial Rosseltech Rotary Electronics Rotary Joint Rugged ethernet switch SHR SMA SNTS Sasmos Slip Ring Slip Ring Supply Souriau TE CONNECTIVITY TURRET Terminal Junction Module Test kit Triax Twinax Umbilical Connector Ursc cable assembly cable looms cable no. 2 dcpp dustcap ethernet switch harness pig relay unit socket Advanced Systems Laboratory Aeronautical Development Agency Aeronautical Development Establishment Airports Authority Of India Aryabhatta Research Institute Of Observational Sciences Asst Manager BEML Limited Banaras Locomotive Works Bharat Dynamics Limited Bharat Earth Movers Limited Bharat Electronics Limited Bharat Heavy Electricals Limited Bharat Heavy Electricals Limited BHEL Trichy VALVES PURCHASE Bharat Heavy Electricals Limited HPEP Hyderabad Steam Turbine Common Section Bharatiya Nabhikiya Vidyut Nigam Limited Central Electronics Limited Centre For Development Of Advanced Computing Centre for Development of Advanced Computing Chittaranjan Locomotive Works Council Of Scientific And Industrial Research Council Of Scientific and Industrial Research Council of Scientific and Industrial Research Defence Electronics Applications Laboratory Defence Institute Of Advanced Technology Defence Research And Development Organisation Defence Research and Development Organisation Defense Institute Of Physiology And Allied Sciences Department Of Atomic Energy Department Of Defence Production Department Of Defence Research And Development Department Of Space Diesel Loco Modernisation Works Diesel Locomotive Works Eastern Naval Command Electronics Corporation Of India Limited GLIDERS INDIA LIMITED Heavy Vehicles Factory Hindustan Aeronautics Limited ITI Limited Indian Air Force Indian Army Indian Navy Indian Oil Corporation Limited Indian Railways Indian Railways Institute Of Signal Engineering And Telecommunications Indian Space Research Organisation Indian Space Research Organization Integral Coach Factory Inter University Centre For Astronomy And Astrophysics Isro Propulsion Complex Isro Telemetry Tracking And Command Network Keltron Component Complex Limited Kerala State Electronics Development Corporation Limited Ministry Of Defence Ministry Of Defence Production NTPC SAIL Power Company Limited NTPC Tamilnadu Energy Company Limited National Aerospace Laboratories National Aluminium Company Limited National Institute Of Ocean Technology National Institute Of Wind Energy National Thermal Power Corporation Limited Nuclear Power Corporation Of India Nuclear Power Corporation Of India Limited Ordnance Factories Institute Of Learning Ordnance Factory Board RITES Limited Rail Coach Factory Rail India Technical And Economic Service Limited Rail India Technical and Economic Service Limited Rail Wheel Factory Satish Dhawan Space Centre Society For Applied Microwave Electronics Engineering And Research Solid State Physics Laboratory Space Application Centre Space Applications Centre Sriharikota Range Tata Institute Of Fundamental Research Troop Comforts Limited Vikram Sarabhai Space Centre Yantra India Limited  Bihar Mechanical Railway Uttar Pradesh Canteen Facility Management INSPECTION ENGINEERS SUPPLY Man Power Manpower Manpower Supply  Bihar Jharkhand Painting Rajasthan Public Health Engineering Department Peb Gem  Goa Goa Shipyard Limited Motorcycle aur car  scrape Indore Cleaning Civil Civil Construction Construction Consultancy EOI Etp Manpower Pwd Sand Filter Sewage Sewage Treatment Sewage Treatment Plant Water Treatment Western Railway Wtp besan broom bucket civil cleaning cloths cons dalia drain durum wheat dustbin dustpan e-waste eco effluent environment ewaste facility garbage bags installation jaali jeera maintenance management mop nali nepthalene ball operation package pest plant planter ppe recovery remediation sanitization sanitizer sewage sewerage situ solid storage drum stp survillience termite tissue papers and tissue rolls toilet brush toilet cleaner treatment urinal ball urinal screen wall ward waste wastewater wiper Madhya Pradesh Maharashtra Akola Amravati Betul Bhandara Bhopal Dindori Gondia Hoshangabad Indore Jabalpur Katni Mandla Nagpur Seoni Shahdol Wardha  Construction Road lift installation lift maintenance lift services raigad Karnataka Maharashtra 164 22992 24308 26482 26500 27291 28840 2RM 2RMD 38999 55116 55181 83723 85049 8DA AMPHENOL AS39029 AS50151 Adapter Allied connector Amphenol Audio Connector Axon BNC BOX MOUNT Back Shell Backshell Bayonet CONNECTOR Cable No.2 Cable assy Chassis Fabrication Connectorisation Contact Coupler Crimpable Crimping Tool Crimping tools Cutting Crimping And Punching Tools D SUB D-Sub D-Type D38999 DMC DUST CAP Deutsch Dsub Dsut-cap EDGE EMI/EMC GASKET Electrical Plugs Ethernet converter Fabrication of Cables Fibre optic Cable Glenair HULL ELECTRIC Hermetical sealed Hermetically sealed connector Hitech ITT CANNON Insertion/Extraction tool Interconnect Junction Module Junction Modules Lanyard M24308 M55116 M55181 M83513 M83723 M85049 MIL-DTL MS345 MS347 Merlyn Hawk Micro-D MicroD Mighty Mouse Mil-Connector Optical Fibre Cable Push pull Push-Pull Pyro Connector QWL RAYCHEM RF Connector Radial Receptacle Rectangular Relay Box Rf coaxial Rosseltech Rotary Electronics Rotary Joint Rugged ethernet switch SHR SMA SNTS Sasmos Slip Ring Slip Ring Supply Souriau TE CONNECTIVITY TURRET Terminal Junction Module Test kit Triax Twinax Umbilical Connector Ursc cable assembly cable looms cable no. 2 dcpp dustcap ethernet switch harness pig relay unit socket Advanced Systems Laboratory Aeronautical Development Agency Aeronautical Development Establishment Airports Authority Of India Aryabhatta Research Institute Of Observational Sciences Asst Manager BEML Limited Banaras Locomotive Works Bharat Dynamics Limited Bharat Earth Movers Limited Bharat Electronics Limited Bharat Heavy Electricals Limited Bharat Heavy Electricals Limited BHEL Trichy VALVES PURCHASE Bharat Heavy Electricals Limited HPEP Hyderabad Steam Turbine Common Section Bharatiya Nabhikiya Vidyut Nigam Limited Central Electronics Limited Centre For Development Of Advanced Computing Centre for Development of Advanced Computing Chittaranjan Locomotive Works Council Of Scientific And Industrial Research Council Of Scientific and Industrial Research Council of Scientific and Industrial Research Defence Electronics Applications Laboratory Defence Institute Of Advanced Technology Defence Research And Development Organisation Defence Research and Development Organisation Defense Institute Of Physiology And Allied Sciences Department Of Atomic Energy Department Of Defence Production Department Of Defence Research And Development Department Of Space Diesel Loco Modernisation Works Diesel Locomotive Works Eastern Naval Command Electronics Corporation Of India Limited GLIDERS INDIA LIMITED Heavy Vehicles Factory Hindustan Aeronautics Limited ITI Limited Indian Air Force Indian Army Indian Navy Indian Oil Corporation Limited Indian Railways Indian Railways Institute Of Signal Engineering And Telecommunications Indian Space Research Organisation Indian Space Research Organization Integral Coach Factory Inter University Centre For Astronomy And Astrophysics Isro Propulsion Complex Isro Telemetry Tracking And Command Network Keltron Component Complex Limited Kerala State Electronics Development Corporation Limited Ministry Of Defence Ministry Of Defence Production NTPC SAIL Power Company Limited NTPC Tamilnadu Energy Company Limited National Aerospace Laboratories National Aluminium Company Limited National Institute Of Ocean Technology National Institute Of Wind Energy National Thermal Power Corporation Limited Nuclear Power Corporation Of India Nuclear Power Corporation Of India Limited Ordnance Factories Institute Of Learning Ordnance Factory Board RITES Limited Rail Coach Factory Rail India Technical And Economic Service Limited Rail India Technical and Economic Service Limited Rail Wheel Factory Satish Dhawan Space Centre Society For Applied Microwave Electronics Engineering And Research Solid State Physics Laboratory Space Application Centre Space Applications Centre Sriharikota Range Tata Institute Of Fundamental Research Troop Comforts Limited Vikram Sarabhai Space Centre Yantra India Limited Construction Design Labour Paint Painting Supply Uttar Pradesh Acetaldehyde Gas Detector Acetaldehyde Monitor Acetaldehyde Sensor Acetaldehyde Transmitter Acetone Gas Detector Acetone Monitor Acetone Sensor Acetone Transmitter Air Humidity Monitor Air Quality Monitor Ambient air quality monitoring Ammonia Gas Detector Ammonia Monitor Ammonia Sensor Ammonia Transmitter Battery Room Hydrogen Gas Leak Detector Butanol Detector Button Logger CNG Detector CNG gas detector CO Gas Analyser CO Gas Analyzer CO Gas Detector CO2 Detector CO2 Transmitter CPCB Carbon Monoxide Gas Detector Carbon Monoxide Monitor Carbon Monoxide Sensor Carbon Monoxide Transmitter Chlorine Detector Chlorine Gas Detector Chlorine Monitor Chlorine Sensor Chlorine Transmitter Clean Room Monitoring System Cold Room Monitoring System Combustible Continuous Gas Analyser Continuous Gas Analyzer Controller Cyclohexane Gas Detector Cyclohexane Monitor Cyclohexane Sensor Cyclohexane Transmitter Cyclopropane Detector Cyclopropane Gas Detector Cyclopropane Monitor Cyclopropane Sensor Cyclopropane Transmitter Cycolopropanc Detector Data Logger Dew Point Analyser Dew Point Analyzer Digital Indicator Digital Temp Indicators Digital Temperature Indicators Digital Thermometer Dust Opacity Monitor Dust Particulate Monitor Ember Detector Ethane Sensor Ethane Transmitter Ethanol Detector Ethyl benzene Ethylene Analyser Ethylene Analyzer Ethylene Gas Detector Ethylene Monitor Ethylene Sensor Ethylene Transmitter Fire Alarm Panel Flame Arrestor Flame Detector System GMS Gas Monitor System Gas Monitors Gas transmitter Graphic Data Logger Graphic Recorder HMI System Hand Tachometer High Temp Logger High Temperature Logger Humidity Indicator Humidity Measuring Instrument Humidity Meter Humidity Monitor Humidity Recorder Humidity Transmitters Hydrocarbon Analyser Hydrocarbon Analyzer Hydrocarbon Monitor Hydrogen Chloride Gas Detector Hydrogen Chloride Monitor Hydrogen Chloride Sensor Hydrogen Chloride Transmitter Hydrogen Cyanide Gas Detector Hydrogen Cyanide Monitor Hydrogen Cyanide Sensor Hydrogen Cyanide Transmitter Hydrogen Gas Detector Hydrogen Monitor Hydrogen Sensor Hydrogen Sulphide Detector Hydrogen Sulphide Gas Detector Hydrogen Sulphide Monitor Hydrogen Sulphide Transmitter Hydrogen Transmitter Hydrogen sulphide Sensor IOT Indicator Infrared Thermo Meter Infrared Thermometer LPG / PNG Cylinder LPG gas detector Level Indicator Loop Powered Humidity Transmitter Loop Powered Indicator Loop Powered Temp Transmitter Loop Powered Temperature Transmitter MPCM Methane Gas Detector Methane Monitor Methane Sensor Methane Transmitter Mini Temp Logger Mini Temperature Logger Moisture Analyser Moisture Analyzer Multi Channel Gas Detector Multi Channel Indicator Multi Use Data Logger Multichannel Gas Detector Multiuse Data Logger N-Butane Gas Detector N-Butane Monitor N-Butane Sensor N-Butane Transmitter N-Decane Detector N-Decane Gas Detector N-Decane Monitor N-Decane Sensor N-Decane Transmitter N-Heptane Gas Detector N-Heptane Monitor N-Heptane Sensor N-Heptane Transmitter N-Hexane Gas Detector N-Hexane Monitor N-Hexane Sensor N-Hexane Transmitter N-Pentane Gas Detector N-Pentane Monitor N-Pentane Sensor N-Pentane Transmitter NO2 gas detector Nh3 gas transmittter Nitric Gas Detector Nitric Gas Monitor Nitric Oxide Analyser Nitric Oxide Analyzer Nitric Sensor Nitric Transmitter Nitrogen Dioxide Detector Nitrogen Dioxide Monitor Nitrogen Dioxide Sensor Nitrogen Dioxide Transmitter Offline Temp / Pressure Logger On / Off Controller On/Off Controller Oxygen Gas Detector Oxygen Monitor Oxygen Sensor Oxygen Transmitter Ozone Detector Ozone Monitor Ozone Sensor Ozone Transmitter PDF Data Logger PLC PANELS Paperless Data Logger Paperless Logger Paperless Recorder Phosgene Phosgene Gas Detector Phosgene Monitor Phosgene Sensor Phosgene Transmitter Phosphine Gas Detector Phosphine Monitor Phosphine Transmitter Pid Controller Portable Data Logger Portable Logger Portable Temp Data Logger Portable Temp Humidity Data Logger Portable Temperature Data Logger Portable Temperature Humidity Data Logger Portable gas detector Portable multi gas detector Precision Temp Logger Precision Temperature Logger Process Scanner Propane Gas Detector Propane Monitor Propane Sensor Propane Transmitter Propanol Detector Pyrometer RH & Temperature Data Logger SCADA System SF 6 Gas Leak Detector SF6 Gas Leak Detector Scanner Logger Single Channel Data Logger Single Use Data Logger Smart Gas Transmitter Solenoid Valve Sulphur Dioxide Detector Sulphur Dioxide Monitor Sulphur Dioxide Sensor Sulphur Dioxide Transmitter Temp & Humidity Scanner Temp & Humidity Transmitter Temp And Humidity Scanner Temp And Humidity Transmitter Temp Counter Temp Humidity Data Logger Temp Humidity Logger Temp Indicator Temp Meter Temp Recorder Temp Scanner Temp Transmitter Temp humidity Recorder Temperature & Humidity Scanner Temperature & Humidity Transmitter Temperature And Humidity Scanner Temperature And Humidity Transmitter Temperature Counter Temperature Data Logger Temperature Humidity Data Logger Temperature Humidity Logger Temperature Humidity Recorder Temperature Indicator Temperature Meter Temperature Monitoring Temperature Recorder Temperature Scanner Temperature Transmitter Temperature logger Therma Meter Thermometer Toxic Gas Detector Toxic Gas Monitor Toxic Gas Sensor Toxic Gas Transmitter Transmitter Transportation Logger Triple IR Detector USB Data Logger UV IR Detector UV IR Flyer UV IR Test Lamp Ultrasonic Gas Leak Detector Universal Data Scanner VOC Analyser VOC Analyzer VOC Gas Monitor VOC Monitor Wireless Repeater Wireless Temp Humidity Logger Wireless Temp Monitoring Wireless Temperature Humidity Logger Wireless Temperature Logger Wireless Temperature Monitoring Wireless Transmitter Receiver ambetronics amc of gas detector ammonia detector biogas analyser biogas analyzer calibration of gas detector chlorine gas detector clean room monitor cmc of gas detect co detector co2 detector continuous stack emission monitor cyclopropane detector data logger data scanner dew point meter ethyl mercaptan flame detector flue gas analyser flue gas analyzer ftu gas analyser ENABLE_EXACT_SEARCH Water Construction Road Medical Darin blanketing bridge canal civil earthwork railway road wall widening Adani Power Limited Airports Authority Of India Airports Authority of India Border Road Organisation Border Roads Organisation Central Coalfields Limited Central Public Works Department Central Railway Gujarat Industrial Development Corporation Military Engineer Services Ministry Of Road Transport And Highways Ministry of Road Transport and Highways Narmada Water Resources Minor Irrigation Division Narmada Water Resources Water Supply And Kalpsar Department National Buildings Construction Corporation Limited National High Speed Rail Corporation Limited National Highway Infrastructure Development Corporation Limited National Highways And Infrastructure Development Corporation Limited National Highways Authority Of India Public Works Department Public Works Roads Department RITES Limited Rail Vikas Nigam Limited Roads And Buildings Department Sardar Sarovar Narmada Nigam Limited Western Railway Delhi Gujarat Madhya Pradesh Rajasthan hvac Pwd Lucknow Agriculture Cleaning Earthwork Garden Horticulture House Keeping Housekeeping Housekeeping Services Labour Lucknow Maintenance Man Power Manpower Manpower Supply Security Guard Security Guards Security Service Security Services Sewage Treatment Uttar Pradesh 0 1000000  Supply  Due Dilgence  bank reconciliation statements  Audit of accounts  CA Firm CAG Emp Chartered Accountant Compilation of balance sheets Statutory audit Third party Audit account work accounting work accounts manual. c&ag empanelled  concurrent audit cost accountant current audit empanelled auditors financial advisory  financial consultant  forensic audit gst annual return  gst consult gst consultant gst return independent auditor internal audit internal auditors review Audit secretarial Audit  stock audit tax advisory  tax audit tax return taxation tds filling verification Audit  Fm200 HALON Novec clean agent fire suppression hfc227ea suppression    Design Gem West Bengal Ammunition BADGE BLANKET BLAZER BOOT CAP CLOTH COTTON DRESS IAF JACKET JHALLAR MOSQUITO PAGRI POUCH RAIN CAPE SINGLE TEXTURE STICHING STITCH T SHIRT TIE NECK TOWEL TROUSER WAIST BELT WEB EQUIPMENT Woolens ankle anklet backpack badge bags balklava barrack bed holder bed sheet belt blanket boots brush cap ceremonial clothing coat combat dangri dari defence dress garments goggles ground sheet hand glove handkerchief haversack jacket jersey jungle boot khaki khaki  kit bag lanyard leather mha mosquito overall oxford rain suit rucksack scarf shirt shoe short shorts sleeping  socks sunglass synthetic equipment t shirt tactical textile thali uniform vardi vest Acetaldehyde Gas Detector Acetaldehyde Monitor Acetaldehyde Sensor Acetaldehyde Transmitter Acetone Gas Detector Acetone Monitor Acetone Sensor Acetone Transmitter Air Humidity Monitor Air Quality Monitor Ambient air quality monitoring Ammonia Gas Detector Ammonia Monitor Ammonia Sensor Ammonia Transmitter Battery Room Hydrogen Gas Leak Detector Butanol Detector Button Logger CNG Detector CNG gas detector CO Gas Analyser CO Gas Analyzer CO Gas Detector CO2 Detector CO2 Transmitter CPCB Carbon Monoxide Gas Detector Carbon Monoxide Monitor Carbon Monoxide Sensor Carbon Monoxide Transmitter Chlorine Detector Chlorine Gas Detector Chlorine Monitor Chlorine Sensor Chlorine Transmitter Clean Room Monitoring System Cold Room Monitoring System Combustible Continuous Gas Analyser Continuous Gas Analyzer Controller Cyclohexane Gas Detector Cyclohexane Monitor Cyclohexane Sensor Cyclohexane Transmitter Cyclopropane Detector Cyclopropane Gas Detector Cyclopropane Monitor Cyclopropane Sensor Cyclopropane Transmitter Cycolopropanc Detector Data Logger Dew Point Analyser Dew Point Analyzer Digital Indicator Digital Temp Indicators Digital Temperature Indicators Digital Thermometer Dust Opacity Monitor Dust Particulate Monitor Ember Detector Ethane Sensor Ethane Transmitter Ethanol Detector Ethyl benzene Ethylene Analyser Ethylene Analyzer Ethylene Gas Detector Ethylene Monitor Ethylene Sensor Ethylene Transmitter Fire Alarm Panel Flame Arrestor Flame Detector System GMS Gas Monitor System Gas Monitors Gas transmitter Graphic Data Logger Graphic Recorder HMI System Hand Tachometer High Temp Logger High Temperature Logger Humidity Indicator Humidity Measuring Instrument Humidity Meter Humidity Monitor Humidity Recorder Humidity Transmitters Hydrocarbon Analyser Hydrocarbon Analyzer Hydrocarbon Monitor Hydrogen Chloride Gas Detector Hydrogen Chloride Monitor Hydrogen Chloride Sensor Hydrogen Chloride Transmitter Hydrogen Cyanide Gas Detector Hydrogen Cyanide Monitor Hydrogen Cyanide Sensor Hydrogen Cyanide Transmitter Hydrogen Gas Detector Hydrogen Monitor Hydrogen Sensor Hydrogen Sulphide Detector Hydrogen Sulphide Gas Detector Hydrogen Sulphide Monitor Hydrogen Sulphide Transmitter Hydrogen Transmitter Hydrogen sulphide Sensor IOT Indicator Infrared Thermo Meter Infrared Thermometer LPG / PNG Cylinder LPG gas detector Level Indicator Loop Powered Humidity Transmitter Loop Powered Indicator Loop Powered Temp Transmitter Loop Powered Temperature Transmitter MPCM Methane Gas Detector Methane Monitor Methane Sensor Methane Transmitter Mini Temp Logger Mini Temperature Logger Moisture Analyser Moisture Analyzer Multi Channel Gas Detector Multi Channel Indicator Multi Use Data Logger Multichannel Gas Detector Multiuse Data Logger N-Butane Gas Detector N-Butane Monitor N-Butane Sensor N-Butane Transmitter N-Decane Detector N-Decane Gas Detector N-Decane Monitor N-Decane Sensor N-Decane Transmitter N-Heptane Gas Detector N-Heptane Monitor N-Heptane Sensor N-Heptane Transmitter N-Hexane Gas Detector N-Hexane Monitor N-Hexane Sensor N-Hexane Transmitter N-Pentane Gas Detector N-Pentane Monitor N-Pentane Sensor N-Pentane Transmitter NO2 gas detector Nh3 gas transmittter Nitric Gas Detector Nitric Gas Monitor Nitric Oxide Analyser Nitric Oxide Analyzer Nitric Sensor Nitric Transmitter Nitrogen Dioxide Detector Nitrogen Dioxide Monitor Nitrogen Dioxide Sensor Nitrogen Dioxide Transmitter Offline Temp / Pressure Logger On / Off Controller On/Off Controller Oxygen Gas Detector Oxygen Monitor Oxygen Sensor Oxygen Transmitter Ozone Detector Ozone Monitor Ozone Sensor Ozone Transmitter PDF Data Logger PLC PANELS Paperless Data Logger Paperless Logger Paperless Recorder Phosgene Phosgene Gas Detector Phosgene Monitor Phosgene Sensor Phosgene Transmitter Phosphine Gas Detector Phosphine Monitor Phosphine Transmitter Pid Controller Portable Data Logger Portable Logger Portable Temp Data Logger Portable Temp Humidity Data Logger Portable Temperature Data Logger Portable Temperature Humidity Data Logger Portable gas detector Portable multi gas detector Precision Temp Logger Precision Temperature Logger Process Scanner Propane Gas Detector Propane Monitor Propane Sensor Propane Transmitter Propanol Detector Pyrometer RH & Temperature Data Logger SCADA System SF 6 Gas Leak Detector SF6 Gas Leak Detector Scanner Logger Single Channel Data Logger Single Use Data Logger Smart Gas Transmitter Solenoid Valve Sulphur Dioxide Detector Sulphur Dioxide Monitor Sulphur Dioxide Sensor Sulphur Dioxide Transmitter Temp & Humidity Scanner Temp & Humidity Transmitter Temp And Humidity Scanner Temp And Humidity Transmitter Temp Counter Temp Humidity Data Logger Temp Humidity Logger Temp Indicator Temp Meter Temp Recorder Temp Scanner Temp Transmitter Temp humidity Recorder Temperature & Humidity Scanner Temperature & Humidity Transmitter Temperature And Humidity Scanner Temperature And Humidity Transmitter Temperature Counter Temperature Data Logger Temperature Humidity Data Logger Temperature Humidity Logger Temperature Humidity Recorder Temperature Indicator Temperature Meter Temperature Monitoring Temperature Recorder Temperature Scanner Temperature Transmitter Temperature logger Therma Meter Thermometer Toxic Gas Detector Toxic Gas Monitor Toxic Gas Sensor Toxic Gas Transmitter Transmitter Transportation Logger Triple IR Detector USB Data Logger UV IR Detector UV IR Flyer UV IR Test Lamp Ultrasonic Gas Leak Detector Universal Data Scanner VOC Analyser VOC Analyzer VOC Gas Monitor VOC Monitor Wireless Repeater Wireless Temp Humidity Logger Wireless Temp Monitoring Wireless Temperature Humidity Logger Wireless Temperature Logger Wireless Temperature Monitoring Wireless Transmitter Receiver ambetronics amc of gas detector ammonia detector biogas analyser biogas analyzer calibration of gas detector chlorine gas detector clean room monitor cmc of gas detect co detector co2 detector continuous stack emission monitor cyclopropane detector data logger data scanner dew point meter ethyl mercaptan flame detector flue gas analyser flue gas analyzer ftu gas analyser ENABLE_EXACT_SEARCH Demolition Demolition work Gujarat Nashik Construction  Transformer Bihar Mining Consultancy Indian Agricultural Research Institute Gem  Plant and machinery scrap Water Civil Works Water Works Railway Railways Road Transportation Road Work Construction Of Road Works Stp Roads In Civil Works Roads Dam Civil Tunnel Road Construction Sewage Treatment Epc Water Treatment Plant Water Supply Pwd Water Storage And Supply Transport Bridge Sewage Treatment Plant Rwd Central Railway Public Works Department Manpower Construction Railway Civil Road Construction Road Earthwork Building Construction Pwd Gabion Waterproofing Gem  Haryana Housekeeping Services Labour Security Guard Lucknow Relay teat kit  Structural Design civil Canal Civil Dam Irrigation Pipe Pipe Line Pipeline Pump Scada Sewage Water Water Supply Water Treatment Plant Wtp underground water   Uttarakhand 4984 hdpe 1637346600000 1637432999999 bus bus stop shelter rain basera shelter solar bus shelter stainless steel bench yatri shed  Road Excavation  helium helium liquid liquid helium Drip Sprinkler Irrigation  Civil Work 0 10000000000 Bridges Building Earthwork Mechanized Laundry Railway Track Road Sewerage Pipeline Water Pipeline Andaman & Nicobar Islands Andhra Pradesh Arunachal Pradesh Assam Bihar Chandigarh Chhattisgarh Dadra & Nagar Haveli Daman & Diu Delhi Goa Gujarat Haryana Himachal Pradesh Jammu & Kashmir Jharkhand Karnataka Kerala Lakshadweep Madhya Pradesh Maharashtra Manipur Meghalaya Mizoram Nagaland Odisha Pondicherry Punjab Rajasthan Sikkim Tamil Nadu Telangana Tripura Uttar Pradesh Uttarakhand West Bengal Cleaning Paint Painting Pumps Road Road  Construction SAND FILTER Solid Waste Transport Uniform Water Design Gem West Bengal  Fabrication CCTV Cctv in Surveillance Equipments Computer Hardware Lan in Computer Hardware anpr automatic number plate recognition system cctv and networking cctv networking cisco io points it / lan infrastructure lan setup network configuration npr ofc ofc splicing optical fiber cable ptz ptz camera scctv vlan wifi wifi access point Canal Civil Dam Irrigation Pipe Pipe Line Pipeline Pump Scada Sewage Water Water Supply Water Treatment Plant Wtp underground water Scrap scrap scraps Delhi Almirah Chair Furniture Office Furniture Revolving Chair book stand furniture class room furniture cupboard dressing table hostel furniture modular furniture modular kitchen partitions chairs school furniture sofa bed sofa bed furniture sofa furniture table furniture Computer Hardware Computer Software IT Data Entry Data Center  Basketball acrylic flooring sports flooring synthetic flooring Nhai Construction Maharashtra Road Maharashtra  Road Flameproof  Flp Intrinsicsafe Wellglass Andhra Pradesh Telangana Gwalior Construction Information Technology and Telecom 2 valve manifold 5 valve manifold Air headers Alco Atkomatic Ball valve CIRCOR Circle Seal Compression fittings Condensate Pot DBB Double Block and Bleed Fitok Gas Distribution System Graco Gyrolok HIP HOKE Hoses Hylok Meetring skids Needle Valve Quick Connectors Regulators Sample Bomb Sample Cylinders Stainless steel tubes Tomko Tube fittings UHP Ultra High Purity VCO VCR manifolds panels pressure regulators sampling system swagelok tubings Scrap  Water ASTM D Building Cable Cleaning Construction DATA CENTER Defence Freeze Point LED Paint Painting Pumps Railway Road Road  Construction SAND FILTER Solid Waste Transport Uniform Valve Water Wood gedore heater rotation stage  Attendant Civil Conditional Monitoring Expediting Expert Services Fitness for Service (FFS) HAZOP Health Assessment Hiring Of Expert Infrastructure Integrity Assessment Lining Up Agency Maintenance Manpower O&M PESO Providing Consultancy Service QRA Quality Control RLA Remnant Life Assessment Safety Safety Audit Safety Studies Safety audit Service Engineer Structural Assessment Structural Audit Structural Health Assessment Structural stability Supervision TPA TPI Technical Technical Manpower Technician Thid Party Third Party Inspection Third party Audit Varification of Material Vendor Assessment shutdown Uniform Gem Ministry Of Ports Shipping And Waterways  ITSM data center enterprise monitoring system network monitoring solution service desk smart city Water plastic tank sanitary tank  CONCRETE REPAIR EPOXY ROAD REPAIR STRENGTHENING  WATERPROOFING Waterproofing Maharashtra building civil construction Dams Irrigation bridge buildings roads tunnels  Goa Goa Shipyard Limited Telangana Road Railway Maharashtra   Solar Power Plants grid Kerala acp exterior glass interior structural glazing truss Andaman & Nicobar Islands Andhra Pradesh Arunachal Pradesh Assam Bihar Chandigarh Chhattisgarh Dadra & Nagar Haveli Daman & Diu Delhi Goa Gujarat Haryana Himachal Pradesh Jammu & Kashmir Jharkhand Karnataka Kerala Lakshadweep Madhya Pradesh Maharashtra Manipur Meghalaya Mizoram Nagaland Odisha Pondicherry Punjab Rajasthan Sikkim Tamil Nadu Telangana Tripura Uttar Pradesh Uttarakhand West Bengal Construction  Scrap scrap scraps Delhi Architect Work Architectural Engineering Construction Design Consultancy Scrap 26012g313 4106001857 backstop bevel gear bevel gear box bevel gearbox bevel helical gear box bevel helical gearbox cooling tower gear box cooling tower gearbox crystallizer gear box crystallizer gearbox gear box gear rack helical gear helical gear box helical gearbox hold back holdback hypoid bevel gear hypoid gear hypoid gear box hypoid gearbox motor pinion pinion planetary gear planetary gear box planetary gear reducer planetary gearbox right angle gear box right angle gearbox screw jack shaft mounted gear box shaft mounted gearbox shrink disk spiral bevel gear spiral bevel gear box spiral bevel gearbox spur gear track drive track drive gear box track drive gearbox winch gear box winch gearbox worm gear worm gear box worm gearbox Haryana Himachal Pradesh Punjab Jammu & Kashmir Jalandhar Industrial catering  Railway Supply Pondicherry Tamil Nadu CEMENT  SUPPLY CONSTRUCTION Construction DAM CONSTRUCTION Highway Construction RCC WORK RIVER CONSTRUCTION SCHOOL BUILDING Tunnel Work  Kerala acp exterior glass interior structural glazing truss Supply 0 10000000000 a Military Engineer Services Andhra Pradesh Chandigarh Delhi Haryana Himachal Pradesh Jammu & Kashmir Meghalaya Punjab Rajasthan West Bengal AC DUCTING WORK AHU AC AMC AC Air Conditioning Air conditioner Cassette AC Ductable AC HVAC  Tower AC VRF VRF AC VRV Window AC split AC Delhi Andaman & Nicobar Islands Andhra Pradesh Arunachal Pradesh Assam Bihar Chandigarh Chhattisgarh Dadra & Nagar Haveli Daman & Diu Delhi Goa Gujarat Haryana Himachal Pradesh Jammu & Kashmir Jharkhand Karnataka Kerala Lakshadweep Madhya Pradesh Maharashtra Manipur Meghalaya Mizoram Nagaland Odisha Pondicherry Punjab Rajasthan Sikkim Tamil Nadu Telangana Tripura Uttar Pradesh Uttarakhand West Bengal Construction Andaman & Nicobar Islands Andhra Pradesh Arunachal Pradesh Assam Bihar Chandigarh Chhattisgarh Dadra & Nagar Haveli Daman & Diu Delhi Goa Gujarat Haryana Himachal Pradesh Jammu & Kashmir Jharkhand Karnataka Kerala Lakshadweep Madhya Pradesh Maharashtra Manipur Meghalaya Mizoram Nagaland Odisha Pondicherry Punjab Rajasthan Sikkim Tamil Nadu Telangana Tripura Uttar Pradesh Uttarakhand West Bengal Apron Uniform ash grey uniform boiler suit cap coverall dungaree fire retardant coat gown gowns operating mask mask reusable medical gowns medical staff apron reusable medical gowns safety apparel saree Karnataka Maharashtra Cleaning Construction Of Road Works Food Garden Gem Highway Horticulture House Keeping Housekeeping Housekeeping Services Man Power Manpower Msme Paint Railway Renovation Repair Roads In Civil Works Roads Security Security Guard Security Guards Stationary Stationery Supply civil construction Agra Aligarh Bagpat Ballia Doda Faridabad Gurugram Hathras Jammu Karnal Kathua Kurukshetra Mainpuri Mau Meerut New Delhi Panipat Reasi Rohtak Samba Shamli Sonipat Srinagar Udhampur Delhi Haryana Jammu & Kashmir Rajasthan Uttar Pradesh Supply Data Entry Water Civil Works Water Works Railway Railways Road Transportation Road Work Construction Of Road Works Stp Roads In Civil Works Roads Dam Civil Tunnel Road Construction Sewage Treatment Epc Water Treatment Plant Water Supply Pwd Water Storage And Supply Transport Bridge Sewage Treatment Plant Rwd Central Railway Public Works Department Paint Paint & Varnish epoxy epoxy paint paint polyurethane paint thinner Water Almirah Iron almirah Office almirah Steel almirah CCTV Printing civil works manpower photography road work transportation videogarphy Maharashtra Telangana Karnataka  Labour  Construction Road Road  Construction Water     Civil Construction  Fiber Project management consultancy  Seeds Third party inspection  civil electrical fiber grain storage  manpower supply  street light  transportation  Andhra Pradesh Karnataka Kerala Odisha Tamil Nadu Telangana  Gem Medical Equipment portable ventilator Software IT Data Center fire hydrant system fire safety medical oxygen pipeline Gujarat Andhra Pradesh Madhya Pradesh Maharashtra Rajasthan Chhattisgarh Uttar Pradesh Odisha Steel Authority Of India Limited Labour  Bus Bar Trunking Bus duct LED Lights Rising Main high Mast poles GUJRAT National Highways Authority Of India Water Drone 1000323818 fuel dispenser fuel dispensing pump hanging component of fuel dispenser Cement Construction Supply Water  Information Technology and Telecom e waste ewaste scrap END SUCTION PUMP PUMP Split Casing Pump centrifugal pump multistage pump vertical turbine 0 10000000000 Bridges Building Earthwork Mechanized Laundry Railway Track Road Sewerage Pipeline Water Pipeline Andaman & Nicobar Islands Andhra Pradesh Arunachal Pradesh Assam Bihar Chandigarh Chhattisgarh Dadra & Nagar Haveli Daman & Diu Delhi Goa Gujarat Haryana Himachal Pradesh Jammu & Kashmir Jharkhand Karnataka Kerala Lakshadweep Madhya Pradesh Maharashtra Manipur Meghalaya Mizoram Nagaland Odisha Pondicherry Punjab Rajasthan Sikkim Tamil Nadu Telangana Tripura Uttar Pradesh Uttarakhand West Bengal Amc Fiber Optic Cable security alarm supply and installation of cctv Bobcat Compactor Refuse Compactor Skid Skid Steer Loader Andaman & Nicobar Islands Andhra Pradesh Arunachal Pradesh Assam Bihar Chandigarh Chhattisgarh Dadra & Nagar Haveli Daman & Diu Delhi Goa Gujarat Haryana Himachal Pradesh Jammu & Kashmir Jharkhand Karnataka Kerala Lakshadweep Madhya Pradesh Maharashtra Manipur Meghalaya Mizoram Nagaland Odisha Pondicherry Punjab Rajasthan Sikkim Tamil Nadu Telangana Tripura Uttar Pradesh Uttarakhand West Bengal Amc Fiber Optic Cable security alarm supply and installation of cctv Construction Labour Paint Railway Road Water   Scrap Scrap Battery Hdpe Containers And Storages Storage Bags Ppe Bag Maharashtra Interior Work civil construction renovation water supply Rajkot Amino Acid Analytical Standards Antibiotics Antibodies Apoptosis Kits Bead mill homogenizer Bead ruptor Biological Products Biological Stains Buffers CRISPR Cell viability Chip & Flow Cytometry Cytokines DNA DNA Damage & Repairs Endotoxin detection Enzymes Expression Vector Flexmap 3D Fluorescent dyes GMP Proteins GPCR Ligands Growth Hormone Hollow fiber filters Inorganic salts Laboratory Research Laboratory Research Chemicals Laboratory consumables Ladders Life Science Research Products Luminex 100/200 Luminex Instruments Lysates Magpix Mono/Disaccharides Natural Protein Neurotransmitters Nutraceuticals Omni prep Peptides Plastic wares Plasticwares Polysaccharides Primary Antibodies Primary human cell line Primer Pairs Protein Labeling Kits Protein Markers RNA RT PCR Repligen Research Protein Secondary Antibodies Signaling inhibitors Sonic ruptor Synthesis Transcription adhesion peptides agarose antibody assay kits, atplite one step biochemical biochemicals biological cells bulk tips cell culture media cell immortalization kits cell immortalization reagents cell membrane chemicals rate contract cloning kit deoxyribonucleic acid dna analysis kits deoxyribonucleic acid dna sequencing products dialysis tube dietary fiber/starch dna extraction eco-tek ecofriendly research products elisa elisa kit elisa kits elisa reader enzyme substrate expression vectors florescence florescent tagged antibodies gene expression genetic analyzer genome genotyping glass wares glassware homogenizer hormone hrp tagged immunoassay kits inhibitors ion Channel modulators laboratory glassware rate contract ligands ligates lites reagent lts luminescence luminex membrane microarray microplate readers microplates mirna molecular biology molecular biology grade chemicals molecular biology reagents molecular biology test kits multichannel pipette multimode plate reader multiplex reader next generation nucleic nucleosides oligonucleotides pcr kit perkinelmer pipette tips pipettes plastic wares polymerase pre packed column protein expression purification kit qpcr expression arrays qpcr products rdna reagents real time pcr products recombinants resins & ligands rotor stator homogenizer sequence sequencing siRNA single channel pipette starch supplements sustainable transcriptome transfection reagents vector & virus library xmap technology Transportation Construction Painting Railway Road Water  Attendant Civil Conditional Monitoring Expediting Expert Services Fitness for Service (FFS) HAZOP Health Assessment Hiring Of Expert Infrastructure Integrity Assessment Lining Up Agency Maintenance Manpower O&M PESO Providing Consultancy Service QRA Quality Control RLA Remnant Life Assessment Safety Safety Audit Safety Studies Safety audit Service Engineer Structural Assessment Structural Audit Structural Health Assessment Structural stability Supervision TPA TPI Technical Technical Manpower Technician Thid Party Third Party Inspection Third party Audit Varification of Material Vendor Assessment shutdown Scrap Tamil Nadu APRON BEDCOVER BEDSHEET COTTON BAG Covid DISPOSABLE BEDSHEETS DISPOSABLE GOWN GARBAGE BAG GOWN GREEN FABRICS HANDLOOM FABRIC HOSPITAL BEDSHEET LINEN MASK OT GOEN PILLOW COVER PPE KIT REUSABLE GOWN SPREADS Textile Product Computer EHR Enterprise Resource Planning HMIS OPD/IPD Patient Management Software System Integrator Website android app e Health e Sanjeevani e hospital electronic health hims mobile application patient registration software web application website 1644777000000 1648665000000 ASTM D Building Construction Railway Road Water all   BOD incubator DNA Gene expression HRMS High resolution Lovibond MALDI Mass Spectrometers Mass spectrometry Microbial identification Multimode reader RNA Sequencing Spatial biology Virology Acoustical Work Audio Conferencing System Audio Video Equipment Auditorium Chair Auditorium Construction audio visual Maharashtra Building Cleaning Construction Painting Railway Road  Construction Construction Railway Road Supply Electrical Fci Attendant Civil Conditional Monitoring Expediting Expert Services Fitness for Service (FFS) HAZOP Health Assessment Hiring Of Expert Infrastructure Integrity Assessment Lining Up Agency Maintenance Manpower O&M PESO Providing Consultancy Service QRA Quality Control RLA Remnant Life Assessment Safety Safety Audit Safety Studies Safety audit Service Engineer Structural Assessment Structural Audit Structural Health Assessment Structural stability Supervision TPA TPI Technical Technical Manpower Technician Thid Party Third Party Inspection Third party Audit Varification of Material Vendor Assessment shutdown  APP APP membrane Bitumen membrane Dam sealing Epoxy Geocell Geoweb Grouting HDPE membrane PU PVC membrane Polyurethane Sealent core drilling injection landslide mineral exploring polyurea rehabilitation sealing slope slope stabilization tunnel water proofing waterproofing Andaman & Nicobar Islands Andhra Pradesh Arunachal Pradesh Assam Bihar Chandigarh Chhattisgarh Dadra & Nagar Haveli Daman & Diu Delhi Goa Gujarat Haryana Himachal Pradesh Jammu & Kashmir Jharkhand Karnataka Kerala Lakshadweep Madhya Pradesh Maharashtra Manipur Meghalaya Mizoram Nagaland Odisha Pondicherry Punjab Rajasthan Sikkim Tamil Nadu Telangana Tripura Uttar Pradesh Uttarakhand West Bengal Paint Paint & Varnish epoxy epoxy paint paint polyurethane paint thinner Water Construction Andhra Pradesh Building Construction Consultancy Ceramics  Building Cable Construction Pumps Railway Transport Water Flex Flex Printing Printing Printing Related Service Publishing and Printing CONCRETE REPAIR EPOXY ROAD REPAIR STRENGTHENING  WATERPROOFING Waterproofing Maharashtra Ammunition BADGE BLANKET BLAZER BOOT CAP CLOTH COTTON DRESS IAF JACKET JHALLAR MOSQUITO PAGRI POUCH RAIN CAPE SINGLE TEXTURE STICHING STITCH T SHIRT TIE NECK TOWEL TROUSER WAIST BELT WEB EQUIPMENT Woolens ankle anklet backpack badge bags balklava barrack bed holder bed sheet belt blanket boots brush cap ceremonial clothing coat combat dangri dari defence dress garments goggles ground sheet hand glove handkerchief haversack jacket jersey jungle boot khaki khaki  kit bag lanyard leather mha mosquito overall oxford rain suit rucksack scarf shirt shoe short shorts sleeping  socks sunglass synthetic equipment t shirt tactical textile thali uniform vardi vest  Madhya Pradesh Defence Pumps Railway Water Construction Information Technology and Telecom Transportation Arunachal Pradesh Assam Manipur Meghalaya Mizoram Nagaland Tripura 12701 12818 13592 14151 14333 14885 4984 4985 Borewell in Civil Works Water Works Borewell in Water Drilling and Boring CASING Hand Pumps in Civil Works Water Works Hand Pumps in Water Drilling and Boring Interior PLB PVC PIPE Plumbing in Civil Construction Goods Plumbing in Water Drilling and Boring Pumps Pumps in Civil Works Water Works Pumps in Mechanical Equipments Pvc in Civil Construction Goods Submersible in Mechanical Maintenance Submersible in Water Drilling and Boring Tank in Civil Works Others Tank in Civil Works Water Works WATER STORAGE TANK Water agricultural pipe agriculture pipe black pipe blue pipe blue pvc casing pipe borewell boring casing pipe column pipe column pipe pvc column pipe commercial pipes dahp direct action hand pump direct action hand pump tara pump direct action tara pump drainage filter filter pipe gas pipe grey pipe handpump hdpe hdpe pipe high density mark 2 mark 3 mark ii mark iii mdpe mdpe gas pipe pe 100 pe63 pe80 pipe plumbing plumbing in civil works water works plumbing pipe portable water pumps pvc pvc agriculture pipev pvc casing pipe pvc in civil work water work pvc pipes pvc swr pipes ribbed pipe rigid sch sewerage sewerage pipe singrur submersible pipe swr pipe tank tara pump telecom duct tsec tubewell upvc wate tank water line water tank  DWC Arunachal Pradesh Man Power Supply Security  Acetaldehyde Gas Detector Acetaldehyde Monitor Acetaldehyde Sensor Acetaldehyde Transmitter Acetone Gas Detector Acetone Monitor Acetone Sensor Acetone Transmitter Air Humidity Monitor Air Quality Monitor Ambient air quality monitoring Ammonia Gas Detector Ammonia Monitor Ammonia Sensor Ammonia Transmitter Battery Room Hydrogen Gas Leak Detector Butanol Detector Button Logger CNG Detector CNG gas detector CO Gas Analyser CO Gas Analyzer CO Gas Detector CO2 Detector CO2 Transmitter CPCB Carbon Monoxide Gas Detector Carbon Monoxide Monitor Carbon Monoxide Sensor Carbon Monoxide Transmitter Chlorine Detector Chlorine Gas Detector Chlorine Monitor Chlorine Sensor Chlorine Transmitter Clean Room Monitoring System Cold Room Monitoring System Combustible Continuous Gas Analyser Continuous Gas Analyzer Controller Cyclohexane Gas Detector Cyclohexane Monitor Cyclohexane Sensor Cyclohexane Transmitter Cyclopropane Detector Cyclopropane Gas Detector Cyclopropane Monitor Cyclopropane Sensor Cyclopropane Transmitter Cycolopropanc Detector Data Logger Dew Point Analyser Dew Point Analyzer Digital Indicator Digital Temp Indicators Digital Temperature Indicators Digital Thermometer Dust Opacity Monitor Dust Particulate Monitor Ember Detector Ethane Sensor Ethane Transmitter Ethanol Detector Ethyl benzene Ethylene Analyser Ethylene Analyzer Ethylene Gas Detector Ethylene Monitor Ethylene Sensor Ethylene Transmitter Fire Alarm Panel Flame Arrestor Flame Detector System GMS Gas Monitor System Gas Monitors Gas transmitter Graphic Data Logger Graphic Recorder HMI System Hand Tachometer High Temp Logger High Temperature Logger Humidity Indicator Humidity Measuring Instrument Humidity Meter Humidity Monitor Humidity Recorder Humidity Transmitters Hydrocarbon Analyser Hydrocarbon Analyzer Hydrocarbon Monitor Hydrogen Chloride Gas Detector Hydrogen Chloride Monitor Hydrogen Chloride Sensor Hydrogen Chloride Transmitter Hydrogen Cyanide Gas Detector Hydrogen Cyanide Monitor Hydrogen Cyanide Sensor Hydrogen Cyanide Transmitter Hydrogen Gas Detector Hydrogen Monitor Hydrogen Sensor Hydrogen Sulphide Detector Hydrogen Sulphide Gas Detector Hydrogen Sulphide Monitor Hydrogen Sulphide Transmitter Hydrogen Transmitter Hydrogen sulphide Sensor IOT Indicator Infrared Thermo Meter Infrared Thermometer LPG / PNG Cylinder LPG gas detector Level Indicator Loop Powered Humidity Transmitter Loop Powered Indicator Loop Powered Temp Transmitter Loop Powered Temperature Transmitter MPCM Methane Gas Detector Methane Monitor Methane Sensor Methane Transmitter Mini Temp Logger Mini Temperature Logger Moisture Analyser Moisture Analyzer Multi Channel Gas Detector Multi Channel Indicator Multi Use Data Logger Multichannel Gas Detector Multiuse Data Logger N-Butane Gas Detector N-Butane Monitor N-Butane Sensor N-Butane Transmitter N-Decane Detector N-Decane Gas Detector N-Decane Monitor N-Decane Sensor N-Decane Transmitter N-Heptane Gas Detector N-Heptane Monitor N-Heptane Sensor N-Heptane Transmitter N-Hexane Gas Detector N-Hexane Monitor N-Hexane Sensor N-Hexane Transmitter N-Pentane Gas Detector N-Pentane Monitor N-Pentane Sensor N-Pentane Transmitter NO2 gas detector Nh3 gas transmittter Nitric Gas Detector Nitric Gas Monitor Nitric Oxide Analyser Nitric Oxide Analyzer Nitric Sensor Nitric Transmitter Nitrogen Dioxide Detector Nitrogen Dioxide Monitor Nitrogen Dioxide Sensor Nitrogen Dioxide Transmitter Offline Temp / Pressure Logger On / Off Controller On/Off Controller Oxygen Gas Detector Oxygen Monitor Oxygen Sensor Oxygen Transmitter Ozone Detector Ozone Monitor Ozone Sensor Ozone Transmitter PDF Data Logger PLC PANELS Paperless Data Logger Paperless Logger Paperless Recorder Phosgene Phosgene Gas Detector Phosgene Monitor Phosgene Sensor Phosgene Transmitter Phosphine Gas Detector Phosphine Monitor Phosphine Transmitter Pid Controller Portable Data Logger Portable Logger Portable Temp Data Logger Portable Temp Humidity Data Logger Portable Temperature Data Logger Portable Temperature Humidity Data Logger Portable gas detector Portable multi gas detector Precision Temp Logger Precision Temperature Logger Process Scanner Propane Gas Detector Propane Monitor Propane Sensor Propane Transmitter Propanol Detector Pyrometer RH & Temperature Data Logger SCADA System SF 6 Gas Leak Detector SF6 Gas Leak Detector Scanner Logger Single Channel Data Logger Single Use Data Logger Smart Gas Transmitter Solenoid Valve Sulphur Dioxide Detector Sulphur Dioxide Monitor Sulphur Dioxide Sensor Sulphur Dioxide Transmitter Temp & Humidity Scanner Temp & Humidity Transmitter Temp And Humidity Scanner Temp And Humidity Transmitter Temp Counter Temp Humidity Data Logger Temp Humidity Logger Temp Indicator Temp Meter Temp Recorder Temp Scanner Temp Transmitter Temp humidity Recorder Temperature & Humidity Scanner Temperature & Humidity Transmitter Temperature And Humidity Scanner Temperature And Humidity Transmitter Temperature Counter Temperature Data Logger Temperature Humidity Data Logger Temperature Humidity Logger Temperature Humidity Recorder Temperature Indicator Temperature Meter Temperature Monitoring Temperature Recorder Temperature Scanner Temperature Transmitter Temperature logger Therma Meter Thermometer Toxic Gas Detector Toxic Gas Monitor Toxic Gas Sensor Toxic Gas Transmitter Transmitter Transportation Logger Triple IR Detector USB Data Logger UV IR Detector UV IR Flyer UV IR Test Lamp Ultrasonic Gas Leak Detector Universal Data Scanner VOC Analyser VOC Analyzer VOC Gas Monitor VOC Monitor Wireless Repeater Wireless Temp Humidity Logger Wireless Temp Monitoring Wireless Temperature Humidity Logger Wireless Temperature Logger Wireless Temperature Monitoring Wireless Transmitter Receiver ambetronics amc of gas detector ammonia detector biogas analyser biogas analyzer calibration of gas detector chlorine gas detector clean room monitor cmc of gas detect co detector co2 detector continuous stack emission monitor cyclopropane detector data logger data scanner dew point meter ethyl mercaptan flame detector flue gas analyser flue gas analyzer ftu gas analyser ENABLE_EXACT_SEARCH Cable Labour Led Mechanical Pipe Power Uttar Pradesh Uttar Pradesh AMC Maintenance Contracts Amc Railway Road Stationery Repair and Maintenance   Boltcompensator Hydrant valve Hydraulic valve Impeller Rotor valve HT MOTOR High Tension Motor repairing High Tension Motor rewinding ht motor repairing ht motor rewinding work drone survey drones uav Construction Andhra Pradesh Building Construction Consultancy Ceramics Facility Management Housekeeping services Security Guard Security service catering housekiping manpower personal security recruitment Andaman & Nicobar Islands Andhra Pradesh Arunachal Pradesh Assam Bihar Chandigarh Chhattisgarh Dadra & Nagar Haveli Daman & Diu Delhi Goa Gujarat Haryana Himachal Pradesh Jammu & Kashmir Jharkhand Karnataka Kerala Lakshadweep Madhya Pradesh Manipur Meghalaya Mizoram Nagaland Odisha Pondicherry Punjab Rajasthan Sikkim Tamil Nadu Telangana Tripura Uttar Pradesh Uttarakhand West Bengal airless grit blasting sand blasting Chhattisgarh Gujarat Madhya Pradesh Maharashtra Rajasthan AC DUCTING WORK AHU AC AMC AC Air Conditioning Air conditioner Cassette AC Ductable AC HVAC  Tower AC VRF VRF AC VRV Window AC split AC Delhi Scrap Delhi Pumps Pumps in Civil Works Water Works Pumps in Mechanical Equipments Railway Loctite loctite pump Uttar Pradesh  Catering Executive engineer A M division malda   Solar Power Plants grid AC DUCTING WORK AHU AC AMC AC Air Conditioning Air conditioner Cassette AC Ductable AC HVAC  Tower AC VRF VRF AC VRV Window AC split AC Delhi Transportation Earth Work Excavation Maintenance Chemicals and Minerals Cleaning Consumable Housekeeping Equipments Housekeeping Services Andhra Pradesh Drone Fabrication PEB Pre Engineered Building Steel Fabrication steel bridge  Software IT Data Center Wood Garden Gem SAND FILTER Water water Bihar Gujarat Madhya Pradesh Goa Chhattisgarh Gem Pune Maharashtra AMC Maintenance Contracts Administration All Agriculture or Forestry Works Air Conditioner Services Allotment of Space Aviation Cable and Wires Civil All Civil Construction Goods Civil Works Bridges Civil Works Buildings Civil Works Highways Civil Works Others Civil Works Roads Civil Works Water Works Commercial Real Estate Housekeeping Services Job Works Land and Building Miscellaneous Other Services Paints and Enamels Repair and Maintenance Residential Properties Public Works Department bed chair cupboard file storage furniture interior table Gujarat Madhya Pradesh Maharashtra hirig taxi Gem Latur Water plastic tank sanitary tank   Central Public Works Department Hospital Services Consultancy Corporation India Limited Military Engineer Services Northern Railway Public Works Department Delhi Haryana Uttar Pradesh Building Building Construction Construction Electrical Electrical Work LT Panel electrical installation  Cctv Laundry machine laundry laundry equipment laundry machines washer extraxtors washing machine  monthly basis cab taxi hiring vehicle hiring Rajasthan Cloth furnace Executive Engineer Public Work Division Allapalli CCTV System construction Construction erection fabrication manufacture Acetaldehyde Gas Detector Acetaldehyde Monitor Acetaldehyde Sensor Acetaldehyde Transmitter Acetone Gas Detector Acetone Monitor Acetone Sensor Acetone Transmitter Air Humidity Monitor Air Quality Monitor Ambient air quality monitoring Ammonia Gas Detector Ammonia Monitor Ammonia Sensor Ammonia Transmitter Battery Room Hydrogen Gas Leak Detector Butanol Detector Button Logger CNG Detector CNG gas detector CO Gas Analyser CO Gas Analyzer CO Gas Detector CO2 Detector CO2 Transmitter CPCB Carbon Monoxide Gas Detector Carbon Monoxide Monitor Carbon Monoxide Sensor Carbon Monoxide Transmitter Chlorine Detector Chlorine Gas Detector Chlorine Monitor Chlorine Sensor Chlorine Transmitter Clean Room Monitoring System Cold Room Monitoring System Combustible Continuous Gas Analyser Continuous Gas Analyzer Controller Cyclohexane Gas Detector Cyclohexane Monitor Cyclohexane Sensor Cyclohexane Transmitter Cyclopropane Detector Cyclopropane Gas Detector Cyclopropane Monitor Cyclopropane Sensor Cyclopropane Transmitter Cycolopropanc Detector Data Logger Dew Point Analyser Dew Point Analyzer Digital Indicator Digital Temp Indicators Digital Temperature Indicators Digital Thermometer Dust Opacity Monitor Dust Particulate Monitor Ember Detector Ethane Sensor Ethane Transmitter Ethanol Detector Ethyl benzene Ethylene Analyser Ethylene Analyzer Ethylene Gas Detector Ethylene Monitor Ethylene Sensor Ethylene Transmitter Fire Alarm Panel Flame Arrestor Flame Detector System GMS Gas Monitor System Gas Monitors Gas transmitter Graphic Data Logger Graphic Recorder HMI System Hand Tachometer High Temp Logger High Temperature Logger Humidity Indicator Humidity Measuring Instrument Humidity Meter Humidity Monitor Humidity Recorder Humidity Transmitters Hydrocarbon Analyser Hydrocarbon Analyzer Hydrocarbon Monitor Hydrogen Chloride Gas Detector Hydrogen Chloride Monitor Hydrogen Chloride Sensor Hydrogen Chloride Transmitter Hydrogen Cyanide Gas Detector Hydrogen Cyanide Monitor Hydrogen Cyanide Sensor Hydrogen Cyanide Transmitter Hydrogen Gas Detector Hydrogen Monitor Hydrogen Sensor Hydrogen Sulphide Detector Hydrogen Sulphide Gas Detector Hydrogen Sulphide Monitor Hydrogen Sulphide Transmitter Hydrogen Transmitter Hydrogen sulphide Sensor IOT Indicator Infrared Thermo Meter Infrared Thermometer LPG / PNG Cylinder LPG gas detector Level Indicator Loop Powered Humidity Transmitter Loop Powered Indicator Loop Powered Temp Transmitter Loop Powered Temperature Transmitter MPCM Methane Gas Detector Methane Monitor Methane Sensor Methane Transmitter Mini Temp Logger Mini Temperature Logger Moisture Analyser Moisture Analyzer Multi Channel Gas Detector Multi Channel Indicator Multi Use Data Logger Multichannel Gas Detector Multiuse Data Logger N-Butane Gas Detector N-Butane Monitor N-Butane Sensor N-Butane Transmitter N-Decane Detector N-Decane Gas Detector N-Decane Monitor N-Decane Sensor N-Decane Transmitter N-Heptane Gas Detector N-Heptane Monitor N-Heptane Sensor N-Heptane Transmitter N-Hexane Gas Detector N-Hexane Monitor N-Hexane Sensor N-Hexane Transmitter N-Pentane Gas Detector N-Pentane Monitor N-Pentane Sensor N-Pentane Transmitter NO2 gas detector Nh3 gas transmittter Nitric Gas Detector Nitric Gas Monitor Nitric Oxide Analyser Nitric Oxide Analyzer Nitric Sensor Nitric Transmitter Nitrogen Dioxide Detector Nitrogen Dioxide Monitor Nitrogen Dioxide Sensor Nitrogen Dioxide Transmitter Offline Temp / Pressure Logger On / Off Controller On/Off Controller Oxygen Gas Detector Oxygen Monitor Oxygen Sensor Oxygen Transmitter Ozone Detector Ozone Monitor Ozone Sensor Ozone Transmitter PDF Data Logger PLC PANELS Paperless Data Logger Paperless Logger Paperless Recorder Phosgene Phosgene Gas Detector Phosgene Monitor Phosgene Sensor Phosgene Transmitter Phosphine Gas Detector Phosphine Monitor Phosphine Transmitter Pid Controller Portable Data Logger Portable Logger Portable Temp Data Logger Portable Temp Humidity Data Logger Portable Temperature Data Logger Portable Temperature Humidity Data Logger Portable gas detector Portable multi gas detector Precision Temp Logger Precision Temperature Logger Process Scanner Propane Gas Detector Propane Monitor Propane Sensor Propane Transmitter Propanol Detector Pyrometer RH & Temperature Data Logger SCADA System SF 6 Gas Leak Detector SF6 Gas Leak Detector Scanner Logger Single Channel Data Logger Single Use Data Logger Smart Gas Transmitter Solenoid Valve Sulphur Dioxide Detector Sulphur Dioxide Monitor Sulphur Dioxide Sensor Sulphur Dioxide Transmitter Temp & Humidity Scanner Temp & Humidity Transmitter Temp And Humidity Scanner Temp And Humidity Transmitter Temp Counter Temp Humidity Data Logger Temp Humidity Logger Temp Indicator Temp Meter Temp Recorder Temp Scanner Temp Transmitter Temp humidity Recorder Temperature & Humidity Scanner Temperature & Humidity Transmitter Temperature And Humidity Scanner Temperature And Humidity Transmitter Temperature Counter Temperature Data Logger Temperature Humidity Data Logger Temperature Humidity Logger Temperature Humidity Recorder Temperature Indicator Temperature Meter Temperature Monitoring Temperature Recorder Temperature Scanner Temperature Transmitter Temperature logger Therma Meter Thermometer Toxic Gas Detector Toxic Gas Monitor Toxic Gas Sensor Toxic Gas Transmitter Transmitter Transportation Logger Triple IR Detector USB Data Logger UV IR Detector UV IR Flyer UV IR Test Lamp Ultrasonic Gas Leak Detector Universal Data Scanner VOC Analyser VOC Analyzer VOC Gas Monitor VOC Monitor Wireless Repeater Wireless Temp Humidity Logger Wireless Temp Monitoring Wireless Temperature Humidity Logger Wireless Temperature Logger Wireless Temperature Monitoring Wireless Transmitter Receiver ambetronics amc of gas detector ammonia detector biogas analyser biogas analyzer calibration of gas detector chlorine gas detector clean room monitor cmc of gas detect co detector co2 detector continuous stack emission monitor cyclopropane detector data logger data scanner dew point meter ethyl mercaptan flame detector flue gas analyser flue gas analyzer ftu gas analyser ENABLE_EXACT_SEARCH Data Entry   Amino Acid Analytical Standards Antibiotics Antibodies Apoptosis Kits Bead mill homogenizer Bead ruptor Biological Products Biological Stains Buffers CRISPR Cell viability Chip & Flow Cytometry Cytokines DNA DNA Damage & Repairs Endotoxin detection Enzymes Expression Vector Flexmap 3D Fluorescent dyes GMP Proteins GPCR Ligands Growth Hormone Hollow fiber filters Inorganic salts Laboratory Research Laboratory Research Chemicals Laboratory consumables Ladders Life Science Research Products Luminex 100/200 Luminex Instruments Lysates Magpix Mono/Disaccharides Natural Protein Neurotransmitters Nutraceuticals Omni prep Peptides Plastic wares Plasticwares Polysaccharides Primary Antibodies Primary human cell line Primer Pairs Protein Labeling Kits Protein Markers RNA RT PCR Repligen Research Protein Secondary Antibodies Signaling inhibitors Sonic ruptor Synthesis Transcription adhesion peptides agarose antibody assay kits, atplite one step biochemical biochemicals biological cells bulk tips cell culture media cell immortalization kits cell immortalization reagents cell membrane chemicals rate contract cloning kit deoxyribonucleic acid dna analysis kits deoxyribonucleic acid dna sequencing products dialysis tube dietary fiber/starch dna extraction eco-tek ecofriendly research products elisa elisa kit elisa kits elisa reader enzyme substrate expression vectors florescence florescent tagged antibodies gene expression genetic analyzer genome genotyping glass wares glassware homogenizer hormone hrp tagged immunoassay kits inhibitors ion Channel modulators laboratory glassware rate contract ligands ligates lites reagent lts luminescence luminex membrane microarray microplate readers microplates mirna molecular biology molecular biology grade chemicals molecular biology reagents molecular biology test kits multichannel pipette multimode plate reader multiplex reader next generation nucleic nucleosides oligonucleotides pcr kit perkinelmer pipette tips pipettes plastic wares polymerase pre packed column protein expression purification kit qpcr expression arrays qpcr products rdna reagents real time pcr products recombinants resins & ligands rotor stator homogenizer sequence sequencing siRNA single channel pipette starch supplements sustainable transcriptome transfection reagents vector & virus library xmap technology Brooms COTTON WASTE ELEMENT PRIMARY FILTER FILTER CUM WATER SEPARATOR FUEL WATER SEPRATOR Flannellette Rolls Of Cm Width LINOLIUM SHEET Markin Cloth RAZOR Stainless Steel Bucket boq filter Indian Army Ministry Of Defence Telangana Road  Cloth Uniform dress ladies wears Sound & light show biodiversity park eco park heritage restoration interpretation centre museum musical fountain projection mapping sound and light Cleaning Construction Excavation Mechanical Pipe Repair Supply Water Construction Road Water Manpower Uttarakhand  Construction Road Government Of Meghalaya Fire Extinguisher Fire  CCTV Cctv in Surveillance Equipments Computer Hardware Lan in Computer Hardware anpr automatic number plate recognition system cctv and networking cctv networking cisco io points it / lan infrastructure lan setup network configuration npr ofc ofc splicing optical fiber cable ptz ptz camera scctv vlan wifi wifi access point  Recruitment college digital education exam learning online recruitment university vidya vidyalaya  Delhi Construction Patna Space Planning And Designing Architecture and Interior Design Uttar Pradesh Chandigarh Delhi Haryana Himachal Pradesh Jammu & Kashmir Punjab Uttar Pradesh Uttarakhand cabin container dumper dustbin fabrication hopper hydraulic iron lorry mobile porta cabin steel supply tank tipper trolley truck van  Vehicle steel  Construction erection fabrication manufacture  Noise Barrier acoustic panels Himachal Pradesh Architecture and Interior Design Civil Consultancy Civil Soil investigation Survey Consultancy Consultancy Services Consultancy in Consultancy Services Consultant Consultants DPR Design Design Consultancy Detailed Project Report Dpr Financial Consultancy Geological Survey Hydrological Survey Safety Consultancy Service Soil Survey Space Planning And Designing Structural Design Survey Survey Works Survey and Investigation services Surveys Topographic Survey Topographical Survey bridge dpr detail project report detailed project report dpr dpr channel dpr flood dpr flood protection dpr of bridge flood consultancy flood dpr flood protection consultancy sewerage dpr survey works surveying 220 kv reconductoring 33 KV Distribution line Construction Works Electrical Railway Construction Road Construction SHIEFTING OF ELECTRICAL UG cables cable construction electrical works aquaculture fish cage culture floating dock floating jetty hdpe floating pontoon hdpe water storage tank drone survey drones uav Nprocure Canal Civil Dam Irrigation Pipe Pipe Line Pipeline Pump Scada Sewage Water Water Supply Water Treatment Plant Wtp underground water Fm200 HALON Novec clean agent fire suppression hfc227ea suppression bpo Pratapgarh Uttar Pradesh Cement Construction Excavation Maharashtra Paint Repair Road Water Construction Excavation Repair Road Scrap Metal Scrap Tamil Nadu   Supply END SUCTION PUMP PUMP Split Casing Pump centrifugal pump multistage pump vertical turbine  Airport Terminal  building Building Building Construction College building Commercial building Hospital building Hotel building Industrial building OIL AND GAS Power plant Residential building School building Andaman & Nicobar Islands Andhra Pradesh Arunachal Pradesh Assam Bihar Chandigarh Chhattisgarh Dadra & Nagar Haveli Daman & Diu Delhi Goa Gujarat Haryana Himachal Pradesh Jammu & Kashmir Jharkhand Karnataka Kerala Lakshadweep Madhya Pradesh Maharashtra Manipur Meghalaya Mizoram Nagaland Odisha Pondicherry Punjab Rajasthan Sikkim Tamil Nadu Telangana Tripura Uttar Pradesh Uttarakhand West Bengal  plate    2 lane 4 lane 6 LANE Architect Architectural DPR Detailed project report Development of EPC EPC PROJECT EPC work Engineering procurement construction Pipeline Project Pmc Project Management Consultants SIX LANE canal work civil maintenance civil repair civil work construct construction consult consultancy service consultant empanelment epc contract express way expressway four lane highway irrigation laning new vendor p.m.c pmc service pmc work project management project management consult project management service road two lane vendor registration water pipeline water supply Maharashtra   11300-2 11400-7 11860-3 12600-0 15260-4 15320-2 16640-2 16900-7 16990-2 35000-0 91600-3 91670-2 93531-7 94100-3 94150-0 97400-3 99220-2 99708-0 AFIDA Cetane Number Analysis ASTM D1298 ASTM D130 ASTM D1322 ASTM D156 ASTM D2274 ASTM D2276 ASTM D2386 ASTM D2500 ASTM D2624 ASTM D323 ASTM D381 ASTM D3828 ASTM D445 ASTM D4530 ASTM D482 ASTM D5191 ASTM D525 ASTM D5452 ASTM D6217 ASTM D6371 ASTM D6379 ASTM D7619 ASTM D7667 ASTM D7797 ASTM D7963 ASTM D8073 ASTM D8183 ASTM D86 ASTM D873 ASTM D874 ASTM D93 ASTM D97 Aromatics Ash Furnace CFPP CFPP Apparatus Carbon Residue Cetane Number Cloud & Pour Point Bath Cloud Point Colorimeter Colour Conductivity Copper Corrosion Density Density, Handheld Distillation Evochrom HPLC Existent Gum Existent Gum Bath FAME Content Filter Blocking Tendency Flash Point Freeze Point H2S Analyser with VPP Handheld Conductivity Meter Hydrogen Sulfide KV-6 Viscometer Bath KV-2 Viscometer Bath Micro Carbon Residue Tester Oxidation Bath TOST Bath Oxidation Stability Particle Counting Particulates Contamination Particulates Contamination (Filtration) Point Cryostat Pour Point SA2400-2 SA6000-0 SetaCheck Biodiesel SetaVap2 SetaVap4 Silver Corrosion Smoke Point Total Sediment Total Sediment Tester Vapour Pressure Viscosity Water Separation fluitec magnom parker kittiwake stanhope seta Andaman & Nicobar Islands Andhra Pradesh Arunachal Pradesh Assam Bihar Chandigarh Chhattisgarh Dadra & Nagar Haveli Daman & Diu Delhi Goa Gujarat Haryana Himachal Pradesh Jammu & Kashmir Jharkhand Karnataka Kerala Lakshadweep Madhya Pradesh Maharashtra Manipur Meghalaya Mizoram Nagaland Odisha Pondicherry Punjab Rajasthan Sikkim Tamil Nadu Telangana Tripura Uttar Pradesh Uttarakhand West Bengal Fire fighting  Delhi Haryana Gujarat Punjab Building Construction Road Consumables Raw Materials  Excavation Supply Water Maharashtra Consultancy Services Hotel Catering Services Housekeeping Services Manpower Supply Mumbai Thane LG DAIRY PLANT MILK PLANT MOLASSES TANK MS TANK ROAD TANKER SS TANK STAINLESS STEEL TANK Stainless Steel Doors butter plant fire doors ghee boiler ghee plant ice cream plant insulated truck insulated van khoa pan khoya pan metal doors metal tank milk silo milk tank ms tank paneer plant refrigerated truck refrigerated van road milk tanker stainless steel tank steel tank 11300-2 11400-7 11860-3 12600-0 15260-4 15320-2 16640-2 16900-7 16990-2 35000-0 91600-3 91670-2 93531-7 94100-3 94150-0 97400-3 99220-2 99708-0 AFIDA Cetane Number Analysis ASTM D1298 ASTM D130 ASTM D1322 ASTM D156 ASTM D2274 ASTM D2276 ASTM D2386 ASTM D2500 ASTM D2624 ASTM D323 ASTM D381 ASTM D3828 ASTM D445 ASTM D4530 ASTM D482 ASTM D5191 ASTM D525 ASTM D5452 ASTM D6217 ASTM D6371 ASTM D6379 ASTM D7619 ASTM D7667 ASTM D7797 ASTM D7963 ASTM D8073 ASTM D8183 ASTM D86 ASTM D873 ASTM D874 ASTM D93 ASTM D97 Aromatics Ash Furnace CFPP CFPP Apparatus Carbon Residue Cetane Number Cloud & Pour Point Bath Cloud Point Colorimeter Colour Conductivity Copper Corrosion Density Density, Handheld Distillation Evochrom HPLC Existent Gum Existent Gum Bath FAME Content Filter Blocking Tendency Flash Point Freeze Point H2S Analyser with VPP Handheld Conductivity Meter Hydrogen Sulfide KV-6 Viscometer Bath KV-2 Viscometer Bath Micro Carbon Residue Tester Oxidation Bath TOST Bath Oxidation Stability Particle Counting Particulates Contamination Particulates Contamination (Filtration) Point Cryostat Pour Point SA2400-2 SA6000-0 SetaCheck Biodiesel SetaVap2 SetaVap4 Silver Corrosion Smoke Point Total Sediment Total Sediment Tester Vapour Pressure Viscosity Water Separation fluitec magnom parker kittiwake stanhope seta Andaman & Nicobar Islands Andhra Pradesh Arunachal Pradesh Assam Bihar Chandigarh Chhattisgarh Dadra & Nagar Haveli Daman & Diu Delhi Goa Gujarat Haryana Himachal Pradesh Jammu & Kashmir Jharkhand Karnataka Kerala Lakshadweep Madhya Pradesh Maharashtra Manipur Meghalaya Mizoram Nagaland Odisha Pondicherry Punjab Rajasthan Sikkim Tamil Nadu Telangana Tripura Uttar Pradesh Uttarakhand West Bengal faecal sludge fecal sludge fstp gasification gasifier msw municipal solid waste omni processor sludge treatment Andaman & Nicobar Islands Andhra Pradesh Arunachal Pradesh Assam Bihar Chandigarh Chhattisgarh Dadra & Nagar Haveli Daman & Diu Delhi Goa Gujarat Haryana Himachal Pradesh Jammu & Kashmir Jharkhand Karnataka Kerala Lakshadweep Madhya Pradesh Maharashtra Manipur Meghalaya Mizoram Nagaland Odisha Pondicherry Punjab Rajasthan Sikkim Tamil Nadu Telangana Tripura Uttar Pradesh Uttarakhand West Bengal   Patna Bihar PA SYSTEM fire alarm fire door gas supression system public addressable system Maintenance Mechanical Repair Supply boll boll filter candle filter centrifuging cjc coalescer coalescier coalescing control fluid duplex filter duplex oil filter duplex strainer ehc electrostatic electrostatic liquid cleaner electrostatic oil purifier filter cartridge filter element filtration frf frf filter frf filtration frf purification frf purifier fyrquel hilco hilliard hummel hydac hydraulic filter hydraulic flushing iso 11171 iso 16889 iso 4406 kaydon filter kirch kirsch klarol kleenoil laser particle lube cleaner lube cleaning lube filter lube filtration lube oil centrifuge lube oil filter lube purification lube purifier lubricant analysis lubricant condition monitoring lubricant filtration mot filter multimantle nas 1638 nas analyser nas analyzer nas maintenance nas tester oil analyser oil analysis oil analyzer oil centrifuge oil cleaner oil cleaning oil condition oil condition monitoring oil conditioner oil conditioning oil filter oil filteration oil filtration oil flusher oil flushing oil maintenance oil purifier oil reconditioner oil reconditioning oil recycling oil sploshing oil test instrument oil test kit oil testing oil testing kit pall pall filter parker filter particle analyser particle analyzer particle counter particle quantifier phosphate ester reolube rotring turbine flushing vacuum dehydrator water glycol filter water separator wear debris Bihar Delhi Dadra & Nagar Haveli Assam Gujarat Telangana Andhra Pradesh Madhya Pradesh Tamil Nadu Daman & Diu Jammu & Kashmir Chhattisgarh Karnataka Mizoram Goa Odisha West Bengal Maharashtra Kerala Chandigarh Lakshadweep Sikkim Meghalaya Punjab Rajasthan Tripura Uttar Pradesh Jharkhand Haryana Himachal Pradesh Uttarakhand Arunachal Pradesh Andaman & Nicobar Islands Pondicherry Manipur Nagaland Erp Airport Event Drone  Acoustic Consultant Acoustic Mapping Acoustic panel Acoustic work Acoustics Audio and Video Audiometric room Audiometry Auditorium Auditorium chairs HVAC Industrial Acoustics Interior Works SoundProof Room carpentry works wall panels CCTV System construction Water  BOTTEL BOTTLE CORK SHEET MACHINTOSH MATTRESS GLACIER Mackintosh Sheet Hospital Rubber Sheetings apron rubber acid proof black ground sheet high altitude pulmonary oedema rubber sheet splint inflatable Electrical works gis survey and mapping manpower solar Rajasthan Building Construction Defence Paint Painting Road Transport Water Wood rotation stage Stainless Steel Electrical  Odisha scrap   Madhya Pradesh Construction Railway Road Supply CCTV Cctv in Surveillance Equipments Computer Hardware Lan in Computer Hardware anpr automatic number plate recognition system cctv and networking cctv networking cisco io points it / lan infrastructure lan setup network configuration npr ofc ofc splicing optical fiber cable ptz ptz camera scctv vlan wifi wifi access point'"
            ],
            "application/vnd.google.colaboratory.intrinsic+json": {
              "type": "string"
            }
          },
          "metadata": {},
          "execution_count": 89
        }
      ]
    },
    {
      "cell_type": "code",
      "source": [
        "with open('train_text.txt', 'w') as fi:\n",
        "  fi.write(text_data)\n",
        "  fi.close()"
      ],
      "metadata": {
        "id": "VD-k4XSdSmsA"
      },
      "execution_count": null,
      "outputs": []
    },
    {
      "cell_type": "code",
      "source": [
        "def extract_locations(text_data):\n",
        "  doc = nlp(text_data)\n",
        "  gpe = []\n",
        "  ent_lab = [e.label_ for e in doc.ents]\n",
        "  # all_ents = [e.label_ for e in doc.ents if e.label_ == 'GPE' or e.label_ == 'NORP' or e.label_ == 'LOC']\n",
        "  for ent in doc.ents:\n",
        "    if ent.label_ == 'GPE':\n",
        "      gpe.append(ent.text)\n",
        "    elif ent.label_ == 'NORP':\n",
        "      gpe.append(ent.text)\n",
        "    elif ent.label_ == 'LOC':\n",
        "      gpe.append(ent.text)\n",
        "    elif ent.label_ == 'ORG':\n",
        "      gpe.append(ent.text)\n",
        "    else:\n",
        "      None\n",
        "\n",
        "  return ' '.join(gpe)"
      ],
      "metadata": {
        "id": "xiRofDWb_tW4"
      },
      "execution_count": null,
      "outputs": []
    },
    {
      "cell_type": "code",
      "source": [
        "extract_locations(df.details_text[5000])\n"
      ],
      "metadata": {
        "colab": {
          "base_uri": "https://localhost:8080/",
          "height": 35
        },
        "id": "lbkGwPLo5vXp",
        "outputId": "fa623952-99b8-4290-e202-273fa7f401f8"
      },
      "execution_count": null,
      "outputs": [
        {
          "output_type": "execute_result",
          "data": {
            "text/plain": [
              "'IAF oxford rain'"
            ],
            "application/vnd.google.colaboratory.intrinsic+json": {
              "type": "string"
            }
          },
          "metadata": {},
          "execution_count": 35
        }
      ]
    },
    {
      "cell_type": "code",
      "source": [],
      "metadata": {
        "id": "Yb9PWAsjI25w"
      },
      "execution_count": null,
      "outputs": []
    },
    {
      "cell_type": "markdown",
      "source": [],
      "metadata": {
        "id": "NccAHrUDJZrT"
      }
    },
    {
      "cell_type": "code",
      "source": [],
      "metadata": {
        "id": "7PhC6eaWJBfG"
      },
      "execution_count": null,
      "outputs": []
    },
    {
      "cell_type": "markdown",
      "source": [
        "##### Not doing it now"
      ],
      "metadata": {
        "id": "oVgeRrKAp2aA"
      }
    },
    {
      "cell_type": "code",
      "source": [
        "# df['loc_details'] = df.details_text.apply(lambda x: extract_locations(x))"
      ],
      "metadata": {
        "id": "e7QgBgpHI2M4"
      },
      "execution_count": null,
      "outputs": []
    },
    {
      "cell_type": "code",
      "source": [
        "# df['loc_details']"
      ],
      "metadata": {
        "id": "mqQw7tWM5mLY"
      },
      "execution_count": null,
      "outputs": []
    },
    {
      "cell_type": "code",
      "source": [
        "def custom_aggregation(*args):\n",
        "  txt_list = []\n",
        "  \n",
        "  for arg in args:\n",
        "    arg = arg[4:]\n",
        "    \n",
        "    txt_list.append(arg)\n",
        "\n",
        "  if len(txt_list) >2 :\n",
        "\n",
        "    return np.unique(txt_list).tolist()\n",
        "\n",
        "  else:\n",
        "    \n",
        "    return txt_list\n"
      ],
      "metadata": {
        "id": "Z5N70EhH2uP9"
      },
      "execution_count": null,
      "outputs": []
    },
    {
      "cell_type": "code",
      "source": [
        "df.columns"
      ],
      "metadata": {
        "colab": {
          "base_uri": "https://localhost:8080/"
        },
        "id": "mlb8UpPk0O3x",
        "outputId": "4d000de9-a373-439a-bc48-469d17f82a54"
      },
      "execution_count": null,
      "outputs": [
        {
          "output_type": "execute_result",
          "data": {
            "text/plain": [
              "Index(['accountId', 'use_details', 'activity', 'entityId', 'details_text',\n",
              "       'details_value'],\n",
              "      dtype='object')"
            ]
          },
          "metadata": {},
          "execution_count": 39
        }
      ]
    },
    {
      "cell_type": "code",
      "source": [
        "df_activity = df.groupby('accountId')['details_text'].apply(lambda x: custom_aggregation(x)).to_frame()"
      ],
      "metadata": {
        "id": "0rTBHzxow57O"
      },
      "execution_count": null,
      "outputs": []
    },
    {
      "cell_type": "code",
      "source": [
        "df_activity.reset_index(inplace = True)"
      ],
      "metadata": {
        "id": "b35rHVajxGXS"
      },
      "execution_count": null,
      "outputs": []
    },
    {
      "cell_type": "code",
      "source": [
        "len(df_activity.details_text[0])"
      ],
      "metadata": {
        "colab": {
          "base_uri": "https://localhost:8080/"
        },
        "id": "V7IxLD7GxIHe",
        "outputId": "3e31f3f2-1e1f-4856-9c84-dd19f5652416"
      },
      "execution_count": null,
      "outputs": [
        {
          "output_type": "execute_result",
          "data": {
            "text/plain": [
              "1"
            ]
          },
          "metadata": {},
          "execution_count": 42
        }
      ]
    },
    {
      "cell_type": "code",
      "source": [
        "df_activity.head()"
      ],
      "metadata": {
        "colab": {
          "base_uri": "https://localhost:8080/",
          "height": 206
        },
        "id": "r1NSQcwkgLyK",
        "outputId": "197f67c1-03dc-46fb-f83f-50eecb4692ee"
      },
      "execution_count": null,
      "outputs": [
        {
          "output_type": "execute_result",
          "data": {
            "text/plain": [
              "             accountId                                       details_text\n",
              "0  6076439132127629518                                               [[]]\n",
              "1  6090418399291119165                                               [[]]\n",
              "2  6148417430046643859  [[Andhra Pradesh Telangana Krishna, Andhra Pra...\n",
              "3  6180975557690267471  [[19 inch rack Angle Bracket for Step Hanger E...\n",
              "4  6261728811314844815  [[3D PRINTING  CMM INSPECTIONS  Furniture GI W..."
            ],
            "text/html": [
              "\n",
              "  <div id=\"df-d6d0d3f7-af8c-4783-8e87-c0520fc52c7e\">\n",
              "    <div class=\"colab-df-container\">\n",
              "      <div>\n",
              "<style scoped>\n",
              "    .dataframe tbody tr th:only-of-type {\n",
              "        vertical-align: middle;\n",
              "    }\n",
              "\n",
              "    .dataframe tbody tr th {\n",
              "        vertical-align: top;\n",
              "    }\n",
              "\n",
              "    .dataframe thead th {\n",
              "        text-align: right;\n",
              "    }\n",
              "</style>\n",
              "<table border=\"1\" class=\"dataframe\">\n",
              "  <thead>\n",
              "    <tr style=\"text-align: right;\">\n",
              "      <th></th>\n",
              "      <th>accountId</th>\n",
              "      <th>details_text</th>\n",
              "    </tr>\n",
              "  </thead>\n",
              "  <tbody>\n",
              "    <tr>\n",
              "      <th>0</th>\n",
              "      <td>6076439132127629518</td>\n",
              "      <td>[[]]</td>\n",
              "    </tr>\n",
              "    <tr>\n",
              "      <th>1</th>\n",
              "      <td>6090418399291119165</td>\n",
              "      <td>[[]]</td>\n",
              "    </tr>\n",
              "    <tr>\n",
              "      <th>2</th>\n",
              "      <td>6148417430046643859</td>\n",
              "      <td>[[Andhra Pradesh Telangana Krishna, Andhra Pra...</td>\n",
              "    </tr>\n",
              "    <tr>\n",
              "      <th>3</th>\n",
              "      <td>6180975557690267471</td>\n",
              "      <td>[[19 inch rack Angle Bracket for Step Hanger E...</td>\n",
              "    </tr>\n",
              "    <tr>\n",
              "      <th>4</th>\n",
              "      <td>6261728811314844815</td>\n",
              "      <td>[[3D PRINTING  CMM INSPECTIONS  Furniture GI W...</td>\n",
              "    </tr>\n",
              "  </tbody>\n",
              "</table>\n",
              "</div>\n",
              "      <button class=\"colab-df-convert\" onclick=\"convertToInteractive('df-d6d0d3f7-af8c-4783-8e87-c0520fc52c7e')\"\n",
              "              title=\"Convert this dataframe to an interactive table.\"\n",
              "              style=\"display:none;\">\n",
              "        \n",
              "  <svg xmlns=\"http://www.w3.org/2000/svg\" height=\"24px\"viewBox=\"0 0 24 24\"\n",
              "       width=\"24px\">\n",
              "    <path d=\"M0 0h24v24H0V0z\" fill=\"none\"/>\n",
              "    <path d=\"M18.56 5.44l.94 2.06.94-2.06 2.06-.94-2.06-.94-.94-2.06-.94 2.06-2.06.94zm-11 1L8.5 8.5l.94-2.06 2.06-.94-2.06-.94L8.5 2.5l-.94 2.06-2.06.94zm10 10l.94 2.06.94-2.06 2.06-.94-2.06-.94-.94-2.06-.94 2.06-2.06.94z\"/><path d=\"M17.41 7.96l-1.37-1.37c-.4-.4-.92-.59-1.43-.59-.52 0-1.04.2-1.43.59L10.3 9.45l-7.72 7.72c-.78.78-.78 2.05 0 2.83L4 21.41c.39.39.9.59 1.41.59.51 0 1.02-.2 1.41-.59l7.78-7.78 2.81-2.81c.8-.78.8-2.07 0-2.86zM5.41 20L4 18.59l7.72-7.72 1.47 1.35L5.41 20z\"/>\n",
              "  </svg>\n",
              "      </button>\n",
              "      \n",
              "  <style>\n",
              "    .colab-df-container {\n",
              "      display:flex;\n",
              "      flex-wrap:wrap;\n",
              "      gap: 12px;\n",
              "    }\n",
              "\n",
              "    .colab-df-convert {\n",
              "      background-color: #E8F0FE;\n",
              "      border: none;\n",
              "      border-radius: 50%;\n",
              "      cursor: pointer;\n",
              "      display: none;\n",
              "      fill: #1967D2;\n",
              "      height: 32px;\n",
              "      padding: 0 0 0 0;\n",
              "      width: 32px;\n",
              "    }\n",
              "\n",
              "    .colab-df-convert:hover {\n",
              "      background-color: #E2EBFA;\n",
              "      box-shadow: 0px 1px 2px rgba(60, 64, 67, 0.3), 0px 1px 3px 1px rgba(60, 64, 67, 0.15);\n",
              "      fill: #174EA6;\n",
              "    }\n",
              "\n",
              "    [theme=dark] .colab-df-convert {\n",
              "      background-color: #3B4455;\n",
              "      fill: #D2E3FC;\n",
              "    }\n",
              "\n",
              "    [theme=dark] .colab-df-convert:hover {\n",
              "      background-color: #434B5C;\n",
              "      box-shadow: 0px 1px 3px 1px rgba(0, 0, 0, 0.15);\n",
              "      filter: drop-shadow(0px 1px 2px rgba(0, 0, 0, 0.3));\n",
              "      fill: #FFFFFF;\n",
              "    }\n",
              "  </style>\n",
              "\n",
              "      <script>\n",
              "        const buttonEl =\n",
              "          document.querySelector('#df-d6d0d3f7-af8c-4783-8e87-c0520fc52c7e button.colab-df-convert');\n",
              "        buttonEl.style.display =\n",
              "          google.colab.kernel.accessAllowed ? 'block' : 'none';\n",
              "\n",
              "        async function convertToInteractive(key) {\n",
              "          const element = document.querySelector('#df-d6d0d3f7-af8c-4783-8e87-c0520fc52c7e');\n",
              "          const dataTable =\n",
              "            await google.colab.kernel.invokeFunction('convertToInteractive',\n",
              "                                                     [key], {});\n",
              "          if (!dataTable) return;\n",
              "\n",
              "          const docLinkHtml = 'Like what you see? Visit the ' +\n",
              "            '<a target=\"_blank\" href=https://colab.research.google.com/notebooks/data_table.ipynb>data table notebook</a>'\n",
              "            + ' to learn more about interactive tables.';\n",
              "          element.innerHTML = '';\n",
              "          dataTable['output_type'] = 'display_data';\n",
              "          await google.colab.output.renderOutput(dataTable, element);\n",
              "          const docLink = document.createElement('div');\n",
              "          docLink.innerHTML = docLinkHtml;\n",
              "          element.appendChild(docLink);\n",
              "        }\n",
              "      </script>\n",
              "    </div>\n",
              "  </div>\n",
              "  "
            ]
          },
          "metadata": {},
          "execution_count": 43
        }
      ]
    },
    {
      "cell_type": "code",
      "source": [
        "df_activity.details_text[30]"
      ],
      "metadata": {
        "colab": {
          "base_uri": "https://localhost:8080/"
        },
        "id": "sl9ok5iZgL1h",
        "outputId": "72ceed6b-5dd7-400d-af31-56b9498d2ee1"
      },
      "execution_count": null,
      "outputs": [
        {
          "output_type": "execute_result",
          "data": {
            "text/plain": [
              "[2046    Plant and machinery scrap\n",
              " 2047    Plant and machinery scrap\n",
              " 2048    Plant and machinery scrap\n",
              " 2049    Plant and machinery scrap\n",
              " 2050    Plant and machinery scrap\n",
              " 2051    Plant and machinery scrap\n",
              " Name: 6384313597467562204, dtype: object]"
            ]
          },
          "metadata": {},
          "execution_count": 44
        }
      ]
    },
    {
      "cell_type": "code",
      "source": [],
      "metadata": {
        "id": "_HS-2kXagL6d"
      },
      "execution_count": null,
      "outputs": []
    },
    {
      "cell_type": "markdown",
      "source": [
        "# modify items df"
      ],
      "metadata": {
        "id": "oAP5mcNeJ4ZP"
      }
    },
    {
      "cell_type": "code",
      "source": [
        "df.head()"
      ],
      "metadata": {
        "colab": {
          "base_uri": "https://localhost:8080/",
          "height": 739
        },
        "id": "AsTLgmh8Iej9",
        "outputId": "dc0981dd-3dff-41f8-d944-c4ee578f4bae"
      },
      "execution_count": 343,
      "outputs": [
        {
          "output_type": "execute_result",
          "data": {
            "text/plain": [
              "             accountId  \\\n",
              "0  6599911511613774475   \n",
              "1  6599911511613774475   \n",
              "2  6597437160620561202   \n",
              "3  6599911511613774475   \n",
              "4  6599911511613774475   \n",
              "\n",
              "                                                                                                                                          use_details  \\\n",
              "0  {'LOCATION_STRING': ['Kerala'], 'KEYWORD': ['acp', 'exterior', 'glass', 'interior', 'structural glazing', 'truss'], 'VALUE': ['1000', '10000000']}   \n",
              "1  {'LOCATION_STRING': ['Kerala'], 'KEYWORD': ['acp', 'exterior', 'glass', 'interior', 'structural glazing', 'truss'], 'VALUE': ['1000', '10000000']}   \n",
              "2                                                                                                                                                  {}   \n",
              "3  {'LOCATION_STRING': ['Kerala'], 'KEYWORD': ['acp', 'exterior', 'glass', 'interior', 'structural glazing', 'truss'], 'VALUE': ['1000', '10000000']}   \n",
              "4  {'LOCATION_STRING': ['Kerala'], 'KEYWORD': ['acp', 'exterior', 'glass', 'interior', 'structural glazing', 'truss'], 'VALUE': ['1000', '10000000']}   \n",
              "\n",
              "  activity                              entityId  \\\n",
              "0   VIEWED  52cb8cd0-9b31-4f4c-ade2-c5fb00ec8814   \n",
              "1   VIEWED  93094cb5-206c-4cfb-b1ba-9c9d4a7d172f   \n",
              "2   VIEWED  93094cb5-206c-4cfb-b1ba-9c9d4a7d172f   \n",
              "3   VIEWED  703271eb-cf27-4a12-ae58-d7524e269378   \n",
              "4   VIEWED  44c5aa55-fe3a-4632-a835-6d3996be05e5   \n",
              "\n",
              "                                     id                         authority  \\\n",
              "0  52cb8cd0-9b31-4f4c-ade2-c5fb00ec8814  Local Self Government Department   \n",
              "1  93094cb5-206c-4cfb-b1ba-9c9d4a7d172f  Local Self Government Department   \n",
              "2  93094cb5-206c-4cfb-b1ba-9c9d4a7d172f  Local Self Government Department   \n",
              "3  703271eb-cf27-4a12-ae58-d7524e269378  Local Self Government Department   \n",
              "4  44c5aa55-fe3a-4632-a835-6d3996be05e5  Local Self Government Department   \n",
              "\n",
              "   publishingDate   bidDeadline      value      emd     status  \\\n",
              "0    1.645274e+12  1.646224e+12  1606682.0  40200.0  PUBLISHED   \n",
              "1    1.645241e+12  1.645875e+12  2715214.0  50000.0   ARCHIVED   \n",
              "2    1.645241e+12  1.645875e+12  2715214.0  50000.0   ARCHIVED   \n",
              "3    1.645155e+12  1.646123e+12  4065562.0  50000.0  PUBLISHED   \n",
              "4    1.645274e+12  1.646044e+12  1581827.0  39600.0  PUBLISHED   \n",
              "\n",
              "                                         locations  \\\n",
              "0          [{'state': 'Kerala', 'city': 'Kollam'}]   \n",
              "1        [{'state': 'Kerala', 'city': 'Kottayam'}]   \n",
              "2        [{'state': 'Kerala', 'city': 'Kottayam'}]   \n",
              "3  [{'state': 'Kerala', 'city': 'Pathanamthitta'}]   \n",
              "4          [{'state': 'Kerala', 'city': 'Idukki'}]   \n",
              "\n",
              "                                                                                                                details  \\\n",
              "0                                                          Proj No. 53/2021-22 Alayamon Gp Panchayat Office Maintenance   \n",
              "1                                                               Pr.no.418.construction Of Smart Anganwadi In Ward No-19   \n",
              "2                                                               Pr.no.418.construction Of Smart Anganwadi In Ward No-19   \n",
              "3                                                              Construction Of First Floor In Panchayat Office Kottanad   \n",
              "4  Dp Works 2021-22 Ummakkada Dwss In Ward 3 Of Nedumkandam Grama Panchayath(nedumkandam Bp)(pro.no.456/22) E-quotation   \n",
              "\n",
              "                                                  details_text  \\\n",
              "0  Kerala acp exterior glass interior structural glazing truss   \n",
              "1  Kerala acp exterior glass interior structural glazing truss   \n",
              "2                                                                \n",
              "3  Kerala acp exterior glass interior structural glazing truss   \n",
              "4  Kerala acp exterior glass interior structural glazing truss   \n",
              "\n",
              "      details_value  \n",
              "0  [1000, 10000000]  \n",
              "1  [1000, 10000000]  \n",
              "2                []  \n",
              "3  [1000, 10000000]  \n",
              "4  [1000, 10000000]  "
            ],
            "text/html": [
              "\n",
              "  <div id=\"df-0523325f-7849-444c-ab90-119b31a9749c\">\n",
              "    <div class=\"colab-df-container\">\n",
              "      <div>\n",
              "<style scoped>\n",
              "    .dataframe tbody tr th:only-of-type {\n",
              "        vertical-align: middle;\n",
              "    }\n",
              "\n",
              "    .dataframe tbody tr th {\n",
              "        vertical-align: top;\n",
              "    }\n",
              "\n",
              "    .dataframe thead th {\n",
              "        text-align: right;\n",
              "    }\n",
              "</style>\n",
              "<table border=\"1\" class=\"dataframe\">\n",
              "  <thead>\n",
              "    <tr style=\"text-align: right;\">\n",
              "      <th></th>\n",
              "      <th>accountId</th>\n",
              "      <th>use_details</th>\n",
              "      <th>activity</th>\n",
              "      <th>entityId</th>\n",
              "      <th>id</th>\n",
              "      <th>authority</th>\n",
              "      <th>publishingDate</th>\n",
              "      <th>bidDeadline</th>\n",
              "      <th>value</th>\n",
              "      <th>emd</th>\n",
              "      <th>status</th>\n",
              "      <th>locations</th>\n",
              "      <th>details</th>\n",
              "      <th>details_text</th>\n",
              "      <th>details_value</th>\n",
              "    </tr>\n",
              "  </thead>\n",
              "  <tbody>\n",
              "    <tr>\n",
              "      <th>0</th>\n",
              "      <td>6599911511613774475</td>\n",
              "      <td>{'LOCATION_STRING': ['Kerala'], 'KEYWORD': ['acp', 'exterior', 'glass', 'interior', 'structural glazing', 'truss'], 'VALUE': ['1000', '10000000']}</td>\n",
              "      <td>VIEWED</td>\n",
              "      <td>52cb8cd0-9b31-4f4c-ade2-c5fb00ec8814</td>\n",
              "      <td>52cb8cd0-9b31-4f4c-ade2-c5fb00ec8814</td>\n",
              "      <td>Local Self Government Department</td>\n",
              "      <td>1.645274e+12</td>\n",
              "      <td>1.646224e+12</td>\n",
              "      <td>1606682.0</td>\n",
              "      <td>40200.0</td>\n",
              "      <td>PUBLISHED</td>\n",
              "      <td>[{'state': 'Kerala', 'city': 'Kollam'}]</td>\n",
              "      <td>Proj No. 53/2021-22 Alayamon Gp Panchayat Office Maintenance</td>\n",
              "      <td>Kerala acp exterior glass interior structural glazing truss</td>\n",
              "      <td>[1000, 10000000]</td>\n",
              "    </tr>\n",
              "    <tr>\n",
              "      <th>1</th>\n",
              "      <td>6599911511613774475</td>\n",
              "      <td>{'LOCATION_STRING': ['Kerala'], 'KEYWORD': ['acp', 'exterior', 'glass', 'interior', 'structural glazing', 'truss'], 'VALUE': ['1000', '10000000']}</td>\n",
              "      <td>VIEWED</td>\n",
              "      <td>93094cb5-206c-4cfb-b1ba-9c9d4a7d172f</td>\n",
              "      <td>93094cb5-206c-4cfb-b1ba-9c9d4a7d172f</td>\n",
              "      <td>Local Self Government Department</td>\n",
              "      <td>1.645241e+12</td>\n",
              "      <td>1.645875e+12</td>\n",
              "      <td>2715214.0</td>\n",
              "      <td>50000.0</td>\n",
              "      <td>ARCHIVED</td>\n",
              "      <td>[{'state': 'Kerala', 'city': 'Kottayam'}]</td>\n",
              "      <td>Pr.no.418.construction Of Smart Anganwadi In Ward No-19</td>\n",
              "      <td>Kerala acp exterior glass interior structural glazing truss</td>\n",
              "      <td>[1000, 10000000]</td>\n",
              "    </tr>\n",
              "    <tr>\n",
              "      <th>2</th>\n",
              "      <td>6597437160620561202</td>\n",
              "      <td>{}</td>\n",
              "      <td>VIEWED</td>\n",
              "      <td>93094cb5-206c-4cfb-b1ba-9c9d4a7d172f</td>\n",
              "      <td>93094cb5-206c-4cfb-b1ba-9c9d4a7d172f</td>\n",
              "      <td>Local Self Government Department</td>\n",
              "      <td>1.645241e+12</td>\n",
              "      <td>1.645875e+12</td>\n",
              "      <td>2715214.0</td>\n",
              "      <td>50000.0</td>\n",
              "      <td>ARCHIVED</td>\n",
              "      <td>[{'state': 'Kerala', 'city': 'Kottayam'}]</td>\n",
              "      <td>Pr.no.418.construction Of Smart Anganwadi In Ward No-19</td>\n",
              "      <td></td>\n",
              "      <td>[]</td>\n",
              "    </tr>\n",
              "    <tr>\n",
              "      <th>3</th>\n",
              "      <td>6599911511613774475</td>\n",
              "      <td>{'LOCATION_STRING': ['Kerala'], 'KEYWORD': ['acp', 'exterior', 'glass', 'interior', 'structural glazing', 'truss'], 'VALUE': ['1000', '10000000']}</td>\n",
              "      <td>VIEWED</td>\n",
              "      <td>703271eb-cf27-4a12-ae58-d7524e269378</td>\n",
              "      <td>703271eb-cf27-4a12-ae58-d7524e269378</td>\n",
              "      <td>Local Self Government Department</td>\n",
              "      <td>1.645155e+12</td>\n",
              "      <td>1.646123e+12</td>\n",
              "      <td>4065562.0</td>\n",
              "      <td>50000.0</td>\n",
              "      <td>PUBLISHED</td>\n",
              "      <td>[{'state': 'Kerala', 'city': 'Pathanamthitta'}]</td>\n",
              "      <td>Construction Of First Floor In Panchayat Office Kottanad</td>\n",
              "      <td>Kerala acp exterior glass interior structural glazing truss</td>\n",
              "      <td>[1000, 10000000]</td>\n",
              "    </tr>\n",
              "    <tr>\n",
              "      <th>4</th>\n",
              "      <td>6599911511613774475</td>\n",
              "      <td>{'LOCATION_STRING': ['Kerala'], 'KEYWORD': ['acp', 'exterior', 'glass', 'interior', 'structural glazing', 'truss'], 'VALUE': ['1000', '10000000']}</td>\n",
              "      <td>VIEWED</td>\n",
              "      <td>44c5aa55-fe3a-4632-a835-6d3996be05e5</td>\n",
              "      <td>44c5aa55-fe3a-4632-a835-6d3996be05e5</td>\n",
              "      <td>Local Self Government Department</td>\n",
              "      <td>1.645274e+12</td>\n",
              "      <td>1.646044e+12</td>\n",
              "      <td>1581827.0</td>\n",
              "      <td>39600.0</td>\n",
              "      <td>PUBLISHED</td>\n",
              "      <td>[{'state': 'Kerala', 'city': 'Idukki'}]</td>\n",
              "      <td>Dp Works 2021-22 Ummakkada Dwss In Ward 3 Of Nedumkandam Grama Panchayath(nedumkandam Bp)(pro.no.456/22) E-quotation</td>\n",
              "      <td>Kerala acp exterior glass interior structural glazing truss</td>\n",
              "      <td>[1000, 10000000]</td>\n",
              "    </tr>\n",
              "  </tbody>\n",
              "</table>\n",
              "</div>\n",
              "      <button class=\"colab-df-convert\" onclick=\"convertToInteractive('df-0523325f-7849-444c-ab90-119b31a9749c')\"\n",
              "              title=\"Convert this dataframe to an interactive table.\"\n",
              "              style=\"display:none;\">\n",
              "        \n",
              "  <svg xmlns=\"http://www.w3.org/2000/svg\" height=\"24px\"viewBox=\"0 0 24 24\"\n",
              "       width=\"24px\">\n",
              "    <path d=\"M0 0h24v24H0V0z\" fill=\"none\"/>\n",
              "    <path d=\"M18.56 5.44l.94 2.06.94-2.06 2.06-.94-2.06-.94-.94-2.06-.94 2.06-2.06.94zm-11 1L8.5 8.5l.94-2.06 2.06-.94-2.06-.94L8.5 2.5l-.94 2.06-2.06.94zm10 10l.94 2.06.94-2.06 2.06-.94-2.06-.94-.94-2.06-.94 2.06-2.06.94z\"/><path d=\"M17.41 7.96l-1.37-1.37c-.4-.4-.92-.59-1.43-.59-.52 0-1.04.2-1.43.59L10.3 9.45l-7.72 7.72c-.78.78-.78 2.05 0 2.83L4 21.41c.39.39.9.59 1.41.59.51 0 1.02-.2 1.41-.59l7.78-7.78 2.81-2.81c.8-.78.8-2.07 0-2.86zM5.41 20L4 18.59l7.72-7.72 1.47 1.35L5.41 20z\"/>\n",
              "  </svg>\n",
              "      </button>\n",
              "      \n",
              "  <style>\n",
              "    .colab-df-container {\n",
              "      display:flex;\n",
              "      flex-wrap:wrap;\n",
              "      gap: 12px;\n",
              "    }\n",
              "\n",
              "    .colab-df-convert {\n",
              "      background-color: #E8F0FE;\n",
              "      border: none;\n",
              "      border-radius: 50%;\n",
              "      cursor: pointer;\n",
              "      display: none;\n",
              "      fill: #1967D2;\n",
              "      height: 32px;\n",
              "      padding: 0 0 0 0;\n",
              "      width: 32px;\n",
              "    }\n",
              "\n",
              "    .colab-df-convert:hover {\n",
              "      background-color: #E2EBFA;\n",
              "      box-shadow: 0px 1px 2px rgba(60, 64, 67, 0.3), 0px 1px 3px 1px rgba(60, 64, 67, 0.15);\n",
              "      fill: #174EA6;\n",
              "    }\n",
              "\n",
              "    [theme=dark] .colab-df-convert {\n",
              "      background-color: #3B4455;\n",
              "      fill: #D2E3FC;\n",
              "    }\n",
              "\n",
              "    [theme=dark] .colab-df-convert:hover {\n",
              "      background-color: #434B5C;\n",
              "      box-shadow: 0px 1px 3px 1px rgba(0, 0, 0, 0.15);\n",
              "      filter: drop-shadow(0px 1px 2px rgba(0, 0, 0, 0.3));\n",
              "      fill: #FFFFFF;\n",
              "    }\n",
              "  </style>\n",
              "\n",
              "      <script>\n",
              "        const buttonEl =\n",
              "          document.querySelector('#df-0523325f-7849-444c-ab90-119b31a9749c button.colab-df-convert');\n",
              "        buttonEl.style.display =\n",
              "          google.colab.kernel.accessAllowed ? 'block' : 'none';\n",
              "\n",
              "        async function convertToInteractive(key) {\n",
              "          const element = document.querySelector('#df-0523325f-7849-444c-ab90-119b31a9749c');\n",
              "          const dataTable =\n",
              "            await google.colab.kernel.invokeFunction('convertToInteractive',\n",
              "                                                     [key], {});\n",
              "          if (!dataTable) return;\n",
              "\n",
              "          const docLinkHtml = 'Like what you see? Visit the ' +\n",
              "            '<a target=\"_blank\" href=https://colab.research.google.com/notebooks/data_table.ipynb>data table notebook</a>'\n",
              "            + ' to learn more about interactive tables.';\n",
              "          element.innerHTML = '';\n",
              "          dataTable['output_type'] = 'display_data';\n",
              "          await google.colab.output.renderOutput(dataTable, element);\n",
              "          const docLink = document.createElement('div');\n",
              "          docLink.innerHTML = docLinkHtml;\n",
              "          element.appendChild(docLink);\n",
              "        }\n",
              "      </script>\n",
              "    </div>\n",
              "  </div>\n",
              "  "
            ]
          },
          "metadata": {},
          "execution_count": 343
        }
      ]
    },
    {
      "cell_type": "code",
      "source": [
        "df.details_text[4]"
      ],
      "metadata": {
        "colab": {
          "base_uri": "https://localhost:8080/",
          "height": 35
        },
        "id": "MAT66WzZgm3D",
        "outputId": "77628f75-9e4c-46aa-93b4-1aa8840043d5"
      },
      "execution_count": 344,
      "outputs": [
        {
          "output_type": "execute_result",
          "data": {
            "text/plain": [
              "'Kerala acp exterior glass interior structural glazing truss'"
            ],
            "application/vnd.google.colaboratory.intrinsic+json": {
              "type": "string"
            }
          },
          "metadata": {},
          "execution_count": 344
        }
      ]
    },
    {
      "cell_type": "code",
      "source": [
        "df.details[4]"
      ],
      "metadata": {
        "colab": {
          "base_uri": "https://localhost:8080/",
          "height": 35
        },
        "id": "3NTJyfY2gqMl",
        "outputId": "8f8e0583-869f-4e40-dff4-8657a28a0d20"
      },
      "execution_count": 345,
      "outputs": [
        {
          "output_type": "execute_result",
          "data": {
            "text/plain": [
              "'Dp Works 2021-22 Ummakkada Dwss In Ward 3 Of Nedumkandam Grama Panchayath(nedumkandam Bp)(pro.no.456/22) E-quotation'"
            ],
            "application/vnd.google.colaboratory.intrinsic+json": {
              "type": "string"
            }
          },
          "metadata": {},
          "execution_count": 345
        }
      ]
    },
    {
      "cell_type": "code",
      "source": [
        "# df['text'] = df.details_text + df.details"
      ],
      "metadata": {
        "id": "4RLbfYNghA2E"
      },
      "execution_count": 124,
      "outputs": []
    },
    {
      "cell_type": "code",
      "source": [
        "# df['text'][0]"
      ],
      "metadata": {
        "id": "Ig43WTRlhJpV"
      },
      "execution_count": 125,
      "outputs": []
    },
    {
      "cell_type": "code",
      "source": [
        "def json_extractor_state(file):\n",
        "\n",
        "  corrected = file.replace(\"'\", '\"')\n",
        "  temp_data = json.loads(corrected)\n",
        "  \n",
        "  \n",
        "    \n",
        "  temp_value = [val for k, val in temp_data[0].items() if k == 'state']\n",
        "  \n",
        "  \n",
        "  \n",
        "  return ''.join([item for sublist in temp_value for item in sublist])\n",
        "  # return temp_data\n",
        "\n",
        "def json_extractor_state_arg(file):\n",
        "  try:\n",
        "    return json_extractor_state(file)\n",
        "  except:\n",
        "    return ''"
      ],
      "metadata": {
        "id": "2xQ9AX2iJ8w2"
      },
      "execution_count": 346,
      "outputs": []
    },
    {
      "cell_type": "code",
      "source": [
        "json_extractor_state(df.locations[0])"
      ],
      "metadata": {
        "colab": {
          "base_uri": "https://localhost:8080/",
          "height": 35
        },
        "id": "1BQuatFKL0JO",
        "outputId": "805b978c-ecf7-483f-8cc5-9bde4e21c57e"
      },
      "execution_count": 347,
      "outputs": [
        {
          "output_type": "execute_result",
          "data": {
            "text/plain": [
              "'Kerala'"
            ],
            "application/vnd.google.colaboratory.intrinsic+json": {
              "type": "string"
            }
          },
          "metadata": {},
          "execution_count": 347
        }
      ]
    },
    {
      "cell_type": "code",
      "source": [
        "df['state'] = df.locations.apply(lambda x: json_extractor_state_arg(x))"
      ],
      "metadata": {
        "id": "2DKOpIgQJ834"
      },
      "execution_count": 348,
      "outputs": []
    },
    {
      "cell_type": "code",
      "source": [
        "df['state']"
      ],
      "metadata": {
        "colab": {
          "base_uri": "https://localhost:8080/"
        },
        "id": "au4XonoWJ86c",
        "outputId": "f6847062-ccf1-432f-bb86-d34d015d4eeb"
      },
      "execution_count": 349,
      "outputs": [
        {
          "output_type": "execute_result",
          "data": {
            "text/plain": [
              "0                  Kerala\n",
              "1                  Kerala\n",
              "2                  Kerala\n",
              "3                  Kerala\n",
              "4                  Kerala\n",
              "               ...       \n",
              "10208           Jharkhand\n",
              "10209              Kerala\n",
              "10210    Himachal Pradesh\n",
              "10211      Andhra Pradesh\n",
              "10212      Andhra Pradesh\n",
              "Name: state, Length: 10213, dtype: object"
            ]
          },
          "metadata": {},
          "execution_count": 349
        }
      ]
    },
    {
      "cell_type": "code",
      "source": [
        "df.isnull().sum()"
      ],
      "metadata": {
        "colab": {
          "base_uri": "https://localhost:8080/"
        },
        "id": "EUbPq6taJ89U",
        "outputId": "9b75a810-5ce8-47e5-d2b5-f91b48259c19"
      },
      "execution_count": 350,
      "outputs": [
        {
          "output_type": "execute_result",
          "data": {
            "text/plain": [
              "accountId            0\n",
              "use_details          0\n",
              "activity             0\n",
              "entityId             0\n",
              "id                   0\n",
              "authority            0\n",
              "publishingDate       0\n",
              "bidDeadline          2\n",
              "value             4296\n",
              "emd               4802\n",
              "status               0\n",
              "locations            0\n",
              "details              0\n",
              "details_text         0\n",
              "details_value        0\n",
              "state                0\n",
              "dtype: int64"
            ]
          },
          "metadata": {},
          "execution_count": 350
        }
      ]
    },
    {
      "cell_type": "code",
      "source": [
        "df.shape"
      ],
      "metadata": {
        "colab": {
          "base_uri": "https://localhost:8080/"
        },
        "id": "Cb2bnhhA_8wL",
        "outputId": "29623384-e7e0-4aca-8174-325073b04e20"
      },
      "execution_count": 351,
      "outputs": [
        {
          "output_type": "execute_result",
          "data": {
            "text/plain": [
              "(10213, 16)"
            ]
          },
          "metadata": {},
          "execution_count": 351
        }
      ]
    },
    {
      "cell_type": "markdown",
      "source": [
        "# Extrecting relevant columns for vectorization and cosine similarity calculation."
      ],
      "metadata": {
        "id": "NbPMRIWbTazb"
      }
    },
    {
      "cell_type": "code",
      "source": [
        "df.columns"
      ],
      "metadata": {
        "colab": {
          "base_uri": "https://localhost:8080/"
        },
        "id": "djqNqhf6TZXP",
        "outputId": "a3e9b07c-87a3-4310-9447-614d5c208ad3"
      },
      "execution_count": 352,
      "outputs": [
        {
          "output_type": "execute_result",
          "data": {
            "text/plain": [
              "Index(['accountId', 'use_details', 'activity', 'entityId', 'id', 'authority',\n",
              "       'publishingDate', 'bidDeadline', 'value', 'emd', 'status', 'locations',\n",
              "       'details', 'details_text', 'details_value', 'state'],\n",
              "      dtype='object')"
            ]
          },
          "metadata": {},
          "execution_count": 352
        }
      ]
    },
    {
      "cell_type": "code",
      "source": [
        "# df_group = df.groupby(['accountId', 'details_text', 'id'])['details'].apply(list).to_frame()"
      ],
      "metadata": {
        "id": "vQhelc7WmoS5"
      },
      "execution_count": 353,
      "outputs": []
    },
    {
      "cell_type": "code",
      "source": [
        "def filter_duplicates(lst):\n",
        "  unique_lst = []\n",
        "  dup_list = []\n",
        "  for v in lst:\n",
        "    if v not in unique_lst:\n",
        "      unique_lst.append(v)\n",
        "    else:\n",
        "      dup_list.append(v)\n",
        "  return ''.join(unique_lst)"
      ],
      "metadata": {
        "id": "zcMuRKI7lKvD"
      },
      "execution_count": 354,
      "outputs": []
    },
    {
      "cell_type": "code",
      "source": [
        "def filter_id(lst):\n",
        "  unique_lst = []\n",
        "  dup_list = []\n",
        "  for v in lst:\n",
        "    if v not in unique_lst:\n",
        "      unique_lst.append(v)\n",
        "    else:\n",
        "      dup_list.append(v)\n",
        "  return unique_lst"
      ],
      "metadata": {
        "id": "j1JZy72F1B5R"
      },
      "execution_count": 355,
      "outputs": []
    },
    {
      "cell_type": "code",
      "source": [
        "df_1 = df.groupby('accountId')['details_text'].apply(list).to_frame()\n",
        "df_1['unique_details_text'] = df_1.details_text.apply(lambda x: filter_duplicates(x))\n",
        "df_2 = df.groupby('accountId')['details'].apply(list).to_frame()\n",
        "df_2['unique_details'] = df_2.details.apply(lambda x: filter_duplicates(x))\n",
        "df_3 = df.groupby('accountId')['id'].apply(list).to_frame()\n",
        "df_3['unique_id'] = df_3.id.apply(lambda x: filter_id(x))"
      ],
      "metadata": {
        "id": "_dp09IBus0pg"
      },
      "execution_count": 356,
      "outputs": []
    },
    {
      "cell_type": "code",
      "source": [
        "df_recommend = df_1.merge(df_2, how = 'inner', on = 'accountId').merge(df_3, how = 'inner', on = 'accountId')"
      ],
      "metadata": {
        "id": "lj948kpzux5c"
      },
      "execution_count": 357,
      "outputs": []
    },
    {
      "cell_type": "code",
      "source": [
        "df_recommend = df_recommend.reset_index()"
      ],
      "metadata": {
        "id": "vJGZme_kvbWJ"
      },
      "execution_count": 358,
      "outputs": []
    },
    {
      "cell_type": "code",
      "source": [
        "df_recommend.head()"
      ],
      "metadata": {
        "colab": {
          "base_uri": "https://localhost:8080/",
          "height": 1000
        },
        "id": "fiPXTt2Tv8PB",
        "outputId": "d0563415-58d1-4627-bc7f-18dd18f8616e"
      },
      "execution_count": 359,
      "outputs": [
        {
          "output_type": "execute_result",
          "data": {
            "text/plain": [
              "             accountId  \\\n",
              "0  6076439132127629518   \n",
              "1  6090418399291119165   \n",
              "2  6148417430046643859   \n",
              "3  6180975557690267471   \n",
              "4  6261728811314844815   \n",
              "\n",
              "                                                                                                                                                                                                                                                                                                                                                                                                                                                                                                                                                                                                                                                                                                                                                                                                                                                                                                                                                                                                                              details_text  \\\n",
              "0                                                                                                                                                                                                                                                                                                                                                                                                                                                                                                                                                                                                                                                                                                                                                                                                                                                                                                                              [Andhra Pradesh Administration All ASTM D Building Cleaning Construction Paint Painting Railway Road Water]   \n",
              "1                                                                                                                                                                                                                                                                                                                                                                                                                                                                                                                                                                                                                                                                                                                                                                  [ENABLE_EXACT_SEARCH ERW Black Pipe ERW Pipes ERW Steel Tubes GI Pipes Galvanized Steel Pipes Galvanized Steel Pipes & Tubes JJM MS Round Pipe galvanized pipe hollow section mild steel ms black pipe ms erw pipe steel pipes structural pipes structural steel pipes]   \n",
              "2                                                                                                                                                                                                                                                                                                                                                                                                                                                                                                                                                                                                                                                                                                                                                                                                                                                                                                                                                                                                       [Andhra Pradesh Telangana Krishna]   \n",
              "3  [19 inch rack Angle Bracket for Step Hanger Enclosure Frame Galvanised Iron Core Boxes Gi tray Gi trunk Ip55 enclosure Junction box Junction boxip55 Metal Metal enclosure Picket Picket steel Plate Pole box Sheet metal Terminal box Terminal plate Washer Washet bed side table box bracket brackets bunk bed cable duct cable raceway cable tray computer rack connecting plate enclosure equipment rack ladder tray metal bed network rack over bed table perforated perforated cable tray perforated tray picket steel platform trolley rack server rack stool terminal transmission rack trolley tunnel, 19 inch rack Angle Bracket for Step Hanger Enclosure Frame Galvanised Iron Core Boxes Gi tray Gi trunk Ip55 enclosure Junction box Junction boxip55 Metal Metal enclosure Picket Picket steel Plate Pole box Sheet metal Terminal box Terminal plate Washer Washet bed side table box bracket brackets bunk bed cable duct cable raceway cable tray computer rack connecting plate enclosure equipment rack ladder t...   \n",
              "4                                                                                                                                                                                                                                                                                                                                                                                                                                                                                                                                                                                                                                         [3D PRINTING  CMM INSPECTIONS  Furniture GI Wire Galvonised Scrap Scrap Scrap in Consumables Raw Materials Wire Scrap scrap Goa, 3D PRINTING  CMM INSPECTIONS  Furniture GI Wire Galvonised Scrap Scrap Scrap in Consumables Raw Materials Wire Scrap scrap Goa, 3D PRINTING  CMM INSPECTIONS  Furniture GI Wire Galvonised Scrap Scrap Scrap in Consumables Raw Materials Wire Scrap scrap Goa]   \n",
              "\n",
              "                                                                                                                                                                                                                                                                                                                                                                                                                                                                                                                                                                                             unique_details_text  \\\n",
              "0                                                                                                                                                                                                                                                                                                                                                                                                                                                                                                      Andhra Pradesh Administration All ASTM D Building Cleaning Construction Paint Painting Railway Road Water   \n",
              "1                                                                                                                                                                                                                                                                                                                                          ENABLE_EXACT_SEARCH ERW Black Pipe ERW Pipes ERW Steel Tubes GI Pipes Galvanized Steel Pipes Galvanized Steel Pipes & Tubes JJM MS Round Pipe galvanized pipe hollow section mild steel ms black pipe ms erw pipe steel pipes structural pipes structural steel pipes   \n",
              "2                                                                                                                                                                                                                                                                                                                                                                                                                                                                                                                                                                               Andhra Pradesh Telangana Krishna   \n",
              "3  19 inch rack Angle Bracket for Step Hanger Enclosure Frame Galvanised Iron Core Boxes Gi tray Gi trunk Ip55 enclosure Junction box Junction boxip55 Metal Metal enclosure Picket Picket steel Plate Pole box Sheet metal Terminal box Terminal plate Washer Washet bed side table box bracket brackets bunk bed cable duct cable raceway cable tray computer rack connecting plate enclosure equipment rack ladder tray metal bed network rack over bed table perforated perforated cable tray perforated tray picket steel platform trolley rack server rack stool terminal transmission rack trolley tunnel   \n",
              "4                                                                                                                                                                                                                                                                                                                                                                                                                                                                                 3D PRINTING  CMM INSPECTIONS  Furniture GI Wire Galvonised Scrap Scrap Scrap in Consumables Raw Materials Wire Scrap scrap Goa   \n",
              "\n",
              "                                                                                                                                                                                                                                                                                                                                                                                                                                                                                                                                                                                                                                        details  \\\n",
              "0                                                                                                                                                                                                                                                                                                                                                                                                         [Engagement Of Security Services Agency For Providing Security Personnel 42 Nos. Security Guards, 1 Nos. Gunman And 4 Nos.supervisor For Security, Safety, Monitoring, Surveillance And Management Of Traffic At Fp And Emc, Gazipur]   \n",
              "1                                                                                                                                                                                                                                                                                                                                                                                                                                                                                                                                                                                                        [Thread Ring Gauge-is:14962 , Is:2334]   \n",
              "2                                                                                                                                                                                                                                                                                                                                                                                                                         [Construction Of New Office Building Of Mercantile Marine Department At Harbour Road, Vishakhapatnam, Andhra Pradesh. S.w. Arrangement Of Inspection Vehicle On Hire Basis For Architect Office, Cpwd At Vijayawada.]   \n",
              "3  [Supply Of 19\" 24u Rack Enclosure Networking/server Rack As Per Specification, Supply Of 19\" 24u Rack Enclosure Networking/server Rack As Per Specification, Patient Bed Side Table, Patient Bed Side Table, Terminal Box, Terminal Box, Ic Drg. Of Bracket Back Sight For 7.62 Mm Assault Rifle., Ic Drg. Of Bracket Back Sight For 7.62 Mm Assault Rifle., Installation Of Electric Trolley At Main Sewer Lin..., Installation Of Electric Trolley At Main Sewer Lin..., Supply Of Aluminum Cable Raceway And Perforated Tray, Supply Of Aluminum Cable Raceway And Perforated Tray, Supply Of Aluminum Cable Raceway And Perforated Tray]   \n",
              "4                                                                                                                                                                                                                                                                           [Consultancy Services For Sewage Treatment Plant At Cg Enclave Chicolna Goa Under Ge (i) Cg Goa, Engagement Of System Integrator Implementing Agency On Epc Mode For Survey Design Supply Installation Lumbing Civil Electromechanical Works Configuration Testing Commissioning And Operation Maintenance For 03 Years, Stationery Items (stationery Misce Items)]   \n",
              "\n",
              "                                                                                                                                                                                                                                                                                                                                                  unique_details  \\\n",
              "0                                                                                                                            Engagement Of Security Services Agency For Providing Security Personnel 42 Nos. Security Guards, 1 Nos. Gunman And 4 Nos.supervisor For Security, Safety, Monitoring, Surveillance And Management Of Traffic At Fp And Emc, Gazipur   \n",
              "1                                                                                                                                                                                                                                                                                                                           Thread Ring Gauge-is:14962 , Is:2334   \n",
              "2                                                                                                                                            Construction Of New Office Building Of Mercantile Marine Department At Harbour Road, Vishakhapatnam, Andhra Pradesh. S.w. Arrangement Of Inspection Vehicle On Hire Basis For Architect Office, Cpwd At Vijayawada.   \n",
              "3                                                                                Supply Of 19\" 24u Rack Enclosure Networking/server Rack As Per SpecificationPatient Bed Side TableTerminal BoxIc Drg. Of Bracket Back Sight For 7.62 Mm Assault Rifle.Installation Of Electric Trolley At Main Sewer Lin...Supply Of Aluminum Cable Raceway And Perforated Tray   \n",
              "4  Consultancy Services For Sewage Treatment Plant At Cg Enclave Chicolna Goa Under Ge (i) Cg GoaEngagement Of System Integrator Implementing Agency On Epc Mode For Survey Design Supply Installation Lumbing Civil Electromechanical Works Configuration Testing Commissioning And Operation Maintenance For 03 YearsStationery Items (stationery Misce Items)   \n",
              "\n",
              "                                                                                                                                                                                                                                                                                                                                                                                                                                                                                                               id  \\\n",
              "0                                                                                                                                                                                                                                                                                                                                                                                                                                                                          [51a36292-c41c-4cdc-bb5b-0427f8973d01]   \n",
              "1                                                                                                                                                                                                                                                                                                                                                                                                                                                                          [34294c13-c023-40af-8b78-1a8d86104eb8]   \n",
              "2                                                                                                                                                                                                                                                                                                                                                                                                                                                                          [26c72173-5198-483f-bccd-26735a91ceda]   \n",
              "3  [9bf88d56-11fa-4dfa-b57c-dccddfb5a8a1, 9bf88d56-11fa-4dfa-b57c-dccddfb5a8a1, 11ff9351-1a5f-4078-a6be-f098b3ee4a08, 11ff9351-1a5f-4078-a6be-f098b3ee4a08, a3cbec88-17c0-4f75-a4c4-afea5c1361b7, a3cbec88-17c0-4f75-a4c4-afea5c1361b7, 8520f365-24b3-4629-a1c8-43b74999c215, 8520f365-24b3-4629-a1c8-43b74999c215, d905bf3b-a117-4ee6-8734-ababce962cc8, d905bf3b-a117-4ee6-8734-ababce962cc8, e9e515d1-3adc-4712-8cf9-48d8d7d6b9eb, e9e515d1-3adc-4712-8cf9-48d8d7d6b9eb, e9e515d1-3adc-4712-8cf9-48d8d7d6b9eb]   \n",
              "4                                                                                                                                                                                                                                                                                                                                                                                              [b234ebc6-b69c-4d01-9265-f1874b5b2711, c0b06f22-80a0-40b9-a5f8-03eb1b4ec7b1, 4a5f46e5-d3b1-4e44-a310-1a9799add1b6]   \n",
              "\n",
              "                                                                                                                                                                                                                              unique_id  \n",
              "0                                                                                                                                                                                                [51a36292-c41c-4cdc-bb5b-0427f8973d01]  \n",
              "1                                                                                                                                                                                                [34294c13-c023-40af-8b78-1a8d86104eb8]  \n",
              "2                                                                                                                                                                                                [26c72173-5198-483f-bccd-26735a91ceda]  \n",
              "3  [9bf88d56-11fa-4dfa-b57c-dccddfb5a8a1, 11ff9351-1a5f-4078-a6be-f098b3ee4a08, a3cbec88-17c0-4f75-a4c4-afea5c1361b7, 8520f365-24b3-4629-a1c8-43b74999c215, d905bf3b-a117-4ee6-8734-ababce962cc8, e9e515d1-3adc-4712-8cf9-48d8d7d6b9eb]  \n",
              "4                                                                                                                    [b234ebc6-b69c-4d01-9265-f1874b5b2711, c0b06f22-80a0-40b9-a5f8-03eb1b4ec7b1, 4a5f46e5-d3b1-4e44-a310-1a9799add1b6]  "
            ],
            "text/html": [
              "\n",
              "  <div id=\"df-dc1c8879-fa8f-46dc-b3d1-88ab38b106b6\">\n",
              "    <div class=\"colab-df-container\">\n",
              "      <div>\n",
              "<style scoped>\n",
              "    .dataframe tbody tr th:only-of-type {\n",
              "        vertical-align: middle;\n",
              "    }\n",
              "\n",
              "    .dataframe tbody tr th {\n",
              "        vertical-align: top;\n",
              "    }\n",
              "\n",
              "    .dataframe thead th {\n",
              "        text-align: right;\n",
              "    }\n",
              "</style>\n",
              "<table border=\"1\" class=\"dataframe\">\n",
              "  <thead>\n",
              "    <tr style=\"text-align: right;\">\n",
              "      <th></th>\n",
              "      <th>accountId</th>\n",
              "      <th>details_text</th>\n",
              "      <th>unique_details_text</th>\n",
              "      <th>details</th>\n",
              "      <th>unique_details</th>\n",
              "      <th>id</th>\n",
              "      <th>unique_id</th>\n",
              "    </tr>\n",
              "  </thead>\n",
              "  <tbody>\n",
              "    <tr>\n",
              "      <th>0</th>\n",
              "      <td>6076439132127629518</td>\n",
              "      <td>[Andhra Pradesh Administration All ASTM D Building Cleaning Construction Paint Painting Railway Road Water]</td>\n",
              "      <td>Andhra Pradesh Administration All ASTM D Building Cleaning Construction Paint Painting Railway Road Water</td>\n",
              "      <td>[Engagement Of Security Services Agency For Providing Security Personnel 42 Nos. Security Guards, 1 Nos. Gunman And 4 Nos.supervisor For Security, Safety, Monitoring, Surveillance And Management Of Traffic At Fp And Emc, Gazipur]</td>\n",
              "      <td>Engagement Of Security Services Agency For Providing Security Personnel 42 Nos. Security Guards, 1 Nos. Gunman And 4 Nos.supervisor For Security, Safety, Monitoring, Surveillance And Management Of Traffic At Fp And Emc, Gazipur</td>\n",
              "      <td>[51a36292-c41c-4cdc-bb5b-0427f8973d01]</td>\n",
              "      <td>[51a36292-c41c-4cdc-bb5b-0427f8973d01]</td>\n",
              "    </tr>\n",
              "    <tr>\n",
              "      <th>1</th>\n",
              "      <td>6090418399291119165</td>\n",
              "      <td>[ENABLE_EXACT_SEARCH ERW Black Pipe ERW Pipes ERW Steel Tubes GI Pipes Galvanized Steel Pipes Galvanized Steel Pipes &amp; Tubes JJM MS Round Pipe galvanized pipe hollow section mild steel ms black pipe ms erw pipe steel pipes structural pipes structural steel pipes]</td>\n",
              "      <td>ENABLE_EXACT_SEARCH ERW Black Pipe ERW Pipes ERW Steel Tubes GI Pipes Galvanized Steel Pipes Galvanized Steel Pipes &amp; Tubes JJM MS Round Pipe galvanized pipe hollow section mild steel ms black pipe ms erw pipe steel pipes structural pipes structural steel pipes</td>\n",
              "      <td>[Thread Ring Gauge-is:14962 , Is:2334]</td>\n",
              "      <td>Thread Ring Gauge-is:14962 , Is:2334</td>\n",
              "      <td>[34294c13-c023-40af-8b78-1a8d86104eb8]</td>\n",
              "      <td>[34294c13-c023-40af-8b78-1a8d86104eb8]</td>\n",
              "    </tr>\n",
              "    <tr>\n",
              "      <th>2</th>\n",
              "      <td>6148417430046643859</td>\n",
              "      <td>[Andhra Pradesh Telangana Krishna]</td>\n",
              "      <td>Andhra Pradesh Telangana Krishna</td>\n",
              "      <td>[Construction Of New Office Building Of Mercantile Marine Department At Harbour Road, Vishakhapatnam, Andhra Pradesh. S.w. Arrangement Of Inspection Vehicle On Hire Basis For Architect Office, Cpwd At Vijayawada.]</td>\n",
              "      <td>Construction Of New Office Building Of Mercantile Marine Department At Harbour Road, Vishakhapatnam, Andhra Pradesh. S.w. Arrangement Of Inspection Vehicle On Hire Basis For Architect Office, Cpwd At Vijayawada.</td>\n",
              "      <td>[26c72173-5198-483f-bccd-26735a91ceda]</td>\n",
              "      <td>[26c72173-5198-483f-bccd-26735a91ceda]</td>\n",
              "    </tr>\n",
              "    <tr>\n",
              "      <th>3</th>\n",
              "      <td>6180975557690267471</td>\n",
              "      <td>[19 inch rack Angle Bracket for Step Hanger Enclosure Frame Galvanised Iron Core Boxes Gi tray Gi trunk Ip55 enclosure Junction box Junction boxip55 Metal Metal enclosure Picket Picket steel Plate Pole box Sheet metal Terminal box Terminal plate Washer Washet bed side table box bracket brackets bunk bed cable duct cable raceway cable tray computer rack connecting plate enclosure equipment rack ladder tray metal bed network rack over bed table perforated perforated cable tray perforated tray picket steel platform trolley rack server rack stool terminal transmission rack trolley tunnel, 19 inch rack Angle Bracket for Step Hanger Enclosure Frame Galvanised Iron Core Boxes Gi tray Gi trunk Ip55 enclosure Junction box Junction boxip55 Metal Metal enclosure Picket Picket steel Plate Pole box Sheet metal Terminal box Terminal plate Washer Washet bed side table box bracket brackets bunk bed cable duct cable raceway cable tray computer rack connecting plate enclosure equipment rack ladder t...</td>\n",
              "      <td>19 inch rack Angle Bracket for Step Hanger Enclosure Frame Galvanised Iron Core Boxes Gi tray Gi trunk Ip55 enclosure Junction box Junction boxip55 Metal Metal enclosure Picket Picket steel Plate Pole box Sheet metal Terminal box Terminal plate Washer Washet bed side table box bracket brackets bunk bed cable duct cable raceway cable tray computer rack connecting plate enclosure equipment rack ladder tray metal bed network rack over bed table perforated perforated cable tray perforated tray picket steel platform trolley rack server rack stool terminal transmission rack trolley tunnel</td>\n",
              "      <td>[Supply Of 19\" 24u Rack Enclosure Networking/server Rack As Per Specification, Supply Of 19\" 24u Rack Enclosure Networking/server Rack As Per Specification, Patient Bed Side Table, Patient Bed Side Table, Terminal Box, Terminal Box, Ic Drg. Of Bracket Back Sight For 7.62 Mm Assault Rifle., Ic Drg. Of Bracket Back Sight For 7.62 Mm Assault Rifle., Installation Of Electric Trolley At Main Sewer Lin..., Installation Of Electric Trolley At Main Sewer Lin..., Supply Of Aluminum Cable Raceway And Perforated Tray, Supply Of Aluminum Cable Raceway And Perforated Tray, Supply Of Aluminum Cable Raceway And Perforated Tray]</td>\n",
              "      <td>Supply Of 19\" 24u Rack Enclosure Networking/server Rack As Per SpecificationPatient Bed Side TableTerminal BoxIc Drg. Of Bracket Back Sight For 7.62 Mm Assault Rifle.Installation Of Electric Trolley At Main Sewer Lin...Supply Of Aluminum Cable Raceway And Perforated Tray</td>\n",
              "      <td>[9bf88d56-11fa-4dfa-b57c-dccddfb5a8a1, 9bf88d56-11fa-4dfa-b57c-dccddfb5a8a1, 11ff9351-1a5f-4078-a6be-f098b3ee4a08, 11ff9351-1a5f-4078-a6be-f098b3ee4a08, a3cbec88-17c0-4f75-a4c4-afea5c1361b7, a3cbec88-17c0-4f75-a4c4-afea5c1361b7, 8520f365-24b3-4629-a1c8-43b74999c215, 8520f365-24b3-4629-a1c8-43b74999c215, d905bf3b-a117-4ee6-8734-ababce962cc8, d905bf3b-a117-4ee6-8734-ababce962cc8, e9e515d1-3adc-4712-8cf9-48d8d7d6b9eb, e9e515d1-3adc-4712-8cf9-48d8d7d6b9eb, e9e515d1-3adc-4712-8cf9-48d8d7d6b9eb]</td>\n",
              "      <td>[9bf88d56-11fa-4dfa-b57c-dccddfb5a8a1, 11ff9351-1a5f-4078-a6be-f098b3ee4a08, a3cbec88-17c0-4f75-a4c4-afea5c1361b7, 8520f365-24b3-4629-a1c8-43b74999c215, d905bf3b-a117-4ee6-8734-ababce962cc8, e9e515d1-3adc-4712-8cf9-48d8d7d6b9eb]</td>\n",
              "    </tr>\n",
              "    <tr>\n",
              "      <th>4</th>\n",
              "      <td>6261728811314844815</td>\n",
              "      <td>[3D PRINTING  CMM INSPECTIONS  Furniture GI Wire Galvonised Scrap Scrap Scrap in Consumables Raw Materials Wire Scrap scrap Goa, 3D PRINTING  CMM INSPECTIONS  Furniture GI Wire Galvonised Scrap Scrap Scrap in Consumables Raw Materials Wire Scrap scrap Goa, 3D PRINTING  CMM INSPECTIONS  Furniture GI Wire Galvonised Scrap Scrap Scrap in Consumables Raw Materials Wire Scrap scrap Goa]</td>\n",
              "      <td>3D PRINTING  CMM INSPECTIONS  Furniture GI Wire Galvonised Scrap Scrap Scrap in Consumables Raw Materials Wire Scrap scrap Goa</td>\n",
              "      <td>[Consultancy Services For Sewage Treatment Plant At Cg Enclave Chicolna Goa Under Ge (i) Cg Goa, Engagement Of System Integrator Implementing Agency On Epc Mode For Survey Design Supply Installation Lumbing Civil Electromechanical Works Configuration Testing Commissioning And Operation Maintenance For 03 Years, Stationery Items (stationery Misce Items)]</td>\n",
              "      <td>Consultancy Services For Sewage Treatment Plant At Cg Enclave Chicolna Goa Under Ge (i) Cg GoaEngagement Of System Integrator Implementing Agency On Epc Mode For Survey Design Supply Installation Lumbing Civil Electromechanical Works Configuration Testing Commissioning And Operation Maintenance For 03 YearsStationery Items (stationery Misce Items)</td>\n",
              "      <td>[b234ebc6-b69c-4d01-9265-f1874b5b2711, c0b06f22-80a0-40b9-a5f8-03eb1b4ec7b1, 4a5f46e5-d3b1-4e44-a310-1a9799add1b6]</td>\n",
              "      <td>[b234ebc6-b69c-4d01-9265-f1874b5b2711, c0b06f22-80a0-40b9-a5f8-03eb1b4ec7b1, 4a5f46e5-d3b1-4e44-a310-1a9799add1b6]</td>\n",
              "    </tr>\n",
              "  </tbody>\n",
              "</table>\n",
              "</div>\n",
              "      <button class=\"colab-df-convert\" onclick=\"convertToInteractive('df-dc1c8879-fa8f-46dc-b3d1-88ab38b106b6')\"\n",
              "              title=\"Convert this dataframe to an interactive table.\"\n",
              "              style=\"display:none;\">\n",
              "        \n",
              "  <svg xmlns=\"http://www.w3.org/2000/svg\" height=\"24px\"viewBox=\"0 0 24 24\"\n",
              "       width=\"24px\">\n",
              "    <path d=\"M0 0h24v24H0V0z\" fill=\"none\"/>\n",
              "    <path d=\"M18.56 5.44l.94 2.06.94-2.06 2.06-.94-2.06-.94-.94-2.06-.94 2.06-2.06.94zm-11 1L8.5 8.5l.94-2.06 2.06-.94-2.06-.94L8.5 2.5l-.94 2.06-2.06.94zm10 10l.94 2.06.94-2.06 2.06-.94-2.06-.94-.94-2.06-.94 2.06-2.06.94z\"/><path d=\"M17.41 7.96l-1.37-1.37c-.4-.4-.92-.59-1.43-.59-.52 0-1.04.2-1.43.59L10.3 9.45l-7.72 7.72c-.78.78-.78 2.05 0 2.83L4 21.41c.39.39.9.59 1.41.59.51 0 1.02-.2 1.41-.59l7.78-7.78 2.81-2.81c.8-.78.8-2.07 0-2.86zM5.41 20L4 18.59l7.72-7.72 1.47 1.35L5.41 20z\"/>\n",
              "  </svg>\n",
              "      </button>\n",
              "      \n",
              "  <style>\n",
              "    .colab-df-container {\n",
              "      display:flex;\n",
              "      flex-wrap:wrap;\n",
              "      gap: 12px;\n",
              "    }\n",
              "\n",
              "    .colab-df-convert {\n",
              "      background-color: #E8F0FE;\n",
              "      border: none;\n",
              "      border-radius: 50%;\n",
              "      cursor: pointer;\n",
              "      display: none;\n",
              "      fill: #1967D2;\n",
              "      height: 32px;\n",
              "      padding: 0 0 0 0;\n",
              "      width: 32px;\n",
              "    }\n",
              "\n",
              "    .colab-df-convert:hover {\n",
              "      background-color: #E2EBFA;\n",
              "      box-shadow: 0px 1px 2px rgba(60, 64, 67, 0.3), 0px 1px 3px 1px rgba(60, 64, 67, 0.15);\n",
              "      fill: #174EA6;\n",
              "    }\n",
              "\n",
              "    [theme=dark] .colab-df-convert {\n",
              "      background-color: #3B4455;\n",
              "      fill: #D2E3FC;\n",
              "    }\n",
              "\n",
              "    [theme=dark] .colab-df-convert:hover {\n",
              "      background-color: #434B5C;\n",
              "      box-shadow: 0px 1px 3px 1px rgba(0, 0, 0, 0.15);\n",
              "      filter: drop-shadow(0px 1px 2px rgba(0, 0, 0, 0.3));\n",
              "      fill: #FFFFFF;\n",
              "    }\n",
              "  </style>\n",
              "\n",
              "      <script>\n",
              "        const buttonEl =\n",
              "          document.querySelector('#df-dc1c8879-fa8f-46dc-b3d1-88ab38b106b6 button.colab-df-convert');\n",
              "        buttonEl.style.display =\n",
              "          google.colab.kernel.accessAllowed ? 'block' : 'none';\n",
              "\n",
              "        async function convertToInteractive(key) {\n",
              "          const element = document.querySelector('#df-dc1c8879-fa8f-46dc-b3d1-88ab38b106b6');\n",
              "          const dataTable =\n",
              "            await google.colab.kernel.invokeFunction('convertToInteractive',\n",
              "                                                     [key], {});\n",
              "          if (!dataTable) return;\n",
              "\n",
              "          const docLinkHtml = 'Like what you see? Visit the ' +\n",
              "            '<a target=\"_blank\" href=https://colab.research.google.com/notebooks/data_table.ipynb>data table notebook</a>'\n",
              "            + ' to learn more about interactive tables.';\n",
              "          element.innerHTML = '';\n",
              "          dataTable['output_type'] = 'display_data';\n",
              "          await google.colab.output.renderOutput(dataTable, element);\n",
              "          const docLink = document.createElement('div');\n",
              "          docLink.innerHTML = docLinkHtml;\n",
              "          element.appendChild(docLink);\n",
              "        }\n",
              "      </script>\n",
              "    </div>\n",
              "  </div>\n",
              "  "
            ]
          },
          "metadata": {},
          "execution_count": 359
        }
      ]
    },
    {
      "cell_type": "code",
      "source": [
        "df_recommend['text'] = df_recommend.unique_details_text + df_recommend.unique_details"
      ],
      "metadata": {
        "id": "agy54LdG0f3g"
      },
      "execution_count": 360,
      "outputs": []
    },
    {
      "cell_type": "code",
      "source": [
        "df_recommend.shape"
      ],
      "metadata": {
        "colab": {
          "base_uri": "https://localhost:8080/"
        },
        "id": "DRIuR_mAqREc",
        "outputId": "03cf6f1d-d47a-43b3-8109-76eadcc45878"
      },
      "execution_count": 361,
      "outputs": [
        {
          "output_type": "execute_result",
          "data": {
            "text/plain": [
              "(2075, 8)"
            ]
          },
          "metadata": {},
          "execution_count": 361
        }
      ]
    },
    {
      "cell_type": "markdown",
      "source": [
        "# creating a recommender"
      ],
      "metadata": {
        "id": "zLaz5Xu2Jf1y"
      }
    },
    {
      "cell_type": "markdown",
      "source": [
        "#### first let's make a content-based one (based on cosine similarity)"
      ],
      "metadata": {
        "id": "YvAyjdpKJkrs"
      }
    },
    {
      "cell_type": "code",
      "source": [
        "df_recommend.head()"
      ],
      "metadata": {
        "colab": {
          "base_uri": "https://localhost:8080/",
          "height": 1000
        },
        "id": "bGx_JcOyIdfM",
        "outputId": "200fa414-a146-42c0-ec03-b484fd0c6c49"
      },
      "execution_count": 362,
      "outputs": [
        {
          "output_type": "execute_result",
          "data": {
            "text/plain": [
              "             accountId  \\\n",
              "0  6076439132127629518   \n",
              "1  6090418399291119165   \n",
              "2  6148417430046643859   \n",
              "3  6180975557690267471   \n",
              "4  6261728811314844815   \n",
              "\n",
              "                                                                                                                                                                                                                                                                                                                                                                                                                                                                                                                                                                                                                                                                                                                                                                                                                                                                                                                                                                                                                              details_text  \\\n",
              "0                                                                                                                                                                                                                                                                                                                                                                                                                                                                                                                                                                                                                                                                                                                                                                                                                                                                                                                              [Andhra Pradesh Administration All ASTM D Building Cleaning Construction Paint Painting Railway Road Water]   \n",
              "1                                                                                                                                                                                                                                                                                                                                                                                                                                                                                                                                                                                                                                                                                                                                                                  [ENABLE_EXACT_SEARCH ERW Black Pipe ERW Pipes ERW Steel Tubes GI Pipes Galvanized Steel Pipes Galvanized Steel Pipes & Tubes JJM MS Round Pipe galvanized pipe hollow section mild steel ms black pipe ms erw pipe steel pipes structural pipes structural steel pipes]   \n",
              "2                                                                                                                                                                                                                                                                                                                                                                                                                                                                                                                                                                                                                                                                                                                                                                                                                                                                                                                                                                                                       [Andhra Pradesh Telangana Krishna]   \n",
              "3  [19 inch rack Angle Bracket for Step Hanger Enclosure Frame Galvanised Iron Core Boxes Gi tray Gi trunk Ip55 enclosure Junction box Junction boxip55 Metal Metal enclosure Picket Picket steel Plate Pole box Sheet metal Terminal box Terminal plate Washer Washet bed side table box bracket brackets bunk bed cable duct cable raceway cable tray computer rack connecting plate enclosure equipment rack ladder tray metal bed network rack over bed table perforated perforated cable tray perforated tray picket steel platform trolley rack server rack stool terminal transmission rack trolley tunnel, 19 inch rack Angle Bracket for Step Hanger Enclosure Frame Galvanised Iron Core Boxes Gi tray Gi trunk Ip55 enclosure Junction box Junction boxip55 Metal Metal enclosure Picket Picket steel Plate Pole box Sheet metal Terminal box Terminal plate Washer Washet bed side table box bracket brackets bunk bed cable duct cable raceway cable tray computer rack connecting plate enclosure equipment rack ladder t...   \n",
              "4                                                                                                                                                                                                                                                                                                                                                                                                                                                                                                                                                                                                                                         [3D PRINTING  CMM INSPECTIONS  Furniture GI Wire Galvonised Scrap Scrap Scrap in Consumables Raw Materials Wire Scrap scrap Goa, 3D PRINTING  CMM INSPECTIONS  Furniture GI Wire Galvonised Scrap Scrap Scrap in Consumables Raw Materials Wire Scrap scrap Goa, 3D PRINTING  CMM INSPECTIONS  Furniture GI Wire Galvonised Scrap Scrap Scrap in Consumables Raw Materials Wire Scrap scrap Goa]   \n",
              "\n",
              "                                                                                                                                                                                                                                                                                                                                                                                                                                                                                                                                                                                             unique_details_text  \\\n",
              "0                                                                                                                                                                                                                                                                                                                                                                                                                                                                                                      Andhra Pradesh Administration All ASTM D Building Cleaning Construction Paint Painting Railway Road Water   \n",
              "1                                                                                                                                                                                                                                                                                                                                          ENABLE_EXACT_SEARCH ERW Black Pipe ERW Pipes ERW Steel Tubes GI Pipes Galvanized Steel Pipes Galvanized Steel Pipes & Tubes JJM MS Round Pipe galvanized pipe hollow section mild steel ms black pipe ms erw pipe steel pipes structural pipes structural steel pipes   \n",
              "2                                                                                                                                                                                                                                                                                                                                                                                                                                                                                                                                                                               Andhra Pradesh Telangana Krishna   \n",
              "3  19 inch rack Angle Bracket for Step Hanger Enclosure Frame Galvanised Iron Core Boxes Gi tray Gi trunk Ip55 enclosure Junction box Junction boxip55 Metal Metal enclosure Picket Picket steel Plate Pole box Sheet metal Terminal box Terminal plate Washer Washet bed side table box bracket brackets bunk bed cable duct cable raceway cable tray computer rack connecting plate enclosure equipment rack ladder tray metal bed network rack over bed table perforated perforated cable tray perforated tray picket steel platform trolley rack server rack stool terminal transmission rack trolley tunnel   \n",
              "4                                                                                                                                                                                                                                                                                                                                                                                                                                                                                 3D PRINTING  CMM INSPECTIONS  Furniture GI Wire Galvonised Scrap Scrap Scrap in Consumables Raw Materials Wire Scrap scrap Goa   \n",
              "\n",
              "                                                                                                                                                                                                                                                                                                                                                                                                                                                                                                                                                                                                                                        details  \\\n",
              "0                                                                                                                                                                                                                                                                                                                                                                                                         [Engagement Of Security Services Agency For Providing Security Personnel 42 Nos. Security Guards, 1 Nos. Gunman And 4 Nos.supervisor For Security, Safety, Monitoring, Surveillance And Management Of Traffic At Fp And Emc, Gazipur]   \n",
              "1                                                                                                                                                                                                                                                                                                                                                                                                                                                                                                                                                                                                        [Thread Ring Gauge-is:14962 , Is:2334]   \n",
              "2                                                                                                                                                                                                                                                                                                                                                                                                                         [Construction Of New Office Building Of Mercantile Marine Department At Harbour Road, Vishakhapatnam, Andhra Pradesh. S.w. Arrangement Of Inspection Vehicle On Hire Basis For Architect Office, Cpwd At Vijayawada.]   \n",
              "3  [Supply Of 19\" 24u Rack Enclosure Networking/server Rack As Per Specification, Supply Of 19\" 24u Rack Enclosure Networking/server Rack As Per Specification, Patient Bed Side Table, Patient Bed Side Table, Terminal Box, Terminal Box, Ic Drg. Of Bracket Back Sight For 7.62 Mm Assault Rifle., Ic Drg. Of Bracket Back Sight For 7.62 Mm Assault Rifle., Installation Of Electric Trolley At Main Sewer Lin..., Installation Of Electric Trolley At Main Sewer Lin..., Supply Of Aluminum Cable Raceway And Perforated Tray, Supply Of Aluminum Cable Raceway And Perforated Tray, Supply Of Aluminum Cable Raceway And Perforated Tray]   \n",
              "4                                                                                                                                                                                                                                                                           [Consultancy Services For Sewage Treatment Plant At Cg Enclave Chicolna Goa Under Ge (i) Cg Goa, Engagement Of System Integrator Implementing Agency On Epc Mode For Survey Design Supply Installation Lumbing Civil Electromechanical Works Configuration Testing Commissioning And Operation Maintenance For 03 Years, Stationery Items (stationery Misce Items)]   \n",
              "\n",
              "                                                                                                                                                                                                                                                                                                                                                  unique_details  \\\n",
              "0                                                                                                                            Engagement Of Security Services Agency For Providing Security Personnel 42 Nos. Security Guards, 1 Nos. Gunman And 4 Nos.supervisor For Security, Safety, Monitoring, Surveillance And Management Of Traffic At Fp And Emc, Gazipur   \n",
              "1                                                                                                                                                                                                                                                                                                                           Thread Ring Gauge-is:14962 , Is:2334   \n",
              "2                                                                                                                                            Construction Of New Office Building Of Mercantile Marine Department At Harbour Road, Vishakhapatnam, Andhra Pradesh. S.w. Arrangement Of Inspection Vehicle On Hire Basis For Architect Office, Cpwd At Vijayawada.   \n",
              "3                                                                                Supply Of 19\" 24u Rack Enclosure Networking/server Rack As Per SpecificationPatient Bed Side TableTerminal BoxIc Drg. Of Bracket Back Sight For 7.62 Mm Assault Rifle.Installation Of Electric Trolley At Main Sewer Lin...Supply Of Aluminum Cable Raceway And Perforated Tray   \n",
              "4  Consultancy Services For Sewage Treatment Plant At Cg Enclave Chicolna Goa Under Ge (i) Cg GoaEngagement Of System Integrator Implementing Agency On Epc Mode For Survey Design Supply Installation Lumbing Civil Electromechanical Works Configuration Testing Commissioning And Operation Maintenance For 03 YearsStationery Items (stationery Misce Items)   \n",
              "\n",
              "                                                                                                                                                                                                                                                                                                                                                                                                                                                                                                               id  \\\n",
              "0                                                                                                                                                                                                                                                                                                                                                                                                                                                                          [51a36292-c41c-4cdc-bb5b-0427f8973d01]   \n",
              "1                                                                                                                                                                                                                                                                                                                                                                                                                                                                          [34294c13-c023-40af-8b78-1a8d86104eb8]   \n",
              "2                                                                                                                                                                                                                                                                                                                                                                                                                                                                          [26c72173-5198-483f-bccd-26735a91ceda]   \n",
              "3  [9bf88d56-11fa-4dfa-b57c-dccddfb5a8a1, 9bf88d56-11fa-4dfa-b57c-dccddfb5a8a1, 11ff9351-1a5f-4078-a6be-f098b3ee4a08, 11ff9351-1a5f-4078-a6be-f098b3ee4a08, a3cbec88-17c0-4f75-a4c4-afea5c1361b7, a3cbec88-17c0-4f75-a4c4-afea5c1361b7, 8520f365-24b3-4629-a1c8-43b74999c215, 8520f365-24b3-4629-a1c8-43b74999c215, d905bf3b-a117-4ee6-8734-ababce962cc8, d905bf3b-a117-4ee6-8734-ababce962cc8, e9e515d1-3adc-4712-8cf9-48d8d7d6b9eb, e9e515d1-3adc-4712-8cf9-48d8d7d6b9eb, e9e515d1-3adc-4712-8cf9-48d8d7d6b9eb]   \n",
              "4                                                                                                                                                                                                                                                                                                                                                                                              [b234ebc6-b69c-4d01-9265-f1874b5b2711, c0b06f22-80a0-40b9-a5f8-03eb1b4ec7b1, 4a5f46e5-d3b1-4e44-a310-1a9799add1b6]   \n",
              "\n",
              "                                                                                                                                                                                                                              unique_id  \\\n",
              "0                                                                                                                                                                                                [51a36292-c41c-4cdc-bb5b-0427f8973d01]   \n",
              "1                                                                                                                                                                                                [34294c13-c023-40af-8b78-1a8d86104eb8]   \n",
              "2                                                                                                                                                                                                [26c72173-5198-483f-bccd-26735a91ceda]   \n",
              "3  [9bf88d56-11fa-4dfa-b57c-dccddfb5a8a1, 11ff9351-1a5f-4078-a6be-f098b3ee4a08, a3cbec88-17c0-4f75-a4c4-afea5c1361b7, 8520f365-24b3-4629-a1c8-43b74999c215, d905bf3b-a117-4ee6-8734-ababce962cc8, e9e515d1-3adc-4712-8cf9-48d8d7d6b9eb]   \n",
              "4                                                                                                                    [b234ebc6-b69c-4d01-9265-f1874b5b2711, c0b06f22-80a0-40b9-a5f8-03eb1b4ec7b1, 4a5f46e5-d3b1-4e44-a310-1a9799add1b6]   \n",
              "\n",
              "                                                                                                                                                                                                                                                                                                                                                                                                                                                                                                                                                                                                                                                                                                                                                                                                                                                                                           text  \n",
              "0                                                                                                                                                                                                                                                                                                                                                                                                                                                                                                                                                  Andhra Pradesh Administration All ASTM D Building Cleaning Construction Paint Painting Railway Road WaterEngagement Of Security Services Agency For Providing Security Personnel 42 Nos. Security Guards, 1 Nos. Gunman And 4 Nos.supervisor For Security, Safety, Monitoring, Surveillance And Management Of Traffic At Fp And Emc, Gazipur  \n",
              "1                                                                                                                                                                                                                                                                                                                                                                                                                                                                                                                                                                                     ENABLE_EXACT_SEARCH ERW Black Pipe ERW Pipes ERW Steel Tubes GI Pipes Galvanized Steel Pipes Galvanized Steel Pipes & Tubes JJM MS Round Pipe galvanized pipe hollow section mild steel ms black pipe ms erw pipe steel pipes structural pipes structural steel pipesThread Ring Gauge-is:14962 , Is:2334  \n",
              "2                                                                                                                                                                                                                                                                                                                                                                                                                                                                                                                                                                                                                                           Andhra Pradesh Telangana KrishnaConstruction Of New Office Building Of Mercantile Marine Department At Harbour Road, Vishakhapatnam, Andhra Pradesh. S.w. Arrangement Of Inspection Vehicle On Hire Basis For Architect Office, Cpwd At Vijayawada.  \n",
              "3  19 inch rack Angle Bracket for Step Hanger Enclosure Frame Galvanised Iron Core Boxes Gi tray Gi trunk Ip55 enclosure Junction box Junction boxip55 Metal Metal enclosure Picket Picket steel Plate Pole box Sheet metal Terminal box Terminal plate Washer Washet bed side table box bracket brackets bunk bed cable duct cable raceway cable tray computer rack connecting plate enclosure equipment rack ladder tray metal bed network rack over bed table perforated perforated cable tray perforated tray picket steel platform trolley rack server rack stool terminal transmission rack trolley tunnelSupply Of 19\" 24u Rack Enclosure Networking/server Rack As Per SpecificationPatient Bed Side TableTerminal BoxIc Drg. Of Bracket Back Sight For 7.62 Mm Assault Rifle.Installation Of Electric Trolley At Main Sewer Lin...Supply Of Aluminum Cable Raceway And Perforated Tray  \n",
              "4                                                                                                                                                                                                                                                                                                                                                                                                   3D PRINTING  CMM INSPECTIONS  Furniture GI Wire Galvonised Scrap Scrap Scrap in Consumables Raw Materials Wire Scrap scrap GoaConsultancy Services For Sewage Treatment Plant At Cg Enclave Chicolna Goa Under Ge (i) Cg GoaEngagement Of System Integrator Implementing Agency On Epc Mode For Survey Design Supply Installation Lumbing Civil Electromechanical Works Configuration Testing Commissioning And Operation Maintenance For 03 YearsStationery Items (stationery Misce Items)  "
            ],
            "text/html": [
              "\n",
              "  <div id=\"df-c0aa1dfe-28bf-4e98-bfe0-7dd2fd37c75f\">\n",
              "    <div class=\"colab-df-container\">\n",
              "      <div>\n",
              "<style scoped>\n",
              "    .dataframe tbody tr th:only-of-type {\n",
              "        vertical-align: middle;\n",
              "    }\n",
              "\n",
              "    .dataframe tbody tr th {\n",
              "        vertical-align: top;\n",
              "    }\n",
              "\n",
              "    .dataframe thead th {\n",
              "        text-align: right;\n",
              "    }\n",
              "</style>\n",
              "<table border=\"1\" class=\"dataframe\">\n",
              "  <thead>\n",
              "    <tr style=\"text-align: right;\">\n",
              "      <th></th>\n",
              "      <th>accountId</th>\n",
              "      <th>details_text</th>\n",
              "      <th>unique_details_text</th>\n",
              "      <th>details</th>\n",
              "      <th>unique_details</th>\n",
              "      <th>id</th>\n",
              "      <th>unique_id</th>\n",
              "      <th>text</th>\n",
              "    </tr>\n",
              "  </thead>\n",
              "  <tbody>\n",
              "    <tr>\n",
              "      <th>0</th>\n",
              "      <td>6076439132127629518</td>\n",
              "      <td>[Andhra Pradesh Administration All ASTM D Building Cleaning Construction Paint Painting Railway Road Water]</td>\n",
              "      <td>Andhra Pradesh Administration All ASTM D Building Cleaning Construction Paint Painting Railway Road Water</td>\n",
              "      <td>[Engagement Of Security Services Agency For Providing Security Personnel 42 Nos. Security Guards, 1 Nos. Gunman And 4 Nos.supervisor For Security, Safety, Monitoring, Surveillance And Management Of Traffic At Fp And Emc, Gazipur]</td>\n",
              "      <td>Engagement Of Security Services Agency For Providing Security Personnel 42 Nos. Security Guards, 1 Nos. Gunman And 4 Nos.supervisor For Security, Safety, Monitoring, Surveillance And Management Of Traffic At Fp And Emc, Gazipur</td>\n",
              "      <td>[51a36292-c41c-4cdc-bb5b-0427f8973d01]</td>\n",
              "      <td>[51a36292-c41c-4cdc-bb5b-0427f8973d01]</td>\n",
              "      <td>Andhra Pradesh Administration All ASTM D Building Cleaning Construction Paint Painting Railway Road WaterEngagement Of Security Services Agency For Providing Security Personnel 42 Nos. Security Guards, 1 Nos. Gunman And 4 Nos.supervisor For Security, Safety, Monitoring, Surveillance And Management Of Traffic At Fp And Emc, Gazipur</td>\n",
              "    </tr>\n",
              "    <tr>\n",
              "      <th>1</th>\n",
              "      <td>6090418399291119165</td>\n",
              "      <td>[ENABLE_EXACT_SEARCH ERW Black Pipe ERW Pipes ERW Steel Tubes GI Pipes Galvanized Steel Pipes Galvanized Steel Pipes &amp; Tubes JJM MS Round Pipe galvanized pipe hollow section mild steel ms black pipe ms erw pipe steel pipes structural pipes structural steel pipes]</td>\n",
              "      <td>ENABLE_EXACT_SEARCH ERW Black Pipe ERW Pipes ERW Steel Tubes GI Pipes Galvanized Steel Pipes Galvanized Steel Pipes &amp; Tubes JJM MS Round Pipe galvanized pipe hollow section mild steel ms black pipe ms erw pipe steel pipes structural pipes structural steel pipes</td>\n",
              "      <td>[Thread Ring Gauge-is:14962 , Is:2334]</td>\n",
              "      <td>Thread Ring Gauge-is:14962 , Is:2334</td>\n",
              "      <td>[34294c13-c023-40af-8b78-1a8d86104eb8]</td>\n",
              "      <td>[34294c13-c023-40af-8b78-1a8d86104eb8]</td>\n",
              "      <td>ENABLE_EXACT_SEARCH ERW Black Pipe ERW Pipes ERW Steel Tubes GI Pipes Galvanized Steel Pipes Galvanized Steel Pipes &amp; Tubes JJM MS Round Pipe galvanized pipe hollow section mild steel ms black pipe ms erw pipe steel pipes structural pipes structural steel pipesThread Ring Gauge-is:14962 , Is:2334</td>\n",
              "    </tr>\n",
              "    <tr>\n",
              "      <th>2</th>\n",
              "      <td>6148417430046643859</td>\n",
              "      <td>[Andhra Pradesh Telangana Krishna]</td>\n",
              "      <td>Andhra Pradesh Telangana Krishna</td>\n",
              "      <td>[Construction Of New Office Building Of Mercantile Marine Department At Harbour Road, Vishakhapatnam, Andhra Pradesh. S.w. Arrangement Of Inspection Vehicle On Hire Basis For Architect Office, Cpwd At Vijayawada.]</td>\n",
              "      <td>Construction Of New Office Building Of Mercantile Marine Department At Harbour Road, Vishakhapatnam, Andhra Pradesh. S.w. Arrangement Of Inspection Vehicle On Hire Basis For Architect Office, Cpwd At Vijayawada.</td>\n",
              "      <td>[26c72173-5198-483f-bccd-26735a91ceda]</td>\n",
              "      <td>[26c72173-5198-483f-bccd-26735a91ceda]</td>\n",
              "      <td>Andhra Pradesh Telangana KrishnaConstruction Of New Office Building Of Mercantile Marine Department At Harbour Road, Vishakhapatnam, Andhra Pradesh. S.w. Arrangement Of Inspection Vehicle On Hire Basis For Architect Office, Cpwd At Vijayawada.</td>\n",
              "    </tr>\n",
              "    <tr>\n",
              "      <th>3</th>\n",
              "      <td>6180975557690267471</td>\n",
              "      <td>[19 inch rack Angle Bracket for Step Hanger Enclosure Frame Galvanised Iron Core Boxes Gi tray Gi trunk Ip55 enclosure Junction box Junction boxip55 Metal Metal enclosure Picket Picket steel Plate Pole box Sheet metal Terminal box Terminal plate Washer Washet bed side table box bracket brackets bunk bed cable duct cable raceway cable tray computer rack connecting plate enclosure equipment rack ladder tray metal bed network rack over bed table perforated perforated cable tray perforated tray picket steel platform trolley rack server rack stool terminal transmission rack trolley tunnel, 19 inch rack Angle Bracket for Step Hanger Enclosure Frame Galvanised Iron Core Boxes Gi tray Gi trunk Ip55 enclosure Junction box Junction boxip55 Metal Metal enclosure Picket Picket steel Plate Pole box Sheet metal Terminal box Terminal plate Washer Washet bed side table box bracket brackets bunk bed cable duct cable raceway cable tray computer rack connecting plate enclosure equipment rack ladder t...</td>\n",
              "      <td>19 inch rack Angle Bracket for Step Hanger Enclosure Frame Galvanised Iron Core Boxes Gi tray Gi trunk Ip55 enclosure Junction box Junction boxip55 Metal Metal enclosure Picket Picket steel Plate Pole box Sheet metal Terminal box Terminal plate Washer Washet bed side table box bracket brackets bunk bed cable duct cable raceway cable tray computer rack connecting plate enclosure equipment rack ladder tray metal bed network rack over bed table perforated perforated cable tray perforated tray picket steel platform trolley rack server rack stool terminal transmission rack trolley tunnel</td>\n",
              "      <td>[Supply Of 19\" 24u Rack Enclosure Networking/server Rack As Per Specification, Supply Of 19\" 24u Rack Enclosure Networking/server Rack As Per Specification, Patient Bed Side Table, Patient Bed Side Table, Terminal Box, Terminal Box, Ic Drg. Of Bracket Back Sight For 7.62 Mm Assault Rifle., Ic Drg. Of Bracket Back Sight For 7.62 Mm Assault Rifle., Installation Of Electric Trolley At Main Sewer Lin..., Installation Of Electric Trolley At Main Sewer Lin..., Supply Of Aluminum Cable Raceway And Perforated Tray, Supply Of Aluminum Cable Raceway And Perforated Tray, Supply Of Aluminum Cable Raceway And Perforated Tray]</td>\n",
              "      <td>Supply Of 19\" 24u Rack Enclosure Networking/server Rack As Per SpecificationPatient Bed Side TableTerminal BoxIc Drg. Of Bracket Back Sight For 7.62 Mm Assault Rifle.Installation Of Electric Trolley At Main Sewer Lin...Supply Of Aluminum Cable Raceway And Perforated Tray</td>\n",
              "      <td>[9bf88d56-11fa-4dfa-b57c-dccddfb5a8a1, 9bf88d56-11fa-4dfa-b57c-dccddfb5a8a1, 11ff9351-1a5f-4078-a6be-f098b3ee4a08, 11ff9351-1a5f-4078-a6be-f098b3ee4a08, a3cbec88-17c0-4f75-a4c4-afea5c1361b7, a3cbec88-17c0-4f75-a4c4-afea5c1361b7, 8520f365-24b3-4629-a1c8-43b74999c215, 8520f365-24b3-4629-a1c8-43b74999c215, d905bf3b-a117-4ee6-8734-ababce962cc8, d905bf3b-a117-4ee6-8734-ababce962cc8, e9e515d1-3adc-4712-8cf9-48d8d7d6b9eb, e9e515d1-3adc-4712-8cf9-48d8d7d6b9eb, e9e515d1-3adc-4712-8cf9-48d8d7d6b9eb]</td>\n",
              "      <td>[9bf88d56-11fa-4dfa-b57c-dccddfb5a8a1, 11ff9351-1a5f-4078-a6be-f098b3ee4a08, a3cbec88-17c0-4f75-a4c4-afea5c1361b7, 8520f365-24b3-4629-a1c8-43b74999c215, d905bf3b-a117-4ee6-8734-ababce962cc8, e9e515d1-3adc-4712-8cf9-48d8d7d6b9eb]</td>\n",
              "      <td>19 inch rack Angle Bracket for Step Hanger Enclosure Frame Galvanised Iron Core Boxes Gi tray Gi trunk Ip55 enclosure Junction box Junction boxip55 Metal Metal enclosure Picket Picket steel Plate Pole box Sheet metal Terminal box Terminal plate Washer Washet bed side table box bracket brackets bunk bed cable duct cable raceway cable tray computer rack connecting plate enclosure equipment rack ladder tray metal bed network rack over bed table perforated perforated cable tray perforated tray picket steel platform trolley rack server rack stool terminal transmission rack trolley tunnelSupply Of 19\" 24u Rack Enclosure Networking/server Rack As Per SpecificationPatient Bed Side TableTerminal BoxIc Drg. Of Bracket Back Sight For 7.62 Mm Assault Rifle.Installation Of Electric Trolley At Main Sewer Lin...Supply Of Aluminum Cable Raceway And Perforated Tray</td>\n",
              "    </tr>\n",
              "    <tr>\n",
              "      <th>4</th>\n",
              "      <td>6261728811314844815</td>\n",
              "      <td>[3D PRINTING  CMM INSPECTIONS  Furniture GI Wire Galvonised Scrap Scrap Scrap in Consumables Raw Materials Wire Scrap scrap Goa, 3D PRINTING  CMM INSPECTIONS  Furniture GI Wire Galvonised Scrap Scrap Scrap in Consumables Raw Materials Wire Scrap scrap Goa, 3D PRINTING  CMM INSPECTIONS  Furniture GI Wire Galvonised Scrap Scrap Scrap in Consumables Raw Materials Wire Scrap scrap Goa]</td>\n",
              "      <td>3D PRINTING  CMM INSPECTIONS  Furniture GI Wire Galvonised Scrap Scrap Scrap in Consumables Raw Materials Wire Scrap scrap Goa</td>\n",
              "      <td>[Consultancy Services For Sewage Treatment Plant At Cg Enclave Chicolna Goa Under Ge (i) Cg Goa, Engagement Of System Integrator Implementing Agency On Epc Mode For Survey Design Supply Installation Lumbing Civil Electromechanical Works Configuration Testing Commissioning And Operation Maintenance For 03 Years, Stationery Items (stationery Misce Items)]</td>\n",
              "      <td>Consultancy Services For Sewage Treatment Plant At Cg Enclave Chicolna Goa Under Ge (i) Cg GoaEngagement Of System Integrator Implementing Agency On Epc Mode For Survey Design Supply Installation Lumbing Civil Electromechanical Works Configuration Testing Commissioning And Operation Maintenance For 03 YearsStationery Items (stationery Misce Items)</td>\n",
              "      <td>[b234ebc6-b69c-4d01-9265-f1874b5b2711, c0b06f22-80a0-40b9-a5f8-03eb1b4ec7b1, 4a5f46e5-d3b1-4e44-a310-1a9799add1b6]</td>\n",
              "      <td>[b234ebc6-b69c-4d01-9265-f1874b5b2711, c0b06f22-80a0-40b9-a5f8-03eb1b4ec7b1, 4a5f46e5-d3b1-4e44-a310-1a9799add1b6]</td>\n",
              "      <td>3D PRINTING  CMM INSPECTIONS  Furniture GI Wire Galvonised Scrap Scrap Scrap in Consumables Raw Materials Wire Scrap scrap GoaConsultancy Services For Sewage Treatment Plant At Cg Enclave Chicolna Goa Under Ge (i) Cg GoaEngagement Of System Integrator Implementing Agency On Epc Mode For Survey Design Supply Installation Lumbing Civil Electromechanical Works Configuration Testing Commissioning And Operation Maintenance For 03 YearsStationery Items (stationery Misce Items)</td>\n",
              "    </tr>\n",
              "  </tbody>\n",
              "</table>\n",
              "</div>\n",
              "      <button class=\"colab-df-convert\" onclick=\"convertToInteractive('df-c0aa1dfe-28bf-4e98-bfe0-7dd2fd37c75f')\"\n",
              "              title=\"Convert this dataframe to an interactive table.\"\n",
              "              style=\"display:none;\">\n",
              "        \n",
              "  <svg xmlns=\"http://www.w3.org/2000/svg\" height=\"24px\"viewBox=\"0 0 24 24\"\n",
              "       width=\"24px\">\n",
              "    <path d=\"M0 0h24v24H0V0z\" fill=\"none\"/>\n",
              "    <path d=\"M18.56 5.44l.94 2.06.94-2.06 2.06-.94-2.06-.94-.94-2.06-.94 2.06-2.06.94zm-11 1L8.5 8.5l.94-2.06 2.06-.94-2.06-.94L8.5 2.5l-.94 2.06-2.06.94zm10 10l.94 2.06.94-2.06 2.06-.94-2.06-.94-.94-2.06-.94 2.06-2.06.94z\"/><path d=\"M17.41 7.96l-1.37-1.37c-.4-.4-.92-.59-1.43-.59-.52 0-1.04.2-1.43.59L10.3 9.45l-7.72 7.72c-.78.78-.78 2.05 0 2.83L4 21.41c.39.39.9.59 1.41.59.51 0 1.02-.2 1.41-.59l7.78-7.78 2.81-2.81c.8-.78.8-2.07 0-2.86zM5.41 20L4 18.59l7.72-7.72 1.47 1.35L5.41 20z\"/>\n",
              "  </svg>\n",
              "      </button>\n",
              "      \n",
              "  <style>\n",
              "    .colab-df-container {\n",
              "      display:flex;\n",
              "      flex-wrap:wrap;\n",
              "      gap: 12px;\n",
              "    }\n",
              "\n",
              "    .colab-df-convert {\n",
              "      background-color: #E8F0FE;\n",
              "      border: none;\n",
              "      border-radius: 50%;\n",
              "      cursor: pointer;\n",
              "      display: none;\n",
              "      fill: #1967D2;\n",
              "      height: 32px;\n",
              "      padding: 0 0 0 0;\n",
              "      width: 32px;\n",
              "    }\n",
              "\n",
              "    .colab-df-convert:hover {\n",
              "      background-color: #E2EBFA;\n",
              "      box-shadow: 0px 1px 2px rgba(60, 64, 67, 0.3), 0px 1px 3px 1px rgba(60, 64, 67, 0.15);\n",
              "      fill: #174EA6;\n",
              "    }\n",
              "\n",
              "    [theme=dark] .colab-df-convert {\n",
              "      background-color: #3B4455;\n",
              "      fill: #D2E3FC;\n",
              "    }\n",
              "\n",
              "    [theme=dark] .colab-df-convert:hover {\n",
              "      background-color: #434B5C;\n",
              "      box-shadow: 0px 1px 3px 1px rgba(0, 0, 0, 0.15);\n",
              "      filter: drop-shadow(0px 1px 2px rgba(0, 0, 0, 0.3));\n",
              "      fill: #FFFFFF;\n",
              "    }\n",
              "  </style>\n",
              "\n",
              "      <script>\n",
              "        const buttonEl =\n",
              "          document.querySelector('#df-c0aa1dfe-28bf-4e98-bfe0-7dd2fd37c75f button.colab-df-convert');\n",
              "        buttonEl.style.display =\n",
              "          google.colab.kernel.accessAllowed ? 'block' : 'none';\n",
              "\n",
              "        async function convertToInteractive(key) {\n",
              "          const element = document.querySelector('#df-c0aa1dfe-28bf-4e98-bfe0-7dd2fd37c75f');\n",
              "          const dataTable =\n",
              "            await google.colab.kernel.invokeFunction('convertToInteractive',\n",
              "                                                     [key], {});\n",
              "          if (!dataTable) return;\n",
              "\n",
              "          const docLinkHtml = 'Like what you see? Visit the ' +\n",
              "            '<a target=\"_blank\" href=https://colab.research.google.com/notebooks/data_table.ipynb>data table notebook</a>'\n",
              "            + ' to learn more about interactive tables.';\n",
              "          element.innerHTML = '';\n",
              "          dataTable['output_type'] = 'display_data';\n",
              "          await google.colab.output.renderOutput(dataTable, element);\n",
              "          const docLink = document.createElement('div');\n",
              "          docLink.innerHTML = docLinkHtml;\n",
              "          element.appendChild(docLink);\n",
              "        }\n",
              "      </script>\n",
              "    </div>\n",
              "  </div>\n",
              "  "
            ]
          },
          "metadata": {},
          "execution_count": 362
        }
      ]
    },
    {
      "cell_type": "markdown",
      "source": [
        "### cleaning text function"
      ],
      "metadata": {
        "id": "SC2BbtwqNyhd"
      }
    },
    {
      "cell_type": "code",
      "source": [
        "def clean_string(text,stem=\"None\"):\n",
        "\n",
        "    final_string = \"\"\n",
        "\n",
        "    # make lower\n",
        "    text = text.lower()\n",
        "    \n",
        "    # remove http\n",
        "    text = re.sub(r\"http.*\\.[a-z]{2,3}\",\"\",text)\n",
        "\n",
        "    # remove www\n",
        "    text = re.sub(r\"www.*\\.[a-z]{2,3}\",\"\",text)\n",
        "    \n",
        "    # remove line breaks\n",
        "    text = re.sub(r'\\n','',text)\n",
        "\n",
        "    # remove puncuation\n",
        "    translator = str.maketrans('','',string.punctuation)\n",
        "    text = text.translate(translator)\n",
        "\n",
        "    # remove stop words\n",
        "    text = text.split()\n",
        "    useless_words = nltk.corpus.stopwords.words(\"english\")\n",
        "    useless_words.remove(\"don't\")\n",
        "    useless_words.remove('not')\n",
        "\n",
        "    text_filtered = [word for word in text if not word in useless_words]\n",
        "\n",
        "    # remove numbers\n",
        "    text_filtered = [re.sub(r'\\w*\\d\\w*','',w) for w in text_filtered]\n",
        "\n",
        "    # stem or lemmatize\n",
        "    if stem == 'Stem':\n",
        "        stemmer = PorterStemmer() \n",
        "        text_stemmed = [stemmer.stem(y) for y in text_filtered]\n",
        "    elif stem == 'Lem':\n",
        "        lem = WordNetLemmatizer()\n",
        "        text_stemmed = [lem.lemmatize(y) for y in text_filtered]\n",
        "    elif stem == 'Spacy':\n",
        "        text_filtered = nlp(' '.join(text_filtered))\n",
        "        text_stemmed = [y.lemma_ for y in text_filtered]\n",
        "    else:\n",
        "        text_stemmed = text_filtered\n",
        "\n",
        "    final_string = ' '.join(text_stemmed)\n",
        "\n",
        "    return final_string\n",
        "        \n",
        "def apply_clean_string(df):\n",
        "   arr = df.apply(lambda x: clean_string(str(x)))\n",
        "   return pd.DataFrame(arr)  "
      ],
      "metadata": {
        "id": "4SWvYnNtNuBJ"
      },
      "execution_count": 363,
      "outputs": []
    },
    {
      "cell_type": "code",
      "source": [
        "df_recommend['clean_text'] = df_recommend.text.apply(lambda x: clean_string(''.join(x),stem=\"None\"))"
      ],
      "metadata": {
        "id": "Ak_HUJ5RN87A"
      },
      "execution_count": 364,
      "outputs": []
    },
    {
      "cell_type": "code",
      "source": [
        "df_recommend['clean_text']"
      ],
      "metadata": {
        "colab": {
          "base_uri": "https://localhost:8080/"
        },
        "id": "xn9EXPg5b4hJ",
        "outputId": "1bf447b8-5a57-486f-ae5c-1baa120d6904"
      },
      "execution_count": 365,
      "outputs": [
        {
          "output_type": "execute_result",
          "data": {
            "text/plain": [
              "0                                                                                                                                                                                                                                                                                                                                                                                                                                                                                                                                      andhra pradesh administration astm building cleaning construction paint painting railway road waterengagement security services agency providing security personnel  nos security guards  nos gunman  nossupervisor security safety monitoring surveillance management traffic fp emc gazipur\n",
              "1                                                                                                                                                                                                                                                                                                                                                                                                                                                                                                                                                     enableexactsearch erw black pipe erw pipes erw steel tubes gi pipes galvanized steel pipes galvanized steel pipes tubes jjm ms round pipe galvanized pipe hollow section mild steel ms black pipe ms erw pipe steel pipes structural pipes structural steel pipesthread ring  \n",
              "2                                                                                                                                                                                                                                                                                                                                                                                                                                                                                                                                                                                                             andhra pradesh telangana krishnaconstruction new office building mercantile marine department harbour road vishakhapatnam andhra pradesh sw arrangement inspection vehicle hire basis architect office cpwd vijayawada\n",
              "3        inch rack angle bracket step hanger enclosure frame galvanised iron core boxes gi tray gi trunk  enclosure junction box junction  metal metal enclosure picket picket steel plate pole box sheet metal terminal box terminal plate washer washet bed side table box bracket brackets bunk bed cable duct cable raceway cable tray computer rack connecting plate enclosure equipment rack ladder tray metal bed network rack bed table perforated perforated cable tray perforated tray picket steel platform trolley rack server rack stool terminal transmission rack trolley tunnelsupply   rack enclosure networkingserver rack per specificationpatient bed side tableterminal boxic drg bracket back sight  mm assault rifleinstallation electric trolley main sewer linsupply aluminum cable raceway perforated tray\n",
              "4                                                                                                                                                                                                                                                                                                                                                                                       printing cmm inspections furniture gi wire galvonised scrap scrap scrap consumables raw materials wire scrap scrap goaconsultancy services sewage treatment plant cg enclave chicolna goa ge cg goaengagement system integrator implementing agency epc mode survey design supply installation lumbing civil electromechanical works configuration testing commissioning operation maintenance  yearsstationery items stationery misce items\n",
              "                                                                                                                                                                                                                                                                                                                                                                                                                    ...                                                                                                                                                                                                                                                                                                                                                                                                             \n",
              "2070                                                                                                                                                                                                                                                                                                                                                                                                                                                                                                                                                                                                                                                              construction addl rooms zp high school thirmanpallygp vindalwaim nizamabad rural assembly constituency nizamabad districtwork reserved sc individuals sc societies\n",
              "2071                                                                                                                                                                                                                                                                                                                                                                                                                                                                                                                                                                                                                                                                                                                                                                                                   manpower gemmanpower services\n",
              "2072                                                                                                                                                                                                                                                                                                                                                                                                                                                                                                                                                                                                                                                                                     construction four room rural police station latur tq district laturconstruction recharg trench recharg shaft  masalga kh tq ausa dist latur\n",
              "2073                                                                                                                                                                                                                                                                                                                                                                                                                                                                                                                                                                                                                                                                                                 providing cc roads drains   priyadarsini colony apsebcolony ward   calldesktop computersdoorwindowenglish seaturinalwater tank \n",
              "2074                                                                                                                                                                                                                                                                                                                                                                                                                                                                                                                                                                                           softwarehiring agency projects milestone basispickler oil pickling line  crmrolling oil tandem mill  crmktmpza gp pr   govt hs sanitation maintanance kuttampuzha gpmanpower outsourcing services minimum wage unsreliabilty software\n",
              "Name: clean_text, Length: 2075, dtype: object"
            ]
          },
          "metadata": {},
          "execution_count": 365
        }
      ]
    },
    {
      "cell_type": "code",
      "source": [
        "from sklearn.feature_extraction.text import TfidfVectorizer, CountVectorizer\n",
        "\n",
        "\n",
        "tfidf = TfidfVectorizer(stop_words=\"english\", min_df=1)"
      ],
      "metadata": {
        "id": "5JZzEsKxY3Vj"
      },
      "execution_count": 366,
      "outputs": []
    },
    {
      "cell_type": "code",
      "source": [
        "tfidf_matrix = tfidf.fit_transform(df_recommend['clean_text'])\n",
        "# tfidf_matrix.shape\n",
        "cosine_sim = tfidf_matrix.dot(tfidf_matrix.T)"
      ],
      "metadata": {
        "id": "EG5g5wcgb-dE"
      },
      "execution_count": 367,
      "outputs": []
    },
    {
      "cell_type": "code",
      "source": [
        "cosine_sim.shape"
      ],
      "metadata": {
        "colab": {
          "base_uri": "https://localhost:8080/"
        },
        "id": "nqS9aVib1g5j",
        "outputId": "e9893874-3c76-4aeb-8178-9ee09c913f42"
      },
      "execution_count": 368,
      "outputs": [
        {
          "output_type": "execute_result",
          "data": {
            "text/plain": [
              "(2075, 2075)"
            ]
          },
          "metadata": {},
          "execution_count": 368
        }
      ]
    },
    {
      "cell_type": "code",
      "source": [
        "df_recommend.columns"
      ],
      "metadata": {
        "colab": {
          "base_uri": "https://localhost:8080/"
        },
        "id": "-WqfPYa82m32",
        "outputId": "0a0bc4cc-cdc9-4e97-bbd8-450b203124ad"
      },
      "execution_count": 369,
      "outputs": [
        {
          "output_type": "execute_result",
          "data": {
            "text/plain": [
              "Index(['accountId', 'details_text', 'unique_details_text', 'details',\n",
              "       'unique_details', 'id', 'unique_id', 'text', 'clean_text'],\n",
              "      dtype='object')"
            ]
          },
          "metadata": {},
          "execution_count": 369
        }
      ]
    },
    {
      "cell_type": "code",
      "source": [
        "def get_index(user_id, df = df_recommend):\n",
        "    ''' this finction grabs the index of dataframe (df_recommend) from a given user id'''\n",
        "    \n",
        "    try:\n",
        "    \n",
        "     \n",
        "      df_idx = df.index[df['accountId'] == user_id]\n",
        "      \n",
        "      return df_idx\n",
        "\n",
        "    except:\n",
        "      return 'no text available for this user'\n",
        "\n",
        "\n",
        "def get_recommendation(user_id, df = df_recommend):\n",
        "  try: \n",
        "    idx = get_index(user_id)\n",
        "    sim_scores = list(enumerate(cosine_sim[idx].todense().tolist()[0]))\n",
        "    sim_scores = sorted(sim_scores, key = lambda x: x[1], reverse = True)\n",
        "    sim_scores = sim_scores[1:101]\n",
        "    recommendation_id = [df_recommend.unique_id.iloc[scores[0]] for scores in sim_scores]\n",
        "    flat_reco_id = [item for sublist in recommendation_id for item in sublist][:20]\n",
        "\n",
        "    return flat_reco_id\n",
        "\n",
        "  except:\n",
        "    return 'no recommendation available for this user'\n",
        "    "
      ],
      "metadata": {
        "id": "h2dljE0Rb-jA"
      },
      "execution_count": 370,
      "outputs": []
    },
    {
      "cell_type": "code",
      "source": [
        "df_recommend['accountId']"
      ],
      "metadata": {
        "colab": {
          "base_uri": "https://localhost:8080/"
        },
        "id": "SOgfpVihItCO",
        "outputId": "80c75fb2-4c2b-44a7-f87c-45e97f5b76a6"
      },
      "execution_count": 371,
      "outputs": [
        {
          "output_type": "execute_result",
          "data": {
            "text/plain": [
              "0       6076439132127629518\n",
              "1       6090418399291119165\n",
              "2       6148417430046643859\n",
              "3       6180975557690267471\n",
              "4       6261728811314844815\n",
              "               ...         \n",
              "2070     797418303667576069\n",
              "2071     797422013181337210\n",
              "2072     797441274159304878\n",
              "2073     797448739257062377\n",
              "2074     797451534953617045\n",
              "Name: accountId, Length: 2075, dtype: object"
            ]
          },
          "metadata": {},
          "execution_count": 371
        }
      ]
    },
    {
      "cell_type": "code",
      "source": [
        "recommendations = get_recommendation('6090418399291119165')"
      ],
      "metadata": {
        "id": "1_YAkGZCkBJn"
      },
      "execution_count": 392,
      "outputs": []
    },
    {
      "cell_type": "code",
      "source": [
        "recommendations"
      ],
      "metadata": {
        "colab": {
          "base_uri": "https://localhost:8080/"
        },
        "id": "olSTarsmZZVP",
        "outputId": "b81c8ddd-8480-401b-a474-bf73f71abfc4"
      },
      "execution_count": 393,
      "outputs": [
        {
          "output_type": "execute_result",
          "data": {
            "text/plain": [
              "['e3ff60d2-ad0d-4fc7-addf-dbf343cc8a91',\n",
              " '869b73f1-9432-4e80-8d8b-4ab20d63ee26',\n",
              " 'e77630db-e42f-4a28-b9f2-4a03633b51c4',\n",
              " 'ed7abb42-0df6-4576-abb3-ec50238c0bbb',\n",
              " '191b05af-89e0-4c52-acbe-fb24c59fcc21',\n",
              " '96205319-b0be-4c26-9b9a-8b33205efe52',\n",
              " '014d7647-0c60-4741-82e8-c08a2d15dc7c',\n",
              " '24983ebc-9c94-472b-a6c1-3222cb949463',\n",
              " '900ff407-85e5-4161-a7e4-0aca4ac7e3bd',\n",
              " 'c870355f-d159-45cc-ac64-9ac1e5abeb07',\n",
              " '0eca6fef-9b8e-48e6-9ef8-66a81fbea8f7',\n",
              " 'ea78be62-ad56-4067-848c-562352d07fae',\n",
              " 'ef4103fc-c0de-4246-9588-f8340d6ba665',\n",
              " '07b097eb-dcd3-44a7-a61a-f9afb2bba0df',\n",
              " '49198123-06cb-483a-97e4-8296b913decf',\n",
              " '4285ab09-16bd-45ae-9b70-df0c905303d8',\n",
              " '63c16899-704f-456b-8195-c425b2bebcbc',\n",
              " '63172226-2f6e-49ce-94b0-dc30668cca5a',\n",
              " 'b3c35664-f806-4862-a3b9-e956e306884b',\n",
              " '5d084ffb-3c77-401d-a2a0-1877aa80af58']"
            ]
          },
          "metadata": {},
          "execution_count": 393
        }
      ]
    },
    {
      "cell_type": "markdown",
      "source": [
        "# Manually checking the goodness of recommendations"
      ],
      "metadata": {
        "id": "tseiV4-tq4Lj"
      }
    },
    {
      "cell_type": "code",
      "source": [
        "def get_user_history(user_id, df = df_recommend):\n",
        "\n",
        "  # df[df['accountId']== user_id]['use_details'].apply(lambda x: json_extractor_text(x))\n",
        "  return df[df['accountId']== user_id]['text']\n",
        "  # .apply(lambda x: json_extractor_text(x))"
      ],
      "metadata": {
        "id": "hUDdr8I0Dv2z"
      },
      "execution_count": 394,
      "outputs": []
    },
    {
      "cell_type": "code",
      "source": [
        "get_user_history('6090418399291119165')"
      ],
      "metadata": {
        "colab": {
          "base_uri": "https://localhost:8080/"
        },
        "id": "PWRCVf52S5wW",
        "outputId": "4a4b3ef3-2b1c-4e32-bcb0-528bebbe419a"
      },
      "execution_count": 396,
      "outputs": [
        {
          "output_type": "execute_result",
          "data": {
            "text/plain": [
              "1    ENABLE_EXACT_SEARCH ERW Black Pipe ERW Pipes ERW Steel Tubes GI Pipes Galvanized Steel Pipes Galvanized Steel Pipes & Tubes JJM MS Round Pipe galvanized pipe hollow section mild steel ms black pipe ms erw pipe steel pipes structural pipes structural steel pipesThread Ring Gauge-is:14962 , Is:2334\n",
              "Name: text, dtype: object"
            ]
          },
          "metadata": {},
          "execution_count": 396
        }
      ]
    },
    {
      "cell_type": "code",
      "source": [
        "def check_tender_reco_details(*args, df = items):\n",
        "  reco_rank = []\n",
        "  reco_text = []\n",
        "\n",
        "  for i, arg in enumerate(*args):\n",
        "    \n",
        "    reco_text.append(df[df['id'] == arg]['details'])\n",
        "    reco_rank.append(i)\n",
        "  else: \n",
        "    pass\n",
        "  reco_dict = {'recommendation_rank' : reco_rank, 'recommendation_details' : reco_text}\n",
        "  return reco_text"
      ],
      "metadata": {
        "id": "ki3HuMlnTSCE"
      },
      "execution_count": 397,
      "outputs": []
    },
    {
      "cell_type": "code",
      "source": [
        "check_tender_reco_details(recommendations)"
      ],
      "metadata": {
        "colab": {
          "base_uri": "https://localhost:8080/"
        },
        "id": "6RoomN9YTSQ6",
        "outputId": "ef8ac10a-9ef6-4203-e1d4-14779d5357bf"
      },
      "execution_count": 398,
      "outputs": [
        {
          "output_type": "execute_result",
          "data": {
            "text/plain": [
              "[29757    300064538,300064539 (ag 71758 Gi Pipes)\n",
              " Name: details, dtype: object,\n",
              " 8743    Tender For Supply Of M.s./g.i. Pipe And Pipe Fitting.\n",
              " Name: details, dtype: object,\n",
              " 60413    Supply Of Ms Erw Pipe, Ms Plate And Carbon Steel Seamless Pipe\n",
              " Name: details, dtype: object,\n",
              " 53006    Supply Of Dutron Kanaflex Pipe For Ajava Nimeta Baug\n",
              " Name: details, dtype: object,\n",
              " 30677    Mild Steel Flat Face Flange (200 Mm),mild Steel Steam Bend (200 Mm Dia),mild Steel Pipe With Flange\n",
              " Name: details, dtype: object,\n",
              " 28155    Ball Bearings-is:6455,ball Bearings-is:6455,ball B...\n",
              " Name: details, dtype: object,\n",
              " 26649    Pp-r Pipe 75 Mm,pp-r Pipe 50 Mm,pp-r Pipe 40 Mm,pp...\n",
              " Name: details, dtype: object,\n",
              " 5422    Fixing Arrangement Of Stainless Steel Dust Bin .\n",
              " Name: details, dtype: object,\n",
              " 4822    Supply Of Stainless Steel Litter Bin Below Outside Wash Basin.\n",
              " Name: details, dtype: object,\n",
              " 8406    Construction Of Steel Structure And Painting At Jankalyan Raktpedhi Mahad\n",
              " Name: details, dtype: object,\n",
              " 3953    Provn Of Certain Unit (ph-i) At Tenga Under Ge 859 Ews\n",
              " Name: details, dtype: object,\n",
              " 3846    Hiring Services For Repairing And Fabrication Of Existing Sprinkler System Including Supply Of Material Like Nozzle, Pipes And Fittings Etc. Providing Scaffoldings For All Height Related Jobs Also Including Supply Of Labour To Complete The Work As Per Specifications And Instructions Of Station-in-charge At Ps 10,barauni\n",
              " Name: details, dtype: object,\n",
              " 9549    Construction Of 1 (one) Nos Of Masonry Well In/c Pvc Water Storage Over Head Tank, Pump House, Pipe Line And Installation Of Pump Motor Etc Complete At Tankarai C Para Of West Gobindabari Vc Under Chawmanu Rd Block\n",
              " Name: details, dtype: object,\n",
              " 4664    Construction Of 1 (one) Nos Of Masonry Well In/c Pvc Water Storage Over Head Tank, Pump House, Pipe Line And Installation Of Pump Motor Etc Complete At Tablajoy Cpara Of East Malidhar Vc Under Chawmanu Rd Block\n",
              " Name: details, dtype: object,\n",
              " 4648    Construction Of 1 (one) Nos Of Masonry Well In/c Pvc Water Storage Over Head Tank, Pump House, Pipe Line And Installation Of Pump Motor Etc Complete At Malaydhan C Para Of East Malidhar Vc Under Chawmanu Rd Block\n",
              " Name: details, dtype: object,\n",
              " 501    Repair/maint/replacement Of Earthing Infrastructure At Technical Area 19 Wing And 14 Brd And External Water Distribution , Allied Works At Site C, 3 Afsr And Mes Area Under Ge (af) Borjhar\n",
              " Name: details, dtype: object,\n",
              " 379    Special Repair To Building No P-39 Or Md Accnd At Sect A At Dinjan Mil Stn\n",
              " Name: details, dtype: object,\n",
              " 367    Provn Of Bathing Point Near Bldg No Et-18 And Et-23 And Other Sanction Work At Hattigor Military Station Under Ge Rangia\n",
              " Name: details, dtype: object,\n",
              " 4684    Construction Of 1 (one) Nos Of Masonry Well In/c Pvc Water Storage Over Head Tank, Pump House, Pipe Line And Installation Of Pump Motor Etc Complete At Sachindra C Para Of West Gobindabari Vc Under Chawmanu Rd Block\n",
              " Name: details, dtype: object,\n",
              " 4675    Construction Of 1 (one) Nos Of Masonry Well In/c Pvc Water Storage Over Head Tank, Pump House, Pipe Line And Installation Of Pump Motor Etc Complete At Sarpa Kr R Para Of West Gobindabari Vc Under Chawmanu Rd Block\n",
              " Name: details, dtype: object]"
            ]
          },
          "metadata": {},
          "execution_count": 398
        }
      ]
    },
    {
      "cell_type": "code",
      "source": [
        "# sim_scores = list(enumerate(cosine_sim[idx].todense().tolist()[0]))\n",
        "# sim_scores = sorted(sim_scores, key = lambda x: x[1], reverse = True)\n",
        "# sim_scores = sim_scores[1:101]"
      ],
      "metadata": {
        "id": "bKZR5j8R3Q9g"
      },
      "execution_count": 243,
      "outputs": []
    },
    {
      "cell_type": "code",
      "source": [
        "# recommendation_id = [df_recommend.unique_id.iloc[scores[0]] for scores in sim_scores]\n",
        "# flat_reco_id = [item for sublist in recommendation_id for item in sublist][:20]"
      ],
      "metadata": {
        "id": "oCeQyMc-3ZYk"
      },
      "execution_count": 254,
      "outputs": []
    },
    {
      "cell_type": "code",
      "source": [
        "\n",
        "def check_tender_reco(*args, df = items):\n",
        "  reco_rank = []\n",
        "  reco_text = []\n",
        "  for i, arg in enumerate(*args):\n",
        "    \n",
        "    reco_rank.append(i)\n",
        "    reco_text.append(df[df['id'] == arg]['details'])\n",
        "  reco_dict = dict(zip(reco_rank, reco_text))\n",
        "  return reco_dict"
      ],
      "metadata": {
        "id": "bba1WFStDrTu"
      },
      "execution_count": 412,
      "outputs": []
    },
    {
      "cell_type": "code",
      "source": [
        "check_tender_reco(recommendations)"
      ],
      "metadata": {
        "colab": {
          "base_uri": "https://localhost:8080/"
        },
        "id": "XZqrC-E1PT1-",
        "outputId": "0d44aa49-2b1d-4e59-b615-1ae0e5e2914a"
      },
      "execution_count": 413,
      "outputs": [
        {
          "output_type": "execute_result",
          "data": {
            "text/plain": [
              "{0: 29757    300064538,300064539 (ag 71758 Gi Pipes)\n",
              " Name: details, dtype: object,\n",
              " 1: 8743    Tender For Supply Of M.s./g.i. Pipe And Pipe Fitting.\n",
              " Name: details, dtype: object,\n",
              " 2: 60413    Supply Of Ms Erw Pipe, Ms Plate And Carbon Steel Seamless Pipe\n",
              " Name: details, dtype: object,\n",
              " 3: 53006    Supply Of Dutron Kanaflex Pipe For Ajava Nimeta Baug\n",
              " Name: details, dtype: object,\n",
              " 4: 30677    Mild Steel Flat Face Flange (200 Mm),mild Steel Steam Bend (200 Mm Dia),mild Steel Pipe With Flange\n",
              " Name: details, dtype: object,\n",
              " 5: 28155    Ball Bearings-is:6455,ball Bearings-is:6455,ball B...\n",
              " Name: details, dtype: object,\n",
              " 6: 26649    Pp-r Pipe 75 Mm,pp-r Pipe 50 Mm,pp-r Pipe 40 Mm,pp...\n",
              " Name: details, dtype: object,\n",
              " 7: 5422    Fixing Arrangement Of Stainless Steel Dust Bin .\n",
              " Name: details, dtype: object,\n",
              " 8: 4822    Supply Of Stainless Steel Litter Bin Below Outside Wash Basin.\n",
              " Name: details, dtype: object,\n",
              " 9: 8406    Construction Of Steel Structure And Painting At Jankalyan Raktpedhi Mahad\n",
              " Name: details, dtype: object,\n",
              " 10: 3953    Provn Of Certain Unit (ph-i) At Tenga Under Ge 859 Ews\n",
              " Name: details, dtype: object,\n",
              " 11: 3846    Hiring Services For Repairing And Fabrication Of Existing Sprinkler System Including Supply Of Material Like Nozzle, Pipes And Fittings Etc. Providing Scaffoldings For All Height Related Jobs Also Including Supply Of Labour To Complete The Work As Per Specifications And Instructions Of Station-in-charge At Ps 10,barauni\n",
              " Name: details, dtype: object,\n",
              " 12: 9549    Construction Of 1 (one) Nos Of Masonry Well In/c Pvc Water Storage Over Head Tank, Pump House, Pipe Line And Installation Of Pump Motor Etc Complete At Tankarai C Para Of West Gobindabari Vc Under Chawmanu Rd Block\n",
              " Name: details, dtype: object,\n",
              " 13: 4664    Construction Of 1 (one) Nos Of Masonry Well In/c Pvc Water Storage Over Head Tank, Pump House, Pipe Line And Installation Of Pump Motor Etc Complete At Tablajoy Cpara Of East Malidhar Vc Under Chawmanu Rd Block\n",
              " Name: details, dtype: object,\n",
              " 14: 4648    Construction Of 1 (one) Nos Of Masonry Well In/c Pvc Water Storage Over Head Tank, Pump House, Pipe Line And Installation Of Pump Motor Etc Complete At Malaydhan C Para Of East Malidhar Vc Under Chawmanu Rd Block\n",
              " Name: details, dtype: object,\n",
              " 15: 501    Repair/maint/replacement Of Earthing Infrastructure At Technical Area 19 Wing And 14 Brd And External Water Distribution , Allied Works At Site C, 3 Afsr And Mes Area Under Ge (af) Borjhar\n",
              " Name: details, dtype: object,\n",
              " 16: 379    Special Repair To Building No P-39 Or Md Accnd At Sect A At Dinjan Mil Stn\n",
              " Name: details, dtype: object,\n",
              " 17: 367    Provn Of Bathing Point Near Bldg No Et-18 And Et-23 And Other Sanction Work At Hattigor Military Station Under Ge Rangia\n",
              " Name: details, dtype: object,\n",
              " 18: 4684    Construction Of 1 (one) Nos Of Masonry Well In/c Pvc Water Storage Over Head Tank, Pump House, Pipe Line And Installation Of Pump Motor Etc Complete At Sachindra C Para Of West Gobindabari Vc Under Chawmanu Rd Block\n",
              " Name: details, dtype: object,\n",
              " 19: 4675    Construction Of 1 (one) Nos Of Masonry Well In/c Pvc Water Storage Over Head Tank, Pump House, Pipe Line And Installation Of Pump Motor Etc Complete At Sarpa Kr R Para Of West Gobindabari Vc Under Chawmanu Rd Block\n",
              " Name: details, dtype: object}"
            ]
          },
          "metadata": {},
          "execution_count": 413
        }
      ]
    },
    {
      "cell_type": "code",
      "source": [
        "print(get_user_history('797415879548607667'))"
      ],
      "metadata": {
        "colab": {
          "base_uri": "https://localhost:8080/"
        },
        "id": "7fSBGGueDv5p",
        "outputId": "802b47d6-6a38-4552-a553-cf1131c186a2"
      },
      "execution_count": 269,
      "outputs": [
        {
          "output_type": "stream",
          "name": "stdout",
          "text": [
            "7550    Forest Department ratlam District Collectorate...\n",
            "Name: use_details, dtype: object\n"
          ]
        }
      ]
    },
    {
      "cell_type": "code",
      "source": [],
      "metadata": {
        "id": "IqK3VFHyDv7u"
      },
      "execution_count": null,
      "outputs": []
    },
    {
      "cell_type": "code",
      "source": [],
      "metadata": {
        "id": "OaDZsvB8Dv-E"
      },
      "execution_count": null,
      "outputs": []
    },
    {
      "cell_type": "code",
      "source": [
        "json_extractor_text"
      ],
      "metadata": {
        "id": "2Cl_cwwYb-oI"
      },
      "execution_count": null,
      "outputs": []
    },
    {
      "cell_type": "code",
      "source": [],
      "metadata": {
        "id": "H1AjCq6ub-qT"
      },
      "execution_count": null,
      "outputs": []
    },
    {
      "cell_type": "code",
      "source": [],
      "metadata": {
        "id": "_nx__24cb-sr"
      },
      "execution_count": null,
      "outputs": []
    },
    {
      "cell_type": "code",
      "source": [],
      "metadata": {
        "id": "c21D4yIDb-uu"
      },
      "execution_count": null,
      "outputs": []
    },
    {
      "cell_type": "code",
      "source": [],
      "metadata": {
        "id": "0ILstTzCcBNH"
      },
      "execution_count": null,
      "outputs": []
    },
    {
      "cell_type": "code",
      "source": [],
      "metadata": {
        "id": "Tkjt3zLycBPq"
      },
      "execution_count": null,
      "outputs": []
    },
    {
      "cell_type": "code",
      "source": [],
      "metadata": {
        "id": "NEKto8dTcBSy"
      },
      "execution_count": null,
      "outputs": []
    },
    {
      "cell_type": "code",
      "source": [],
      "metadata": {
        "id": "JZXjLpoocBVJ"
      },
      "execution_count": null,
      "outputs": []
    }
  ]
}